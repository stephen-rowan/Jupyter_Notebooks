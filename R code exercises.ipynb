{
 "cells": [
  {
   "cell_type": "markdown",
   "metadata": {},
   "source": [
    "# R code exercises"
   ]
  },
  {
   "cell_type": "markdown",
   "metadata": {},
   "source": [
    "## Naming a vector"
   ]
  },
  {
   "cell_type": "code",
   "execution_count": 5,
   "metadata": {},
   "outputs": [],
   "source": [
    "# Poker winnings from Monday to Friday\n",
    "poker_vector <- c(140, -50, 20, -120, 240)"
   ]
  },
  {
   "cell_type": "code",
   "execution_count": 6,
   "metadata": {},
   "outputs": [],
   "source": [
    "# Roulette winnings from Monday to Friday\n",
    "roulette_vector <- c(-24, -50, 100, -350, 10)"
   ]
  },
  {
   "cell_type": "code",
   "execution_count": 7,
   "metadata": {},
   "outputs": [],
   "source": [
    "# Assign days as names of poker_vector\n",
    "names(poker_vector) <- c(\"Monday\", \"Tuesday\", \"Wednesday\", \"Thursday\", \"Friday\")"
   ]
  },
  {
   "cell_type": "code",
   "execution_count": 9,
   "metadata": {},
   "outputs": [],
   "source": [
    "# Assign days as names of roulette_vectors\n",
    "names(roulette_vector) <- c(\"Monday\", \"Tuesday\", \"Wednesday\", \"Thursday\", \"Friday\")"
   ]
  },
  {
   "cell_type": "code",
   "execution_count": 10,
   "metadata": {},
   "outputs": [
    {
     "data": {
      "text/html": [
       "<ol class=list-inline>\n",
       "\t<li>'Monday'</li>\n",
       "\t<li>'Tuesday'</li>\n",
       "\t<li>'Wednesday'</li>\n",
       "\t<li>'Thursday'</li>\n",
       "\t<li>'Friday'</li>\n",
       "</ol>\n"
      ],
      "text/latex": [
       "\\begin{enumerate*}\n",
       "\\item 'Monday'\n",
       "\\item 'Tuesday'\n",
       "\\item 'Wednesday'\n",
       "\\item 'Thursday'\n",
       "\\item 'Friday'\n",
       "\\end{enumerate*}\n"
      ],
      "text/markdown": [
       "1. 'Monday'\n",
       "2. 'Tuesday'\n",
       "3. 'Wednesday'\n",
       "4. 'Thursday'\n",
       "5. 'Friday'\n",
       "\n",
       "\n"
      ],
      "text/plain": [
       "[1] \"Monday\"    \"Tuesday\"   \"Wednesday\" \"Thursday\"  \"Friday\"   "
      ]
     },
     "metadata": {},
     "output_type": "display_data"
    }
   ],
   "source": [
    "names(roulette_vector)"
   ]
  },
  {
   "cell_type": "markdown",
   "metadata": {},
   "source": [
    "## Naming a vector (2)"
   ]
  },
  {
   "cell_type": "code",
   "execution_count": 11,
   "metadata": {},
   "outputs": [],
   "source": [
    "# The variable days_vector\n",
    "days_vector <- c(\"Monday\", \"Tuesday\", \"Wednesday\", \"Thursday\", \"Friday\")"
   ]
  },
  {
   "cell_type": "code",
   "execution_count": 12,
   "metadata": {},
   "outputs": [],
   "source": [
    "# Assign the names of the day to roulette_vector and poker_vector\n",
    "names(poker_vector) <- days_vector\n",
    "names(roulette_vector) <- days_vector"
   ]
  },
  {
   "cell_type": "code",
   "execution_count": 13,
   "metadata": {},
   "outputs": [
    {
     "data": {
      "text/html": [
       "<ol class=list-inline>\n",
       "\t<li>'Monday'</li>\n",
       "\t<li>'Tuesday'</li>\n",
       "\t<li>'Wednesday'</li>\n",
       "\t<li>'Thursday'</li>\n",
       "\t<li>'Friday'</li>\n",
       "</ol>\n"
      ],
      "text/latex": [
       "\\begin{enumerate*}\n",
       "\\item 'Monday'\n",
       "\\item 'Tuesday'\n",
       "\\item 'Wednesday'\n",
       "\\item 'Thursday'\n",
       "\\item 'Friday'\n",
       "\\end{enumerate*}\n"
      ],
      "text/markdown": [
       "1. 'Monday'\n",
       "2. 'Tuesday'\n",
       "3. 'Wednesday'\n",
       "4. 'Thursday'\n",
       "5. 'Friday'\n",
       "\n",
       "\n"
      ],
      "text/plain": [
       "[1] \"Monday\"    \"Tuesday\"   \"Wednesday\" \"Thursday\"  \"Friday\"   "
      ]
     },
     "metadata": {},
     "output_type": "display_data"
    }
   ],
   "source": [
    "names(poker_vector)"
   ]
  },
  {
   "cell_type": "markdown",
   "metadata": {},
   "source": [
    "## Calculating total winnings"
   ]
  },
  {
   "cell_type": "code",
   "execution_count": 14,
   "metadata": {},
   "outputs": [],
   "source": [
    "A_vector <- c(1, 2, 3)\n",
    "B_vector <- c(4, 5, 6)"
   ]
  },
  {
   "cell_type": "code",
   "execution_count": 15,
   "metadata": {},
   "outputs": [],
   "source": [
    "# Take the sum of A_vector and B_vector\n",
    "total_vector <- A_vector + B_vector"
   ]
  },
  {
   "cell_type": "code",
   "execution_count": 16,
   "metadata": {},
   "outputs": [
    {
     "data": {
      "text/html": [
       "<ol class=list-inline>\n",
       "\t<li>5</li>\n",
       "\t<li>7</li>\n",
       "\t<li>9</li>\n",
       "</ol>\n"
      ],
      "text/latex": [
       "\\begin{enumerate*}\n",
       "\\item 5\n",
       "\\item 7\n",
       "\\item 9\n",
       "\\end{enumerate*}\n"
      ],
      "text/markdown": [
       "1. 5\n",
       "2. 7\n",
       "3. 9\n",
       "\n",
       "\n"
      ],
      "text/plain": [
       "[1] 5 7 9"
      ]
     },
     "metadata": {},
     "output_type": "display_data"
    }
   ],
   "source": [
    "# Print out total_vector\n",
    "total_vector"
   ]
  },
  {
   "cell_type": "markdown",
   "metadata": {},
   "source": [
    "## Calculating total winnings (2)"
   ]
  },
  {
   "cell_type": "code",
   "execution_count": 17,
   "metadata": {},
   "outputs": [],
   "source": [
    "# Poker and roulette winnings from Monday to Friday:\n",
    "poker_vector <- c(140, -50, 20, -120, 240)\n",
    "roulette_vector <- c(-24, -50, 100, -350, 10)\n",
    "days_vector <- c(\"Monday\", \"Tuesday\", \"Wednesday\", \"Thursday\", \"Friday\")\n",
    "names(poker_vector) <- days_vector\n",
    "names(roulette_vector) <- days_vector"
   ]
  },
  {
   "cell_type": "code",
   "execution_count": 18,
   "metadata": {},
   "outputs": [],
   "source": [
    "# Assign to total_daily how much you won/lost on each day\n",
    "total_daily <- roulette_vector + poker_vector"
   ]
  },
  {
   "cell_type": "code",
   "execution_count": 19,
   "metadata": {},
   "outputs": [
    {
     "data": {
      "text/html": [
       "<dl class=dl-horizontal>\n",
       "\t<dt>Monday</dt>\n",
       "\t\t<dd>116</dd>\n",
       "\t<dt>Tuesday</dt>\n",
       "\t\t<dd>-100</dd>\n",
       "\t<dt>Wednesday</dt>\n",
       "\t\t<dd>120</dd>\n",
       "\t<dt>Thursday</dt>\n",
       "\t\t<dd>-470</dd>\n",
       "\t<dt>Friday</dt>\n",
       "\t\t<dd>250</dd>\n",
       "</dl>\n"
      ],
      "text/latex": [
       "\\begin{description*}\n",
       "\\item[Monday] 116\n",
       "\\item[Tuesday] -100\n",
       "\\item[Wednesday] 120\n",
       "\\item[Thursday] -470\n",
       "\\item[Friday] 250\n",
       "\\end{description*}\n"
      ],
      "text/markdown": [
       "Monday\n",
       ":   116Tuesday\n",
       ":   -100Wednesday\n",
       ":   120Thursday\n",
       ":   -470Friday\n",
       ":   250\n",
       "\n"
      ],
      "text/plain": [
       "   Monday   Tuesday Wednesday  Thursday    Friday \n",
       "      116      -100       120      -470       250 "
      ]
     },
     "metadata": {},
     "output_type": "display_data"
    }
   ],
   "source": [
    "total_daily"
   ]
  },
  {
   "cell_type": "markdown",
   "metadata": {},
   "source": [
    "## Calculating total winnings (3)"
   ]
  },
  {
   "cell_type": "code",
   "execution_count": 20,
   "metadata": {},
   "outputs": [],
   "source": [
    "# Poker and roulette winnings from Monday to Friday:\n",
    "poker_vector <- c(140, -50, 20, -120, 240)\n",
    "roulette_vector <- c(-24, -50, 100, -350, 10)\n",
    "days_vector <- c(\"Monday\", \"Tuesday\", \"Wednesday\", \"Thursday\", \"Friday\")\n",
    "names(poker_vector) <- days_vector\n",
    "names(roulette_vector) <- days_vector"
   ]
  },
  {
   "cell_type": "code",
   "execution_count": 21,
   "metadata": {},
   "outputs": [],
   "source": [
    "# Total winnings with poker\n",
    "total_poker <- sum(poker_vector)"
   ]
  },
  {
   "cell_type": "code",
   "execution_count": 22,
   "metadata": {},
   "outputs": [],
   "source": [
    "# Total winnings with roulette\n",
    "total_roulette <- sum(roulette_vector)"
   ]
  },
  {
   "cell_type": "code",
   "execution_count": 23,
   "metadata": {},
   "outputs": [],
   "source": [
    "# Total winnings overall\n",
    "total_week <- total_poker + total_roulette"
   ]
  },
  {
   "cell_type": "code",
   "execution_count": 24,
   "metadata": {},
   "outputs": [
    {
     "data": {
      "text/html": [
       "-84"
      ],
      "text/latex": [
       "-84"
      ],
      "text/markdown": [
       "-84"
      ],
      "text/plain": [
       "[1] -84"
      ]
     },
     "metadata": {},
     "output_type": "display_data"
    }
   ],
   "source": [
    "total_week"
   ]
  },
  {
   "cell_type": "markdown",
   "metadata": {},
   "source": [
    "## Comparing total winnings"
   ]
  },
  {
   "cell_type": "code",
   "execution_count": 25,
   "metadata": {},
   "outputs": [],
   "source": [
    "# Poker and roulette winnings from Monday to Friday:\n",
    "poker_vector <- c(140, -50, 20, -120, 240)\n",
    "roulette_vector <- c(-24, -50, 100, -350, 10)\n",
    "days_vector <- c(\"Monday\", \"Tuesday\", \"Wednesday\", \"Thursday\", \"Friday\")\n",
    "names(poker_vector) <- days_vector\n",
    "names(roulette_vector) <- days_vector"
   ]
  },
  {
   "cell_type": "code",
   "execution_count": 26,
   "metadata": {},
   "outputs": [],
   "source": [
    "# Calculate total gains for poker and roulette\n",
    "total_poker <- sum(poker_vector)\n",
    "total_roulette <- sum(roulette_vector)"
   ]
  },
  {
   "cell_type": "code",
   "execution_count": 27,
   "metadata": {},
   "outputs": [
    {
     "data": {
      "text/html": [
       "TRUE"
      ],
      "text/latex": [
       "TRUE"
      ],
      "text/markdown": [
       "TRUE"
      ],
      "text/plain": [
       "[1] TRUE"
      ]
     },
     "metadata": {},
     "output_type": "display_data"
    }
   ],
   "source": [
    "# Check if you realized higher total gains in poker than in roulette \n",
    "total_poker > total_roulette"
   ]
  },
  {
   "cell_type": "markdown",
   "metadata": {},
   "source": [
    "## Vector selection: the good times"
   ]
  },
  {
   "cell_type": "code",
   "execution_count": 28,
   "metadata": {},
   "outputs": [],
   "source": [
    "# Poker and roulette winnings from Monday to Friday:\n",
    "poker_vector <- c(140, -50, 20, -120, 240)\n",
    "roulette_vector <- c(-24, -50, 100, -350, 10)\n",
    "days_vector <- c(\"Monday\", \"Tuesday\", \"Wednesday\", \"Thursday\", \"Friday\")\n",
    "names(poker_vector) <- days_vector\n",
    "names(roulette_vector) <- days_vector"
   ]
  },
  {
   "cell_type": "code",
   "execution_count": 29,
   "metadata": {},
   "outputs": [],
   "source": [
    "# Define a new variable based on a selection\n",
    "poker_wednesday <- poker_vector[3]"
   ]
  },
  {
   "cell_type": "code",
   "execution_count": 30,
   "metadata": {},
   "outputs": [
    {
     "data": {
      "text/html": [
       "<strong>Wednesday:</strong> 20"
      ],
      "text/latex": [
       "\\textbf{Wednesday:} 20"
      ],
      "text/markdown": [
       "**Wednesday:** 20"
      ],
      "text/plain": [
       "Wednesday \n",
       "       20 "
      ]
     },
     "metadata": {},
     "output_type": "display_data"
    }
   ],
   "source": [
    "poker_wednesday"
   ]
  },
  {
   "cell_type": "markdown",
   "metadata": {},
   "source": [
    "## Vector selection: the good times (2)"
   ]
  },
  {
   "cell_type": "code",
   "execution_count": 31,
   "metadata": {},
   "outputs": [],
   "source": [
    "# Poker and roulette winnings from Monday to Friday:\n",
    "poker_vector <- c(140, -50, 20, -120, 240)\n",
    "roulette_vector <- c(-24, -50, 100, -350, 10)\n",
    "days_vector <- c(\"Monday\", \"Tuesday\", \"Wednesday\", \"Thursday\", \"Friday\")\n",
    "names(poker_vector) <- days_vector\n",
    "names(roulette_vector) <- days_vector"
   ]
  },
  {
   "cell_type": "code",
   "execution_count": 32,
   "metadata": {},
   "outputs": [],
   "source": [
    "# Define a new variable based on a selection\n",
    "poker_midweek <- poker_vector[c(2,3,4)]"
   ]
  },
  {
   "cell_type": "code",
   "execution_count": 33,
   "metadata": {},
   "outputs": [
    {
     "data": {
      "text/html": [
       "<dl class=dl-horizontal>\n",
       "\t<dt>Tuesday</dt>\n",
       "\t\t<dd>-50</dd>\n",
       "\t<dt>Wednesday</dt>\n",
       "\t\t<dd>20</dd>\n",
       "\t<dt>Thursday</dt>\n",
       "\t\t<dd>-120</dd>\n",
       "</dl>\n"
      ],
      "text/latex": [
       "\\begin{description*}\n",
       "\\item[Tuesday] -50\n",
       "\\item[Wednesday] 20\n",
       "\\item[Thursday] -120\n",
       "\\end{description*}\n"
      ],
      "text/markdown": [
       "Tuesday\n",
       ":   -50Wednesday\n",
       ":   20Thursday\n",
       ":   -120\n",
       "\n"
      ],
      "text/plain": [
       "  Tuesday Wednesday  Thursday \n",
       "      -50        20      -120 "
      ]
     },
     "metadata": {},
     "output_type": "display_data"
    }
   ],
   "source": [
    "poker_midweek"
   ]
  },
  {
   "cell_type": "markdown",
   "metadata": {},
   "source": [
    "## Vector selection: the good times (3)"
   ]
  },
  {
   "cell_type": "code",
   "execution_count": 34,
   "metadata": {},
   "outputs": [],
   "source": [
    "# Poker and roulette winnings from Monday to Friday:\n",
    "poker_vector <- c(140, -50, 20, -120, 240)\n",
    "roulette_vector <- c(-24, -50, 100, -350, 10)\n",
    "days_vector <- c(\"Monday\", \"Tuesday\", \"Wednesday\", \"Thursday\", \"Friday\")\n",
    "names(poker_vector) <- days_vector\n",
    "names(roulette_vector) <- days_vector"
   ]
  },
  {
   "cell_type": "code",
   "execution_count": 35,
   "metadata": {},
   "outputs": [],
   "source": [
    "# Define a new variable based on a selection\n",
    "roulette_selection_vector <- roulette_vector[2:5]"
   ]
  },
  {
   "cell_type": "code",
   "execution_count": 36,
   "metadata": {},
   "outputs": [
    {
     "data": {
      "text/html": [
       "<dl class=dl-horizontal>\n",
       "\t<dt>Tuesday</dt>\n",
       "\t\t<dd>-50</dd>\n",
       "\t<dt>Wednesday</dt>\n",
       "\t\t<dd>100</dd>\n",
       "\t<dt>Thursday</dt>\n",
       "\t\t<dd>-350</dd>\n",
       "\t<dt>Friday</dt>\n",
       "\t\t<dd>10</dd>\n",
       "</dl>\n"
      ],
      "text/latex": [
       "\\begin{description*}\n",
       "\\item[Tuesday] -50\n",
       "\\item[Wednesday] 100\n",
       "\\item[Thursday] -350\n",
       "\\item[Friday] 10\n",
       "\\end{description*}\n"
      ],
      "text/markdown": [
       "Tuesday\n",
       ":   -50Wednesday\n",
       ":   100Thursday\n",
       ":   -350Friday\n",
       ":   10\n",
       "\n"
      ],
      "text/plain": [
       "  Tuesday Wednesday  Thursday    Friday \n",
       "      -50       100      -350        10 "
      ]
     },
     "metadata": {},
     "output_type": "display_data"
    }
   ],
   "source": [
    "roulette_selection_vector"
   ]
  },
  {
   "cell_type": "markdown",
   "metadata": {},
   "source": [
    "## Vector selection: the good times (4)"
   ]
  },
  {
   "cell_type": "code",
   "execution_count": 37,
   "metadata": {},
   "outputs": [],
   "source": [
    "# Poker and roulette winnings from Monday to Friday:\n",
    "poker_vector <- c(140, -50, 20, -120, 240)\n",
    "roulette_vector <- c(-24, -50, 100, -350, 10)\n",
    "days_vector <- c(\"Monday\", \"Tuesday\", \"Wednesday\", \"Thursday\", \"Friday\")\n",
    "names(poker_vector) <- days_vector\n",
    "names(roulette_vector) <- days_vector"
   ]
  },
  {
   "cell_type": "code",
   "execution_count": 38,
   "metadata": {},
   "outputs": [],
   "source": [
    "# Select poker results for Monday, Tuesday and Wednesday\n",
    "poker_start <- poker_vector[c(\"Monday\", \"Tuesday\", \"Wednesday\")]"
   ]
  },
  {
   "cell_type": "code",
   "execution_count": 39,
   "metadata": {},
   "outputs": [
    {
     "data": {
      "text/html": [
       "36.6666666666667"
      ],
      "text/latex": [
       "36.6666666666667"
      ],
      "text/markdown": [
       "36.6666666666667"
      ],
      "text/plain": [
       "[1] 36.66667"
      ]
     },
     "metadata": {},
     "output_type": "display_data"
    }
   ],
   "source": [
    "# Calculate the average of the elements in poker_start\n",
    "mean(poker_start)"
   ]
  },
  {
   "cell_type": "markdown",
   "metadata": {},
   "source": [
    "## Selection by comparison - Step 1"
   ]
  },
  {
   "cell_type": "code",
   "execution_count": 40,
   "metadata": {},
   "outputs": [],
   "source": [
    "# Poker and roulette winnings from Monday to Friday:\n",
    "poker_vector <- c(140, -50, 20, -120, 240)\n",
    "roulette_vector <- c(-24, -50, 100, -350, 10)\n",
    "days_vector <- c(\"Monday\", \"Tuesday\", \"Wednesday\", \"Thursday\", \"Friday\")\n",
    "names(poker_vector) <- days_vector\n",
    "names(roulette_vector) <- days_vector"
   ]
  },
  {
   "cell_type": "code",
   "execution_count": 41,
   "metadata": {},
   "outputs": [],
   "source": [
    "# Which days did you make money on poker?\n",
    "selection_vector <- poker_vector > 0"
   ]
  },
  {
   "cell_type": "code",
   "execution_count": 42,
   "metadata": {},
   "outputs": [
    {
     "data": {
      "text/html": [
       "<dl class=dl-horizontal>\n",
       "\t<dt>Monday</dt>\n",
       "\t\t<dd>TRUE</dd>\n",
       "\t<dt>Tuesday</dt>\n",
       "\t\t<dd>FALSE</dd>\n",
       "\t<dt>Wednesday</dt>\n",
       "\t\t<dd>TRUE</dd>\n",
       "\t<dt>Thursday</dt>\n",
       "\t\t<dd>FALSE</dd>\n",
       "\t<dt>Friday</dt>\n",
       "\t\t<dd>TRUE</dd>\n",
       "</dl>\n"
      ],
      "text/latex": [
       "\\begin{description*}\n",
       "\\item[Monday] TRUE\n",
       "\\item[Tuesday] FALSE\n",
       "\\item[Wednesday] TRUE\n",
       "\\item[Thursday] FALSE\n",
       "\\item[Friday] TRUE\n",
       "\\end{description*}\n"
      ],
      "text/markdown": [
       "Monday\n",
       ":   TRUETuesday\n",
       ":   FALSEWednesday\n",
       ":   TRUEThursday\n",
       ":   FALSEFriday\n",
       ":   TRUE\n",
       "\n"
      ],
      "text/plain": [
       "   Monday   Tuesday Wednesday  Thursday    Friday \n",
       "     TRUE     FALSE      TRUE     FALSE      TRUE "
      ]
     },
     "metadata": {},
     "output_type": "display_data"
    }
   ],
   "source": [
    "# Print out selection_vector\n",
    "selection_vector"
   ]
  },
  {
   "cell_type": "markdown",
   "metadata": {},
   "source": [
    "## Selection by comparison - Step 2"
   ]
  },
  {
   "cell_type": "code",
   "execution_count": 43,
   "metadata": {},
   "outputs": [],
   "source": [
    "# Poker and roulette winnings from Monday to Friday:\n",
    "poker_vector <- c(140, -50, 20, -120, 240)\n",
    "roulette_vector <- c(-24, -50, 100, -350, 10)\n",
    "days_vector <- c(\"Monday\", \"Tuesday\", \"Wednesday\", \"Thursday\", \"Friday\")\n",
    "names(poker_vector) <- days_vector\n",
    "names(roulette_vector) <- days_vector"
   ]
  },
  {
   "cell_type": "code",
   "execution_count": 44,
   "metadata": {},
   "outputs": [],
   "source": [
    "# Which days did you make money on poker?\n",
    "selection_vector <- poker_vector > 0"
   ]
  },
  {
   "cell_type": "code",
   "execution_count": 45,
   "metadata": {},
   "outputs": [],
   "source": [
    "# Select from poker_vector these days\n",
    "poker_winning_days <- poker_vector[selection_vector]"
   ]
  },
  {
   "cell_type": "code",
   "execution_count": 46,
   "metadata": {},
   "outputs": [
    {
     "data": {
      "text/html": [
       "<dl class=dl-horizontal>\n",
       "\t<dt>Monday</dt>\n",
       "\t\t<dd>140</dd>\n",
       "\t<dt>Wednesday</dt>\n",
       "\t\t<dd>20</dd>\n",
       "\t<dt>Friday</dt>\n",
       "\t\t<dd>240</dd>\n",
       "</dl>\n"
      ],
      "text/latex": [
       "\\begin{description*}\n",
       "\\item[Monday] 140\n",
       "\\item[Wednesday] 20\n",
       "\\item[Friday] 240\n",
       "\\end{description*}\n"
      ],
      "text/markdown": [
       "Monday\n",
       ":   140Wednesday\n",
       ":   20Friday\n",
       ":   240\n",
       "\n"
      ],
      "text/plain": [
       "   Monday Wednesday    Friday \n",
       "      140        20       240 "
      ]
     },
     "metadata": {},
     "output_type": "display_data"
    }
   ],
   "source": [
    "poker_winning_days"
   ]
  },
  {
   "cell_type": "markdown",
   "metadata": {},
   "source": [
    "## Advanced selection"
   ]
  },
  {
   "cell_type": "code",
   "execution_count": 47,
   "metadata": {},
   "outputs": [],
   "source": [
    "# Poker and roulette winnings from Monday to Friday:\n",
    "poker_vector <- c(140, -50, 20, -120, 240)\n",
    "roulette_vector <- c(-24, -50, 100, -350, 10)\n",
    "days_vector <- c(\"Monday\", \"Tuesday\", \"Wednesday\", \"Thursday\", \"Friday\")\n",
    "names(poker_vector) <- days_vector\n",
    "names(roulette_vector) <- days_vector"
   ]
  },
  {
   "cell_type": "code",
   "execution_count": 48,
   "metadata": {},
   "outputs": [],
   "source": [
    "# Which days did you make money on roulette?\n",
    "selection_vector <- roulette_vector > 0"
   ]
  },
  {
   "cell_type": "code",
   "execution_count": 49,
   "metadata": {},
   "outputs": [],
   "source": [
    "# Select from roulette_vector these days\n",
    "roulette_winning_days <- roulette_vector[selection_vector]"
   ]
  },
  {
   "cell_type": "code",
   "execution_count": 50,
   "metadata": {},
   "outputs": [
    {
     "data": {
      "text/html": [
       "<dl class=dl-horizontal>\n",
       "\t<dt>Wednesday</dt>\n",
       "\t\t<dd>100</dd>\n",
       "\t<dt>Friday</dt>\n",
       "\t\t<dd>10</dd>\n",
       "</dl>\n"
      ],
      "text/latex": [
       "\\begin{description*}\n",
       "\\item[Wednesday] 100\n",
       "\\item[Friday] 10\n",
       "\\end{description*}\n"
      ],
      "text/markdown": [
       "Wednesday\n",
       ":   100Friday\n",
       ":   10\n",
       "\n"
      ],
      "text/plain": [
       "Wednesday    Friday \n",
       "      100        10 "
      ]
     },
     "metadata": {},
     "output_type": "display_data"
    }
   ],
   "source": [
    "roulette_winning_days"
   ]
  },
  {
   "cell_type": "markdown",
   "metadata": {},
   "source": [
    "# What's a matrix?"
   ]
  },
  {
   "cell_type": "code",
   "execution_count": 51,
   "metadata": {},
   "outputs": [
    {
     "data": {
      "text/html": [
       "<table>\n",
       "<tbody>\n",
       "\t<tr><td>1</td><td>2</td><td>3</td></tr>\n",
       "\t<tr><td>4</td><td>5</td><td>6</td></tr>\n",
       "\t<tr><td>7</td><td>8</td><td>9</td></tr>\n",
       "</tbody>\n",
       "</table>\n"
      ],
      "text/latex": [
       "\\begin{tabular}{lll}\n",
       "\t 1 & 2 & 3\\\\\n",
       "\t 4 & 5 & 6\\\\\n",
       "\t 7 & 8 & 9\\\\\n",
       "\\end{tabular}\n"
      ],
      "text/markdown": [
       "\n",
       "| 1 | 2 | 3 | \n",
       "| 4 | 5 | 6 | \n",
       "| 7 | 8 | 9 | \n",
       "\n",
       "\n"
      ],
      "text/plain": [
       "     [,1] [,2] [,3]\n",
       "[1,] 1    2    3   \n",
       "[2,] 4    5    6   \n",
       "[3,] 7    8    9   "
      ]
     },
     "metadata": {},
     "output_type": "display_data"
    }
   ],
   "source": [
    "# Construct a matrix with 3 rows that contain the numbers 1 up to 9\n",
    "matrix(1:9, byrow = TRUE, nrow = 3)"
   ]
  },
  {
   "cell_type": "code",
   "execution_count": 52,
   "metadata": {},
   "outputs": [],
   "source": [
    "# Box office Star Wars (in millions!)\n",
    "new_hope <- c(460.998, 314.4)\n",
    "empire_strikes <- c(290.475, 247.900)\n",
    "return_jedi <- c(309.306, 165.8)"
   ]
  },
  {
   "cell_type": "code",
   "execution_count": 53,
   "metadata": {},
   "outputs": [],
   "source": [
    "# Create box_office\n",
    "box_office <- c(new_hope, empire_strikes, return_jedi)"
   ]
  },
  {
   "cell_type": "code",
   "execution_count": 54,
   "metadata": {},
   "outputs": [],
   "source": [
    "# Construct star_wars_matrix\n",
    "star_wars_matrix <- matrix(box_office, byrow = TRUE, nrow = 3)"
   ]
  },
  {
   "cell_type": "code",
   "execution_count": 55,
   "metadata": {},
   "outputs": [
    {
     "data": {
      "text/html": [
       "<table>\n",
       "<tbody>\n",
       "\t<tr><td>460.998</td><td>314.4  </td></tr>\n",
       "\t<tr><td>290.475</td><td>247.9  </td></tr>\n",
       "\t<tr><td>309.306</td><td>165.8  </td></tr>\n",
       "</tbody>\n",
       "</table>\n"
      ],
      "text/latex": [
       "\\begin{tabular}{ll}\n",
       "\t 460.998 & 314.4  \\\\\n",
       "\t 290.475 & 247.9  \\\\\n",
       "\t 309.306 & 165.8  \\\\\n",
       "\\end{tabular}\n"
      ],
      "text/markdown": [
       "\n",
       "| 460.998 | 314.4   | \n",
       "| 290.475 | 247.9   | \n",
       "| 309.306 | 165.8   | \n",
       "\n",
       "\n"
      ],
      "text/plain": [
       "     [,1]    [,2] \n",
       "[1,] 460.998 314.4\n",
       "[2,] 290.475 247.9\n",
       "[3,] 309.306 165.8"
      ]
     },
     "metadata": {},
     "output_type": "display_data"
    }
   ],
   "source": [
    "star_wars_matrix"
   ]
  },
  {
   "cell_type": "markdown",
   "metadata": {},
   "source": [
    "## Naming a matrix"
   ]
  },
  {
   "cell_type": "code",
   "execution_count": 56,
   "metadata": {},
   "outputs": [],
   "source": [
    "# Box office Star Wars (in millions!)\n",
    "new_hope <- c(460.998, 314.4)\n",
    "empire_strikes <- c(290.475, 247.900)\n",
    "return_jedi <- c(309.306, 165.8)"
   ]
  },
  {
   "cell_type": "code",
   "execution_count": 57,
   "metadata": {},
   "outputs": [],
   "source": [
    "# Construct matrix\n",
    "star_wars_matrix <- matrix(c(new_hope, empire_strikes, return_jedi), nrow = 3, byrow = TRUE)"
   ]
  },
  {
   "cell_type": "code",
   "execution_count": 58,
   "metadata": {},
   "outputs": [],
   "source": [
    "# Vectors region and titles, used for naming\n",
    "region <- c(\"US\", \"non-US\")\n",
    "titles <- c(\"A New Hope\", \"The Empire Strikes Back\", \"Return of the Jedi\")"
   ]
  },
  {
   "cell_type": "code",
   "execution_count": 59,
   "metadata": {},
   "outputs": [],
   "source": [
    "# Name the columns with region\n",
    "colnames(star_wars_matrix) <- region"
   ]
  },
  {
   "cell_type": "code",
   "execution_count": 60,
   "metadata": {},
   "outputs": [],
   "source": [
    "# Name the rows with titles\n",
    "rownames(star_wars_matrix) <- titles"
   ]
  },
  {
   "cell_type": "code",
   "execution_count": 61,
   "metadata": {},
   "outputs": [
    {
     "data": {
      "text/html": [
       "<table>\n",
       "<thead><tr><th></th><th scope=col>US</th><th scope=col>non-US</th></tr></thead>\n",
       "<tbody>\n",
       "\t<tr><th scope=row>A New Hope</th><td>460.998</td><td>314.4  </td></tr>\n",
       "\t<tr><th scope=row>The Empire Strikes Back</th><td>290.475</td><td>247.9  </td></tr>\n",
       "\t<tr><th scope=row>Return of the Jedi</th><td>309.306</td><td>165.8  </td></tr>\n",
       "</tbody>\n",
       "</table>\n"
      ],
      "text/latex": [
       "\\begin{tabular}{r|ll}\n",
       "  & US & non-US\\\\\n",
       "\\hline\n",
       "\tA New Hope & 460.998 & 314.4  \\\\\n",
       "\tThe Empire Strikes Back & 290.475 & 247.9  \\\\\n",
       "\tReturn of the Jedi & 309.306 & 165.8  \\\\\n",
       "\\end{tabular}\n"
      ],
      "text/markdown": [
       "\n",
       "| <!--/--> | US | non-US | \n",
       "|---|---|---|\n",
       "| A New Hope | 460.998 | 314.4   | \n",
       "| The Empire Strikes Back | 290.475 | 247.9   | \n",
       "| Return of the Jedi | 309.306 | 165.8   | \n",
       "\n",
       "\n"
      ],
      "text/plain": [
       "                        US      non-US\n",
       "A New Hope              460.998 314.4 \n",
       "The Empire Strikes Back 290.475 247.9 \n",
       "Return of the Jedi      309.306 165.8 "
      ]
     },
     "metadata": {},
     "output_type": "display_data"
    }
   ],
   "source": [
    "# Print out star_wars_matrix\n",
    "star_wars_matrix"
   ]
  },
  {
   "cell_type": "markdown",
   "metadata": {},
   "source": [
    "## Calculating the worldwide box office"
   ]
  },
  {
   "cell_type": "code",
   "execution_count": 62,
   "metadata": {},
   "outputs": [],
   "source": [
    "# Construct star_wars_matrix\n",
    "box_office <- c(460.998, 314.4, 290.475, 247.900, 309.306, 165.8)\n",
    "star_wars_matrix <- matrix(box_office, nrow = 3, byrow = TRUE,\n",
    "                           dimnames = list(c(\"A New Hope\", \"The Empire Strikes Back\", \"Return of the Jedi\"), \n",
    "                                           c(\"US\", \"non-US\")))"
   ]
  },
  {
   "cell_type": "code",
   "execution_count": 63,
   "metadata": {},
   "outputs": [
    {
     "data": {
      "text/html": [
       "<dl class=dl-horizontal>\n",
       "\t<dt>A New Hope</dt>\n",
       "\t\t<dd>775.398</dd>\n",
       "\t<dt>The Empire Strikes Back</dt>\n",
       "\t\t<dd>538.375</dd>\n",
       "\t<dt>Return of the Jedi</dt>\n",
       "\t\t<dd>475.106</dd>\n",
       "</dl>\n"
      ],
      "text/latex": [
       "\\begin{description*}\n",
       "\\item[A New Hope] 775.398\n",
       "\\item[The Empire Strikes Back] 538.375\n",
       "\\item[Return of the Jedi] 475.106\n",
       "\\end{description*}\n"
      ],
      "text/markdown": [
       "A New Hope\n",
       ":   775.398The Empire Strikes Back\n",
       ":   538.375Return of the Jedi\n",
       ":   475.106\n",
       "\n"
      ],
      "text/plain": [
       "             A New Hope The Empire Strikes Back      Return of the Jedi \n",
       "                775.398                 538.375                 475.106 "
      ]
     },
     "metadata": {},
     "output_type": "display_data"
    }
   ],
   "source": [
    "# Calculate worldwide box office figures\n",
    "worldwide_vector <- rowSums(star_wars_matrix)\n",
    "\n",
    "worldwide_vector"
   ]
  },
  {
   "cell_type": "markdown",
   "metadata": {},
   "source": [
    "## Adding a column for the Worldwide box office"
   ]
  },
  {
   "cell_type": "code",
   "execution_count": 64,
   "metadata": {},
   "outputs": [],
   "source": [
    "# Construct star_wars_matrix\n",
    "box_office <- c(460.998, 314.4, 290.475, 247.900, 309.306, 165.8)\n",
    "star_wars_matrix <- matrix(box_office, nrow = 3, byrow = TRUE,\n",
    "                           dimnames = list(c(\"A New Hope\", \"The Empire Strikes Back\", \"Return of the Jedi\"), \n",
    "                                           c(\"US\", \"non-US\")))"
   ]
  },
  {
   "cell_type": "code",
   "execution_count": 65,
   "metadata": {},
   "outputs": [],
   "source": [
    "# The worldwide box office figures\n",
    "worldwide_vector <- rowSums(star_wars_matrix)"
   ]
  },
  {
   "cell_type": "code",
   "execution_count": 66,
   "metadata": {},
   "outputs": [
    {
     "data": {
      "text/html": [
       "<table>\n",
       "<thead><tr><th></th><th scope=col>US</th><th scope=col>non-US</th><th scope=col>worldwide_vector</th></tr></thead>\n",
       "<tbody>\n",
       "\t<tr><th scope=row>A New Hope</th><td>460.998</td><td>314.4  </td><td>775.398</td></tr>\n",
       "\t<tr><th scope=row>The Empire Strikes Back</th><td>290.475</td><td>247.9  </td><td>538.375</td></tr>\n",
       "\t<tr><th scope=row>Return of the Jedi</th><td>309.306</td><td>165.8  </td><td>475.106</td></tr>\n",
       "</tbody>\n",
       "</table>\n"
      ],
      "text/latex": [
       "\\begin{tabular}{r|lll}\n",
       "  & US & non-US & worldwide\\_vector\\\\\n",
       "\\hline\n",
       "\tA New Hope & 460.998 & 314.4   & 775.398\\\\\n",
       "\tThe Empire Strikes Back & 290.475 & 247.9   & 538.375\\\\\n",
       "\tReturn of the Jedi & 309.306 & 165.8   & 475.106\\\\\n",
       "\\end{tabular}\n"
      ],
      "text/markdown": [
       "\n",
       "| <!--/--> | US | non-US | worldwide_vector | \n",
       "|---|---|---|\n",
       "| A New Hope | 460.998 | 314.4   | 775.398 | \n",
       "| The Empire Strikes Back | 290.475 | 247.9   | 538.375 | \n",
       "| Return of the Jedi | 309.306 | 165.8   | 475.106 | \n",
       "\n",
       "\n"
      ],
      "text/plain": [
       "                        US      non-US worldwide_vector\n",
       "A New Hope              460.998 314.4  775.398         \n",
       "The Empire Strikes Back 290.475 247.9  538.375         \n",
       "Return of the Jedi      309.306 165.8  475.106         "
      ]
     },
     "metadata": {},
     "output_type": "display_data"
    }
   ],
   "source": [
    "# Bind the new variable worldwide_vector as a column to star_wars_matrix\n",
    "all_wars_matrix <- cbind(star_wars_matrix, worldwide_vector)\n",
    "\n",
    "all_wars_matrix"
   ]
  },
  {
   "cell_type": "markdown",
   "metadata": {},
   "source": [
    "## Adding a row"
   ]
  },
  {
   "cell_type": "code",
   "execution_count": 68,
   "metadata": {},
   "outputs": [],
   "source": [
    "# Construct star_wars_matrix2\n",
    "box_office2 <- c(474.5, 552.5, 310.7, 338.7, 380.3, 468.5)\n",
    "star_wars_matrix2 <- matrix(box_office2, nrow = 3, byrow = TRUE,\n",
    "                           dimnames = list(c(\"The Phantom Menace\", \"Attack of the Clones\", \"Revenge of the Sith\"), \n",
    "                                           c(\"US\", \"non-US\")))"
   ]
  },
  {
   "cell_type": "code",
   "execution_count": 69,
   "metadata": {},
   "outputs": [
    {
     "data": {
      "text/html": [
       "<table>\n",
       "<thead><tr><th></th><th scope=col>US</th><th scope=col>non-US</th></tr></thead>\n",
       "<tbody>\n",
       "\t<tr><th scope=row>A New Hope</th><td>460.998</td><td>314.4  </td></tr>\n",
       "\t<tr><th scope=row>The Empire Strikes Back</th><td>290.475</td><td>247.9  </td></tr>\n",
       "\t<tr><th scope=row>Return of the Jedi</th><td>309.306</td><td>165.8  </td></tr>\n",
       "</tbody>\n",
       "</table>\n"
      ],
      "text/latex": [
       "\\begin{tabular}{r|ll}\n",
       "  & US & non-US\\\\\n",
       "\\hline\n",
       "\tA New Hope & 460.998 & 314.4  \\\\\n",
       "\tThe Empire Strikes Back & 290.475 & 247.9  \\\\\n",
       "\tReturn of the Jedi & 309.306 & 165.8  \\\\\n",
       "\\end{tabular}\n"
      ],
      "text/markdown": [
       "\n",
       "| <!--/--> | US | non-US | \n",
       "|---|---|---|\n",
       "| A New Hope | 460.998 | 314.4   | \n",
       "| The Empire Strikes Back | 290.475 | 247.9   | \n",
       "| Return of the Jedi | 309.306 | 165.8   | \n",
       "\n",
       "\n"
      ],
      "text/plain": [
       "                        US      non-US\n",
       "A New Hope              460.998 314.4 \n",
       "The Empire Strikes Back 290.475 247.9 \n",
       "Return of the Jedi      309.306 165.8 "
      ]
     },
     "metadata": {},
     "output_type": "display_data"
    },
    {
     "data": {
      "text/html": [
       "<table>\n",
       "<thead><tr><th></th><th scope=col>US</th><th scope=col>non-US</th></tr></thead>\n",
       "<tbody>\n",
       "\t<tr><th scope=row>The Phantom Menace</th><td>474.5</td><td>552.5</td></tr>\n",
       "\t<tr><th scope=row>Attack of the Clones</th><td>310.7</td><td>338.7</td></tr>\n",
       "\t<tr><th scope=row>Revenge of the Sith</th><td>380.3</td><td>468.5</td></tr>\n",
       "</tbody>\n",
       "</table>\n"
      ],
      "text/latex": [
       "\\begin{tabular}{r|ll}\n",
       "  & US & non-US\\\\\n",
       "\\hline\n",
       "\tThe Phantom Menace & 474.5 & 552.5\\\\\n",
       "\tAttack of the Clones & 310.7 & 338.7\\\\\n",
       "\tRevenge of the Sith & 380.3 & 468.5\\\\\n",
       "\\end{tabular}\n"
      ],
      "text/markdown": [
       "\n",
       "| <!--/--> | US | non-US | \n",
       "|---|---|---|\n",
       "| The Phantom Menace | 474.5 | 552.5 | \n",
       "| Attack of the Clones | 310.7 | 338.7 | \n",
       "| Revenge of the Sith | 380.3 | 468.5 | \n",
       "\n",
       "\n"
      ],
      "text/plain": [
       "                     US    non-US\n",
       "The Phantom Menace   474.5 552.5 \n",
       "Attack of the Clones 310.7 338.7 \n",
       "Revenge of the Sith  380.3 468.5 "
      ]
     },
     "metadata": {},
     "output_type": "display_data"
    }
   ],
   "source": [
    "# star_wars_matrix and star_wars_matrix2 are available in your workspace\n",
    "star_wars_matrix  \n",
    "star_wars_matrix2"
   ]
  },
  {
   "cell_type": "code",
   "execution_count": 70,
   "metadata": {},
   "outputs": [
    {
     "data": {
      "text/html": [
       "<table>\n",
       "<thead><tr><th></th><th scope=col>US</th><th scope=col>non-US</th></tr></thead>\n",
       "<tbody>\n",
       "\t<tr><th scope=row>A New Hope</th><td>460.998</td><td>314.4  </td></tr>\n",
       "\t<tr><th scope=row>The Empire Strikes Back</th><td>290.475</td><td>247.9  </td></tr>\n",
       "\t<tr><th scope=row>Return of the Jedi</th><td>309.306</td><td>165.8  </td></tr>\n",
       "\t<tr><th scope=row>The Phantom Menace</th><td>474.500</td><td>552.5  </td></tr>\n",
       "\t<tr><th scope=row>Attack of the Clones</th><td>310.700</td><td>338.7  </td></tr>\n",
       "\t<tr><th scope=row>Revenge of the Sith</th><td>380.300</td><td>468.5  </td></tr>\n",
       "</tbody>\n",
       "</table>\n"
      ],
      "text/latex": [
       "\\begin{tabular}{r|ll}\n",
       "  & US & non-US\\\\\n",
       "\\hline\n",
       "\tA New Hope & 460.998 & 314.4  \\\\\n",
       "\tThe Empire Strikes Back & 290.475 & 247.9  \\\\\n",
       "\tReturn of the Jedi & 309.306 & 165.8  \\\\\n",
       "\tThe Phantom Menace & 474.500 & 552.5  \\\\\n",
       "\tAttack of the Clones & 310.700 & 338.7  \\\\\n",
       "\tRevenge of the Sith & 380.300 & 468.5  \\\\\n",
       "\\end{tabular}\n"
      ],
      "text/markdown": [
       "\n",
       "| <!--/--> | US | non-US | \n",
       "|---|---|---|---|---|---|\n",
       "| A New Hope | 460.998 | 314.4   | \n",
       "| The Empire Strikes Back | 290.475 | 247.9   | \n",
       "| Return of the Jedi | 309.306 | 165.8   | \n",
       "| The Phantom Menace | 474.500 | 552.5   | \n",
       "| Attack of the Clones | 310.700 | 338.7   | \n",
       "| Revenge of the Sith | 380.300 | 468.5   | \n",
       "\n",
       "\n"
      ],
      "text/plain": [
       "                        US      non-US\n",
       "A New Hope              460.998 314.4 \n",
       "The Empire Strikes Back 290.475 247.9 \n",
       "Return of the Jedi      309.306 165.8 \n",
       "The Phantom Menace      474.500 552.5 \n",
       "Attack of the Clones    310.700 338.7 \n",
       "Revenge of the Sith     380.300 468.5 "
      ]
     },
     "metadata": {},
     "output_type": "display_data"
    }
   ],
   "source": [
    "# Combine both Star Wars trilogies in one matrix\n",
    "all_wars_matrix <- rbind(star_wars_matrix, star_wars_matrix2)\n",
    "all_wars_matrix"
   ]
  },
  {
   "cell_type": "code",
   "execution_count": null,
   "metadata": {},
   "outputs": [],
   "source": []
  }
 ],
 "metadata": {
  "kernelspec": {
   "display_name": "R",
   "language": "R",
   "name": "ir"
  },
  "language_info": {
   "codemirror_mode": "r",
   "file_extension": ".r",
   "mimetype": "text/x-r-source",
   "name": "R",
   "pygments_lexer": "r",
   "version": "3.3.2"
  }
 },
 "nbformat": 4,
 "nbformat_minor": 2
}
