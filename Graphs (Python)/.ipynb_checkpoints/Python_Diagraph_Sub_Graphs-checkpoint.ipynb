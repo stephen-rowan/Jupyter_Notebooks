{
 "cells": [
  {
   "cell_type": "code",
   "execution_count": 1,
   "metadata": {},
   "outputs": [],
   "source": [
    "import graphviz as gv\n",
    "\n",
    "import functools\n",
    "graph = functools.partial(gv.Graph, format='svg')\n",
    "digraph = functools.partial(gv.Digraph, format='svg')"
   ]
  },
  {
   "cell_type": "code",
   "execution_count": 2,
   "metadata": {},
   "outputs": [],
   "source": [
    "def add_nodes(graph, nodes):\n",
    "    for n in nodes:\n",
    "        if isinstance(n, tuple):\n",
    "            graph.node(n[0], **n[1])\n",
    "        else:\n",
    "            graph.node(n)\n",
    "    return graph\n",
    "\n",
    "def add_edges(graph, edges):\n",
    "    for e in edges:\n",
    "        if isinstance(e[0], tuple):\n",
    "            graph.edge(*e[0], **e[1])\n",
    "        else:\n",
    "            graph.edge(*e)\n",
    "    return graph"
   ]
  },
  {
   "cell_type": "code",
   "execution_count": 5,
   "metadata": {},
   "outputs": [],
   "source": [
    "def apply_styles(graph, styles):\n",
    "    graph.graph_attr.update(\n",
    "        ('graph' in styles and styles['graph']) or {}\n",
    "    )\n",
    "    graph.node_attr.update(\n",
    "        ('nodes' in styles and styles['nodes']) or {}\n",
    "    )\n",
    "    graph.edge_attr.update(\n",
    "        ('edges' in styles and styles['edges']) or {}\n",
    "    )\n",
    "    return graph"
   ]
  },
  {
   "cell_type": "code",
   "execution_count": 10,
   "metadata": {},
   "outputs": [],
   "source": [
    "g7 = add_edges(\n",
    "    add_nodes(digraph(), [\n",
    "        ('A', {'label': 'Node A'}),\n",
    "        ('B', {'label': 'Node B'}),\n",
    "        'C'\n",
    "    ]),\n",
    "    [\n",
    "        (('A', 'B'), {'label': 'Edge 1'}),\n",
    "        (('A', 'C'), {'label': 'Edge 2'}),\n",
    "        ('B', 'C')\n",
    "    ]\n",
    ")"
   ]
  },
  {
   "cell_type": "code",
   "execution_count": 11,
   "metadata": {},
   "outputs": [],
   "source": [
    "g8 = apply_styles(\n",
    "    add_edges(\n",
    "        add_nodes(digraph(), [\n",
    "            ('D', {'label': 'Node D'}),\n",
    "            ('E', {'label': 'Node E'}),\n",
    "            'F'\n",
    "        ]),\n",
    "        [\n",
    "            (('D', 'E'), {'label': 'Edge 3'}),\n",
    "            (('D', 'F'), {'label': 'Edge 4'}),\n",
    "            ('E', 'F')\n",
    "        ]\n",
    "    ),\n",
    "    {\n",
    "        'nodes': {\n",
    "            'shape': 'square',\n",
    "            'style': 'filled',\n",
    "            'fillcolor': '#cccccc',\n",
    "        }\n",
    "    }\n",
    ")"
   ]
  },
  {
   "cell_type": "code",
   "execution_count": 12,
   "metadata": {},
   "outputs": [],
   "source": [
    "g7.subgraph(g8)\n",
    "g7.edge('B', 'E', color='red', weight='2')"
   ]
  },
  {
   "cell_type": "code",
   "execution_count": 13,
   "metadata": {},
   "outputs": [
    {
     "data": {
      "text/plain": [
       "'img/g7.svg'"
      ]
     },
     "execution_count": 13,
     "metadata": {},
     "output_type": "execute_result"
    }
   ],
   "source": [
    "g7.render('img/g7')"
   ]
  },
  {
   "cell_type": "code",
   "execution_count": 14,
   "metadata": {},
   "outputs": [
    {
     "data": {
      "image/svg+xml": [
       "<svg height=\"360pt\" viewBox=\"0.00 0.00 269.50 360.00\" width=\"269pt\" xmlns=\"http://www.w3.org/2000/svg\" xmlns:xlink=\"http://www.w3.org/1999/xlink\">\n",
       "<g class=\"graph\" id=\"graph0\" transform=\"scale(1 1) rotate(0) translate(4 356)\">\n",
       "<title>%3</title>\n",
       "<polygon fill=\"white\" points=\"-4,4 -4,-356 265.496,-356 265.496,4 -4,4\" stroke=\"none\"/>\n",
       "<!-- A -->\n",
       "<g class=\"node\" id=\"node1\"><title>A</title>\n",
       "<ellipse cx=\"45.496\" cy=\"-334\" fill=\"none\" rx=\"45.4919\" ry=\"18\" stroke=\"black\"/>\n",
       "<text font-family=\"Times,serif\" font-size=\"14.00\" text-anchor=\"middle\" x=\"45.496\" y=\"-330.3\">Node A</text>\n",
       "</g>\n",
       "<!-- B -->\n",
       "<g class=\"node\" id=\"node2\"><title>B</title>\n",
       "<ellipse cx=\"123.496\" cy=\"-229.5\" fill=\"none\" rx=\"45.4919\" ry=\"18\" stroke=\"black\"/>\n",
       "<text font-family=\"Times,serif\" font-size=\"14.00\" text-anchor=\"middle\" x=\"123.496\" y=\"-225.8\">Node B</text>\n",
       "</g>\n",
       "<!-- A&#45;&gt;B -->\n",
       "<g class=\"edge\" id=\"edge1\"><title>A-&gt;B</title>\n",
       "<path d=\"M58.028,-316.532C70.6505,-299.944 90.2767,-274.153 104.751,-255.133\" fill=\"none\" stroke=\"black\"/>\n",
       "<polygon fill=\"black\" points=\"107.724,-257.005 110.995,-246.928 102.154,-252.766 107.724,-257.005\" stroke=\"black\"/>\n",
       "<text font-family=\"Times,serif\" font-size=\"14.00\" text-anchor=\"middle\" x=\"107.996\" y=\"-286.8\">Edge 1</text>\n",
       "</g>\n",
       "<!-- C -->\n",
       "<g class=\"node\" id=\"node3\"><title>C</title>\n",
       "<ellipse cx=\"33.496\" cy=\"-108\" fill=\"none\" rx=\"27\" ry=\"18\" stroke=\"black\"/>\n",
       "<text font-family=\"Times,serif\" font-size=\"14.00\" text-anchor=\"middle\" x=\"33.496\" y=\"-104.3\">C</text>\n",
       "</g>\n",
       "<!-- A&#45;&gt;C -->\n",
       "<g class=\"edge\" id=\"edge2\"><title>A-&gt;C</title>\n",
       "<path d=\"M36.7546,-316.214C30.2719,-302.771 21.9799,-283.215 18.496,-265 9.94579,-220.297 18.974,-167.408 26.2588,-136.117\" fill=\"none\" stroke=\"black\"/>\n",
       "<polygon fill=\"black\" points=\"29.7574,-136.543 28.7311,-125.998 22.9575,-134.882 29.7574,-136.543\" stroke=\"black\"/>\n",
       "<text font-family=\"Times,serif\" font-size=\"14.00\" text-anchor=\"middle\" x=\"43.996\" y=\"-225.8\">Edge 2</text>\n",
       "</g>\n",
       "<!-- B&#45;&gt;C -->\n",
       "<g class=\"edge\" id=\"edge3\"><title>B-&gt;C</title>\n",
       "<path d=\"M110.982,-211.884C95.4097,-191.208 68.7242,-155.775 51.0963,-132.369\" fill=\"none\" stroke=\"black\"/>\n",
       "<polygon fill=\"black\" points=\"53.8608,-130.222 45.049,-124.34 48.2692,-134.433 53.8608,-130.222\" stroke=\"black\"/>\n",
       "</g>\n",
       "<!-- E -->\n",
       "<g class=\"node\" id=\"node5\"><title>E</title>\n",
       "<polygon fill=\"#cccccc\" points=\"172.496,-143 102.496,-143 102.496,-73 172.496,-73 172.496,-143\" stroke=\"black\"/>\n",
       "<text font-family=\"Times,serif\" font-size=\"14.00\" text-anchor=\"middle\" x=\"137.496\" y=\"-104.3\">Node E</text>\n",
       "</g>\n",
       "<!-- B&#45;&gt;E -->\n",
       "<g class=\"edge\" id=\"edge7\"><title>B-&gt;E</title>\n",
       "<path d=\"M125.502,-211.379C127.274,-196.251 129.937,-173.517 132.305,-153.312\" fill=\"none\" stroke=\"red\"/>\n",
       "<polygon fill=\"red\" points=\"135.786,-153.676 133.473,-143.336 128.833,-152.861 135.786,-153.676\" stroke=\"red\"/>\n",
       "</g>\n",
       "<!-- D -->\n",
       "<g class=\"node\" id=\"node4\"><title>D</title>\n",
       "<polygon fill=\"#cccccc\" points=\"257.996,-265 186.996,-265 186.996,-194 257.996,-194 257.996,-265\" stroke=\"black\"/>\n",
       "<text font-family=\"Times,serif\" font-size=\"14.00\" text-anchor=\"middle\" x=\"222.496\" y=\"-225.8\">Node D</text>\n",
       "</g>\n",
       "<!-- D&#45;&gt;E -->\n",
       "<g class=\"edge\" id=\"edge4\"><title>D-&gt;E</title>\n",
       "<path d=\"M186.811,-201.13C172.94,-190.22 159.799,-179.434 157.496,-176 152.833,-169.047 149.232,-160.979 146.457,-152.9\" fill=\"none\" stroke=\"black\"/>\n",
       "<polygon fill=\"black\" points=\"149.737,-151.656 143.468,-143.114 143.042,-153.701 149.737,-151.656\" stroke=\"black\"/>\n",
       "<text font-family=\"Times,serif\" font-size=\"14.00\" text-anchor=\"middle\" x=\"182.996\" y=\"-164.8\">Edge 3</text>\n",
       "</g>\n",
       "<!-- F -->\n",
       "<g class=\"node\" id=\"node6\"><title>F</title>\n",
       "<polygon fill=\"#cccccc\" points=\"212.496,-36 176.496,-36 176.496,-0 212.496,-0 212.496,-36\" stroke=\"black\"/>\n",
       "<text font-family=\"Times,serif\" font-size=\"14.00\" text-anchor=\"middle\" x=\"194.496\" y=\"-14.3\">F</text>\n",
       "</g>\n",
       "<!-- D&#45;&gt;F -->\n",
       "<g class=\"edge\" id=\"edge5\"><title>D-&gt;F</title>\n",
       "<path d=\"M217.872,-193.905C212.345,-152.547 203.208,-84.1831 198.149,-46.3355\" fill=\"none\" stroke=\"black\"/>\n",
       "<polygon fill=\"black\" points=\"201.572,-45.523 196.778,-36.0749 194.634,-46.4504 201.572,-45.523\" stroke=\"black\"/>\n",
       "<text font-family=\"Times,serif\" font-size=\"14.00\" text-anchor=\"middle\" x=\"235.996\" y=\"-104.3\">Edge 4</text>\n",
       "</g>\n",
       "<!-- E&#45;&gt;F -->\n",
       "<g class=\"edge\" id=\"edge6\"><title>E-&gt;F</title>\n",
       "<path d=\"M159.534,-72.9769C165.579,-63.6439 172.034,-53.6786 177.731,-44.8835\" fill=\"none\" stroke=\"black\"/>\n",
       "<polygon fill=\"black\" points=\"180.845,-46.513 183.344,-36.2171 174.97,-42.7075 180.845,-46.513\" stroke=\"black\"/>\n",
       "</g>\n",
       "</g>\n",
       "</svg>"
      ],
      "text/plain": [
       "<IPython.core.display.SVG object>"
      ]
     },
     "execution_count": 14,
     "metadata": {},
     "output_type": "execute_result"
    }
   ],
   "source": [
    "from IPython.display import SVG\n",
    "SVG(filename='img/g7.svg') "
   ]
  },
  {
   "cell_type": "code",
   "execution_count": null,
   "metadata": {},
   "outputs": [],
   "source": []
  }
 ],
 "metadata": {
  "kernelspec": {
   "display_name": "Python 3",
   "language": "python",
   "name": "python3"
  },
  "language_info": {
   "codemirror_mode": {
    "name": "ipython",
    "version": 3
   },
   "file_extension": ".py",
   "mimetype": "text/x-python",
   "name": "python",
   "nbconvert_exporter": "python",
   "pygments_lexer": "ipython3",
   "version": "3.6.2"
  }
 },
 "nbformat": 4,
 "nbformat_minor": 2
}
