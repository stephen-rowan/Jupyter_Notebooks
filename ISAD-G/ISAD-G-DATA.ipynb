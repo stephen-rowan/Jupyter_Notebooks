{
 "cells": [
  {
   "cell_type": "markdown",
   "metadata": {},
   "source": [
    "# ISAD-G Data and the Leeds-GATE Archives\n",
    "\n",
    "## Table of Contents\n",
    "\n",
    "1. [Packages for importing and presenting data](#Packages for importing and presenting data)\n",
    "2. [Access to Memory (ATOM) ISAD-G Data entry template](#Access to Memory ISAD-G Data entry template)\n",
    "3. [Leeds-GATE element set - JSON construction](#Leeds-GATE element set - JSON construction)\n",
    "4. [Leeds-GATE Items imported via LIVE JSON api](#Leeds-GATE Items imported via LIVE JSON api)\n",
    "\n",
    "\n",
    "Leeds-GATE element set - JSON construction\n"
   ]
  },
  {
   "cell_type": "markdown",
   "metadata": {},
   "source": [
    "## Packages for importing and presenting data  <a class=\"anchor\" id=\"Packages for importing and presenting data\"></a>"
   ]
  },
  {
   "cell_type": "code",
   "execution_count": 48,
   "metadata": {},
   "outputs": [
    {
     "name": "stderr",
     "output_type": "stream",
     "text": [
      "Updating HTML index of packages in '.Library'\n",
      "Making 'packages.html' ... done\n"
     ]
    }
   ],
   "source": [
    "install.packages(\"rjson\")\n",
    "library(rjson)"
   ]
  },
  {
   "cell_type": "code",
   "execution_count": 58,
   "metadata": {},
   "outputs": [
    {
     "name": "stderr",
     "output_type": "stream",
     "text": [
      "Updating HTML index of packages in '.Library'\n",
      "Making 'packages.html' ... done\n"
     ]
    }
   ],
   "source": [
    "install.packages(\"devtools\")\n",
    "library(devtools)"
   ]
  },
  {
   "cell_type": "code",
   "execution_count": 59,
   "metadata": {},
   "outputs": [
    {
     "name": "stderr",
     "output_type": "stream",
     "text": [
      "Updating HTML index of packages in '.Library'\n",
      "Making 'packages.html' ... done\n"
     ]
    }
   ],
   "source": [
    "install.packages(\"dplyr\")"
   ]
  },
  {
   "cell_type": "code",
   "execution_count": 60,
   "metadata": {},
   "outputs": [
    {
     "name": "stderr",
     "output_type": "stream",
     "text": [
      "Updating HTML index of packages in '.Library'\n",
      "Making 'packages.html' ... done\n"
     ]
    }
   ],
   "source": [
    "install.packages(\"ggplot2\")"
   ]
  },
  {
   "cell_type": "code",
   "execution_count": 61,
   "metadata": {},
   "outputs": [
    {
     "name": "stderr",
     "output_type": "stream",
     "text": [
      "Updating HTML index of packages in '.Library'\n",
      "Making 'packages.html' ... done\n"
     ]
    }
   ],
   "source": [
    "install.packages(\"shiny\")"
   ]
  },
  {
   "cell_type": "code",
   "execution_count": 62,
   "metadata": {},
   "outputs": [
    {
     "name": "stderr",
     "output_type": "stream",
     "text": [
      "Updating HTML index of packages in '.Library'\n",
      "Making 'packages.html' ... done\n"
     ]
    }
   ],
   "source": [
    "install.packages(\"RCurl\")"
   ]
  },
  {
   "cell_type": "code",
   "execution_count": 63,
   "metadata": {},
   "outputs": [],
   "source": [
    "library(plyr)\n",
    "library(dplyr)\n",
    "library(ggplot2)\n",
    "library(shiny)\n",
    "library(RCurl)"
   ]
  },
  {
   "cell_type": "markdown",
   "metadata": {},
   "source": [
    "## Access to Memory (ATOM) ISAD-G Data entry template <a class=\"anchor\" id=\"Access to Memory ISAD-G Data entry template\"></a>\n",
    "\n",
    "https://www.accesstomemory.org/en/docs/2.3/user-manual/data-templates/isad-template/"
   ]
  },
  {
   "cell_type": "code",
   "execution_count": 2,
   "metadata": {},
   "outputs": [],
   "source": [
    "isadgdata <- download.file(\"https://raw.githubusercontent.com/stephen-rowan/Jupyter_Notebooks/master/ISAD-G/information_objects_isad-2.3.csv\", \"isad-g-data.csv\", method = \"curl\")"
   ]
  },
  {
   "cell_type": "code",
   "execution_count": 3,
   "metadata": {},
   "outputs": [],
   "source": [
    "isadgdata <- read.csv(file=\"isad-g-data.csv\", header=TRUE, sep=\",\")"
   ]
  },
  {
   "cell_type": "code",
   "execution_count": 4,
   "metadata": {},
   "outputs": [
    {
     "data": {
      "text/html": [
       "<table>\n",
       "<thead><tr><th scope=col>legacyId</th><th scope=col>parentId</th><th scope=col>qubitParentSlug</th><th scope=col>identifier</th><th scope=col>accessionNumber</th><th scope=col>title</th><th scope=col>levelOfDescription</th><th scope=col>extentAndMedium</th><th scope=col>repository</th><th scope=col>archivalHistory</th><th scope=col>⋯</th><th scope=col>physicalObjectType</th><th scope=col>alternativeIdentifiers</th><th scope=col>alternativeIdentifierLabels</th><th scope=col>eventDates</th><th scope=col>eventTypes</th><th scope=col>eventStartDates</th><th scope=col>eventEndDates</th><th scope=col>eventActors</th><th scope=col>eventActorHistories</th><th scope=col>culture</th></tr></thead>\n",
       "<tbody>\n",
       "\t<tr><td>1                                                                                                                                                        </td><td>NA                                                                                                                                                       </td><td>NA                                                                                                                                                       </td><td>F1                                                                                                                                                       </td><td>NA                                                                                                                                                       </td><td>Example fonds                                                                                                                                            </td><td>Fonds                                                                                                                                                    </td><td>Example fonds Extent and medium (ISAD 3.1.5)                                                                                                             </td><td>Example Repository                                                                                                                                       </td><td>Example fonds Archival history (ISAD 3.2.3)                                                                                                              </td><td>⋯                                                                                                                                                        </td><td>Shelf                                                                                                                                                    </td><td>ALT-ID1|ALT-ID2                                                                                                                                          </td><td>Alternate identifier label 1|Alternative identifer label 2                                                                                               </td><td>January 1, 2015 - December 31, 2016|2016                                                                                                                 </td><td>Creation|Accumulation                                                                                                                                    </td><td>2015-01-01|2016-00-00                                                                                                                                    </td><td>2016-12-31|2016-00-00                                                                                                                                    </td><td>Creator (ISAD 3.2.1)|Accumulator (ISAD 3.2.1)                                                                                                            </td><td>Example fonds Creator history (ISAD 3.2.2). Note that this will be added to the related authority record for Creator (ISAD 3.2.1).|History of Accumulator</td><td>en                                                                                                                                                       </td></tr>\n",
       "\t<tr><td>2                                                                                                                                                        </td><td> 1                                                                                                                                                       </td><td>NA                                                                                                                                                       </td><td>IT-1                                                                                                                                                     </td><td>NA                                                                                                                                                       </td><td>Example Item                                                                                                                                             </td><td>Item                                                                                                                                                     </td><td>Example item Extent and medium                                                                                                                           </td><td>Example Repository                                                                                                                                       </td><td>Example item Archival history                                                                                                                            </td><td>⋯                                                                                                                                                        </td><td>Box                                                                                                                                                      </td><td>ALT-ID3|ALT-ID4                                                                                                                                          </td><td>Alternate identifier label 3|Alternative identifer label 4                                                                                               </td><td>January 2015 - December 2016                                                                                                                             </td><td>Creation                                                                                                                                                 </td><td>2015-01-01                                                                                                                                               </td><td>2016-12-31                                                                                                                                               </td><td>NULL                                                                                                                                                     </td><td>NULL                                                                                                                                                     </td><td>en                                                                                                                                                       </td></tr>\n",
       "</tbody>\n",
       "</table>\n"
      ],
      "text/latex": [
       "\\begin{tabular}{r|lllllllllllllllllllllllllllllllllllllllllllllllllllllll}\n",
       " legacyId & parentId & qubitParentSlug & identifier & accessionNumber & title & levelOfDescription & extentAndMedium & repository & archivalHistory & ⋯ & physicalObjectType & alternativeIdentifiers & alternativeIdentifierLabels & eventDates & eventTypes & eventStartDates & eventEndDates & eventActors & eventActorHistories & culture\\\\\n",
       "\\hline\n",
       "\t 1                                                                                                                                                                   & NA                                                                                                                                                                  & NA                                                                                                                                                                  & F1                                                                                                                                                                  & NA                                                                                                                                                                  & Example fonds                                                                                                                                                       & Fonds                                                                                                                                                               & Example fonds Extent and medium (ISAD 3.1.5)                                                                                                                        & Example Repository                                                                                                                                                  & Example fonds Archival history (ISAD 3.2.3)                                                                                                                         & ⋯                                                                                                                                                                   & Shelf                                                                                                                                                               & ALT-ID1\\textbar{}ALT-ID2                                                                                                                                           & Alternate identifier label 1\\textbar{}Alternative identifer label 2                                                                                                & January 1, 2015 - December 31, 2016\\textbar{}2016                                                                                                                  & Creation\\textbar{}Accumulation                                                                                                                                     & 2015-01-01\\textbar{}2016-00-00                                                                                                                                     & 2016-12-31\\textbar{}2016-00-00                                                                                                                                     & Creator (ISAD 3.2.1)\\textbar{}Accumulator (ISAD 3.2.1)                                                                                                             & Example fonds Creator history (ISAD 3.2.2). Note that this will be added to the related authority record for Creator (ISAD 3.2.1).\\textbar{}History of Accumulator & en                                                                                                                                                                 \\\\\n",
       "\t 2                                                                                                                                                         &  1                                                                                                                                                        & NA                                                                                                                                                        & IT-1                                                                                                                                                      & NA                                                                                                                                                        & Example Item                                                                                                                                              & Item                                                                                                                                                      & Example item Extent and medium                                                                                                                            & Example Repository                                                                                                                                        & Example item Archival history                                                                                                                             & ⋯                                                                                                                                                         & Box                                                                                                                                                       & ALT-ID3\\textbar{}ALT-ID4                                                                                                                                 & Alternate identifier label 3\\textbar{}Alternative identifer label 4                                                                                      & January 2015 - December 2016                                                                                                                              & Creation                                                                                                                                                  & 2015-01-01                                                                                                                                                & 2016-12-31                                                                                                                                                & NULL                                                                                                                                                      & NULL                                                                                                                                                      & en                                                                                                                                                       \\\\\n",
       "\\end{tabular}\n"
      ],
      "text/markdown": [
       "\n",
       "legacyId | parentId | qubitParentSlug | identifier | accessionNumber | title | levelOfDescription | extentAndMedium | repository | archivalHistory | ⋯ | physicalObjectType | alternativeIdentifiers | alternativeIdentifierLabels | eventDates | eventTypes | eventStartDates | eventEndDates | eventActors | eventActorHistories | culture | \n",
       "|---|---|\n",
       "| 1                                                                                                                                                         | NA                                                                                                                                                        | NA                                                                                                                                                        | F1                                                                                                                                                        | NA                                                                                                                                                        | Example fonds                                                                                                                                             | Fonds                                                                                                                                                     | Example fonds Extent and medium (ISAD 3.1.5)                                                                                                              | Example Repository                                                                                                                                        | Example fonds Archival history (ISAD 3.2.3)                                                                                                               | ⋯                                                                                                                                                         | Shelf                                                                                                                                                     | ALT-ID1|ALT-ID2                                                                                                                                           | Alternate identifier label 1|Alternative identifer label 2                                                                                                | January 1, 2015 - December 31, 2016|2016                                                                                                                  | Creation|Accumulation                                                                                                                                     | 2015-01-01|2016-00-00                                                                                                                                     | 2016-12-31|2016-00-00                                                                                                                                     | Creator (ISAD 3.2.1)|Accumulator (ISAD 3.2.1)                                                                                                             | Example fonds Creator history (ISAD 3.2.2). Note that this will be added to the related authority record for Creator (ISAD 3.2.1).|History of Accumulator | en                                                                                                                                                        | \n",
       "| 2                                                                                                                                                         |  1                                                                                                                                                        | NA                                                                                                                                                        | IT-1                                                                                                                                                      | NA                                                                                                                                                        | Example Item                                                                                                                                              | Item                                                                                                                                                      | Example item Extent and medium                                                                                                                            | Example Repository                                                                                                                                        | Example item Archival history                                                                                                                             | ⋯                                                                                                                                                         | Box                                                                                                                                                       | ALT-ID3|ALT-ID4                                                                                                                                           | Alternate identifier label 3|Alternative identifer label 4                                                                                                | January 2015 - December 2016                                                                                                                              | Creation                                                                                                                                                  | 2015-01-01                                                                                                                                                | 2016-12-31                                                                                                                                                | NULL                                                                                                                                                      | NULL                                                                                                                                                      | en                                                                                                                                                        | \n",
       "\n",
       "\n"
      ],
      "text/plain": [
       "  legacyId parentId qubitParentSlug identifier accessionNumber title        \n",
       "1 1        NA       NA              F1         NA              Example fonds\n",
       "2 2         1       NA              IT-1       NA              Example Item \n",
       "  levelOfDescription extentAndMedium                             \n",
       "1 Fonds              Example fonds Extent and medium (ISAD 3.1.5)\n",
       "2 Item               Example item Extent and medium              \n",
       "  repository         archivalHistory                             ⋯\n",
       "1 Example Repository Example fonds Archival history (ISAD 3.2.3) ⋯\n",
       "2 Example Repository Example item Archival history               ⋯\n",
       "  physicalObjectType alternativeIdentifiers\n",
       "1 Shelf              ALT-ID1|ALT-ID2       \n",
       "2 Box                ALT-ID3|ALT-ID4       \n",
       "  alternativeIdentifierLabels                               \n",
       "1 Alternate identifier label 1|Alternative identifer label 2\n",
       "2 Alternate identifier label 3|Alternative identifer label 4\n",
       "  eventDates                               eventTypes           \n",
       "1 January 1, 2015 - December 31, 2016|2016 Creation|Accumulation\n",
       "2 January 2015 - December 2016             Creation             \n",
       "  eventStartDates       eventEndDates        \n",
       "1 2015-01-01|2016-00-00 2016-12-31|2016-00-00\n",
       "2 2015-01-01            2016-12-31           \n",
       "  eventActors                                  \n",
       "1 Creator (ISAD 3.2.1)|Accumulator (ISAD 3.2.1)\n",
       "2 NULL                                         \n",
       "  eventActorHistories                                                                                                                                      \n",
       "1 Example fonds Creator history (ISAD 3.2.2). Note that this will be added to the related authority record for Creator (ISAD 3.2.1).|History of Accumulator\n",
       "2 NULL                                                                                                                                                     \n",
       "  culture\n",
       "1 en     \n",
       "2 en     "
      ]
     },
     "metadata": {},
     "output_type": "display_data"
    }
   ],
   "source": [
    "head(isadgdata)"
   ]
  },
  {
   "cell_type": "code",
   "execution_count": 5,
   "metadata": {},
   "outputs": [
    {
     "data": {
      "text/html": [
       "<ol class=list-inline>\n",
       "\t<li>2</li>\n",
       "\t<li>55</li>\n",
       "</ol>\n"
      ],
      "text/latex": [
       "\\begin{enumerate*}\n",
       "\\item 2\n",
       "\\item 55\n",
       "\\end{enumerate*}\n"
      ],
      "text/markdown": [
       "1. 2\n",
       "2. 55\n",
       "\n",
       "\n"
      ],
      "text/plain": [
       "[1]  2 55"
      ]
     },
     "metadata": {},
     "output_type": "display_data"
    }
   ],
   "source": [
    "dim(isadgdata)"
   ]
  },
  {
   "cell_type": "code",
   "execution_count": 45,
   "metadata": {},
   "outputs": [
    {
     "data": {
      "text/html": [
       "<ol class=list-inline>\n",
       "\t<li>'legacyId'</li>\n",
       "\t<li>'parentId'</li>\n",
       "\t<li>'qubitParentSlug'</li>\n",
       "\t<li>'identifier'</li>\n",
       "\t<li>'accessionNumber'</li>\n",
       "\t<li>'title'</li>\n",
       "\t<li>'levelOfDescription'</li>\n",
       "\t<li>'extentAndMedium'</li>\n",
       "\t<li>'repository'</li>\n",
       "\t<li>'archivalHistory'</li>\n",
       "\t<li>'acquisition'</li>\n",
       "\t<li>'scopeAndContent'</li>\n",
       "\t<li>'appraisal'</li>\n",
       "\t<li>'accruals'</li>\n",
       "\t<li>'arrangement'</li>\n",
       "\t<li>'accessConditions'</li>\n",
       "\t<li>'reproductionConditions'</li>\n",
       "\t<li>'language'</li>\n",
       "\t<li>'script'</li>\n",
       "\t<li>'languageNote'</li>\n",
       "\t<li>'physicalCharacteristics'</li>\n",
       "\t<li>'findingAids'</li>\n",
       "\t<li>'locationOfOriginals'</li>\n",
       "\t<li>'locationOfCopies'</li>\n",
       "\t<li>'relatedUnitsOfDescription'</li>\n",
       "\t<li>'publicationNote'</li>\n",
       "\t<li>'digitalObjectURI'</li>\n",
       "\t<li>'generalNote'</li>\n",
       "\t<li>'subjectAccessPoints'</li>\n",
       "\t<li>'placeAccessPoints'</li>\n",
       "\t<li>'nameAccessPoints'</li>\n",
       "\t<li>'genreAccessPoints'</li>\n",
       "\t<li>'descriptionIdentifier'</li>\n",
       "\t<li>'institutionIdentifier'</li>\n",
       "\t<li>'rules'</li>\n",
       "\t<li>'descriptionStatus'</li>\n",
       "\t<li>'levelOfDetail'</li>\n",
       "\t<li>'revisionHistory'</li>\n",
       "\t<li>'languageOfDescription'</li>\n",
       "\t<li>'scriptOfDescription'</li>\n",
       "\t<li>'sources'</li>\n",
       "\t<li>'archivistNote'</li>\n",
       "\t<li>'publicationStatus'</li>\n",
       "\t<li>'physicalObjectName'</li>\n",
       "\t<li>'physicalObjectLocation'</li>\n",
       "\t<li>'physicalObjectType'</li>\n",
       "\t<li>'alternativeIdentifiers'</li>\n",
       "\t<li>'alternativeIdentifierLabels'</li>\n",
       "\t<li>'eventDates'</li>\n",
       "\t<li>'eventTypes'</li>\n",
       "\t<li>'eventStartDates'</li>\n",
       "\t<li>'eventEndDates'</li>\n",
       "\t<li>'eventActors'</li>\n",
       "\t<li>'eventActorHistories'</li>\n",
       "\t<li>'culture'</li>\n",
       "</ol>\n"
      ],
      "text/latex": [
       "\\begin{enumerate*}\n",
       "\\item 'legacyId'\n",
       "\\item 'parentId'\n",
       "\\item 'qubitParentSlug'\n",
       "\\item 'identifier'\n",
       "\\item 'accessionNumber'\n",
       "\\item 'title'\n",
       "\\item 'levelOfDescription'\n",
       "\\item 'extentAndMedium'\n",
       "\\item 'repository'\n",
       "\\item 'archivalHistory'\n",
       "\\item 'acquisition'\n",
       "\\item 'scopeAndContent'\n",
       "\\item 'appraisal'\n",
       "\\item 'accruals'\n",
       "\\item 'arrangement'\n",
       "\\item 'accessConditions'\n",
       "\\item 'reproductionConditions'\n",
       "\\item 'language'\n",
       "\\item 'script'\n",
       "\\item 'languageNote'\n",
       "\\item 'physicalCharacteristics'\n",
       "\\item 'findingAids'\n",
       "\\item 'locationOfOriginals'\n",
       "\\item 'locationOfCopies'\n",
       "\\item 'relatedUnitsOfDescription'\n",
       "\\item 'publicationNote'\n",
       "\\item 'digitalObjectURI'\n",
       "\\item 'generalNote'\n",
       "\\item 'subjectAccessPoints'\n",
       "\\item 'placeAccessPoints'\n",
       "\\item 'nameAccessPoints'\n",
       "\\item 'genreAccessPoints'\n",
       "\\item 'descriptionIdentifier'\n",
       "\\item 'institutionIdentifier'\n",
       "\\item 'rules'\n",
       "\\item 'descriptionStatus'\n",
       "\\item 'levelOfDetail'\n",
       "\\item 'revisionHistory'\n",
       "\\item 'languageOfDescription'\n",
       "\\item 'scriptOfDescription'\n",
       "\\item 'sources'\n",
       "\\item 'archivistNote'\n",
       "\\item 'publicationStatus'\n",
       "\\item 'physicalObjectName'\n",
       "\\item 'physicalObjectLocation'\n",
       "\\item 'physicalObjectType'\n",
       "\\item 'alternativeIdentifiers'\n",
       "\\item 'alternativeIdentifierLabels'\n",
       "\\item 'eventDates'\n",
       "\\item 'eventTypes'\n",
       "\\item 'eventStartDates'\n",
       "\\item 'eventEndDates'\n",
       "\\item 'eventActors'\n",
       "\\item 'eventActorHistories'\n",
       "\\item 'culture'\n",
       "\\end{enumerate*}\n"
      ],
      "text/markdown": [
       "1. 'legacyId'\n",
       "2. 'parentId'\n",
       "3. 'qubitParentSlug'\n",
       "4. 'identifier'\n",
       "5. 'accessionNumber'\n",
       "6. 'title'\n",
       "7. 'levelOfDescription'\n",
       "8. 'extentAndMedium'\n",
       "9. 'repository'\n",
       "10. 'archivalHistory'\n",
       "11. 'acquisition'\n",
       "12. 'scopeAndContent'\n",
       "13. 'appraisal'\n",
       "14. 'accruals'\n",
       "15. 'arrangement'\n",
       "16. 'accessConditions'\n",
       "17. 'reproductionConditions'\n",
       "18. 'language'\n",
       "19. 'script'\n",
       "20. 'languageNote'\n",
       "21. 'physicalCharacteristics'\n",
       "22. 'findingAids'\n",
       "23. 'locationOfOriginals'\n",
       "24. 'locationOfCopies'\n",
       "25. 'relatedUnitsOfDescription'\n",
       "26. 'publicationNote'\n",
       "27. 'digitalObjectURI'\n",
       "28. 'generalNote'\n",
       "29. 'subjectAccessPoints'\n",
       "30. 'placeAccessPoints'\n",
       "31. 'nameAccessPoints'\n",
       "32. 'genreAccessPoints'\n",
       "33. 'descriptionIdentifier'\n",
       "34. 'institutionIdentifier'\n",
       "35. 'rules'\n",
       "36. 'descriptionStatus'\n",
       "37. 'levelOfDetail'\n",
       "38. 'revisionHistory'\n",
       "39. 'languageOfDescription'\n",
       "40. 'scriptOfDescription'\n",
       "41. 'sources'\n",
       "42. 'archivistNote'\n",
       "43. 'publicationStatus'\n",
       "44. 'physicalObjectName'\n",
       "45. 'physicalObjectLocation'\n",
       "46. 'physicalObjectType'\n",
       "47. 'alternativeIdentifiers'\n",
       "48. 'alternativeIdentifierLabels'\n",
       "49. 'eventDates'\n",
       "50. 'eventTypes'\n",
       "51. 'eventStartDates'\n",
       "52. 'eventEndDates'\n",
       "53. 'eventActors'\n",
       "54. 'eventActorHistories'\n",
       "55. 'culture'\n",
       "\n",
       "\n"
      ],
      "text/plain": [
       " [1] \"legacyId\"                    \"parentId\"                   \n",
       " [3] \"qubitParentSlug\"             \"identifier\"                 \n",
       " [5] \"accessionNumber\"             \"title\"                      \n",
       " [7] \"levelOfDescription\"          \"extentAndMedium\"            \n",
       " [9] \"repository\"                  \"archivalHistory\"            \n",
       "[11] \"acquisition\"                 \"scopeAndContent\"            \n",
       "[13] \"appraisal\"                   \"accruals\"                   \n",
       "[15] \"arrangement\"                 \"accessConditions\"           \n",
       "[17] \"reproductionConditions\"      \"language\"                   \n",
       "[19] \"script\"                      \"languageNote\"               \n",
       "[21] \"physicalCharacteristics\"     \"findingAids\"                \n",
       "[23] \"locationOfOriginals\"         \"locationOfCopies\"           \n",
       "[25] \"relatedUnitsOfDescription\"   \"publicationNote\"            \n",
       "[27] \"digitalObjectURI\"            \"generalNote\"                \n",
       "[29] \"subjectAccessPoints\"         \"placeAccessPoints\"          \n",
       "[31] \"nameAccessPoints\"            \"genreAccessPoints\"          \n",
       "[33] \"descriptionIdentifier\"       \"institutionIdentifier\"      \n",
       "[35] \"rules\"                       \"descriptionStatus\"          \n",
       "[37] \"levelOfDetail\"               \"revisionHistory\"            \n",
       "[39] \"languageOfDescription\"       \"scriptOfDescription\"        \n",
       "[41] \"sources\"                     \"archivistNote\"              \n",
       "[43] \"publicationStatus\"           \"physicalObjectName\"         \n",
       "[45] \"physicalObjectLocation\"      \"physicalObjectType\"         \n",
       "[47] \"alternativeIdentifiers\"      \"alternativeIdentifierLabels\"\n",
       "[49] \"eventDates\"                  \"eventTypes\"                 \n",
       "[51] \"eventStartDates\"             \"eventEndDates\"              \n",
       "[53] \"eventActors\"                 \"eventActorHistories\"        \n",
       "[55] \"culture\"                    "
      ]
     },
     "metadata": {},
     "output_type": "display_data"
    }
   ],
   "source": [
    "names(isadgdata)"
   ]
  },
  {
   "cell_type": "markdown",
   "metadata": {},
   "source": [
    "## Leeds-GATE element set - JSON construction<a class=\"anchor\" id=\"Leeds-GATE element set - JSON construction\"></a>\n",
    "\n",
    "This section constructs a data frame from a json rendering of the Leeds-GATE element set."
   ]
  },
  {
   "cell_type": "code",
   "execution_count": 41,
   "metadata": {
    "scrolled": true
   },
   "outputs": [
    {
     "data": {
      "text/html": [
       "<table>\n",
       "<thead><tr><th scope=col>GATE Title</th><th scope=col>GATE Name of Creator</th><th scope=col>GATE Dates of Creation</th><th scope=col>GATE Level of description</th><th scope=col>GATE Collection</th><th scope=col>GATE Sub-collection</th></tr></thead>\n",
       "<tbody>\n",
       "\t<tr><td>xxx</td><td>xxx</td><td>xxx</td><td>xxx</td><td>xxx</td><td>xxx</td></tr>\n",
       "</tbody>\n",
       "</table>\n"
      ],
      "text/latex": [
       "\\begin{tabular}{r|llllll}\n",
       " GATE Title & GATE Name of Creator & GATE Dates of Creation & GATE Level of description & GATE Collection & GATE Sub-collection\\\\\n",
       "\\hline\n",
       "\t xxx & xxx & xxx & xxx & xxx & xxx\\\\\n",
       "\\end{tabular}\n"
      ],
      "text/markdown": [
       "\n",
       "GATE Title | GATE Name of Creator | GATE Dates of Creation | GATE Level of description | GATE Collection | GATE Sub-collection | \n",
       "|---|\n",
       "| xxx | xxx | xxx | xxx | xxx | xxx | \n",
       "\n",
       "\n"
      ],
      "text/plain": [
       "  GATE Title GATE Name of Creator GATE Dates of Creation\n",
       "1 xxx        xxx                  xxx                   \n",
       "  GATE Level of description GATE Collection GATE Sub-collection\n",
       "1 xxx                       xxx             xxx                "
      ]
     },
     "metadata": {},
     "output_type": "display_data"
    }
   ],
   "source": [
    "json_file <- '[{\"GATE Title\":\"xxx\"\n",
    "                ,\"GATE Name of Creator\":\"xxx\"\n",
    "                ,\"GATE Dates of Creation\":\"xxx\"\n",
    "                ,\"GATE Level of description\":\"xxx\"\n",
    "                ,\"GATE Collection\":\"xxx\"\n",
    "                ,\"GATE Sub-collection\":\"xxx\"}]'\n",
    "\n",
    "library(jsonlite)\n",
    "fromJSON(json_file)\n",
    "\n",
    "#str(fromJSON(json_file))\n",
    "Leeds_GATE_element_set = fromJSON(json_file)"
   ]
  },
  {
   "cell_type": "code",
   "execution_count": 42,
   "metadata": {},
   "outputs": [
    {
     "name": "stdout",
     "output_type": "stream",
     "text": [
      "'data.frame':\t1 obs. of  6 variables:\n",
      " $ GATE Title               : chr \"xxx\"\n",
      " $ GATE Name of Creator     : chr \"xxx\"\n",
      " $ GATE Dates of Creation   : chr \"xxx\"\n",
      " $ GATE Level of description: chr \"xxx\"\n",
      " $ GATE Collection          : chr \"xxx\"\n",
      " $ GATE Sub-collection      : chr \"xxx\"\n"
     ]
    }
   ],
   "source": [
    "str(Leeds_GATE_element_set)"
   ]
  },
  {
   "cell_type": "code",
   "execution_count": 39,
   "metadata": {},
   "outputs": [
    {
     "data": {
      "text/html": [
       "<ol class=list-inline>\n",
       "\t<li>'GATE Title'</li>\n",
       "\t<li>'GATE Name of Creator'</li>\n",
       "\t<li>'GATE Dates of Creation'</li>\n",
       "\t<li>'GATE Level of description'</li>\n",
       "\t<li>'GATE Collection'</li>\n",
       "\t<li>'GATE Sub-collection'</li>\n",
       "</ol>\n"
      ],
      "text/latex": [
       "\\begin{enumerate*}\n",
       "\\item 'GATE Title'\n",
       "\\item 'GATE Name of Creator'\n",
       "\\item 'GATE Dates of Creation'\n",
       "\\item 'GATE Level of description'\n",
       "\\item 'GATE Collection'\n",
       "\\item 'GATE Sub-collection'\n",
       "\\end{enumerate*}\n"
      ],
      "text/markdown": [
       "1. 'GATE Title'\n",
       "2. 'GATE Name of Creator'\n",
       "3. 'GATE Dates of Creation'\n",
       "4. 'GATE Level of description'\n",
       "5. 'GATE Collection'\n",
       "6. 'GATE Sub-collection'\n",
       "\n",
       "\n"
      ],
      "text/plain": [
       "[1] \"GATE Title\"                \"GATE Name of Creator\"     \n",
       "[3] \"GATE Dates of Creation\"    \"GATE Level of description\"\n",
       "[5] \"GATE Collection\"           \"GATE Sub-collection\"      "
      ]
     },
     "metadata": {},
     "output_type": "display_data"
    }
   ],
   "source": [
    "names(Leeds_GATE_element_set)"
   ]
  },
  {
   "cell_type": "code",
   "execution_count": 43,
   "metadata": {},
   "outputs": [
    {
     "data": {
      "text/html": [
       "<ol class=list-inline>\n",
       "\t<li>1</li>\n",
       "\t<li>6</li>\n",
       "</ol>\n"
      ],
      "text/latex": [
       "\\begin{enumerate*}\n",
       "\\item 1\n",
       "\\item 6\n",
       "\\end{enumerate*}\n"
      ],
      "text/markdown": [
       "1. 1\n",
       "2. 6\n",
       "\n",
       "\n"
      ],
      "text/plain": [
       "[1] 1 6"
      ]
     },
     "metadata": {},
     "output_type": "display_data"
    }
   ],
   "source": [
    "dim(Leeds_GATE_element_set)"
   ]
  },
  {
   "cell_type": "markdown",
   "metadata": {},
   "source": [
    "## Leeds-GATE Items imported via LIVE JSON api<a class=\"anchor\" id=\"Leeds-GATE Items imported via LIVE JSON api\"></a>"
   ]
  },
  {
   "cell_type": "code",
   "execution_count": 72,
   "metadata": {},
   "outputs": [],
   "source": [
    "LeedsGATE_Items = rjson::fromJSON(file=\"https://www.leedsgateheritage.com/api/items\")"
   ]
  },
  {
   "cell_type": "code",
   "execution_count": 90,
   "metadata": {
    "scrolled": false
   },
   "outputs": [],
   "source": [
    "# LeedsGATE_Items"
   ]
  },
  {
   "cell_type": "code",
   "execution_count": 83,
   "metadata": {},
   "outputs": [
    {
     "data": {
      "text/html": [
       "24"
      ],
      "text/latex": [
       "24"
      ],
      "text/markdown": [
       "24"
      ],
      "text/plain": [
       "[1] 24"
      ]
     },
     "metadata": {},
     "output_type": "display_data"
    },
    {
     "data": {
      "text/html": [
       "'https://www.leedsgateheritage.com/api/items/24'"
      ],
      "text/latex": [
       "'https://www.leedsgateheritage.com/api/items/24'"
      ],
      "text/markdown": [
       "'https://www.leedsgateheritage.com/api/items/24'"
      ],
      "text/plain": [
       "[1] \"https://www.leedsgateheritage.com/api/items/24\""
      ]
     },
     "metadata": {},
     "output_type": "display_data"
    },
    {
     "data": {
      "text/html": [
       "TRUE"
      ],
      "text/latex": [
       "TRUE"
      ],
      "text/markdown": [
       "TRUE"
      ],
      "text/plain": [
       "[1] TRUE"
      ]
     },
     "metadata": {},
     "output_type": "display_data"
    }
   ],
   "source": [
    "LeedsGATE_Items[[1]]$id\n",
    "\n",
    "LeedsGATE_Items[[1]]$url\n",
    "\n",
    "LeedsGATE_Items[[1]]$featured"
   ]
  },
  {
   "cell_type": "code",
   "execution_count": 145,
   "metadata": {},
   "outputs": [
    {
     "name": "stdout",
     "output_type": "stream",
     "text": [
      " [1] \"id\"                 \"url\"                \"public\"            \n",
      " [4] \"featured\"           \"added\"              \"modified\"          \n",
      " [7] \"item_type\"          \"collection\"         \"owner\"             \n",
      "[10] \"files\"              \"tags\"               \"element_texts\"     \n",
      "[13] \"extended_resources\"\n"
     ]
    }
   ],
   "source": [
    "for (i in 1){\n",
    "     print(names(LeedsGATE_Items[[i]]))\n",
    "    top_level_json = names(LeedsGATE_Items[[i]])\n",
    "    }"
   ]
  },
  {
   "cell_type": "code",
   "execution_count": 146,
   "metadata": {},
   "outputs": [
    {
     "data": {
      "text/html": [
       "<ol class=list-inline>\n",
       "\t<li>'id'</li>\n",
       "\t<li>'url'</li>\n",
       "\t<li>'public'</li>\n",
       "\t<li>'featured'</li>\n",
       "\t<li>'added'</li>\n",
       "\t<li>'modified'</li>\n",
       "\t<li>'item_type'</li>\n",
       "\t<li>'collection'</li>\n",
       "\t<li>'owner'</li>\n",
       "\t<li>'files'</li>\n",
       "\t<li>'tags'</li>\n",
       "\t<li>'element_texts'</li>\n",
       "\t<li>'extended_resources'</li>\n",
       "</ol>\n"
      ],
      "text/latex": [
       "\\begin{enumerate*}\n",
       "\\item 'id'\n",
       "\\item 'url'\n",
       "\\item 'public'\n",
       "\\item 'featured'\n",
       "\\item 'added'\n",
       "\\item 'modified'\n",
       "\\item 'item\\_type'\n",
       "\\item 'collection'\n",
       "\\item 'owner'\n",
       "\\item 'files'\n",
       "\\item 'tags'\n",
       "\\item 'element\\_texts'\n",
       "\\item 'extended\\_resources'\n",
       "\\end{enumerate*}\n"
      ],
      "text/markdown": [
       "1. 'id'\n",
       "2. 'url'\n",
       "3. 'public'\n",
       "4. 'featured'\n",
       "5. 'added'\n",
       "6. 'modified'\n",
       "7. 'item_type'\n",
       "8. 'collection'\n",
       "9. 'owner'\n",
       "10. 'files'\n",
       "11. 'tags'\n",
       "12. 'element_texts'\n",
       "13. 'extended_resources'\n",
       "\n",
       "\n"
      ],
      "text/plain": [
       " [1] \"id\"                 \"url\"                \"public\"            \n",
       " [4] \"featured\"           \"added\"              \"modified\"          \n",
       " [7] \"item_type\"          \"collection\"         \"owner\"             \n",
       "[10] \"files\"              \"tags\"               \"element_texts\"     \n",
       "[13] \"extended_resources\""
      ]
     },
     "metadata": {},
     "output_type": "display_data"
    }
   ],
   "source": [
    "top_level_json"
   ]
  },
  {
   "cell_type": "code",
   "execution_count": 116,
   "metadata": {},
   "outputs": [
    {
     "name": "stdout",
     "output_type": "stream",
     "text": [
      "[1] \"GATE Reference code\"\n",
      "[1] \"GATE Title\"\n",
      "[1] \"GATE Name of Creator\"\n",
      "[1] \"GATE Dates of Creation\"\n",
      "[1] \"GATE Level of description\"\n",
      "[1] \"GATE Extent and medium of the unit of description\"\n",
      "[1] \"GATE Conditions governing access\"\n",
      "[1] \"GATE Conditions governing reproduction\"\n",
      "[1] \"GATE Language of material\"\n",
      "[1] \"GATE Description\"\n",
      "[1] \"GATE Date(s) of description\"\n",
      "[1] \"GATE Geographical area\"\n",
      "[1] \"GATE Immediate source of acquisition or transfer\"\n",
      "[1] \"GATE Current location\"\n",
      "[1] \"GATE Archivists note\"\n"
     ]
    }
   ],
   "source": [
    "#LeedsGATE_Items[[1]]$element_texts[[1]]$element$name\n",
    "#LeedsGATE_Items[[1]]$element_texts[[2]]$element$name\n",
    "\n",
    "for (i in 1:15){\n",
    "    print(LeedsGATE_Items[[1]]$element_texts[[i]]$element$name)\n",
    "       }"
   ]
  },
  {
   "cell_type": "code",
   "execution_count": 216,
   "metadata": {},
   "outputs": [
    {
     "name": "stdout",
     "output_type": "stream",
     "text": [
      "[1] \"GATE Level of description\"\n",
      "[1] \"Item\"\n",
      "[1] \"GATE Level of description\"\n",
      "[1] \"Item\"\n",
      "[1] \"GATE Level of description\"\n",
      "[1] \"Item\"\n",
      "[1] \"GATE Level of description\"\n",
      "[1] \"Item\"\n",
      "[1] \"GATE Level of description\"\n",
      "[1] \"Item\"\n",
      "[1] \"GATE Level of description\"\n",
      "[1] \"Item\"\n",
      "[1] \"GATE Level of description\"\n",
      "[1] \"Item\"\n",
      "[1] \"GATE Level of description\"\n",
      "[1] \"Item\"\n",
      "[1] \"GATE Level of description\"\n",
      "[1] \"Item\"\n",
      "[1] \"GATE Level of description\"\n",
      "[1] \"Item\"\n"
     ]
    }
   ],
   "source": [
    "for (i in 1:10){\n",
    "    print(LeedsGATE_Items[[i]]$element_texts[[5]]$element$name)\n",
    "     print(LeedsGATE_Items[[i]]$element_texts[[5]]$text)\n",
    "           }"
   ]
  },
  {
   "cell_type": "code",
   "execution_count": 219,
   "metadata": {},
   "outputs": [
    {
     "data": {
      "text/html": [
       "<table>\n",
       "<thead><tr><th scope=col>GATE_Reference_code</th><th scope=col>GATE_Title</th><th scope=col>GATE_Name_of_Creator</th><th scope=col>GATE_Dates_of_Creation</th><th scope=col>GATE_Level_of_description</th></tr></thead>\n",
       "<tbody>\n",
       "\t<tr><td>2016.1.5.0001A                                                </td><td>Ramlin Rose: The Boatwoman's Story                            </td><td>Sheila Stewart                                                </td><td>Published 1993                                                </td><td>Item                                                          </td></tr>\n",
       "\t<tr><td>2016.1.5.0001B                                                </td><td>Ramlin Rose: The Boatwoman's Story                            </td><td>Sheila Stewart                                                </td><td>Published 1993                                                </td><td>Item                                                          </td></tr>\n",
       "\t<tr><td>2016.1.5.0002A                                                </td><td>Still Waters                                                  </td><td>Pratima Mitchell                                              </td><td>Published 1994                                                </td><td>Item                                                          </td></tr>\n",
       "\t<tr><td>2016.1.5.0002B                                                </td><td>Still Waters                                                  </td><td>Pratima Mitchell                                              </td><td>Published 1994                                                </td><td>Item                                                          </td></tr>\n",
       "\t<tr><td>2016.1.5.0003                                                 </td><td>Walks from the Leeds-Liverpool Canal                          </td><td>Mary Welsh                                                    </td><td>Published 1996                                                </td><td>Item                                                          </td></tr>\n",
       "\t<tr><td>2016.1.5.0004                                                 </td><td>The Leeds and Liverpool and Lancaster Canals                  </td><td>British Waterways and North West Development                  </td><td>Date unknown; probably post-2000, as it includes web addresses</td><td>Item                                                          </td></tr>\n",
       "\t<tr><td>2016.1.5.0005                                                 </td><td>Canal Arts and Crafts                                         </td><td>Avril Lansdell                                                </td><td>Published 1997                                                </td><td>Item                                                          </td></tr>\n",
       "\t<tr><td>2016.1.5.0006                                                                                         </td><td><span style=white-space:pre-wrap>Canal Barges &amp; Narrow Boats                 </span>              </td><td><span style=white-space:pre-wrap>Peter L. Smith                               </span>                 </td><td><span style=white-space:pre-wrap>Published 1994                                                </span></td><td>Item                                                                                                  </td></tr>\n",
       "\t<tr><td>2016.1.5.0007                                                 </td><td>The Narrowboat Girl                                           </td><td>Annie Murray                                                  </td><td>Published 2001                                                </td><td>Item                                                          </td></tr>\n",
       "\t<tr><td>2016.1.5.0008                                                 </td><td>Water Gypsies                                                 </td><td>Annie Murray                                                  </td><td>Published 2004                                                </td><td>Item                                                          </td></tr>\n",
       "</tbody>\n",
       "</table>\n"
      ],
      "text/latex": [
       "\\begin{tabular}{r|lllll}\n",
       " GATE\\_Reference\\_code & GATE\\_Title & GATE\\_Name\\_of\\_Creator & GATE\\_Dates\\_of\\_Creation & GATE\\_Level\\_of\\_description\\\\\n",
       "\\hline\n",
       "\t 2016.1.5.0001A                                                 & Ramlin Rose: The Boatwoman's Story                             & Sheila Stewart                                                 & Published 1993                                                 & Item                                                          \\\\\n",
       "\t 2016.1.5.0001B                                                 & Ramlin Rose: The Boatwoman's Story                             & Sheila Stewart                                                 & Published 1993                                                 & Item                                                          \\\\\n",
       "\t 2016.1.5.0002A                                                 & Still Waters                                                   & Pratima Mitchell                                               & Published 1994                                                 & Item                                                          \\\\\n",
       "\t 2016.1.5.0002B                                                 & Still Waters                                                   & Pratima Mitchell                                               & Published 1994                                                 & Item                                                          \\\\\n",
       "\t 2016.1.5.0003                                                  & Walks from the Leeds-Liverpool Canal                           & Mary Welsh                                                     & Published 1996                                                 & Item                                                          \\\\\n",
       "\t 2016.1.5.0004                                                  & The Leeds and Liverpool and Lancaster Canals                   & British Waterways and North West Development                   & Date unknown; probably post-2000, as it includes web addresses & Item                                                          \\\\\n",
       "\t 2016.1.5.0005                                                  & Canal Arts and Crafts                                          & Avril Lansdell                                                 & Published 1997                                                 & Item                                                          \\\\\n",
       "\t 2016.1.5.0006                                                  & Canal Barges \\& Narrow Boats                                  & Peter L. Smith                                                 & Published 1994                                                 & Item                                                          \\\\\n",
       "\t 2016.1.5.0007                                                  & The Narrowboat Girl                                            & Annie Murray                                                   & Published 2001                                                 & Item                                                          \\\\\n",
       "\t 2016.1.5.0008                                                  & Water Gypsies                                                  & Annie Murray                                                   & Published 2004                                                 & Item                                                          \\\\\n",
       "\\end{tabular}\n"
      ],
      "text/markdown": [
       "\n",
       "GATE_Reference_code | GATE_Title | GATE_Name_of_Creator | GATE_Dates_of_Creation | GATE_Level_of_description | \n",
       "|---|---|---|---|---|---|---|---|---|---|\n",
       "| 2016.1.5.0001A                                                 | Ramlin Rose: The Boatwoman's Story                             | Sheila Stewart                                                 | Published 1993                                                 | Item                                                           | \n",
       "| 2016.1.5.0001B                                                 | Ramlin Rose: The Boatwoman's Story                             | Sheila Stewart                                                 | Published 1993                                                 | Item                                                           | \n",
       "| 2016.1.5.0002A                                                 | Still Waters                                                   | Pratima Mitchell                                               | Published 1994                                                 | Item                                                           | \n",
       "| 2016.1.5.0002B                                                 | Still Waters                                                   | Pratima Mitchell                                               | Published 1994                                                 | Item                                                           | \n",
       "| 2016.1.5.0003                                                  | Walks from the Leeds-Liverpool Canal                           | Mary Welsh                                                     | Published 1996                                                 | Item                                                           | \n",
       "| 2016.1.5.0004                                                  | The Leeds and Liverpool and Lancaster Canals                   | British Waterways and North West Development                   | Date unknown; probably post-2000, as it includes web addresses | Item                                                           | \n",
       "| 2016.1.5.0005                                                  | Canal Arts and Crafts                                          | Avril Lansdell                                                 | Published 1997                                                 | Item                                                           | \n",
       "| 2016.1.5.0006                                                  | Canal Barges & Narrow Boats                                    | Peter L. Smith                                                 | Published 1994                                                 | Item                                                           | \n",
       "| 2016.1.5.0007                                                  | The Narrowboat Girl                                            | Annie Murray                                                   | Published 2001                                                 | Item                                                           | \n",
       "| 2016.1.5.0008                                                  | Water Gypsies                                                  | Annie Murray                                                   | Published 2004                                                 | Item                                                           | \n",
       "\n",
       "\n"
      ],
      "text/plain": [
       "   GATE_Reference_code GATE_Title                                  \n",
       "1  2016.1.5.0001A      Ramlin Rose: The Boatwoman's Story          \n",
       "2  2016.1.5.0001B      Ramlin Rose: The Boatwoman's Story          \n",
       "3  2016.1.5.0002A      Still Waters                                \n",
       "4  2016.1.5.0002B      Still Waters                                \n",
       "5  2016.1.5.0003       Walks from the Leeds-Liverpool Canal        \n",
       "6  2016.1.5.0004       The Leeds and Liverpool and Lancaster Canals\n",
       "7  2016.1.5.0005       Canal Arts and Crafts                       \n",
       "8  2016.1.5.0006       Canal Barges & Narrow Boats                 \n",
       "9  2016.1.5.0007       The Narrowboat Girl                         \n",
       "10 2016.1.5.0008       Water Gypsies                               \n",
       "   GATE_Name_of_Creator                         \n",
       "1  Sheila Stewart                               \n",
       "2  Sheila Stewart                               \n",
       "3  Pratima Mitchell                             \n",
       "4  Pratima Mitchell                             \n",
       "5  Mary Welsh                                   \n",
       "6  British Waterways and North West Development \n",
       "7  Avril Lansdell                               \n",
       "8  Peter L. Smith                               \n",
       "9  Annie Murray                                 \n",
       "10 Annie Murray                                 \n",
       "   GATE_Dates_of_Creation                                        \n",
       "1  Published 1993                                                \n",
       "2  Published 1993                                                \n",
       "3  Published 1994                                                \n",
       "4  Published 1994                                                \n",
       "5  Published 1996                                                \n",
       "6  Date unknown; probably post-2000, as it includes web addresses\n",
       "7  Published 1997                                                \n",
       "8  Published 1994                                                \n",
       "9  Published 2001                                                \n",
       "10 Published 2004                                                \n",
       "   GATE_Level_of_description\n",
       "1  Item                     \n",
       "2  Item                     \n",
       "3  Item                     \n",
       "4  Item                     \n",
       "5  Item                     \n",
       "6  Item                     \n",
       "7  Item                     \n",
       "8  Item                     \n",
       "9  Item                     \n",
       "10 Item                     "
      ]
     },
     "metadata": {},
     "output_type": "display_data"
    }
   ],
   "source": [
    "item_record <- data.frame( \"GATE_Reference_code\" = character(), \"GATE_Title\" = character(), \"GATE_Name_of_Creator\" = character(), \"GATE_Dates_of_Creation\" = character(),\"GATE_Level_of_description\" = character(),stringsAsFactors=FALSE)\n",
    "\n",
    "for (i in 1:10){\n",
    "    item_record[nrow(item_record) + 1, ] <- c( (LeedsGATE_Items[[i]]$element_texts[[1]]$text), (LeedsGATE_Items[[i]]$element_texts[[2]]$text), (LeedsGATE_Items[[i]]$element_texts[[3]]$text), (LeedsGATE_Items[[i]]$element_texts[[4]]$text), (LeedsGATE_Items[[i]]$element_texts[[5]]$text))\n",
    "}\n",
    "\n",
    "item_record"
   ]
  },
  {
   "cell_type": "code",
   "execution_count": 215,
   "metadata": {},
   "outputs": [
    {
     "data": {
      "text/html": [
       "<ol class=list-inline>\n",
       "\t<li>'GATE_Reference_code'</li>\n",
       "\t<li>'GATE_Title'</li>\n",
       "\t<li>'GATE_Name_of_Creator'</li>\n",
       "\t<li>'GATE_Dates_of_Creation'</li>\n",
       "</ol>\n"
      ],
      "text/latex": [
       "\\begin{enumerate*}\n",
       "\\item 'GATE\\_Reference\\_code'\n",
       "\\item 'GATE\\_Title'\n",
       "\\item 'GATE\\_Name\\_of\\_Creator'\n",
       "\\item 'GATE\\_Dates\\_of\\_Creation'\n",
       "\\end{enumerate*}\n"
      ],
      "text/markdown": [
       "1. 'GATE_Reference_code'\n",
       "2. 'GATE_Title'\n",
       "3. 'GATE_Name_of_Creator'\n",
       "4. 'GATE_Dates_of_Creation'\n",
       "\n",
       "\n"
      ],
      "text/plain": [
       "[1] \"GATE_Reference_code\"    \"GATE_Title\"             \"GATE_Name_of_Creator\"  \n",
       "[4] \"GATE_Dates_of_Creation\""
      ]
     },
     "metadata": {},
     "output_type": "display_data"
    },
    {
     "data": {
      "text/html": [
       "<ol class=list-inline>\n",
       "\t<li>10</li>\n",
       "\t<li>4</li>\n",
       "</ol>\n"
      ],
      "text/latex": [
       "\\begin{enumerate*}\n",
       "\\item 10\n",
       "\\item 4\n",
       "\\end{enumerate*}\n"
      ],
      "text/markdown": [
       "1. 10\n",
       "2. 4\n",
       "\n",
       "\n"
      ],
      "text/plain": [
       "[1] 10  4"
      ]
     },
     "metadata": {},
     "output_type": "display_data"
    },
    {
     "name": "stdout",
     "output_type": "stream",
     "text": [
      "'data.frame':\t10 obs. of  4 variables:\n",
      " $ GATE_Reference_code   : chr  \"2016.1.5.0001A\" \"2016.1.5.0001B\" \"2016.1.5.0002A\" \"2016.1.5.0002B\" ...\n",
      " $ GATE_Title            : chr  \"Ramlin Rose: The Boatwoman's Story\" \"Ramlin Rose: The Boatwoman's Story\" \"Still Waters\" \"Still Waters\" ...\n",
      " $ GATE_Name_of_Creator  : chr  \"Sheila Stewart\" \"Sheila Stewart\" \"Pratima Mitchell\" \"Pratima Mitchell\" ...\n",
      " $ GATE_Dates_of_Creation: chr  \"Published 1993\" \"Published 1993\" \"Published 1994\" \"Published 1994\" ...\n"
     ]
    }
   ],
   "source": [
    "names (item_record)\n",
    "dim (item_record)\n",
    "str (item_record)"
   ]
  },
  {
   "cell_type": "code",
   "execution_count": null,
   "metadata": {},
   "outputs": [],
   "source": []
  }
 ],
 "metadata": {
  "kernelspec": {
   "display_name": "R",
   "language": "R",
   "name": "ir"
  },
  "language_info": {
   "codemirror_mode": "r",
   "file_extension": ".r",
   "mimetype": "text/x-r-source",
   "name": "R",
   "pygments_lexer": "r",
   "version": "3.3.2"
  }
 },
 "nbformat": 4,
 "nbformat_minor": 2
}
