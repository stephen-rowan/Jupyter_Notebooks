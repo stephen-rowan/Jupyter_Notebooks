{
 "cells": [
  {
   "cell_type": "markdown",
   "metadata": {},
   "source": [
    "# ISAD-G Data analysis\n",
    "\n",
    "## Table of Contents\n",
    "\n",
    "\n",
    "1. [Access to Memory (ATOM) ISAD-G Data entry template](#Access to Memory ISAD-G Data entry template)\n",
    "2. [ISAD-G](#ISAD-G)"
   ]
  },
  {
   "cell_type": "markdown",
   "metadata": {},
   "source": [
    "## Access to Memory (ATOM) ISAD-G Data entry template <a class=\"anchor\" id=\"Access to Memory ISAD-G Data entry template\"></a>\n",
    "\n",
    "https://www.accesstomemory.org/en/docs/2.3/user-manual/data-templates/isad-template/"
   ]
  },
  {
   "cell_type": "code",
   "execution_count": 1,
   "metadata": {},
   "outputs": [],
   "source": [
    "isadgdata <- download.file(\"https://raw.githubusercontent.com/stephen-rowan/Jupyter_Notebooks/master/ISAD-G/information_objects_isad-2.3.csv\", \"isad-g-data.csv\", method = \"curl\")"
   ]
  },
  {
   "cell_type": "code",
   "execution_count": 2,
   "metadata": {},
   "outputs": [],
   "source": [
    "isadgdata <- read.csv(file=\"isad-g-data.csv\", header=TRUE, sep=\",\")"
   ]
  },
  {
   "cell_type": "code",
   "execution_count": 3,
   "metadata": {},
   "outputs": [
    {
     "data": {
      "text/html": [
       "<table>\n",
       "<thead><tr><th scope=col>legacyId</th><th scope=col>parentId</th><th scope=col>qubitParentSlug</th><th scope=col>identifier</th><th scope=col>accessionNumber</th><th scope=col>title</th><th scope=col>levelOfDescription</th><th scope=col>extentAndMedium</th><th scope=col>repository</th><th scope=col>archivalHistory</th><th scope=col>⋯</th><th scope=col>physicalObjectType</th><th scope=col>alternativeIdentifiers</th><th scope=col>alternativeIdentifierLabels</th><th scope=col>eventDates</th><th scope=col>eventTypes</th><th scope=col>eventStartDates</th><th scope=col>eventEndDates</th><th scope=col>eventActors</th><th scope=col>eventActorHistories</th><th scope=col>culture</th></tr></thead>\n",
       "<tbody>\n",
       "\t<tr><td>1                                                                                                                                                        </td><td>NA                                                                                                                                                       </td><td>NA                                                                                                                                                       </td><td>F1                                                                                                                                                       </td><td>NA                                                                                                                                                       </td><td>Example fonds                                                                                                                                            </td><td>Fonds                                                                                                                                                    </td><td>Example fonds Extent and medium (ISAD 3.1.5)                                                                                                             </td><td>Example Repository                                                                                                                                       </td><td>Example fonds Archival history (ISAD 3.2.3)                                                                                                              </td><td>⋯                                                                                                                                                        </td><td>Shelf                                                                                                                                                    </td><td>ALT-ID1|ALT-ID2                                                                                                                                          </td><td>Alternate identifier label 1|Alternative identifer label 2                                                                                               </td><td>January 1, 2015 - December 31, 2016|2016                                                                                                                 </td><td>Creation|Accumulation                                                                                                                                    </td><td>2015-01-01|2016-00-00                                                                                                                                    </td><td>2016-12-31|2016-00-00                                                                                                                                    </td><td>Creator (ISAD 3.2.1)|Accumulator (ISAD 3.2.1)                                                                                                            </td><td>Example fonds Creator history (ISAD 3.2.2). Note that this will be added to the related authority record for Creator (ISAD 3.2.1).|History of Accumulator</td><td>en                                                                                                                                                       </td></tr>\n",
       "\t<tr><td>2                                                                                                                                                        </td><td> 1                                                                                                                                                       </td><td>NA                                                                                                                                                       </td><td>IT-1                                                                                                                                                     </td><td>NA                                                                                                                                                       </td><td>Example Item                                                                                                                                             </td><td>Item                                                                                                                                                     </td><td>Example item Extent and medium                                                                                                                           </td><td>Example Repository                                                                                                                                       </td><td>Example item Archival history                                                                                                                            </td><td>⋯                                                                                                                                                        </td><td>Box                                                                                                                                                      </td><td>ALT-ID3|ALT-ID4                                                                                                                                          </td><td>Alternate identifier label 3|Alternative identifer label 4                                                                                               </td><td>January 2015 - December 2016                                                                                                                             </td><td>Creation                                                                                                                                                 </td><td>2015-01-01                                                                                                                                               </td><td>2016-12-31                                                                                                                                               </td><td>NULL                                                                                                                                                     </td><td>NULL                                                                                                                                                     </td><td>en                                                                                                                                                       </td></tr>\n",
       "</tbody>\n",
       "</table>\n"
      ],
      "text/latex": [
       "\\begin{tabular}{r|lllllllllllllllllllllllllllllllllllllllllllllllllllllll}\n",
       " legacyId & parentId & qubitParentSlug & identifier & accessionNumber & title & levelOfDescription & extentAndMedium & repository & archivalHistory & ⋯ & physicalObjectType & alternativeIdentifiers & alternativeIdentifierLabels & eventDates & eventTypes & eventStartDates & eventEndDates & eventActors & eventActorHistories & culture\\\\\n",
       "\\hline\n",
       "\t 1                                                                                                                                                                   & NA                                                                                                                                                                  & NA                                                                                                                                                                  & F1                                                                                                                                                                  & NA                                                                                                                                                                  & Example fonds                                                                                                                                                       & Fonds                                                                                                                                                               & Example fonds Extent and medium (ISAD 3.1.5)                                                                                                                        & Example Repository                                                                                                                                                  & Example fonds Archival history (ISAD 3.2.3)                                                                                                                         & ⋯                                                                                                                                                                   & Shelf                                                                                                                                                               & ALT-ID1\\textbar{}ALT-ID2                                                                                                                                           & Alternate identifier label 1\\textbar{}Alternative identifer label 2                                                                                                & January 1, 2015 - December 31, 2016\\textbar{}2016                                                                                                                  & Creation\\textbar{}Accumulation                                                                                                                                     & 2015-01-01\\textbar{}2016-00-00                                                                                                                                     & 2016-12-31\\textbar{}2016-00-00                                                                                                                                     & Creator (ISAD 3.2.1)\\textbar{}Accumulator (ISAD 3.2.1)                                                                                                             & Example fonds Creator history (ISAD 3.2.2). Note that this will be added to the related authority record for Creator (ISAD 3.2.1).\\textbar{}History of Accumulator & en                                                                                                                                                                 \\\\\n",
       "\t 2                                                                                                                                                         &  1                                                                                                                                                        & NA                                                                                                                                                        & IT-1                                                                                                                                                      & NA                                                                                                                                                        & Example Item                                                                                                                                              & Item                                                                                                                                                      & Example item Extent and medium                                                                                                                            & Example Repository                                                                                                                                        & Example item Archival history                                                                                                                             & ⋯                                                                                                                                                         & Box                                                                                                                                                       & ALT-ID3\\textbar{}ALT-ID4                                                                                                                                 & Alternate identifier label 3\\textbar{}Alternative identifer label 4                                                                                      & January 2015 - December 2016                                                                                                                              & Creation                                                                                                                                                  & 2015-01-01                                                                                                                                                & 2016-12-31                                                                                                                                                & NULL                                                                                                                                                      & NULL                                                                                                                                                      & en                                                                                                                                                       \\\\\n",
       "\\end{tabular}\n"
      ],
      "text/markdown": [
       "\n",
       "legacyId | parentId | qubitParentSlug | identifier | accessionNumber | title | levelOfDescription | extentAndMedium | repository | archivalHistory | ⋯ | physicalObjectType | alternativeIdentifiers | alternativeIdentifierLabels | eventDates | eventTypes | eventStartDates | eventEndDates | eventActors | eventActorHistories | culture | \n",
       "|---|---|\n",
       "| 1                                                                                                                                                         | NA                                                                                                                                                        | NA                                                                                                                                                        | F1                                                                                                                                                        | NA                                                                                                                                                        | Example fonds                                                                                                                                             | Fonds                                                                                                                                                     | Example fonds Extent and medium (ISAD 3.1.5)                                                                                                              | Example Repository                                                                                                                                        | Example fonds Archival history (ISAD 3.2.3)                                                                                                               | ⋯                                                                                                                                                         | Shelf                                                                                                                                                     | ALT-ID1|ALT-ID2                                                                                                                                           | Alternate identifier label 1|Alternative identifer label 2                                                                                                | January 1, 2015 - December 31, 2016|2016                                                                                                                  | Creation|Accumulation                                                                                                                                     | 2015-01-01|2016-00-00                                                                                                                                     | 2016-12-31|2016-00-00                                                                                                                                     | Creator (ISAD 3.2.1)|Accumulator (ISAD 3.2.1)                                                                                                             | Example fonds Creator history (ISAD 3.2.2). Note that this will be added to the related authority record for Creator (ISAD 3.2.1).|History of Accumulator | en                                                                                                                                                        | \n",
       "| 2                                                                                                                                                         |  1                                                                                                                                                        | NA                                                                                                                                                        | IT-1                                                                                                                                                      | NA                                                                                                                                                        | Example Item                                                                                                                                              | Item                                                                                                                                                      | Example item Extent and medium                                                                                                                            | Example Repository                                                                                                                                        | Example item Archival history                                                                                                                             | ⋯                                                                                                                                                         | Box                                                                                                                                                       | ALT-ID3|ALT-ID4                                                                                                                                           | Alternate identifier label 3|Alternative identifer label 4                                                                                                | January 2015 - December 2016                                                                                                                              | Creation                                                                                                                                                  | 2015-01-01                                                                                                                                                | 2016-12-31                                                                                                                                                | NULL                                                                                                                                                      | NULL                                                                                                                                                      | en                                                                                                                                                        | \n",
       "\n",
       "\n"
      ],
      "text/plain": [
       "  legacyId parentId qubitParentSlug identifier accessionNumber title        \n",
       "1 1        NA       NA              F1         NA              Example fonds\n",
       "2 2         1       NA              IT-1       NA              Example Item \n",
       "  levelOfDescription extentAndMedium                             \n",
       "1 Fonds              Example fonds Extent and medium (ISAD 3.1.5)\n",
       "2 Item               Example item Extent and medium              \n",
       "  repository         archivalHistory                             ⋯\n",
       "1 Example Repository Example fonds Archival history (ISAD 3.2.3) ⋯\n",
       "2 Example Repository Example item Archival history               ⋯\n",
       "  physicalObjectType alternativeIdentifiers\n",
       "1 Shelf              ALT-ID1|ALT-ID2       \n",
       "2 Box                ALT-ID3|ALT-ID4       \n",
       "  alternativeIdentifierLabels                               \n",
       "1 Alternate identifier label 1|Alternative identifer label 2\n",
       "2 Alternate identifier label 3|Alternative identifer label 4\n",
       "  eventDates                               eventTypes           \n",
       "1 January 1, 2015 - December 31, 2016|2016 Creation|Accumulation\n",
       "2 January 2015 - December 2016             Creation             \n",
       "  eventStartDates       eventEndDates        \n",
       "1 2015-01-01|2016-00-00 2016-12-31|2016-00-00\n",
       "2 2015-01-01            2016-12-31           \n",
       "  eventActors                                  \n",
       "1 Creator (ISAD 3.2.1)|Accumulator (ISAD 3.2.1)\n",
       "2 NULL                                         \n",
       "  eventActorHistories                                                                                                                                      \n",
       "1 Example fonds Creator history (ISAD 3.2.2). Note that this will be added to the related authority record for Creator (ISAD 3.2.1).|History of Accumulator\n",
       "2 NULL                                                                                                                                                     \n",
       "  culture\n",
       "1 en     \n",
       "2 en     "
      ]
     },
     "metadata": {},
     "output_type": "display_data"
    }
   ],
   "source": [
    "head(isadgdata)"
   ]
  },
  {
   "cell_type": "code",
   "execution_count": 4,
   "metadata": {},
   "outputs": [
    {
     "data": {
      "text/html": [
       "<ol class=list-inline>\n",
       "\t<li>2</li>\n",
       "\t<li>55</li>\n",
       "</ol>\n"
      ],
      "text/latex": [
       "\\begin{enumerate*}\n",
       "\\item 2\n",
       "\\item 55\n",
       "\\end{enumerate*}\n"
      ],
      "text/markdown": [
       "1. 2\n",
       "2. 55\n",
       "\n",
       "\n"
      ],
      "text/plain": [
       "[1]  2 55"
      ]
     },
     "metadata": {},
     "output_type": "display_data"
    }
   ],
   "source": [
    "dim(isadgdata)"
   ]
  },
  {
   "cell_type": "code",
   "execution_count": 5,
   "metadata": {},
   "outputs": [
    {
     "data": {
      "text/html": [
       "<ol class=list-inline>\n",
       "\t<li>'legacyId'</li>\n",
       "\t<li>'parentId'</li>\n",
       "\t<li>'qubitParentSlug'</li>\n",
       "\t<li>'identifier'</li>\n",
       "\t<li>'accessionNumber'</li>\n",
       "\t<li>'title'</li>\n",
       "\t<li>'levelOfDescription'</li>\n",
       "\t<li>'extentAndMedium'</li>\n",
       "\t<li>'repository'</li>\n",
       "\t<li>'archivalHistory'</li>\n",
       "\t<li>'acquisition'</li>\n",
       "\t<li>'scopeAndContent'</li>\n",
       "\t<li>'appraisal'</li>\n",
       "\t<li>'accruals'</li>\n",
       "\t<li>'arrangement'</li>\n",
       "\t<li>'accessConditions'</li>\n",
       "\t<li>'reproductionConditions'</li>\n",
       "\t<li>'language'</li>\n",
       "\t<li>'script'</li>\n",
       "\t<li>'languageNote'</li>\n",
       "\t<li>'physicalCharacteristics'</li>\n",
       "\t<li>'findingAids'</li>\n",
       "\t<li>'locationOfOriginals'</li>\n",
       "\t<li>'locationOfCopies'</li>\n",
       "\t<li>'relatedUnitsOfDescription'</li>\n",
       "\t<li>'publicationNote'</li>\n",
       "\t<li>'digitalObjectURI'</li>\n",
       "\t<li>'generalNote'</li>\n",
       "\t<li>'subjectAccessPoints'</li>\n",
       "\t<li>'placeAccessPoints'</li>\n",
       "\t<li>'nameAccessPoints'</li>\n",
       "\t<li>'genreAccessPoints'</li>\n",
       "\t<li>'descriptionIdentifier'</li>\n",
       "\t<li>'institutionIdentifier'</li>\n",
       "\t<li>'rules'</li>\n",
       "\t<li>'descriptionStatus'</li>\n",
       "\t<li>'levelOfDetail'</li>\n",
       "\t<li>'revisionHistory'</li>\n",
       "\t<li>'languageOfDescription'</li>\n",
       "\t<li>'scriptOfDescription'</li>\n",
       "\t<li>'sources'</li>\n",
       "\t<li>'archivistNote'</li>\n",
       "\t<li>'publicationStatus'</li>\n",
       "\t<li>'physicalObjectName'</li>\n",
       "\t<li>'physicalObjectLocation'</li>\n",
       "\t<li>'physicalObjectType'</li>\n",
       "\t<li>'alternativeIdentifiers'</li>\n",
       "\t<li>'alternativeIdentifierLabels'</li>\n",
       "\t<li>'eventDates'</li>\n",
       "\t<li>'eventTypes'</li>\n",
       "\t<li>'eventStartDates'</li>\n",
       "\t<li>'eventEndDates'</li>\n",
       "\t<li>'eventActors'</li>\n",
       "\t<li>'eventActorHistories'</li>\n",
       "\t<li>'culture'</li>\n",
       "</ol>\n"
      ],
      "text/latex": [
       "\\begin{enumerate*}\n",
       "\\item 'legacyId'\n",
       "\\item 'parentId'\n",
       "\\item 'qubitParentSlug'\n",
       "\\item 'identifier'\n",
       "\\item 'accessionNumber'\n",
       "\\item 'title'\n",
       "\\item 'levelOfDescription'\n",
       "\\item 'extentAndMedium'\n",
       "\\item 'repository'\n",
       "\\item 'archivalHistory'\n",
       "\\item 'acquisition'\n",
       "\\item 'scopeAndContent'\n",
       "\\item 'appraisal'\n",
       "\\item 'accruals'\n",
       "\\item 'arrangement'\n",
       "\\item 'accessConditions'\n",
       "\\item 'reproductionConditions'\n",
       "\\item 'language'\n",
       "\\item 'script'\n",
       "\\item 'languageNote'\n",
       "\\item 'physicalCharacteristics'\n",
       "\\item 'findingAids'\n",
       "\\item 'locationOfOriginals'\n",
       "\\item 'locationOfCopies'\n",
       "\\item 'relatedUnitsOfDescription'\n",
       "\\item 'publicationNote'\n",
       "\\item 'digitalObjectURI'\n",
       "\\item 'generalNote'\n",
       "\\item 'subjectAccessPoints'\n",
       "\\item 'placeAccessPoints'\n",
       "\\item 'nameAccessPoints'\n",
       "\\item 'genreAccessPoints'\n",
       "\\item 'descriptionIdentifier'\n",
       "\\item 'institutionIdentifier'\n",
       "\\item 'rules'\n",
       "\\item 'descriptionStatus'\n",
       "\\item 'levelOfDetail'\n",
       "\\item 'revisionHistory'\n",
       "\\item 'languageOfDescription'\n",
       "\\item 'scriptOfDescription'\n",
       "\\item 'sources'\n",
       "\\item 'archivistNote'\n",
       "\\item 'publicationStatus'\n",
       "\\item 'physicalObjectName'\n",
       "\\item 'physicalObjectLocation'\n",
       "\\item 'physicalObjectType'\n",
       "\\item 'alternativeIdentifiers'\n",
       "\\item 'alternativeIdentifierLabels'\n",
       "\\item 'eventDates'\n",
       "\\item 'eventTypes'\n",
       "\\item 'eventStartDates'\n",
       "\\item 'eventEndDates'\n",
       "\\item 'eventActors'\n",
       "\\item 'eventActorHistories'\n",
       "\\item 'culture'\n",
       "\\end{enumerate*}\n"
      ],
      "text/markdown": [
       "1. 'legacyId'\n",
       "2. 'parentId'\n",
       "3. 'qubitParentSlug'\n",
       "4. 'identifier'\n",
       "5. 'accessionNumber'\n",
       "6. 'title'\n",
       "7. 'levelOfDescription'\n",
       "8. 'extentAndMedium'\n",
       "9. 'repository'\n",
       "10. 'archivalHistory'\n",
       "11. 'acquisition'\n",
       "12. 'scopeAndContent'\n",
       "13. 'appraisal'\n",
       "14. 'accruals'\n",
       "15. 'arrangement'\n",
       "16. 'accessConditions'\n",
       "17. 'reproductionConditions'\n",
       "18. 'language'\n",
       "19. 'script'\n",
       "20. 'languageNote'\n",
       "21. 'physicalCharacteristics'\n",
       "22. 'findingAids'\n",
       "23. 'locationOfOriginals'\n",
       "24. 'locationOfCopies'\n",
       "25. 'relatedUnitsOfDescription'\n",
       "26. 'publicationNote'\n",
       "27. 'digitalObjectURI'\n",
       "28. 'generalNote'\n",
       "29. 'subjectAccessPoints'\n",
       "30. 'placeAccessPoints'\n",
       "31. 'nameAccessPoints'\n",
       "32. 'genreAccessPoints'\n",
       "33. 'descriptionIdentifier'\n",
       "34. 'institutionIdentifier'\n",
       "35. 'rules'\n",
       "36. 'descriptionStatus'\n",
       "37. 'levelOfDetail'\n",
       "38. 'revisionHistory'\n",
       "39. 'languageOfDescription'\n",
       "40. 'scriptOfDescription'\n",
       "41. 'sources'\n",
       "42. 'archivistNote'\n",
       "43. 'publicationStatus'\n",
       "44. 'physicalObjectName'\n",
       "45. 'physicalObjectLocation'\n",
       "46. 'physicalObjectType'\n",
       "47. 'alternativeIdentifiers'\n",
       "48. 'alternativeIdentifierLabels'\n",
       "49. 'eventDates'\n",
       "50. 'eventTypes'\n",
       "51. 'eventStartDates'\n",
       "52. 'eventEndDates'\n",
       "53. 'eventActors'\n",
       "54. 'eventActorHistories'\n",
       "55. 'culture'\n",
       "\n",
       "\n"
      ],
      "text/plain": [
       " [1] \"legacyId\"                    \"parentId\"                   \n",
       " [3] \"qubitParentSlug\"             \"identifier\"                 \n",
       " [5] \"accessionNumber\"             \"title\"                      \n",
       " [7] \"levelOfDescription\"          \"extentAndMedium\"            \n",
       " [9] \"repository\"                  \"archivalHistory\"            \n",
       "[11] \"acquisition\"                 \"scopeAndContent\"            \n",
       "[13] \"appraisal\"                   \"accruals\"                   \n",
       "[15] \"arrangement\"                 \"accessConditions\"           \n",
       "[17] \"reproductionConditions\"      \"language\"                   \n",
       "[19] \"script\"                      \"languageNote\"               \n",
       "[21] \"physicalCharacteristics\"     \"findingAids\"                \n",
       "[23] \"locationOfOriginals\"         \"locationOfCopies\"           \n",
       "[25] \"relatedUnitsOfDescription\"   \"publicationNote\"            \n",
       "[27] \"digitalObjectURI\"            \"generalNote\"                \n",
       "[29] \"subjectAccessPoints\"         \"placeAccessPoints\"          \n",
       "[31] \"nameAccessPoints\"            \"genreAccessPoints\"          \n",
       "[33] \"descriptionIdentifier\"       \"institutionIdentifier\"      \n",
       "[35] \"rules\"                       \"descriptionStatus\"          \n",
       "[37] \"levelOfDetail\"               \"revisionHistory\"            \n",
       "[39] \"languageOfDescription\"       \"scriptOfDescription\"        \n",
       "[41] \"sources\"                     \"archivistNote\"              \n",
       "[43] \"publicationStatus\"           \"physicalObjectName\"         \n",
       "[45] \"physicalObjectLocation\"      \"physicalObjectType\"         \n",
       "[47] \"alternativeIdentifiers\"      \"alternativeIdentifierLabels\"\n",
       "[49] \"eventDates\"                  \"eventTypes\"                 \n",
       "[51] \"eventStartDates\"             \"eventEndDates\"              \n",
       "[53] \"eventActors\"                 \"eventActorHistories\"        \n",
       "[55] \"culture\"                    "
      ]
     },
     "metadata": {},
     "output_type": "display_data"
    }
   ],
   "source": [
    "names(isadgdata)"
   ]
  },
  {
   "cell_type": "markdown",
   "metadata": {},
   "source": [
    "## ISAD-G <a class=\"anchor\" id=\"ISAD-G\"></a>\n",
    "\n"
   ]
  },
  {
   "cell_type": "code",
   "execution_count": 18,
   "metadata": {},
   "outputs": [],
   "source": [
    "initial_object <- \"ISAD-G\""
   ]
  },
  {
   "cell_type": "code",
   "execution_count": 19,
   "metadata": {},
   "outputs": [
    {
     "data": {
      "text/html": [
       "'ISAD-G'"
      ],
      "text/latex": [
       "'ISAD-G'"
      ],
      "text/markdown": [
       "'ISAD-G'"
      ],
      "text/plain": [
       "[1] \"ISAD-G\""
      ]
     },
     "metadata": {},
     "output_type": "display_data"
    }
   ],
   "source": [
    "initial_object"
   ]
  },
  {
   "cell_type": "code",
   "execution_count": 36,
   "metadata": {},
   "outputs": [],
   "source": [
    "essential_elements <- c(\"Reference code\", \"Title\", \"Creator\", \"Dates\", \"Extent of the unit of description\", \"Level of description\")"
   ]
  },
  {
   "cell_type": "code",
   "execution_count": 37,
   "metadata": {},
   "outputs": [
    {
     "data": {
      "text/html": [
       "<ol class=list-inline>\n",
       "\t<li>'Reference code'</li>\n",
       "\t<li>'Title'</li>\n",
       "\t<li>'Creator'</li>\n",
       "\t<li>'Dates'</li>\n",
       "\t<li>'Extent of the unit of description'</li>\n",
       "\t<li>'Level of description'</li>\n",
       "</ol>\n"
      ],
      "text/latex": [
       "\\begin{enumerate*}\n",
       "\\item 'Reference code'\n",
       "\\item 'Title'\n",
       "\\item 'Creator'\n",
       "\\item 'Dates'\n",
       "\\item 'Extent of the unit of description'\n",
       "\\item 'Level of description'\n",
       "\\end{enumerate*}\n"
      ],
      "text/markdown": [
       "1. 'Reference code'\n",
       "2. 'Title'\n",
       "3. 'Creator'\n",
       "4. 'Dates'\n",
       "5. 'Extent of the unit of description'\n",
       "6. 'Level of description'\n",
       "\n",
       "\n"
      ],
      "text/plain": [
       "[1] \"Reference code\"                    \"Title\"                            \n",
       "[3] \"Creator\"                           \"Dates\"                            \n",
       "[5] \"Extent of the unit of description\" \"Level of description\"             "
      ]
     },
     "metadata": {},
     "output_type": "display_data"
    }
   ],
   "source": [
    "essential_elements"
   ]
  },
  {
   "cell_type": "code",
   "execution_count": 41,
   "metadata": {},
   "outputs": [],
   "source": [
    "Fonds <- c(\"mandatory\",\"mandatory\",\"mandatory\",\"mandatory\",\"mandatory\",\"mandatory\")\n",
    "SubFonds <- c(\"mandatory\",\"mandatory\",\"mandatory\",\"mandatory\",\"mandatory\",\"mandatory\")\n",
    "Series <- c(\"mandatory\",\"mandatory\",\"mandatory\",\"mandatory\",\"mandatory\",\"mandatory\")\n",
    "File <- c(\"mandatory\",\"mandatory\",\"mandatory\",\"mandatory\",\"mandatory\",\"mandatory\")\n",
    "Item <- c(\"mandatory\",\"mandatory\",\"mandatory\",\"mandatory\",\"mandatory\",\"mandatory\")"
   ]
  },
  {
   "cell_type": "code",
   "execution_count": 42,
   "metadata": {},
   "outputs": [
    {
     "data": {
      "text/html": [
       "<table>\n",
       "<thead><tr><th scope=col>essential_elements</th><th scope=col>Fonds</th><th scope=col>SubFonds</th><th scope=col>Series</th><th scope=col>File</th><th scope=col>Item</th></tr></thead>\n",
       "<tbody>\n",
       "\t<tr><td>Reference code                   </td><td>mandatory                        </td><td>mandatory                        </td><td>mandatory                        </td><td>mandatory                        </td><td>mandatory                        </td></tr>\n",
       "\t<tr><td>Title                            </td><td>mandatory                        </td><td>mandatory                        </td><td>mandatory                        </td><td>mandatory                        </td><td>mandatory                        </td></tr>\n",
       "\t<tr><td>Creator                          </td><td>mandatory                        </td><td>mandatory                        </td><td>mandatory                        </td><td>mandatory                        </td><td>mandatory                        </td></tr>\n",
       "\t<tr><td>Dates                            </td><td>mandatory                        </td><td>mandatory                        </td><td>mandatory                        </td><td>mandatory                        </td><td>mandatory                        </td></tr>\n",
       "\t<tr><td>Extent of the unit of description</td><td>mandatory                        </td><td>mandatory                        </td><td>mandatory                        </td><td>mandatory                        </td><td>mandatory                        </td></tr>\n",
       "\t<tr><td>Level of description             </td><td>mandatory                        </td><td>mandatory                        </td><td>mandatory                        </td><td>mandatory                        </td><td>mandatory                        </td></tr>\n",
       "</tbody>\n",
       "</table>\n"
      ],
      "text/latex": [
       "\\begin{tabular}{r|llllll}\n",
       " essential\\_elements & Fonds & SubFonds & Series & File & Item\\\\\n",
       "\\hline\n",
       "\t Reference code                    & mandatory                         & mandatory                         & mandatory                         & mandatory                         & mandatory                        \\\\\n",
       "\t Title                             & mandatory                         & mandatory                         & mandatory                         & mandatory                         & mandatory                        \\\\\n",
       "\t Creator                           & mandatory                         & mandatory                         & mandatory                         & mandatory                         & mandatory                        \\\\\n",
       "\t Dates                             & mandatory                         & mandatory                         & mandatory                         & mandatory                         & mandatory                        \\\\\n",
       "\t Extent of the unit of description & mandatory                         & mandatory                         & mandatory                         & mandatory                         & mandatory                        \\\\\n",
       "\t Level of description              & mandatory                         & mandatory                         & mandatory                         & mandatory                         & mandatory                        \\\\\n",
       "\\end{tabular}\n"
      ],
      "text/markdown": [
       "\n",
       "essential_elements | Fonds | SubFonds | Series | File | Item | \n",
       "|---|---|---|---|---|---|\n",
       "| Reference code                    | mandatory                         | mandatory                         | mandatory                         | mandatory                         | mandatory                         | \n",
       "| Title                             | mandatory                         | mandatory                         | mandatory                         | mandatory                         | mandatory                         | \n",
       "| Creator                           | mandatory                         | mandatory                         | mandatory                         | mandatory                         | mandatory                         | \n",
       "| Dates                             | mandatory                         | mandatory                         | mandatory                         | mandatory                         | mandatory                         | \n",
       "| Extent of the unit of description | mandatory                         | mandatory                         | mandatory                         | mandatory                         | mandatory                         | \n",
       "| Level of description              | mandatory                         | mandatory                         | mandatory                         | mandatory                         | mandatory                         | \n",
       "\n",
       "\n"
      ],
      "text/plain": [
       "  essential_elements                Fonds     SubFonds  Series    File     \n",
       "1 Reference code                    mandatory mandatory mandatory mandatory\n",
       "2 Title                             mandatory mandatory mandatory mandatory\n",
       "3 Creator                           mandatory mandatory mandatory mandatory\n",
       "4 Dates                             mandatory mandatory mandatory mandatory\n",
       "5 Extent of the unit of description mandatory mandatory mandatory mandatory\n",
       "6 Level of description              mandatory mandatory mandatory mandatory\n",
       "  Item     \n",
       "1 mandatory\n",
       "2 mandatory\n",
       "3 mandatory\n",
       "4 mandatory\n",
       "5 mandatory\n",
       "6 mandatory"
      ]
     },
     "metadata": {},
     "output_type": "display_data"
    }
   ],
   "source": [
    "initial_object <- data.frame(essential_elements, Fonds, SubFonds, Series, File, Item)\n",
    "initial_object"
   ]
  },
  {
   "cell_type": "code",
   "execution_count": 43,
   "metadata": {},
   "outputs": [
    {
     "data": {
      "text/html": [
       "<table>\n",
       "<thead><tr><th></th><th scope=col>NA</th><th scope=col>FALSE</th><th scope=col>TRUE</th></tr></thead>\n",
       "<tbody>\n",
       "\t<tr><th scope=row>NA</th><td>   NA</td><td>FALSE</td><td>   NA</td></tr>\n",
       "\t<tr><th scope=row>FALSE</th><td>FALSE</td><td>FALSE</td><td>FALSE</td></tr>\n",
       "\t<tr><th scope=row>TRUE</th><td>   NA</td><td>FALSE</td><td> TRUE</td></tr>\n",
       "</tbody>\n",
       "</table>\n"
      ],
      "text/latex": [
       "\\begin{tabular}{r|lll}\n",
       "  & NA & FALSE & TRUE\\\\\n",
       "\\hline\n",
       "\tNA &    NA & FALSE &    NA\\\\\n",
       "\tFALSE & FALSE & FALSE & FALSE\\\\\n",
       "\tTRUE &    NA & FALSE &  TRUE\\\\\n",
       "\\end{tabular}\n"
      ],
      "text/markdown": [
       "\n",
       "| <!--/--> | NA | FALSE | TRUE | \n",
       "|---|---|---|\n",
       "| NA |    NA | FALSE |    NA | \n",
       "| FALSE | FALSE | FALSE | FALSE | \n",
       "| TRUE |    NA | FALSE |  TRUE | \n",
       "\n",
       "\n"
      ],
      "text/plain": [
       "      <NA>  FALSE TRUE \n",
       "<NA>     NA FALSE    NA\n",
       "FALSE FALSE FALSE FALSE\n",
       "TRUE     NA FALSE  TRUE"
      ]
     },
     "metadata": {},
     "output_type": "display_data"
    },
    {
     "data": {
      "text/html": [
       "<table>\n",
       "<thead><tr><th></th><th scope=col>NA</th><th scope=col>FALSE</th><th scope=col>TRUE</th></tr></thead>\n",
       "<tbody>\n",
       "\t<tr><th scope=row>NA</th><td>  NA </td><td>   NA</td><td>TRUE </td></tr>\n",
       "\t<tr><th scope=row>FALSE</th><td>  NA </td><td>FALSE</td><td>TRUE </td></tr>\n",
       "\t<tr><th scope=row>TRUE</th><td>TRUE </td><td> TRUE</td><td>TRUE </td></tr>\n",
       "</tbody>\n",
       "</table>\n"
      ],
      "text/latex": [
       "\\begin{tabular}{r|lll}\n",
       "  & NA & FALSE & TRUE\\\\\n",
       "\\hline\n",
       "\tNA &   NA  &    NA & TRUE \\\\\n",
       "\tFALSE &   NA  & FALSE & TRUE \\\\\n",
       "\tTRUE & TRUE  &  TRUE & TRUE \\\\\n",
       "\\end{tabular}\n"
      ],
      "text/markdown": [
       "\n",
       "| <!--/--> | NA | FALSE | TRUE | \n",
       "|---|---|---|\n",
       "| NA |   NA  |    NA | TRUE  | \n",
       "| FALSE |   NA  | FALSE | TRUE  | \n",
       "| TRUE | TRUE  |  TRUE | TRUE  | \n",
       "\n",
       "\n"
      ],
      "text/plain": [
       "      <NA> FALSE TRUE\n",
       "<NA>    NA    NA TRUE\n",
       "FALSE   NA FALSE TRUE\n",
       "TRUE  TRUE  TRUE TRUE"
      ]
     },
     "metadata": {},
     "output_type": "display_data"
    }
   ],
   "source": [
    "x <- c(NA, FALSE, TRUE)\n",
    "names(x) <- as.character(x)\n",
    "outer(x, x, \"&\") ## AND table\n",
    "outer(x, x, \"|\") ## OR  table"
   ]
  },
  {
   "cell_type": "code",
   "execution_count": 44,
   "metadata": {},
   "outputs": [
    {
     "data": {
      "text/html": [
       "FALSE"
      ],
      "text/latex": [
       "FALSE"
      ],
      "text/markdown": [
       "FALSE"
      ],
      "text/plain": [
       "[1] FALSE"
      ]
     },
     "metadata": {},
     "output_type": "display_data"
    },
    {
     "data": {
      "text/html": [
       "TRUE"
      ],
      "text/latex": [
       "TRUE"
      ],
      "text/markdown": [
       "TRUE"
      ],
      "text/plain": [
       "[1] TRUE"
      ]
     },
     "metadata": {},
     "output_type": "display_data"
    },
    {
     "data": {
      "text/html": [
       "FALSE"
      ],
      "text/latex": [
       "FALSE"
      ],
      "text/markdown": [
       "FALSE"
      ],
      "text/plain": [
       "[1] FALSE"
      ]
     },
     "metadata": {},
     "output_type": "display_data"
    }
   ],
   "source": [
    "u = TRUE; v = FALSE \n",
    "u & v          # u AND v \n",
    "u | v          # u OR v \n",
    "!u             # negation of u "
   ]
  },
  {
   "cell_type": "code",
   "execution_count": null,
   "metadata": {},
   "outputs": [],
   "source": []
  }
 ],
 "metadata": {
  "kernelspec": {
   "display_name": "R",
   "language": "R",
   "name": "ir"
  },
  "language_info": {
   "codemirror_mode": "r",
   "file_extension": ".r",
   "mimetype": "text/x-r-source",
   "name": "R",
   "pygments_lexer": "r",
   "version": "3.3.2"
  }
 },
 "nbformat": 4,
 "nbformat_minor": 2
}
