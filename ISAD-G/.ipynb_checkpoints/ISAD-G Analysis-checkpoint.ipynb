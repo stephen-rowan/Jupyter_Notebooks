{
 "cells": [
  {
   "cell_type": "markdown",
   "metadata": {},
   "source": [
    "# ISAD-G Data analysis\n",
    "\n",
    "## Table of Contents\n",
    "\n",
    "\n",
    "1. [Access to Memory (ATOM) ISAD-G Data entry template](#Access to Memory ISAD-G Data entry template)\n",
    "2. [ISAD-G](#ISAD-G)"
   ]
  },
  {
   "cell_type": "markdown",
   "metadata": {},
   "source": [
    "## Access to Memory (ATOM) ISAD-G Data entry template <a class=\"anchor\" id=\"Access to Memory ISAD-G Data entry template\"></a>\n",
    "\n",
    "https://www.accesstomemory.org/en/docs/2.3/user-manual/data-templates/isad-template/"
   ]
  },
  {
   "cell_type": "code",
   "execution_count": 1,
   "metadata": {},
   "outputs": [],
   "source": [
    "isadgdata <- download.file(\"https://raw.githubusercontent.com/stephen-rowan/Jupyter_Notebooks/master/ISAD-G/information_objects_isad-2.3.csv\", \"isad-g-data.csv\", method = \"curl\")"
   ]
  },
  {
   "cell_type": "code",
   "execution_count": 2,
   "metadata": {},
   "outputs": [],
   "source": [
    "isadgdata <- read.csv(file=\"isad-g-data.csv\", header=TRUE, sep=\",\")"
   ]
  },
  {
   "cell_type": "code",
   "execution_count": 3,
   "metadata": {},
   "outputs": [
    {
     "data": {
      "text/html": [
       "<table>\n",
       "<thead><tr><th scope=col>legacyId</th><th scope=col>parentId</th><th scope=col>qubitParentSlug</th><th scope=col>identifier</th><th scope=col>accessionNumber</th><th scope=col>title</th><th scope=col>levelOfDescription</th><th scope=col>extentAndMedium</th><th scope=col>repository</th><th scope=col>archivalHistory</th><th scope=col>⋯</th><th scope=col>physicalObjectType</th><th scope=col>alternativeIdentifiers</th><th scope=col>alternativeIdentifierLabels</th><th scope=col>eventDates</th><th scope=col>eventTypes</th><th scope=col>eventStartDates</th><th scope=col>eventEndDates</th><th scope=col>eventActors</th><th scope=col>eventActorHistories</th><th scope=col>culture</th></tr></thead>\n",
       "<tbody>\n",
       "\t<tr><td>1                                                                                                                                                        </td><td>NA                                                                                                                                                       </td><td>NA                                                                                                                                                       </td><td>F1                                                                                                                                                       </td><td>NA                                                                                                                                                       </td><td>Example fonds                                                                                                                                            </td><td>Fonds                                                                                                                                                    </td><td>Example fonds Extent and medium (ISAD 3.1.5)                                                                                                             </td><td>Example Repository                                                                                                                                       </td><td>Example fonds Archival history (ISAD 3.2.3)                                                                                                              </td><td>⋯                                                                                                                                                        </td><td>Shelf                                                                                                                                                    </td><td>ALT-ID1|ALT-ID2                                                                                                                                          </td><td>Alternate identifier label 1|Alternative identifer label 2                                                                                               </td><td>January 1, 2015 - December 31, 2016|2016                                                                                                                 </td><td>Creation|Accumulation                                                                                                                                    </td><td>2015-01-01|2016-00-00                                                                                                                                    </td><td>2016-12-31|2016-00-00                                                                                                                                    </td><td>Creator (ISAD 3.2.1)|Accumulator (ISAD 3.2.1)                                                                                                            </td><td>Example fonds Creator history (ISAD 3.2.2). Note that this will be added to the related authority record for Creator (ISAD 3.2.1).|History of Accumulator</td><td>en                                                                                                                                                       </td></tr>\n",
       "\t<tr><td>2                                                                                                                                                        </td><td> 1                                                                                                                                                       </td><td>NA                                                                                                                                                       </td><td>IT-1                                                                                                                                                     </td><td>NA                                                                                                                                                       </td><td>Example Item                                                                                                                                             </td><td>Item                                                                                                                                                     </td><td>Example item Extent and medium                                                                                                                           </td><td>Example Repository                                                                                                                                       </td><td>Example item Archival history                                                                                                                            </td><td>⋯                                                                                                                                                        </td><td>Box                                                                                                                                                      </td><td>ALT-ID3|ALT-ID4                                                                                                                                          </td><td>Alternate identifier label 3|Alternative identifer label 4                                                                                               </td><td>January 2015 - December 2016                                                                                                                             </td><td>Creation                                                                                                                                                 </td><td>2015-01-01                                                                                                                                               </td><td>2016-12-31                                                                                                                                               </td><td>NULL                                                                                                                                                     </td><td>NULL                                                                                                                                                     </td><td>en                                                                                                                                                       </td></tr>\n",
       "</tbody>\n",
       "</table>\n"
      ],
      "text/latex": [
       "\\begin{tabular}{r|lllllllllllllllllllllllllllllllllllllllllllllllllllllll}\n",
       " legacyId & parentId & qubitParentSlug & identifier & accessionNumber & title & levelOfDescription & extentAndMedium & repository & archivalHistory & ⋯ & physicalObjectType & alternativeIdentifiers & alternativeIdentifierLabels & eventDates & eventTypes & eventStartDates & eventEndDates & eventActors & eventActorHistories & culture\\\\\n",
       "\\hline\n",
       "\t 1                                                                                                                                                                   & NA                                                                                                                                                                  & NA                                                                                                                                                                  & F1                                                                                                                                                                  & NA                                                                                                                                                                  & Example fonds                                                                                                                                                       & Fonds                                                                                                                                                               & Example fonds Extent and medium (ISAD 3.1.5)                                                                                                                        & Example Repository                                                                                                                                                  & Example fonds Archival history (ISAD 3.2.3)                                                                                                                         & ⋯                                                                                                                                                                   & Shelf                                                                                                                                                               & ALT-ID1\\textbar{}ALT-ID2                                                                                                                                           & Alternate identifier label 1\\textbar{}Alternative identifer label 2                                                                                                & January 1, 2015 - December 31, 2016\\textbar{}2016                                                                                                                  & Creation\\textbar{}Accumulation                                                                                                                                     & 2015-01-01\\textbar{}2016-00-00                                                                                                                                     & 2016-12-31\\textbar{}2016-00-00                                                                                                                                     & Creator (ISAD 3.2.1)\\textbar{}Accumulator (ISAD 3.2.1)                                                                                                             & Example fonds Creator history (ISAD 3.2.2). Note that this will be added to the related authority record for Creator (ISAD 3.2.1).\\textbar{}History of Accumulator & en                                                                                                                                                                 \\\\\n",
       "\t 2                                                                                                                                                         &  1                                                                                                                                                        & NA                                                                                                                                                        & IT-1                                                                                                                                                      & NA                                                                                                                                                        & Example Item                                                                                                                                              & Item                                                                                                                                                      & Example item Extent and medium                                                                                                                            & Example Repository                                                                                                                                        & Example item Archival history                                                                                                                             & ⋯                                                                                                                                                         & Box                                                                                                                                                       & ALT-ID3\\textbar{}ALT-ID4                                                                                                                                 & Alternate identifier label 3\\textbar{}Alternative identifer label 4                                                                                      & January 2015 - December 2016                                                                                                                              & Creation                                                                                                                                                  & 2015-01-01                                                                                                                                                & 2016-12-31                                                                                                                                                & NULL                                                                                                                                                      & NULL                                                                                                                                                      & en                                                                                                                                                       \\\\\n",
       "\\end{tabular}\n"
      ],
      "text/markdown": [
       "\n",
       "legacyId | parentId | qubitParentSlug | identifier | accessionNumber | title | levelOfDescription | extentAndMedium | repository | archivalHistory | ⋯ | physicalObjectType | alternativeIdentifiers | alternativeIdentifierLabels | eventDates | eventTypes | eventStartDates | eventEndDates | eventActors | eventActorHistories | culture | \n",
       "|---|---|\n",
       "| 1                                                                                                                                                         | NA                                                                                                                                                        | NA                                                                                                                                                        | F1                                                                                                                                                        | NA                                                                                                                                                        | Example fonds                                                                                                                                             | Fonds                                                                                                                                                     | Example fonds Extent and medium (ISAD 3.1.5)                                                                                                              | Example Repository                                                                                                                                        | Example fonds Archival history (ISAD 3.2.3)                                                                                                               | ⋯                                                                                                                                                         | Shelf                                                                                                                                                     | ALT-ID1|ALT-ID2                                                                                                                                           | Alternate identifier label 1|Alternative identifer label 2                                                                                                | January 1, 2015 - December 31, 2016|2016                                                                                                                  | Creation|Accumulation                                                                                                                                     | 2015-01-01|2016-00-00                                                                                                                                     | 2016-12-31|2016-00-00                                                                                                                                     | Creator (ISAD 3.2.1)|Accumulator (ISAD 3.2.1)                                                                                                             | Example fonds Creator history (ISAD 3.2.2). Note that this will be added to the related authority record for Creator (ISAD 3.2.1).|History of Accumulator | en                                                                                                                                                        | \n",
       "| 2                                                                                                                                                         |  1                                                                                                                                                        | NA                                                                                                                                                        | IT-1                                                                                                                                                      | NA                                                                                                                                                        | Example Item                                                                                                                                              | Item                                                                                                                                                      | Example item Extent and medium                                                                                                                            | Example Repository                                                                                                                                        | Example item Archival history                                                                                                                             | ⋯                                                                                                                                                         | Box                                                                                                                                                       | ALT-ID3|ALT-ID4                                                                                                                                           | Alternate identifier label 3|Alternative identifer label 4                                                                                                | January 2015 - December 2016                                                                                                                              | Creation                                                                                                                                                  | 2015-01-01                                                                                                                                                | 2016-12-31                                                                                                                                                | NULL                                                                                                                                                      | NULL                                                                                                                                                      | en                                                                                                                                                        | \n",
       "\n",
       "\n"
      ],
      "text/plain": [
       "  legacyId parentId qubitParentSlug identifier accessionNumber title        \n",
       "1 1        NA       NA              F1         NA              Example fonds\n",
       "2 2         1       NA              IT-1       NA              Example Item \n",
       "  levelOfDescription extentAndMedium                             \n",
       "1 Fonds              Example fonds Extent and medium (ISAD 3.1.5)\n",
       "2 Item               Example item Extent and medium              \n",
       "  repository         archivalHistory                             ⋯\n",
       "1 Example Repository Example fonds Archival history (ISAD 3.2.3) ⋯\n",
       "2 Example Repository Example item Archival history               ⋯\n",
       "  physicalObjectType alternativeIdentifiers\n",
       "1 Shelf              ALT-ID1|ALT-ID2       \n",
       "2 Box                ALT-ID3|ALT-ID4       \n",
       "  alternativeIdentifierLabels                               \n",
       "1 Alternate identifier label 1|Alternative identifer label 2\n",
       "2 Alternate identifier label 3|Alternative identifer label 4\n",
       "  eventDates                               eventTypes           \n",
       "1 January 1, 2015 - December 31, 2016|2016 Creation|Accumulation\n",
       "2 January 2015 - December 2016             Creation             \n",
       "  eventStartDates       eventEndDates        \n",
       "1 2015-01-01|2016-00-00 2016-12-31|2016-00-00\n",
       "2 2015-01-01            2016-12-31           \n",
       "  eventActors                                  \n",
       "1 Creator (ISAD 3.2.1)|Accumulator (ISAD 3.2.1)\n",
       "2 NULL                                         \n",
       "  eventActorHistories                                                                                                                                      \n",
       "1 Example fonds Creator history (ISAD 3.2.2). Note that this will be added to the related authority record for Creator (ISAD 3.2.1).|History of Accumulator\n",
       "2 NULL                                                                                                                                                     \n",
       "  culture\n",
       "1 en     \n",
       "2 en     "
      ]
     },
     "metadata": {},
     "output_type": "display_data"
    }
   ],
   "source": [
    "head(isadgdata)"
   ]
  },
  {
   "cell_type": "code",
   "execution_count": 4,
   "metadata": {},
   "outputs": [
    {
     "data": {
      "text/html": [
       "<ol class=list-inline>\n",
       "\t<li>2</li>\n",
       "\t<li>55</li>\n",
       "</ol>\n"
      ],
      "text/latex": [
       "\\begin{enumerate*}\n",
       "\\item 2\n",
       "\\item 55\n",
       "\\end{enumerate*}\n"
      ],
      "text/markdown": [
       "1. 2\n",
       "2. 55\n",
       "\n",
       "\n"
      ],
      "text/plain": [
       "[1]  2 55"
      ]
     },
     "metadata": {},
     "output_type": "display_data"
    }
   ],
   "source": [
    "dim(isadgdata)"
   ]
  },
  {
   "cell_type": "code",
   "execution_count": 5,
   "metadata": {},
   "outputs": [
    {
     "data": {
      "text/html": [
       "<ol class=list-inline>\n",
       "\t<li>'legacyId'</li>\n",
       "\t<li>'parentId'</li>\n",
       "\t<li>'qubitParentSlug'</li>\n",
       "\t<li>'identifier'</li>\n",
       "\t<li>'accessionNumber'</li>\n",
       "\t<li>'title'</li>\n",
       "\t<li>'levelOfDescription'</li>\n",
       "\t<li>'extentAndMedium'</li>\n",
       "\t<li>'repository'</li>\n",
       "\t<li>'archivalHistory'</li>\n",
       "\t<li>'acquisition'</li>\n",
       "\t<li>'scopeAndContent'</li>\n",
       "\t<li>'appraisal'</li>\n",
       "\t<li>'accruals'</li>\n",
       "\t<li>'arrangement'</li>\n",
       "\t<li>'accessConditions'</li>\n",
       "\t<li>'reproductionConditions'</li>\n",
       "\t<li>'language'</li>\n",
       "\t<li>'script'</li>\n",
       "\t<li>'languageNote'</li>\n",
       "\t<li>'physicalCharacteristics'</li>\n",
       "\t<li>'findingAids'</li>\n",
       "\t<li>'locationOfOriginals'</li>\n",
       "\t<li>'locationOfCopies'</li>\n",
       "\t<li>'relatedUnitsOfDescription'</li>\n",
       "\t<li>'publicationNote'</li>\n",
       "\t<li>'digitalObjectURI'</li>\n",
       "\t<li>'generalNote'</li>\n",
       "\t<li>'subjectAccessPoints'</li>\n",
       "\t<li>'placeAccessPoints'</li>\n",
       "\t<li>'nameAccessPoints'</li>\n",
       "\t<li>'genreAccessPoints'</li>\n",
       "\t<li>'descriptionIdentifier'</li>\n",
       "\t<li>'institutionIdentifier'</li>\n",
       "\t<li>'rules'</li>\n",
       "\t<li>'descriptionStatus'</li>\n",
       "\t<li>'levelOfDetail'</li>\n",
       "\t<li>'revisionHistory'</li>\n",
       "\t<li>'languageOfDescription'</li>\n",
       "\t<li>'scriptOfDescription'</li>\n",
       "\t<li>'sources'</li>\n",
       "\t<li>'archivistNote'</li>\n",
       "\t<li>'publicationStatus'</li>\n",
       "\t<li>'physicalObjectName'</li>\n",
       "\t<li>'physicalObjectLocation'</li>\n",
       "\t<li>'physicalObjectType'</li>\n",
       "\t<li>'alternativeIdentifiers'</li>\n",
       "\t<li>'alternativeIdentifierLabels'</li>\n",
       "\t<li>'eventDates'</li>\n",
       "\t<li>'eventTypes'</li>\n",
       "\t<li>'eventStartDates'</li>\n",
       "\t<li>'eventEndDates'</li>\n",
       "\t<li>'eventActors'</li>\n",
       "\t<li>'eventActorHistories'</li>\n",
       "\t<li>'culture'</li>\n",
       "</ol>\n"
      ],
      "text/latex": [
       "\\begin{enumerate*}\n",
       "\\item 'legacyId'\n",
       "\\item 'parentId'\n",
       "\\item 'qubitParentSlug'\n",
       "\\item 'identifier'\n",
       "\\item 'accessionNumber'\n",
       "\\item 'title'\n",
       "\\item 'levelOfDescription'\n",
       "\\item 'extentAndMedium'\n",
       "\\item 'repository'\n",
       "\\item 'archivalHistory'\n",
       "\\item 'acquisition'\n",
       "\\item 'scopeAndContent'\n",
       "\\item 'appraisal'\n",
       "\\item 'accruals'\n",
       "\\item 'arrangement'\n",
       "\\item 'accessConditions'\n",
       "\\item 'reproductionConditions'\n",
       "\\item 'language'\n",
       "\\item 'script'\n",
       "\\item 'languageNote'\n",
       "\\item 'physicalCharacteristics'\n",
       "\\item 'findingAids'\n",
       "\\item 'locationOfOriginals'\n",
       "\\item 'locationOfCopies'\n",
       "\\item 'relatedUnitsOfDescription'\n",
       "\\item 'publicationNote'\n",
       "\\item 'digitalObjectURI'\n",
       "\\item 'generalNote'\n",
       "\\item 'subjectAccessPoints'\n",
       "\\item 'placeAccessPoints'\n",
       "\\item 'nameAccessPoints'\n",
       "\\item 'genreAccessPoints'\n",
       "\\item 'descriptionIdentifier'\n",
       "\\item 'institutionIdentifier'\n",
       "\\item 'rules'\n",
       "\\item 'descriptionStatus'\n",
       "\\item 'levelOfDetail'\n",
       "\\item 'revisionHistory'\n",
       "\\item 'languageOfDescription'\n",
       "\\item 'scriptOfDescription'\n",
       "\\item 'sources'\n",
       "\\item 'archivistNote'\n",
       "\\item 'publicationStatus'\n",
       "\\item 'physicalObjectName'\n",
       "\\item 'physicalObjectLocation'\n",
       "\\item 'physicalObjectType'\n",
       "\\item 'alternativeIdentifiers'\n",
       "\\item 'alternativeIdentifierLabels'\n",
       "\\item 'eventDates'\n",
       "\\item 'eventTypes'\n",
       "\\item 'eventStartDates'\n",
       "\\item 'eventEndDates'\n",
       "\\item 'eventActors'\n",
       "\\item 'eventActorHistories'\n",
       "\\item 'culture'\n",
       "\\end{enumerate*}\n"
      ],
      "text/markdown": [
       "1. 'legacyId'\n",
       "2. 'parentId'\n",
       "3. 'qubitParentSlug'\n",
       "4. 'identifier'\n",
       "5. 'accessionNumber'\n",
       "6. 'title'\n",
       "7. 'levelOfDescription'\n",
       "8. 'extentAndMedium'\n",
       "9. 'repository'\n",
       "10. 'archivalHistory'\n",
       "11. 'acquisition'\n",
       "12. 'scopeAndContent'\n",
       "13. 'appraisal'\n",
       "14. 'accruals'\n",
       "15. 'arrangement'\n",
       "16. 'accessConditions'\n",
       "17. 'reproductionConditions'\n",
       "18. 'language'\n",
       "19. 'script'\n",
       "20. 'languageNote'\n",
       "21. 'physicalCharacteristics'\n",
       "22. 'findingAids'\n",
       "23. 'locationOfOriginals'\n",
       "24. 'locationOfCopies'\n",
       "25. 'relatedUnitsOfDescription'\n",
       "26. 'publicationNote'\n",
       "27. 'digitalObjectURI'\n",
       "28. 'generalNote'\n",
       "29. 'subjectAccessPoints'\n",
       "30. 'placeAccessPoints'\n",
       "31. 'nameAccessPoints'\n",
       "32. 'genreAccessPoints'\n",
       "33. 'descriptionIdentifier'\n",
       "34. 'institutionIdentifier'\n",
       "35. 'rules'\n",
       "36. 'descriptionStatus'\n",
       "37. 'levelOfDetail'\n",
       "38. 'revisionHistory'\n",
       "39. 'languageOfDescription'\n",
       "40. 'scriptOfDescription'\n",
       "41. 'sources'\n",
       "42. 'archivistNote'\n",
       "43. 'publicationStatus'\n",
       "44. 'physicalObjectName'\n",
       "45. 'physicalObjectLocation'\n",
       "46. 'physicalObjectType'\n",
       "47. 'alternativeIdentifiers'\n",
       "48. 'alternativeIdentifierLabels'\n",
       "49. 'eventDates'\n",
       "50. 'eventTypes'\n",
       "51. 'eventStartDates'\n",
       "52. 'eventEndDates'\n",
       "53. 'eventActors'\n",
       "54. 'eventActorHistories'\n",
       "55. 'culture'\n",
       "\n",
       "\n"
      ],
      "text/plain": [
       " [1] \"legacyId\"                    \"parentId\"                   \n",
       " [3] \"qubitParentSlug\"             \"identifier\"                 \n",
       " [5] \"accessionNumber\"             \"title\"                      \n",
       " [7] \"levelOfDescription\"          \"extentAndMedium\"            \n",
       " [9] \"repository\"                  \"archivalHistory\"            \n",
       "[11] \"acquisition\"                 \"scopeAndContent\"            \n",
       "[13] \"appraisal\"                   \"accruals\"                   \n",
       "[15] \"arrangement\"                 \"accessConditions\"           \n",
       "[17] \"reproductionConditions\"      \"language\"                   \n",
       "[19] \"script\"                      \"languageNote\"               \n",
       "[21] \"physicalCharacteristics\"     \"findingAids\"                \n",
       "[23] \"locationOfOriginals\"         \"locationOfCopies\"           \n",
       "[25] \"relatedUnitsOfDescription\"   \"publicationNote\"            \n",
       "[27] \"digitalObjectURI\"            \"generalNote\"                \n",
       "[29] \"subjectAccessPoints\"         \"placeAccessPoints\"          \n",
       "[31] \"nameAccessPoints\"            \"genreAccessPoints\"          \n",
       "[33] \"descriptionIdentifier\"       \"institutionIdentifier\"      \n",
       "[35] \"rules\"                       \"descriptionStatus\"          \n",
       "[37] \"levelOfDetail\"               \"revisionHistory\"            \n",
       "[39] \"languageOfDescription\"       \"scriptOfDescription\"        \n",
       "[41] \"sources\"                     \"archivistNote\"              \n",
       "[43] \"publicationStatus\"           \"physicalObjectName\"         \n",
       "[45] \"physicalObjectLocation\"      \"physicalObjectType\"         \n",
       "[47] \"alternativeIdentifiers\"      \"alternativeIdentifierLabels\"\n",
       "[49] \"eventDates\"                  \"eventTypes\"                 \n",
       "[51] \"eventStartDates\"             \"eventEndDates\"              \n",
       "[53] \"eventActors\"                 \"eventActorHistories\"        \n",
       "[55] \"culture\"                    "
      ]
     },
     "metadata": {},
     "output_type": "display_data"
    }
   ],
   "source": [
    "names(isadgdata)"
   ]
  },
  {
   "cell_type": "markdown",
   "metadata": {},
   "source": [
    "## ISAD-G <a class=\"anchor\" id=\"ISAD-G\"></a>\n",
    "\n"
   ]
  },
  {
   "cell_type": "code",
   "execution_count": 25,
   "metadata": {},
   "outputs": [],
   "source": [
    "elements <- c(\"Reference code\", \"Title\", \"Creator\", \"Dates\", \"Extent of the unit of description\", \"Level of description\")"
   ]
  },
  {
   "cell_type": "code",
   "execution_count": 26,
   "metadata": {},
   "outputs": [
    {
     "data": {
      "text/html": [
       "<ol class=list-inline>\n",
       "\t<li>'Reference code'</li>\n",
       "\t<li>'Title'</li>\n",
       "\t<li>'Creator'</li>\n",
       "\t<li>'Dates'</li>\n",
       "\t<li>'Extent of the unit of description'</li>\n",
       "\t<li>'Level of description'</li>\n",
       "</ol>\n"
      ],
      "text/latex": [
       "\\begin{enumerate*}\n",
       "\\item 'Reference code'\n",
       "\\item 'Title'\n",
       "\\item 'Creator'\n",
       "\\item 'Dates'\n",
       "\\item 'Extent of the unit of description'\n",
       "\\item 'Level of description'\n",
       "\\end{enumerate*}\n"
      ],
      "text/markdown": [
       "1. 'Reference code'\n",
       "2. 'Title'\n",
       "3. 'Creator'\n",
       "4. 'Dates'\n",
       "5. 'Extent of the unit of description'\n",
       "6. 'Level of description'\n",
       "\n",
       "\n"
      ],
      "text/plain": [
       "[1] \"Reference code\"                    \"Title\"                            \n",
       "[3] \"Creator\"                           \"Dates\"                            \n",
       "[5] \"Extent of the unit of description\" \"Level of description\"             "
      ]
     },
     "metadata": {},
     "output_type": "display_data"
    }
   ],
   "source": [
    "elements"
   ]
  },
  {
   "cell_type": "code",
   "execution_count": 3,
   "metadata": {},
   "outputs": [],
   "source": [
    "levels <- c(\"Fonds\",\"SubFonds\",\"Series\",\"File\",\"Item\")"
   ]
  },
  {
   "cell_type": "code",
   "execution_count": 4,
   "metadata": {},
   "outputs": [
    {
     "data": {
      "text/html": [
       "<ol class=list-inline>\n",
       "\t<li>'Fonds'</li>\n",
       "\t<li>'SubFonds'</li>\n",
       "\t<li>'Series'</li>\n",
       "\t<li>'File'</li>\n",
       "\t<li>'Item'</li>\n",
       "</ol>\n"
      ],
      "text/latex": [
       "\\begin{enumerate*}\n",
       "\\item 'Fonds'\n",
       "\\item 'SubFonds'\n",
       "\\item 'Series'\n",
       "\\item 'File'\n",
       "\\item 'Item'\n",
       "\\end{enumerate*}\n"
      ],
      "text/markdown": [
       "1. 'Fonds'\n",
       "2. 'SubFonds'\n",
       "3. 'Series'\n",
       "4. 'File'\n",
       "5. 'Item'\n",
       "\n",
       "\n"
      ],
      "text/plain": [
       "[1] \"Fonds\"    \"SubFonds\" \"Series\"   \"File\"     \"Item\"    "
      ]
     },
     "metadata": {},
     "output_type": "display_data"
    }
   ],
   "source": [
    "levels"
   ]
  },
  {
   "cell_type": "code",
   "execution_count": 39,
   "metadata": {},
   "outputs": [
    {
     "data": {
      "text/html": [
       "<table>\n",
       "<thead><tr><th scope=col>elements</th><th scope=col>Fonds</th><th scope=col>SubFonds</th><th scope=col>Series</th><th scope=col>File</th><th scope=col>Item</th><th scope=col>ISAD_G_Area</th></tr></thead>\n",
       "<tbody>\n",
       "\t<tr><td>Archival history                 </td><td>Optional                         </td><td>Optional                         </td><td>Optional                         </td><td>Optional                         </td><td>Optional                         </td><td>Context Area                     </td></tr>\n",
       "\t<tr><td>Reference code                   </td><td>mandatory                        </td><td>mandatory                        </td><td>mandatory                        </td><td>mandatory                        </td><td>mandatory                        </td><td>Identity Statement Area          </td></tr>\n",
       "\t<tr><td>Title                            </td><td>mandatory                        </td><td>mandatory                        </td><td>mandatory                        </td><td>mandatory                        </td><td>mandatory                        </td><td>Identity Statement Area          </td></tr>\n",
       "\t<tr><td>Creator                          </td><td>mandatory                        </td><td>mandatory                        </td><td>mandatory                        </td><td>mandatory                        </td><td>mandatory                        </td><td>Context Area                     </td></tr>\n",
       "\t<tr><td>Dates                            </td><td>mandatory                        </td><td>mandatory                        </td><td>mandatory                        </td><td>mandatory                        </td><td>mandatory                        </td><td>Identity Statement Area          </td></tr>\n",
       "\t<tr><td>Extent of the unit of description</td><td>mandatory                        </td><td>mandatory                        </td><td>mandatory                        </td><td>mandatory                        </td><td>mandatory                        </td><td>Identity Statement Area          </td></tr>\n",
       "\t<tr><td>Level of description             </td><td>mandatory                        </td><td>mandatory                        </td><td>mandatory                        </td><td>mandatory                        </td><td>mandatory                        </td><td>Identity Statement Area          </td></tr>\n",
       "</tbody>\n",
       "</table>\n"
      ],
      "text/latex": [
       "\\begin{tabular}{r|lllllll}\n",
       " elements & Fonds & SubFonds & Series & File & Item & ISAD\\_G\\_Area\\\\\n",
       "\\hline\n",
       "\t Archival history                  & Optional                          & Optional                          & Optional                          & Optional                          & Optional                          & Context Area                     \\\\\n",
       "\t Reference code                    & mandatory                         & mandatory                         & mandatory                         & mandatory                         & mandatory                         & Identity Statement Area          \\\\\n",
       "\t Title                             & mandatory                         & mandatory                         & mandatory                         & mandatory                         & mandatory                         & Identity Statement Area          \\\\\n",
       "\t Creator                           & mandatory                         & mandatory                         & mandatory                         & mandatory                         & mandatory                         & Context Area                     \\\\\n",
       "\t Dates                             & mandatory                         & mandatory                         & mandatory                         & mandatory                         & mandatory                         & Identity Statement Area          \\\\\n",
       "\t Extent of the unit of description & mandatory                         & mandatory                         & mandatory                         & mandatory                         & mandatory                         & Identity Statement Area          \\\\\n",
       "\t Level of description              & mandatory                         & mandatory                         & mandatory                         & mandatory                         & mandatory                         & Identity Statement Area          \\\\\n",
       "\\end{tabular}\n"
      ],
      "text/markdown": [
       "\n",
       "elements | Fonds | SubFonds | Series | File | Item | ISAD_G_Area | \n",
       "|---|---|---|---|---|---|---|\n",
       "| Archival history                  | Optional                          | Optional                          | Optional                          | Optional                          | Optional                          | Context Area                      | \n",
       "| Reference code                    | mandatory                         | mandatory                         | mandatory                         | mandatory                         | mandatory                         | Identity Statement Area           | \n",
       "| Title                             | mandatory                         | mandatory                         | mandatory                         | mandatory                         | mandatory                         | Identity Statement Area           | \n",
       "| Creator                           | mandatory                         | mandatory                         | mandatory                         | mandatory                         | mandatory                         | Context Area                      | \n",
       "| Dates                             | mandatory                         | mandatory                         | mandatory                         | mandatory                         | mandatory                         | Identity Statement Area           | \n",
       "| Extent of the unit of description | mandatory                         | mandatory                         | mandatory                         | mandatory                         | mandatory                         | Identity Statement Area           | \n",
       "| Level of description              | mandatory                         | mandatory                         | mandatory                         | mandatory                         | mandatory                         | Identity Statement Area           | \n",
       "\n",
       "\n"
      ],
      "text/plain": [
       "  elements                          Fonds     SubFonds  Series    File     \n",
       "1 Archival history                  Optional  Optional  Optional  Optional \n",
       "2 Reference code                    mandatory mandatory mandatory mandatory\n",
       "3 Title                             mandatory mandatory mandatory mandatory\n",
       "4 Creator                           mandatory mandatory mandatory mandatory\n",
       "5 Dates                             mandatory mandatory mandatory mandatory\n",
       "6 Extent of the unit of description mandatory mandatory mandatory mandatory\n",
       "7 Level of description              mandatory mandatory mandatory mandatory\n",
       "  Item      ISAD_G_Area            \n",
       "1 Optional  Context Area           \n",
       "2 mandatory Identity Statement Area\n",
       "3 mandatory Identity Statement Area\n",
       "4 mandatory Context Area           \n",
       "5 mandatory Identity Statement Area\n",
       "6 mandatory Identity Statement Area\n",
       "7 mandatory Identity Statement Area"
      ]
     },
     "metadata": {},
     "output_type": "display_data"
    }
   ],
   "source": [
    "elements <- c(\"Archival history\", \"Reference code\", \"Title\", \"Creator\", \"Dates\", \"Extent of the unit of description\", \"Level of description\")\n",
    "Fonds <- c(\"Optional\",\"mandatory\",\"mandatory\",\"mandatory\",\"mandatory\",\"mandatory\",\"mandatory\")\n",
    "SubFonds <- c(\"Optional\",\"mandatory\",\"mandatory\",\"mandatory\",\"mandatory\",\"mandatory\",\"mandatory\")\n",
    "Series <- c(\"Optional\",\"mandatory\",\"mandatory\",\"mandatory\",\"mandatory\",\"mandatory\",\"mandatory\")\n",
    "File <- c(\"Optional\",\"mandatory\",\"mandatory\",\"mandatory\",\"mandatory\",\"mandatory\",\"mandatory\")\n",
    "Item <- c(\"Optional\",\"mandatory\",\"mandatory\",\"mandatory\",\"mandatory\",\"mandatory\",\"mandatory\")\n",
    "ISAD_G_Area <- c(\"Context Area\", \"Identity Statement Area\",\"Identity Statement Area\",\"Context Area\",\"Identity Statement Area\",\"Identity Statement Area\",\"Identity Statement Area\")\n",
    "\n",
    "ISAD_G <- data.frame(elements,Fonds, SubFonds, Series, File, Item, ISAD_G_Area, stringsAsFactors=FALSE)\n",
    "\n",
    "ISAD_G\n"
   ]
  },
  {
   "cell_type": "code",
   "execution_count": 40,
   "metadata": {},
   "outputs": [
    {
     "data": {
      "text/html": [
       "<table>\n",
       "<thead><tr><th scope=col>Element</th><th scope=col>Fonds</th><th scope=col>SubFonds,</th><th scope=col>Series</th><th scope=col>File</th><th scope=col>Item</th><th scope=col>ISAD_G_Area</th></tr></thead>\n",
       "<tbody>\n",
       "\t<tr><td>Archival history                 </td><td>Optional                         </td><td>Optional                         </td><td>Optional                         </td><td>Optional                         </td><td>Optional                         </td><td>Context Area                     </td></tr>\n",
       "\t<tr><td>Reference code                   </td><td>mandatory                        </td><td>mandatory                        </td><td>mandatory                        </td><td>mandatory                        </td><td>mandatory                        </td><td>Identity Statement Area          </td></tr>\n",
       "\t<tr><td>Title                            </td><td>mandatory                        </td><td>mandatory                        </td><td>mandatory                        </td><td>mandatory                        </td><td>mandatory                        </td><td>Identity Statement Area          </td></tr>\n",
       "\t<tr><td>Creator                          </td><td>mandatory                        </td><td>mandatory                        </td><td>mandatory                        </td><td>mandatory                        </td><td>mandatory                        </td><td>Context Area                     </td></tr>\n",
       "\t<tr><td>Dates                            </td><td>mandatory                        </td><td>mandatory                        </td><td>mandatory                        </td><td>mandatory                        </td><td>mandatory                        </td><td>Identity Statement Area          </td></tr>\n",
       "\t<tr><td>Extent of the unit of description</td><td>mandatory                        </td><td>mandatory                        </td><td>mandatory                        </td><td>mandatory                        </td><td>mandatory                        </td><td>Identity Statement Area          </td></tr>\n",
       "\t<tr><td>Level of description             </td><td>mandatory                        </td><td>mandatory                        </td><td>mandatory                        </td><td>mandatory                        </td><td>mandatory                        </td><td>Identity Statement Area          </td></tr>\n",
       "</tbody>\n",
       "</table>\n"
      ],
      "text/latex": [
       "\\begin{tabular}{r|lllllll}\n",
       " Element & Fonds & SubFonds, & Series & File & Item & ISAD\\_G\\_Area\\\\\n",
       "\\hline\n",
       "\t Archival history                  & Optional                          & Optional                          & Optional                          & Optional                          & Optional                          & Context Area                     \\\\\n",
       "\t Reference code                    & mandatory                         & mandatory                         & mandatory                         & mandatory                         & mandatory                         & Identity Statement Area          \\\\\n",
       "\t Title                             & mandatory                         & mandatory                         & mandatory                         & mandatory                         & mandatory                         & Identity Statement Area          \\\\\n",
       "\t Creator                           & mandatory                         & mandatory                         & mandatory                         & mandatory                         & mandatory                         & Context Area                     \\\\\n",
       "\t Dates                             & mandatory                         & mandatory                         & mandatory                         & mandatory                         & mandatory                         & Identity Statement Area          \\\\\n",
       "\t Extent of the unit of description & mandatory                         & mandatory                         & mandatory                         & mandatory                         & mandatory                         & Identity Statement Area          \\\\\n",
       "\t Level of description              & mandatory                         & mandatory                         & mandatory                         & mandatory                         & mandatory                         & Identity Statement Area          \\\\\n",
       "\\end{tabular}\n"
      ],
      "text/markdown": [
       "\n",
       "Element | Fonds | SubFonds, | Series | File | Item | ISAD_G_Area | \n",
       "|---|---|---|---|---|---|---|\n",
       "| Archival history                  | Optional                          | Optional                          | Optional                          | Optional                          | Optional                          | Context Area                      | \n",
       "| Reference code                    | mandatory                         | mandatory                         | mandatory                         | mandatory                         | mandatory                         | Identity Statement Area           | \n",
       "| Title                             | mandatory                         | mandatory                         | mandatory                         | mandatory                         | mandatory                         | Identity Statement Area           | \n",
       "| Creator                           | mandatory                         | mandatory                         | mandatory                         | mandatory                         | mandatory                         | Context Area                      | \n",
       "| Dates                             | mandatory                         | mandatory                         | mandatory                         | mandatory                         | mandatory                         | Identity Statement Area           | \n",
       "| Extent of the unit of description | mandatory                         | mandatory                         | mandatory                         | mandatory                         | mandatory                         | Identity Statement Area           | \n",
       "| Level of description              | mandatory                         | mandatory                         | mandatory                         | mandatory                         | mandatory                         | Identity Statement Area           | \n",
       "\n",
       "\n"
      ],
      "text/plain": [
       "  Element                           Fonds     SubFonds, Series    File     \n",
       "1 Archival history                  Optional  Optional  Optional  Optional \n",
       "2 Reference code                    mandatory mandatory mandatory mandatory\n",
       "3 Title                             mandatory mandatory mandatory mandatory\n",
       "4 Creator                           mandatory mandatory mandatory mandatory\n",
       "5 Dates                             mandatory mandatory mandatory mandatory\n",
       "6 Extent of the unit of description mandatory mandatory mandatory mandatory\n",
       "7 Level of description              mandatory mandatory mandatory mandatory\n",
       "  Item      ISAD_G_Area            \n",
       "1 Optional  Context Area           \n",
       "2 mandatory Identity Statement Area\n",
       "3 mandatory Identity Statement Area\n",
       "4 mandatory Context Area           \n",
       "5 mandatory Identity Statement Area\n",
       "6 mandatory Identity Statement Area\n",
       "7 mandatory Identity Statement Area"
      ]
     },
     "metadata": {},
     "output_type": "display_data"
    }
   ],
   "source": [
    "\n",
    "colnames(ISAD_G) <- c(\"Element\",\"Fonds\", \"SubFonds,\",\"Series\",\"File\", \"Item\", \"ISAD_G_Area\")\n",
    "#rownames(ISAD_G) <- c(\"elements\")\n",
    "ISAD_G"
   ]
  },
  {
   "cell_type": "code",
   "execution_count": 37,
   "metadata": {},
   "outputs": [
    {
     "data": {
      "text/html": [
       "<table>\n",
       "<thead><tr><th scope=col>Element</th><th scope=col>Fonds</th><th scope=col>SubFonds,</th><th scope=col>Series</th><th scope=col>File</th><th scope=col>Item</th><th scope=col>ISAD_G_Area</th></tr></thead>\n",
       "<tbody>\n",
       "\t<tr><td>Reference code                   </td><td>mandatory                        </td><td>mandatory                        </td><td>mandatory                        </td><td>mandatory                        </td><td>mandatory                        </td><td>Identity Statement Area          </td></tr>\n",
       "\t<tr><td>Title                            </td><td>mandatory                        </td><td>mandatory                        </td><td>mandatory                        </td><td>mandatory                        </td><td>mandatory                        </td><td>Identity Statement Area          </td></tr>\n",
       "\t<tr><td>Creator                          </td><td>mandatory                        </td><td>mandatory                        </td><td>mandatory                        </td><td>mandatory                        </td><td>mandatory                        </td><td>Context Area                     </td></tr>\n",
       "\t<tr><td>Dates                            </td><td>mandatory                        </td><td>mandatory                        </td><td>mandatory                        </td><td>mandatory                        </td><td>mandatory                        </td><td>Identity Statement Area          </td></tr>\n",
       "\t<tr><td>Extent of the unit of description</td><td>mandatory                        </td><td>mandatory                        </td><td>mandatory                        </td><td>mandatory                        </td><td>mandatory                        </td><td>Identity Statement Area          </td></tr>\n",
       "\t<tr><td>Level of description             </td><td>mandatory                        </td><td>mandatory                        </td><td>mandatory                        </td><td>mandatory                        </td><td>mandatory                        </td><td>Identity Statement Area          </td></tr>\n",
       "\t<tr><td>Archival history                 </td><td>Optional                         </td><td>Optional                         </td><td>Optional                         </td><td>Optional                         </td><td>Optional                         </td><td>Archival history                 </td></tr>\n",
       "</tbody>\n",
       "</table>\n"
      ],
      "text/latex": [
       "\\begin{tabular}{r|lllllll}\n",
       " Element & Fonds & SubFonds, & Series & File & Item & ISAD\\_G\\_Area\\\\\n",
       "\\hline\n",
       "\t Reference code                    & mandatory                         & mandatory                         & mandatory                         & mandatory                         & mandatory                         & Identity Statement Area          \\\\\n",
       "\t Title                             & mandatory                         & mandatory                         & mandatory                         & mandatory                         & mandatory                         & Identity Statement Area          \\\\\n",
       "\t Creator                           & mandatory                         & mandatory                         & mandatory                         & mandatory                         & mandatory                         & Context Area                     \\\\\n",
       "\t Dates                             & mandatory                         & mandatory                         & mandatory                         & mandatory                         & mandatory                         & Identity Statement Area          \\\\\n",
       "\t Extent of the unit of description & mandatory                         & mandatory                         & mandatory                         & mandatory                         & mandatory                         & Identity Statement Area          \\\\\n",
       "\t Level of description              & mandatory                         & mandatory                         & mandatory                         & mandatory                         & mandatory                         & Identity Statement Area          \\\\\n",
       "\t Archival history                  & Optional                          & Optional                          & Optional                          & Optional                          & Optional                          & Archival history                 \\\\\n",
       "\\end{tabular}\n"
      ],
      "text/markdown": [
       "\n",
       "Element | Fonds | SubFonds, | Series | File | Item | ISAD_G_Area | \n",
       "|---|---|---|---|---|---|---|\n",
       "| Reference code                    | mandatory                         | mandatory                         | mandatory                         | mandatory                         | mandatory                         | Identity Statement Area           | \n",
       "| Title                             | mandatory                         | mandatory                         | mandatory                         | mandatory                         | mandatory                         | Identity Statement Area           | \n",
       "| Creator                           | mandatory                         | mandatory                         | mandatory                         | mandatory                         | mandatory                         | Context Area                      | \n",
       "| Dates                             | mandatory                         | mandatory                         | mandatory                         | mandatory                         | mandatory                         | Identity Statement Area           | \n",
       "| Extent of the unit of description | mandatory                         | mandatory                         | mandatory                         | mandatory                         | mandatory                         | Identity Statement Area           | \n",
       "| Level of description              | mandatory                         | mandatory                         | mandatory                         | mandatory                         | mandatory                         | Identity Statement Area           | \n",
       "| Archival history                  | Optional                          | Optional                          | Optional                          | Optional                          | Optional                          | Archival history                  | \n",
       "\n",
       "\n"
      ],
      "text/plain": [
       "  Element                           Fonds     SubFonds, Series    File     \n",
       "1 Reference code                    mandatory mandatory mandatory mandatory\n",
       "2 Title                             mandatory mandatory mandatory mandatory\n",
       "3 Creator                           mandatory mandatory mandatory mandatory\n",
       "4 Dates                             mandatory mandatory mandatory mandatory\n",
       "5 Extent of the unit of description mandatory mandatory mandatory mandatory\n",
       "6 Level of description              mandatory mandatory mandatory mandatory\n",
       "7 Archival history                  Optional  Optional  Optional  Optional \n",
       "  Item      ISAD_G_Area            \n",
       "1 mandatory Identity Statement Area\n",
       "2 mandatory Identity Statement Area\n",
       "3 mandatory Context Area           \n",
       "4 mandatory Identity Statement Area\n",
       "5 mandatory Identity Statement Area\n",
       "6 mandatory Identity Statement Area\n",
       "7 Optional  Archival history       "
      ]
     },
     "metadata": {},
     "output_type": "display_data"
    }
   ],
   "source": [
    "#rbind(ISAD_G, c(\"Archival history\",\"Optional\",\"Optional\",\"Optional\",\"Optional\",\"Optional\"))"
   ]
  },
  {
   "cell_type": "code",
   "execution_count": 42,
   "metadata": {},
   "outputs": [
    {
     "data": {
      "text/html": [
       "<table>\n",
       "<thead><tr><th></th><th scope=col>Element</th><th scope=col>Fonds</th><th scope=col>SubFonds,</th><th scope=col>Series</th><th scope=col>File</th><th scope=col>Item</th><th scope=col>ISAD_G_Area</th></tr></thead>\n",
       "<tbody>\n",
       "\t<tr><th scope=row>2</th><td>Reference code                   </td><td>mandatory                        </td><td>mandatory                        </td><td>mandatory                        </td><td>mandatory                        </td><td>mandatory                        </td><td>Identity Statement Area          </td></tr>\n",
       "\t<tr><th scope=row>3</th><td>Title                            </td><td>mandatory                        </td><td>mandatory                        </td><td>mandatory                        </td><td>mandatory                        </td><td>mandatory                        </td><td>Identity Statement Area          </td></tr>\n",
       "\t<tr><th scope=row>4</th><td>Creator                          </td><td>mandatory                        </td><td>mandatory                        </td><td>mandatory                        </td><td>mandatory                        </td><td>mandatory                        </td><td>Context Area                     </td></tr>\n",
       "\t<tr><th scope=row>5</th><td>Dates                            </td><td>mandatory                        </td><td>mandatory                        </td><td>mandatory                        </td><td>mandatory                        </td><td>mandatory                        </td><td>Identity Statement Area          </td></tr>\n",
       "\t<tr><th scope=row>6</th><td>Extent of the unit of description</td><td>mandatory                        </td><td>mandatory                        </td><td>mandatory                        </td><td>mandatory                        </td><td>mandatory                        </td><td>Identity Statement Area          </td></tr>\n",
       "\t<tr><th scope=row>7</th><td>Level of description             </td><td>mandatory                        </td><td>mandatory                        </td><td>mandatory                        </td><td>mandatory                        </td><td>mandatory                        </td><td>Identity Statement Area          </td></tr>\n",
       "</tbody>\n",
       "</table>\n"
      ],
      "text/latex": [
       "\\begin{tabular}{r|lllllll}\n",
       "  & Element & Fonds & SubFonds, & Series & File & Item & ISAD\\_G\\_Area\\\\\n",
       "\\hline\n",
       "\t2 & Reference code                    & mandatory                         & mandatory                         & mandatory                         & mandatory                         & mandatory                         & Identity Statement Area          \\\\\n",
       "\t3 & Title                             & mandatory                         & mandatory                         & mandatory                         & mandatory                         & mandatory                         & Identity Statement Area          \\\\\n",
       "\t4 & Creator                           & mandatory                         & mandatory                         & mandatory                         & mandatory                         & mandatory                         & Context Area                     \\\\\n",
       "\t5 & Dates                             & mandatory                         & mandatory                         & mandatory                         & mandatory                         & mandatory                         & Identity Statement Area          \\\\\n",
       "\t6 & Extent of the unit of description & mandatory                         & mandatory                         & mandatory                         & mandatory                         & mandatory                         & Identity Statement Area          \\\\\n",
       "\t7 & Level of description              & mandatory                         & mandatory                         & mandatory                         & mandatory                         & mandatory                         & Identity Statement Area          \\\\\n",
       "\\end{tabular}\n"
      ],
      "text/markdown": [
       "\n",
       "| <!--/--> | Element | Fonds | SubFonds, | Series | File | Item | ISAD_G_Area | \n",
       "|---|---|---|---|---|---|\n",
       "| 2 | Reference code                    | mandatory                         | mandatory                         | mandatory                         | mandatory                         | mandatory                         | Identity Statement Area           | \n",
       "| 3 | Title                             | mandatory                         | mandatory                         | mandatory                         | mandatory                         | mandatory                         | Identity Statement Area           | \n",
       "| 4 | Creator                           | mandatory                         | mandatory                         | mandatory                         | mandatory                         | mandatory                         | Context Area                      | \n",
       "| 5 | Dates                             | mandatory                         | mandatory                         | mandatory                         | mandatory                         | mandatory                         | Identity Statement Area           | \n",
       "| 6 | Extent of the unit of description | mandatory                         | mandatory                         | mandatory                         | mandatory                         | mandatory                         | Identity Statement Area           | \n",
       "| 7 | Level of description              | mandatory                         | mandatory                         | mandatory                         | mandatory                         | mandatory                         | Identity Statement Area           | \n",
       "\n",
       "\n"
      ],
      "text/plain": [
       "  Element                           Fonds     SubFonds, Series    File     \n",
       "2 Reference code                    mandatory mandatory mandatory mandatory\n",
       "3 Title                             mandatory mandatory mandatory mandatory\n",
       "4 Creator                           mandatory mandatory mandatory mandatory\n",
       "5 Dates                             mandatory mandatory mandatory mandatory\n",
       "6 Extent of the unit of description mandatory mandatory mandatory mandatory\n",
       "7 Level of description              mandatory mandatory mandatory mandatory\n",
       "  Item      ISAD_G_Area            \n",
       "2 mandatory Identity Statement Area\n",
       "3 mandatory Identity Statement Area\n",
       "4 mandatory Context Area           \n",
       "5 mandatory Identity Statement Area\n",
       "6 mandatory Identity Statement Area\n",
       "7 mandatory Identity Statement Area"
      ]
     },
     "metadata": {},
     "output_type": "display_data"
    }
   ],
   "source": [
    "ISAD_G_Fonds_essential <- subset(ISAD_G, Fonds == \"mandatory\")\n",
    "ISAD_G_Fonds_essential"
   ]
  },
  {
   "cell_type": "code",
   "execution_count": 43,
   "metadata": {},
   "outputs": [
    {
     "data": {
      "text/html": [
       "<table>\n",
       "<thead><tr><th scope=col>Element</th><th scope=col>Fonds</th><th scope=col>SubFonds,</th><th scope=col>Series</th><th scope=col>File</th><th scope=col>Item</th><th scope=col>ISAD_G_Area</th></tr></thead>\n",
       "<tbody>\n",
       "\t<tr><td>Archival history</td><td>Optional        </td><td>Optional        </td><td>Optional        </td><td>Optional        </td><td>Optional        </td><td>Context Area    </td></tr>\n",
       "</tbody>\n",
       "</table>\n"
      ],
      "text/latex": [
       "\\begin{tabular}{r|lllllll}\n",
       " Element & Fonds & SubFonds, & Series & File & Item & ISAD\\_G\\_Area\\\\\n",
       "\\hline\n",
       "\t Archival history & Optional         & Optional         & Optional         & Optional         & Optional         & Context Area    \\\\\n",
       "\\end{tabular}\n"
      ],
      "text/markdown": [
       "\n",
       "Element | Fonds | SubFonds, | Series | File | Item | ISAD_G_Area | \n",
       "|---|\n",
       "| Archival history | Optional         | Optional         | Optional         | Optional         | Optional         | Context Area     | \n",
       "\n",
       "\n"
      ],
      "text/plain": [
       "  Element          Fonds    SubFonds, Series   File     Item     ISAD_G_Area \n",
       "1 Archival history Optional Optional  Optional Optional Optional Context Area"
      ]
     },
     "metadata": {},
     "output_type": "display_data"
    }
   ],
   "source": [
    "ISAD_G_Fonds_optional <- subset(ISAD_G, Fonds ==\"Optional\")\n",
    "ISAD_G_Fonds_optional"
   ]
  },
  {
   "cell_type": "code",
   "execution_count": 45,
   "metadata": {},
   "outputs": [
    {
     "data": {
      "text/html": [
       "<table>\n",
       "<thead><tr><th></th><th scope=col>Element</th><th scope=col>Fonds</th><th scope=col>SubFonds,</th><th scope=col>Series</th><th scope=col>File</th><th scope=col>Item</th><th scope=col>ISAD_G_Area</th></tr></thead>\n",
       "<tbody>\n",
       "\t<tr><th scope=row>2</th><td>Reference code                   </td><td>mandatory                        </td><td>mandatory                        </td><td>mandatory                        </td><td>mandatory                        </td><td>mandatory                        </td><td>Identity Statement Area          </td></tr>\n",
       "\t<tr><th scope=row>3</th><td>Title                            </td><td>mandatory                        </td><td>mandatory                        </td><td>mandatory                        </td><td>mandatory                        </td><td>mandatory                        </td><td>Identity Statement Area          </td></tr>\n",
       "\t<tr><th scope=row>5</th><td>Dates                            </td><td>mandatory                        </td><td>mandatory                        </td><td>mandatory                        </td><td>mandatory                        </td><td>mandatory                        </td><td>Identity Statement Area          </td></tr>\n",
       "\t<tr><th scope=row>6</th><td>Extent of the unit of description</td><td>mandatory                        </td><td>mandatory                        </td><td>mandatory                        </td><td>mandatory                        </td><td>mandatory                        </td><td>Identity Statement Area          </td></tr>\n",
       "\t<tr><th scope=row>7</th><td>Level of description             </td><td>mandatory                        </td><td>mandatory                        </td><td>mandatory                        </td><td>mandatory                        </td><td>mandatory                        </td><td>Identity Statement Area          </td></tr>\n",
       "</tbody>\n",
       "</table>\n"
      ],
      "text/latex": [
       "\\begin{tabular}{r|lllllll}\n",
       "  & Element & Fonds & SubFonds, & Series & File & Item & ISAD\\_G\\_Area\\\\\n",
       "\\hline\n",
       "\t2 & Reference code                    & mandatory                         & mandatory                         & mandatory                         & mandatory                         & mandatory                         & Identity Statement Area          \\\\\n",
       "\t3 & Title                             & mandatory                         & mandatory                         & mandatory                         & mandatory                         & mandatory                         & Identity Statement Area          \\\\\n",
       "\t5 & Dates                             & mandatory                         & mandatory                         & mandatory                         & mandatory                         & mandatory                         & Identity Statement Area          \\\\\n",
       "\t6 & Extent of the unit of description & mandatory                         & mandatory                         & mandatory                         & mandatory                         & mandatory                         & Identity Statement Area          \\\\\n",
       "\t7 & Level of description              & mandatory                         & mandatory                         & mandatory                         & mandatory                         & mandatory                         & Identity Statement Area          \\\\\n",
       "\\end{tabular}\n"
      ],
      "text/markdown": [
       "\n",
       "| <!--/--> | Element | Fonds | SubFonds, | Series | File | Item | ISAD_G_Area | \n",
       "|---|---|---|---|---|\n",
       "| 2 | Reference code                    | mandatory                         | mandatory                         | mandatory                         | mandatory                         | mandatory                         | Identity Statement Area           | \n",
       "| 3 | Title                             | mandatory                         | mandatory                         | mandatory                         | mandatory                         | mandatory                         | Identity Statement Area           | \n",
       "| 5 | Dates                             | mandatory                         | mandatory                         | mandatory                         | mandatory                         | mandatory                         | Identity Statement Area           | \n",
       "| 6 | Extent of the unit of description | mandatory                         | mandatory                         | mandatory                         | mandatory                         | mandatory                         | Identity Statement Area           | \n",
       "| 7 | Level of description              | mandatory                         | mandatory                         | mandatory                         | mandatory                         | mandatory                         | Identity Statement Area           | \n",
       "\n",
       "\n"
      ],
      "text/plain": [
       "  Element                           Fonds     SubFonds, Series    File     \n",
       "2 Reference code                    mandatory mandatory mandatory mandatory\n",
       "3 Title                             mandatory mandatory mandatory mandatory\n",
       "5 Dates                             mandatory mandatory mandatory mandatory\n",
       "6 Extent of the unit of description mandatory mandatory mandatory mandatory\n",
       "7 Level of description              mandatory mandatory mandatory mandatory\n",
       "  Item      ISAD_G_Area            \n",
       "2 mandatory Identity Statement Area\n",
       "3 mandatory Identity Statement Area\n",
       "5 mandatory Identity Statement Area\n",
       "6 mandatory Identity Statement Area\n",
       "7 mandatory Identity Statement Area"
      ]
     },
     "metadata": {},
     "output_type": "display_data"
    }
   ],
   "source": [
    "ISAD_G_Identity_Statement_Area <- subset(ISAD_G, ISAD_G_Area ==\"Identity Statement Area\")\n",
    "ISAD_G_Identity_Statement_Area"
   ]
  },
  {
   "cell_type": "code",
   "execution_count": 46,
   "metadata": {},
   "outputs": [
    {
     "data": {
      "text/html": [
       "<table>\n",
       "<thead><tr><th></th><th scope=col>Element</th><th scope=col>Fonds</th><th scope=col>SubFonds,</th><th scope=col>Series</th><th scope=col>File</th><th scope=col>Item</th><th scope=col>ISAD_G_Area</th></tr></thead>\n",
       "<tbody>\n",
       "\t<tr><th scope=row>1</th><td>Archival history</td><td>Optional        </td><td>Optional        </td><td>Optional        </td><td>Optional        </td><td>Optional        </td><td>Context Area    </td></tr>\n",
       "\t<tr><th scope=row>4</th><td>Creator         </td><td>mandatory       </td><td>mandatory       </td><td>mandatory       </td><td>mandatory       </td><td>mandatory       </td><td>Context Area    </td></tr>\n",
       "</tbody>\n",
       "</table>\n"
      ],
      "text/latex": [
       "\\begin{tabular}{r|lllllll}\n",
       "  & Element & Fonds & SubFonds, & Series & File & Item & ISAD\\_G\\_Area\\\\\n",
       "\\hline\n",
       "\t1 & Archival history & Optional         & Optional         & Optional         & Optional         & Optional         & Context Area    \\\\\n",
       "\t4 & Creator          & mandatory        & mandatory        & mandatory        & mandatory        & mandatory        & Context Area    \\\\\n",
       "\\end{tabular}\n"
      ],
      "text/markdown": [
       "\n",
       "| <!--/--> | Element | Fonds | SubFonds, | Series | File | Item | ISAD_G_Area | \n",
       "|---|---|\n",
       "| 1 | Archival history | Optional         | Optional         | Optional         | Optional         | Optional         | Context Area     | \n",
       "| 4 | Creator          | mandatory        | mandatory        | mandatory        | mandatory        | mandatory        | Context Area     | \n",
       "\n",
       "\n"
      ],
      "text/plain": [
       "  Element          Fonds     SubFonds, Series    File      Item     \n",
       "1 Archival history Optional  Optional  Optional  Optional  Optional \n",
       "4 Creator          mandatory mandatory mandatory mandatory mandatory\n",
       "  ISAD_G_Area \n",
       "1 Context Area\n",
       "4 Context Area"
      ]
     },
     "metadata": {},
     "output_type": "display_data"
    }
   ],
   "source": [
    "ISAD_G_Context_Area <- subset(ISAD_G, ISAD_G_Area ==\"Context Area\")\n",
    "ISAD_G_Context_Area"
   ]
  },
  {
   "cell_type": "code",
   "execution_count": null,
   "metadata": {},
   "outputs": [],
   "source": []
  }
 ],
 "metadata": {
  "kernelspec": {
   "display_name": "R",
   "language": "R",
   "name": "ir"
  },
  "language_info": {
   "codemirror_mode": "r",
   "file_extension": ".r",
   "mimetype": "text/x-r-source",
   "name": "R",
   "pygments_lexer": "r",
   "version": "3.3.2"
  }
 },
 "nbformat": 4,
 "nbformat_minor": 2
}
