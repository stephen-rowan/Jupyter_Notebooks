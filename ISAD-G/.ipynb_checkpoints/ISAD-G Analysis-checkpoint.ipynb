{
 "cells": [
  {
   "cell_type": "markdown",
   "metadata": {},
   "source": [
    "# ISAD-G Data analysis\n",
    "\n",
    "## Table of Contents\n",
    "\n",
    "\n",
    "1. [Access to Memory (ATOM) ISAD-G Data entry template](#Access to Memory ISAD-G Data entry template)\n",
    "2. [ISAD-G](#ISAD-G)"
   ]
  },
  {
   "cell_type": "markdown",
   "metadata": {},
   "source": [
    "## Access to Memory (ATOM) ISAD-G Data entry template <a class=\"anchor\" id=\"Access to Memory ISAD-G Data entry template\"></a>\n",
    "\n",
    "https://www.accesstomemory.org/en/docs/2.3/user-manual/data-templates/isad-template/"
   ]
  },
  {
   "cell_type": "code",
   "execution_count": 1,
   "metadata": {},
   "outputs": [],
   "source": [
    "isadgdata <- download.file(\"https://raw.githubusercontent.com/stephen-rowan/Jupyter_Notebooks/master/ISAD-G/information_objects_isad-2.3.csv\", \"isad-g-data.csv\", method = \"curl\")"
   ]
  },
  {
   "cell_type": "code",
   "execution_count": 2,
   "metadata": {},
   "outputs": [],
   "source": [
    "isadgdata <- read.csv(file=\"isad-g-data.csv\", header=TRUE, sep=\",\")"
   ]
  },
  {
   "cell_type": "code",
   "execution_count": 3,
   "metadata": {},
   "outputs": [
    {
     "data": {
      "text/html": [
       "<table>\n",
       "<thead><tr><th scope=col>legacyId</th><th scope=col>parentId</th><th scope=col>qubitParentSlug</th><th scope=col>identifier</th><th scope=col>accessionNumber</th><th scope=col>title</th><th scope=col>levelOfDescription</th><th scope=col>extentAndMedium</th><th scope=col>repository</th><th scope=col>archivalHistory</th><th scope=col>⋯</th><th scope=col>physicalObjectType</th><th scope=col>alternativeIdentifiers</th><th scope=col>alternativeIdentifierLabels</th><th scope=col>eventDates</th><th scope=col>eventTypes</th><th scope=col>eventStartDates</th><th scope=col>eventEndDates</th><th scope=col>eventActors</th><th scope=col>eventActorHistories</th><th scope=col>culture</th></tr></thead>\n",
       "<tbody>\n",
       "\t<tr><td>1                                                                                                                                                        </td><td>NA                                                                                                                                                       </td><td>NA                                                                                                                                                       </td><td>F1                                                                                                                                                       </td><td>NA                                                                                                                                                       </td><td>Example fonds                                                                                                                                            </td><td>Fonds                                                                                                                                                    </td><td>Example fonds Extent and medium (ISAD 3.1.5)                                                                                                             </td><td>Example Repository                                                                                                                                       </td><td>Example fonds Archival history (ISAD 3.2.3)                                                                                                              </td><td>⋯                                                                                                                                                        </td><td>Shelf                                                                                                                                                    </td><td>ALT-ID1|ALT-ID2                                                                                                                                          </td><td>Alternate identifier label 1|Alternative identifer label 2                                                                                               </td><td>January 1, 2015 - December 31, 2016|2016                                                                                                                 </td><td>Creation|Accumulation                                                                                                                                    </td><td>2015-01-01|2016-00-00                                                                                                                                    </td><td>2016-12-31|2016-00-00                                                                                                                                    </td><td>Creator (ISAD 3.2.1)|Accumulator (ISAD 3.2.1)                                                                                                            </td><td>Example fonds Creator history (ISAD 3.2.2). Note that this will be added to the related authority record for Creator (ISAD 3.2.1).|History of Accumulator</td><td>en                                                                                                                                                       </td></tr>\n",
       "\t<tr><td>2                                                                                                                                                        </td><td> 1                                                                                                                                                       </td><td>NA                                                                                                                                                       </td><td>IT-1                                                                                                                                                     </td><td>NA                                                                                                                                                       </td><td>Example Item                                                                                                                                             </td><td>Item                                                                                                                                                     </td><td>Example item Extent and medium                                                                                                                           </td><td>Example Repository                                                                                                                                       </td><td>Example item Archival history                                                                                                                            </td><td>⋯                                                                                                                                                        </td><td>Box                                                                                                                                                      </td><td>ALT-ID3|ALT-ID4                                                                                                                                          </td><td>Alternate identifier label 3|Alternative identifer label 4                                                                                               </td><td>January 2015 - December 2016                                                                                                                             </td><td>Creation                                                                                                                                                 </td><td>2015-01-01                                                                                                                                               </td><td>2016-12-31                                                                                                                                               </td><td>NULL                                                                                                                                                     </td><td>NULL                                                                                                                                                     </td><td>en                                                                                                                                                       </td></tr>\n",
       "</tbody>\n",
       "</table>\n"
      ],
      "text/latex": [
       "\\begin{tabular}{r|lllllllllllllllllllllllllllllllllllllllllllllllllllllll}\n",
       " legacyId & parentId & qubitParentSlug & identifier & accessionNumber & title & levelOfDescription & extentAndMedium & repository & archivalHistory & ⋯ & physicalObjectType & alternativeIdentifiers & alternativeIdentifierLabels & eventDates & eventTypes & eventStartDates & eventEndDates & eventActors & eventActorHistories & culture\\\\\n",
       "\\hline\n",
       "\t 1                                                                                                                                                                   & NA                                                                                                                                                                  & NA                                                                                                                                                                  & F1                                                                                                                                                                  & NA                                                                                                                                                                  & Example fonds                                                                                                                                                       & Fonds                                                                                                                                                               & Example fonds Extent and medium (ISAD 3.1.5)                                                                                                                        & Example Repository                                                                                                                                                  & Example fonds Archival history (ISAD 3.2.3)                                                                                                                         & ⋯                                                                                                                                                                   & Shelf                                                                                                                                                               & ALT-ID1\\textbar{}ALT-ID2                                                                                                                                           & Alternate identifier label 1\\textbar{}Alternative identifer label 2                                                                                                & January 1, 2015 - December 31, 2016\\textbar{}2016                                                                                                                  & Creation\\textbar{}Accumulation                                                                                                                                     & 2015-01-01\\textbar{}2016-00-00                                                                                                                                     & 2016-12-31\\textbar{}2016-00-00                                                                                                                                     & Creator (ISAD 3.2.1)\\textbar{}Accumulator (ISAD 3.2.1)                                                                                                             & Example fonds Creator history (ISAD 3.2.2). Note that this will be added to the related authority record for Creator (ISAD 3.2.1).\\textbar{}History of Accumulator & en                                                                                                                                                                 \\\\\n",
       "\t 2                                                                                                                                                         &  1                                                                                                                                                        & NA                                                                                                                                                        & IT-1                                                                                                                                                      & NA                                                                                                                                                        & Example Item                                                                                                                                              & Item                                                                                                                                                      & Example item Extent and medium                                                                                                                            & Example Repository                                                                                                                                        & Example item Archival history                                                                                                                             & ⋯                                                                                                                                                         & Box                                                                                                                                                       & ALT-ID3\\textbar{}ALT-ID4                                                                                                                                 & Alternate identifier label 3\\textbar{}Alternative identifer label 4                                                                                      & January 2015 - December 2016                                                                                                                              & Creation                                                                                                                                                  & 2015-01-01                                                                                                                                                & 2016-12-31                                                                                                                                                & NULL                                                                                                                                                      & NULL                                                                                                                                                      & en                                                                                                                                                       \\\\\n",
       "\\end{tabular}\n"
      ],
      "text/markdown": [
       "\n",
       "legacyId | parentId | qubitParentSlug | identifier | accessionNumber | title | levelOfDescription | extentAndMedium | repository | archivalHistory | ⋯ | physicalObjectType | alternativeIdentifiers | alternativeIdentifierLabels | eventDates | eventTypes | eventStartDates | eventEndDates | eventActors | eventActorHistories | culture | \n",
       "|---|---|\n",
       "| 1                                                                                                                                                         | NA                                                                                                                                                        | NA                                                                                                                                                        | F1                                                                                                                                                        | NA                                                                                                                                                        | Example fonds                                                                                                                                             | Fonds                                                                                                                                                     | Example fonds Extent and medium (ISAD 3.1.5)                                                                                                              | Example Repository                                                                                                                                        | Example fonds Archival history (ISAD 3.2.3)                                                                                                               | ⋯                                                                                                                                                         | Shelf                                                                                                                                                     | ALT-ID1|ALT-ID2                                                                                                                                           | Alternate identifier label 1|Alternative identifer label 2                                                                                                | January 1, 2015 - December 31, 2016|2016                                                                                                                  | Creation|Accumulation                                                                                                                                     | 2015-01-01|2016-00-00                                                                                                                                     | 2016-12-31|2016-00-00                                                                                                                                     | Creator (ISAD 3.2.1)|Accumulator (ISAD 3.2.1)                                                                                                             | Example fonds Creator history (ISAD 3.2.2). Note that this will be added to the related authority record for Creator (ISAD 3.2.1).|History of Accumulator | en                                                                                                                                                        | \n",
       "| 2                                                                                                                                                         |  1                                                                                                                                                        | NA                                                                                                                                                        | IT-1                                                                                                                                                      | NA                                                                                                                                                        | Example Item                                                                                                                                              | Item                                                                                                                                                      | Example item Extent and medium                                                                                                                            | Example Repository                                                                                                                                        | Example item Archival history                                                                                                                             | ⋯                                                                                                                                                         | Box                                                                                                                                                       | ALT-ID3|ALT-ID4                                                                                                                                           | Alternate identifier label 3|Alternative identifer label 4                                                                                                | January 2015 - December 2016                                                                                                                              | Creation                                                                                                                                                  | 2015-01-01                                                                                                                                                | 2016-12-31                                                                                                                                                | NULL                                                                                                                                                      | NULL                                                                                                                                                      | en                                                                                                                                                        | \n",
       "\n",
       "\n"
      ],
      "text/plain": [
       "  legacyId parentId qubitParentSlug identifier accessionNumber title        \n",
       "1 1        NA       NA              F1         NA              Example fonds\n",
       "2 2         1       NA              IT-1       NA              Example Item \n",
       "  levelOfDescription extentAndMedium                             \n",
       "1 Fonds              Example fonds Extent and medium (ISAD 3.1.5)\n",
       "2 Item               Example item Extent and medium              \n",
       "  repository         archivalHistory                             ⋯\n",
       "1 Example Repository Example fonds Archival history (ISAD 3.2.3) ⋯\n",
       "2 Example Repository Example item Archival history               ⋯\n",
       "  physicalObjectType alternativeIdentifiers\n",
       "1 Shelf              ALT-ID1|ALT-ID2       \n",
       "2 Box                ALT-ID3|ALT-ID4       \n",
       "  alternativeIdentifierLabels                               \n",
       "1 Alternate identifier label 1|Alternative identifer label 2\n",
       "2 Alternate identifier label 3|Alternative identifer label 4\n",
       "  eventDates                               eventTypes           \n",
       "1 January 1, 2015 - December 31, 2016|2016 Creation|Accumulation\n",
       "2 January 2015 - December 2016             Creation             \n",
       "  eventStartDates       eventEndDates        \n",
       "1 2015-01-01|2016-00-00 2016-12-31|2016-00-00\n",
       "2 2015-01-01            2016-12-31           \n",
       "  eventActors                                  \n",
       "1 Creator (ISAD 3.2.1)|Accumulator (ISAD 3.2.1)\n",
       "2 NULL                                         \n",
       "  eventActorHistories                                                                                                                                      \n",
       "1 Example fonds Creator history (ISAD 3.2.2). Note that this will be added to the related authority record for Creator (ISAD 3.2.1).|History of Accumulator\n",
       "2 NULL                                                                                                                                                     \n",
       "  culture\n",
       "1 en     \n",
       "2 en     "
      ]
     },
     "metadata": {},
     "output_type": "display_data"
    }
   ],
   "source": [
    "head(isadgdata)"
   ]
  },
  {
   "cell_type": "code",
   "execution_count": 4,
   "metadata": {},
   "outputs": [
    {
     "data": {
      "text/html": [
       "<ol class=list-inline>\n",
       "\t<li>2</li>\n",
       "\t<li>55</li>\n",
       "</ol>\n"
      ],
      "text/latex": [
       "\\begin{enumerate*}\n",
       "\\item 2\n",
       "\\item 55\n",
       "\\end{enumerate*}\n"
      ],
      "text/markdown": [
       "1. 2\n",
       "2. 55\n",
       "\n",
       "\n"
      ],
      "text/plain": [
       "[1]  2 55"
      ]
     },
     "metadata": {},
     "output_type": "display_data"
    }
   ],
   "source": [
    "dim(isadgdata)"
   ]
  },
  {
   "cell_type": "code",
   "execution_count": 5,
   "metadata": {},
   "outputs": [
    {
     "data": {
      "text/html": [
       "<ol class=list-inline>\n",
       "\t<li>'legacyId'</li>\n",
       "\t<li>'parentId'</li>\n",
       "\t<li>'qubitParentSlug'</li>\n",
       "\t<li>'identifier'</li>\n",
       "\t<li>'accessionNumber'</li>\n",
       "\t<li>'title'</li>\n",
       "\t<li>'levelOfDescription'</li>\n",
       "\t<li>'extentAndMedium'</li>\n",
       "\t<li>'repository'</li>\n",
       "\t<li>'archivalHistory'</li>\n",
       "\t<li>'acquisition'</li>\n",
       "\t<li>'scopeAndContent'</li>\n",
       "\t<li>'appraisal'</li>\n",
       "\t<li>'accruals'</li>\n",
       "\t<li>'arrangement'</li>\n",
       "\t<li>'accessConditions'</li>\n",
       "\t<li>'reproductionConditions'</li>\n",
       "\t<li>'language'</li>\n",
       "\t<li>'script'</li>\n",
       "\t<li>'languageNote'</li>\n",
       "\t<li>'physicalCharacteristics'</li>\n",
       "\t<li>'findingAids'</li>\n",
       "\t<li>'locationOfOriginals'</li>\n",
       "\t<li>'locationOfCopies'</li>\n",
       "\t<li>'relatedUnitsOfDescription'</li>\n",
       "\t<li>'publicationNote'</li>\n",
       "\t<li>'digitalObjectURI'</li>\n",
       "\t<li>'generalNote'</li>\n",
       "\t<li>'subjectAccessPoints'</li>\n",
       "\t<li>'placeAccessPoints'</li>\n",
       "\t<li>'nameAccessPoints'</li>\n",
       "\t<li>'genreAccessPoints'</li>\n",
       "\t<li>'descriptionIdentifier'</li>\n",
       "\t<li>'institutionIdentifier'</li>\n",
       "\t<li>'rules'</li>\n",
       "\t<li>'descriptionStatus'</li>\n",
       "\t<li>'levelOfDetail'</li>\n",
       "\t<li>'revisionHistory'</li>\n",
       "\t<li>'languageOfDescription'</li>\n",
       "\t<li>'scriptOfDescription'</li>\n",
       "\t<li>'sources'</li>\n",
       "\t<li>'archivistNote'</li>\n",
       "\t<li>'publicationStatus'</li>\n",
       "\t<li>'physicalObjectName'</li>\n",
       "\t<li>'physicalObjectLocation'</li>\n",
       "\t<li>'physicalObjectType'</li>\n",
       "\t<li>'alternativeIdentifiers'</li>\n",
       "\t<li>'alternativeIdentifierLabels'</li>\n",
       "\t<li>'eventDates'</li>\n",
       "\t<li>'eventTypes'</li>\n",
       "\t<li>'eventStartDates'</li>\n",
       "\t<li>'eventEndDates'</li>\n",
       "\t<li>'eventActors'</li>\n",
       "\t<li>'eventActorHistories'</li>\n",
       "\t<li>'culture'</li>\n",
       "</ol>\n"
      ],
      "text/latex": [
       "\\begin{enumerate*}\n",
       "\\item 'legacyId'\n",
       "\\item 'parentId'\n",
       "\\item 'qubitParentSlug'\n",
       "\\item 'identifier'\n",
       "\\item 'accessionNumber'\n",
       "\\item 'title'\n",
       "\\item 'levelOfDescription'\n",
       "\\item 'extentAndMedium'\n",
       "\\item 'repository'\n",
       "\\item 'archivalHistory'\n",
       "\\item 'acquisition'\n",
       "\\item 'scopeAndContent'\n",
       "\\item 'appraisal'\n",
       "\\item 'accruals'\n",
       "\\item 'arrangement'\n",
       "\\item 'accessConditions'\n",
       "\\item 'reproductionConditions'\n",
       "\\item 'language'\n",
       "\\item 'script'\n",
       "\\item 'languageNote'\n",
       "\\item 'physicalCharacteristics'\n",
       "\\item 'findingAids'\n",
       "\\item 'locationOfOriginals'\n",
       "\\item 'locationOfCopies'\n",
       "\\item 'relatedUnitsOfDescription'\n",
       "\\item 'publicationNote'\n",
       "\\item 'digitalObjectURI'\n",
       "\\item 'generalNote'\n",
       "\\item 'subjectAccessPoints'\n",
       "\\item 'placeAccessPoints'\n",
       "\\item 'nameAccessPoints'\n",
       "\\item 'genreAccessPoints'\n",
       "\\item 'descriptionIdentifier'\n",
       "\\item 'institutionIdentifier'\n",
       "\\item 'rules'\n",
       "\\item 'descriptionStatus'\n",
       "\\item 'levelOfDetail'\n",
       "\\item 'revisionHistory'\n",
       "\\item 'languageOfDescription'\n",
       "\\item 'scriptOfDescription'\n",
       "\\item 'sources'\n",
       "\\item 'archivistNote'\n",
       "\\item 'publicationStatus'\n",
       "\\item 'physicalObjectName'\n",
       "\\item 'physicalObjectLocation'\n",
       "\\item 'physicalObjectType'\n",
       "\\item 'alternativeIdentifiers'\n",
       "\\item 'alternativeIdentifierLabels'\n",
       "\\item 'eventDates'\n",
       "\\item 'eventTypes'\n",
       "\\item 'eventStartDates'\n",
       "\\item 'eventEndDates'\n",
       "\\item 'eventActors'\n",
       "\\item 'eventActorHistories'\n",
       "\\item 'culture'\n",
       "\\end{enumerate*}\n"
      ],
      "text/markdown": [
       "1. 'legacyId'\n",
       "2. 'parentId'\n",
       "3. 'qubitParentSlug'\n",
       "4. 'identifier'\n",
       "5. 'accessionNumber'\n",
       "6. 'title'\n",
       "7. 'levelOfDescription'\n",
       "8. 'extentAndMedium'\n",
       "9. 'repository'\n",
       "10. 'archivalHistory'\n",
       "11. 'acquisition'\n",
       "12. 'scopeAndContent'\n",
       "13. 'appraisal'\n",
       "14. 'accruals'\n",
       "15. 'arrangement'\n",
       "16. 'accessConditions'\n",
       "17. 'reproductionConditions'\n",
       "18. 'language'\n",
       "19. 'script'\n",
       "20. 'languageNote'\n",
       "21. 'physicalCharacteristics'\n",
       "22. 'findingAids'\n",
       "23. 'locationOfOriginals'\n",
       "24. 'locationOfCopies'\n",
       "25. 'relatedUnitsOfDescription'\n",
       "26. 'publicationNote'\n",
       "27. 'digitalObjectURI'\n",
       "28. 'generalNote'\n",
       "29. 'subjectAccessPoints'\n",
       "30. 'placeAccessPoints'\n",
       "31. 'nameAccessPoints'\n",
       "32. 'genreAccessPoints'\n",
       "33. 'descriptionIdentifier'\n",
       "34. 'institutionIdentifier'\n",
       "35. 'rules'\n",
       "36. 'descriptionStatus'\n",
       "37. 'levelOfDetail'\n",
       "38. 'revisionHistory'\n",
       "39. 'languageOfDescription'\n",
       "40. 'scriptOfDescription'\n",
       "41. 'sources'\n",
       "42. 'archivistNote'\n",
       "43. 'publicationStatus'\n",
       "44. 'physicalObjectName'\n",
       "45. 'physicalObjectLocation'\n",
       "46. 'physicalObjectType'\n",
       "47. 'alternativeIdentifiers'\n",
       "48. 'alternativeIdentifierLabels'\n",
       "49. 'eventDates'\n",
       "50. 'eventTypes'\n",
       "51. 'eventStartDates'\n",
       "52. 'eventEndDates'\n",
       "53. 'eventActors'\n",
       "54. 'eventActorHistories'\n",
       "55. 'culture'\n",
       "\n",
       "\n"
      ],
      "text/plain": [
       " [1] \"legacyId\"                    \"parentId\"                   \n",
       " [3] \"qubitParentSlug\"             \"identifier\"                 \n",
       " [5] \"accessionNumber\"             \"title\"                      \n",
       " [7] \"levelOfDescription\"          \"extentAndMedium\"            \n",
       " [9] \"repository\"                  \"archivalHistory\"            \n",
       "[11] \"acquisition\"                 \"scopeAndContent\"            \n",
       "[13] \"appraisal\"                   \"accruals\"                   \n",
       "[15] \"arrangement\"                 \"accessConditions\"           \n",
       "[17] \"reproductionConditions\"      \"language\"                   \n",
       "[19] \"script\"                      \"languageNote\"               \n",
       "[21] \"physicalCharacteristics\"     \"findingAids\"                \n",
       "[23] \"locationOfOriginals\"         \"locationOfCopies\"           \n",
       "[25] \"relatedUnitsOfDescription\"   \"publicationNote\"            \n",
       "[27] \"digitalObjectURI\"            \"generalNote\"                \n",
       "[29] \"subjectAccessPoints\"         \"placeAccessPoints\"          \n",
       "[31] \"nameAccessPoints\"            \"genreAccessPoints\"          \n",
       "[33] \"descriptionIdentifier\"       \"institutionIdentifier\"      \n",
       "[35] \"rules\"                       \"descriptionStatus\"          \n",
       "[37] \"levelOfDetail\"               \"revisionHistory\"            \n",
       "[39] \"languageOfDescription\"       \"scriptOfDescription\"        \n",
       "[41] \"sources\"                     \"archivistNote\"              \n",
       "[43] \"publicationStatus\"           \"physicalObjectName\"         \n",
       "[45] \"physicalObjectLocation\"      \"physicalObjectType\"         \n",
       "[47] \"alternativeIdentifiers\"      \"alternativeIdentifierLabels\"\n",
       "[49] \"eventDates\"                  \"eventTypes\"                 \n",
       "[51] \"eventStartDates\"             \"eventEndDates\"              \n",
       "[53] \"eventActors\"                 \"eventActorHistories\"        \n",
       "[55] \"culture\"                    "
      ]
     },
     "metadata": {},
     "output_type": "display_data"
    }
   ],
   "source": [
    "names(isadgdata)"
   ]
  },
  {
   "cell_type": "markdown",
   "metadata": {},
   "source": [
    "## ISAD-G <a class=\"anchor\" id=\"ISAD-G\"></a>\n",
    "\n"
   ]
  },
  {
   "cell_type": "code",
   "execution_count": 52,
   "metadata": {},
   "outputs": [],
   "source": [
    "isadgdata <- download.file(\"https://raw.githubusercontent.com/stephen-rowan/Jupyter_Notebooks/master/ISAD-G/ISAD-G.csv\", \"ISAD-G.csv\", method = \"curl\")"
   ]
  },
  {
   "cell_type": "code",
   "execution_count": 53,
   "metadata": {},
   "outputs": [],
   "source": [
    "ISAD_G <- read.csv(file=\"ISAD-G.csv\", header=TRUE, sep=\",\")"
   ]
  },
  {
   "cell_type": "code",
   "execution_count": 55,
   "metadata": {},
   "outputs": [
    {
     "data": {
      "text/html": [
       "<table>\n",
       "<thead><tr><th scope=col>ISAD_G_Area</th><th scope=col>Element</th><th scope=col>Fonds</th><th scope=col>SubFonds</th><th scope=col>Series</th><th scope=col>File</th><th scope=col>Item</th></tr></thead>\n",
       "<tbody>\n",
       "\t<tr><td>Identity Statement Area                            </td><td>Reference code                                     </td><td>mandatory                                          </td><td>mandatory                                          </td><td>mandatory                                          </td><td>mandatory                                          </td><td>mandatory                                          </td></tr>\n",
       "\t<tr><td>Identity Statement Area                            </td><td>Title                                              </td><td>mandatory                                          </td><td>mandatory                                          </td><td>mandatory                                          </td><td>mandatory                                          </td><td>mandatory                                          </td></tr>\n",
       "\t<tr><td>Identity Statement Area                            </td><td>Dates                                              </td><td>mandatory                                          </td><td>mandatory                                          </td><td>mandatory                                          </td><td>mandatory                                          </td><td>mandatory                                          </td></tr>\n",
       "\t<tr><td>Identity Statement Area                            </td><td>Level of description                               </td><td>mandatory                                          </td><td>mandatory                                          </td><td>mandatory                                          </td><td>mandatory                                          </td><td>mandatory                                          </td></tr>\n",
       "\t<tr><td>Identity Statement Area                            </td><td>Extent and medium of the unit of description       </td><td>mandatory                                          </td><td>mandatory                                          </td><td>mandatory                                          </td><td>mandatory                                          </td><td>mandatory                                          </td></tr>\n",
       "\t<tr><td>Context Area                                       </td><td>Name of Creator                                    </td><td>mandatory                                          </td><td>mandatory                                          </td><td>mandatory                                          </td><td>mandatory                                          </td><td>mandatory                                          </td></tr>\n",
       "\t<tr><td>Context Area                                       </td><td>Administrative/biographical history                </td><td>optional                                           </td><td>optional                                           </td><td>optional                                           </td><td>optional                                           </td><td>optional                                           </td></tr>\n",
       "\t<tr><td>Context Area                                       </td><td>Archival history                                   </td><td>optional                                           </td><td>optional                                           </td><td>optional                                           </td><td>optional                                           </td><td>optional                                           </td></tr>\n",
       "\t<tr><td>Context Area                                       </td><td>Immediate source of acquisition or transfer        </td><td>optional                                           </td><td>optional                                           </td><td>optional                                           </td><td>optional                                           </td><td>optional                                           </td></tr>\n",
       "\t<tr><td>Content and Structure Area                         </td><td>Scope and content                                  </td><td>optional                                           </td><td>optional                                           </td><td>optional                                           </td><td>optional                                           </td><td>optional                                           </td></tr>\n",
       "\t<tr><td>Content and Structure Area                         </td><td>Appraisal, destruction and scheduling information  </td><td>optional                                           </td><td>optional                                           </td><td>optional                                           </td><td>optional                                           </td><td>optional                                           </td></tr>\n",
       "\t<tr><td>Content and Structure Area                         </td><td>Accruals                                           </td><td>optional                                           </td><td>optional                                           </td><td>optional                                           </td><td>optional                                           </td><td>optional                                           </td></tr>\n",
       "\t<tr><td>Content and Structure Area                         </td><td>System of Arrangement                              </td><td>optional                                           </td><td>optional                                           </td><td>optional                                           </td><td>optional                                           </td><td>optional                                           </td></tr>\n",
       "\t<tr><td>Conditions of Access and Use Area                  </td><td>Conditions governing access                        </td><td>optional                                           </td><td>optional                                           </td><td>optional                                           </td><td>optional                                           </td><td>optional                                           </td></tr>\n",
       "\t<tr><td>Conditions of Access and Use Area                  </td><td>Conditions governing reproduction                  </td><td>optional                                           </td><td>optional                                           </td><td>optional                                           </td><td>optional                                           </td><td>optional                                           </td></tr>\n",
       "\t<tr><td>Conditions of Access and Use Area                  </td><td>Language/scripts of material                       </td><td>optional                                           </td><td>optional                                           </td><td>optional                                           </td><td>optional                                           </td><td>optional                                           </td></tr>\n",
       "\t<tr><td>Conditions of Access and Use Area                  </td><td>Physical characteristics and technical requirements</td><td>optional                                           </td><td>optional                                           </td><td>optional                                           </td><td>optional                                           </td><td>optional                                           </td></tr>\n",
       "\t<tr><td>Conditions of Access and Use Area                  </td><td>Finding aids                                       </td><td>optional                                           </td><td>optional                                           </td><td>optional                                           </td><td>optional                                           </td><td>optional                                           </td></tr>\n",
       "\t<tr><td>Notes Area                                         </td><td>Note                                               </td><td>optional                                           </td><td>optional                                           </td><td>optional                                           </td><td>optional                                           </td><td>optional                                           </td></tr>\n",
       "\t<tr><td>Description control area                           </td><td>Archivist’s Note                                   </td><td>optional                                           </td><td>optional                                           </td><td>optional                                           </td><td>optional                                           </td><td>optional                                           </td></tr>\n",
       "\t<tr><td>Description control area                           </td><td>Rules or conventions                               </td><td>optional                                           </td><td>optional                                           </td><td>optional                                           </td><td>optional                                           </td><td>optional                                           </td></tr>\n",
       "\t<tr><td>Description control area                           </td><td>Date of description                                </td><td>optional                                           </td><td>optional                                           </td><td>optional                                           </td><td>optional                                           </td><td>optional                                           </td></tr>\n",
       "</tbody>\n",
       "</table>\n"
      ],
      "text/latex": [
       "\\begin{tabular}{r|lllllll}\n",
       " ISAD\\_G\\_Area & Element & Fonds & SubFonds & Series & File & Item\\\\\n",
       "\\hline\n",
       "\t Identity Statement Area                             & Reference code                                      & mandatory                                           & mandatory                                           & mandatory                                           & mandatory                                           & mandatory                                          \\\\\n",
       "\t Identity Statement Area                             & Title                                               & mandatory                                           & mandatory                                           & mandatory                                           & mandatory                                           & mandatory                                          \\\\\n",
       "\t Identity Statement Area                             & Dates                                               & mandatory                                           & mandatory                                           & mandatory                                           & mandatory                                           & mandatory                                          \\\\\n",
       "\t Identity Statement Area                             & Level of description                                & mandatory                                           & mandatory                                           & mandatory                                           & mandatory                                           & mandatory                                          \\\\\n",
       "\t Identity Statement Area                             & Extent and medium of the unit of description        & mandatory                                           & mandatory                                           & mandatory                                           & mandatory                                           & mandatory                                          \\\\\n",
       "\t Context Area                                        & Name of Creator                                     & mandatory                                           & mandatory                                           & mandatory                                           & mandatory                                           & mandatory                                          \\\\\n",
       "\t Context Area                                        & Administrative/biographical history                 & optional                                            & optional                                            & optional                                            & optional                                            & optional                                           \\\\\n",
       "\t Context Area                                        & Archival history                                    & optional                                            & optional                                            & optional                                            & optional                                            & optional                                           \\\\\n",
       "\t Context Area                                        & Immediate source of acquisition or transfer         & optional                                            & optional                                            & optional                                            & optional                                            & optional                                           \\\\\n",
       "\t Content and Structure Area                          & Scope and content                                   & optional                                            & optional                                            & optional                                            & optional                                            & optional                                           \\\\\n",
       "\t Content and Structure Area                          & Appraisal, destruction and scheduling information   & optional                                            & optional                                            & optional                                            & optional                                            & optional                                           \\\\\n",
       "\t Content and Structure Area                          & Accruals                                            & optional                                            & optional                                            & optional                                            & optional                                            & optional                                           \\\\\n",
       "\t Content and Structure Area                          & System of Arrangement                               & optional                                            & optional                                            & optional                                            & optional                                            & optional                                           \\\\\n",
       "\t Conditions of Access and Use Area                   & Conditions governing access                         & optional                                            & optional                                            & optional                                            & optional                                            & optional                                           \\\\\n",
       "\t Conditions of Access and Use Area                   & Conditions governing reproduction                   & optional                                            & optional                                            & optional                                            & optional                                            & optional                                           \\\\\n",
       "\t Conditions of Access and Use Area                   & Language/scripts of material                        & optional                                            & optional                                            & optional                                            & optional                                            & optional                                           \\\\\n",
       "\t Conditions of Access and Use Area                   & Physical characteristics and technical requirements & optional                                            & optional                                            & optional                                            & optional                                            & optional                                           \\\\\n",
       "\t Conditions of Access and Use Area                   & Finding aids                                        & optional                                            & optional                                            & optional                                            & optional                                            & optional                                           \\\\\n",
       "\t Notes Area                                          & Note                                                & optional                                            & optional                                            & optional                                            & optional                                            & optional                                           \\\\\n",
       "\t Description control area                            & Archivist’s Note                                    & optional                                            & optional                                            & optional                                            & optional                                            & optional                                           \\\\\n",
       "\t Description control area                            & Rules or conventions                                & optional                                            & optional                                            & optional                                            & optional                                            & optional                                           \\\\\n",
       "\t Description control area                            & Date of description                                 & optional                                            & optional                                            & optional                                            & optional                                            & optional                                           \\\\\n",
       "\\end{tabular}\n"
      ],
      "text/markdown": [
       "\n",
       "ISAD_G_Area | Element | Fonds | SubFonds | Series | File | Item | \n",
       "|---|---|---|---|---|---|---|---|---|---|---|---|---|---|---|---|---|---|---|---|---|---|\n",
       "| Identity Statement Area                             | Reference code                                      | mandatory                                           | mandatory                                           | mandatory                                           | mandatory                                           | mandatory                                           | \n",
       "| Identity Statement Area                             | Title                                               | mandatory                                           | mandatory                                           | mandatory                                           | mandatory                                           | mandatory                                           | \n",
       "| Identity Statement Area                             | Dates                                               | mandatory                                           | mandatory                                           | mandatory                                           | mandatory                                           | mandatory                                           | \n",
       "| Identity Statement Area                             | Level of description                                | mandatory                                           | mandatory                                           | mandatory                                           | mandatory                                           | mandatory                                           | \n",
       "| Identity Statement Area                             | Extent and medium of the unit of description        | mandatory                                           | mandatory                                           | mandatory                                           | mandatory                                           | mandatory                                           | \n",
       "| Context Area                                        | Name of Creator                                     | mandatory                                           | mandatory                                           | mandatory                                           | mandatory                                           | mandatory                                           | \n",
       "| Context Area                                        | Administrative/biographical history                 | optional                                            | optional                                            | optional                                            | optional                                            | optional                                            | \n",
       "| Context Area                                        | Archival history                                    | optional                                            | optional                                            | optional                                            | optional                                            | optional                                            | \n",
       "| Context Area                                        | Immediate source of acquisition or transfer         | optional                                            | optional                                            | optional                                            | optional                                            | optional                                            | \n",
       "| Content and Structure Area                          | Scope and content                                   | optional                                            | optional                                            | optional                                            | optional                                            | optional                                            | \n",
       "| Content and Structure Area                          | Appraisal, destruction and scheduling information   | optional                                            | optional                                            | optional                                            | optional                                            | optional                                            | \n",
       "| Content and Structure Area                          | Accruals                                            | optional                                            | optional                                            | optional                                            | optional                                            | optional                                            | \n",
       "| Content and Structure Area                          | System of Arrangement                               | optional                                            | optional                                            | optional                                            | optional                                            | optional                                            | \n",
       "| Conditions of Access and Use Area                   | Conditions governing access                         | optional                                            | optional                                            | optional                                            | optional                                            | optional                                            | \n",
       "| Conditions of Access and Use Area                   | Conditions governing reproduction                   | optional                                            | optional                                            | optional                                            | optional                                            | optional                                            | \n",
       "| Conditions of Access and Use Area                   | Language/scripts of material                        | optional                                            | optional                                            | optional                                            | optional                                            | optional                                            | \n",
       "| Conditions of Access and Use Area                   | Physical characteristics and technical requirements | optional                                            | optional                                            | optional                                            | optional                                            | optional                                            | \n",
       "| Conditions of Access and Use Area                   | Finding aids                                        | optional                                            | optional                                            | optional                                            | optional                                            | optional                                            | \n",
       "| Notes Area                                          | Note                                                | optional                                            | optional                                            | optional                                            | optional                                            | optional                                            | \n",
       "| Description control area                            | Archivist’s Note                                    | optional                                            | optional                                            | optional                                            | optional                                            | optional                                            | \n",
       "| Description control area                            | Rules or conventions                                | optional                                            | optional                                            | optional                                            | optional                                            | optional                                            | \n",
       "| Description control area                            | Date of description                                 | optional                                            | optional                                            | optional                                            | optional                                            | optional                                            | \n",
       "\n",
       "\n"
      ],
      "text/plain": [
       "   ISAD_G_Area                      \n",
       "1  Identity Statement Area          \n",
       "2  Identity Statement Area          \n",
       "3  Identity Statement Area          \n",
       "4  Identity Statement Area          \n",
       "5  Identity Statement Area          \n",
       "6  Context Area                     \n",
       "7  Context Area                     \n",
       "8  Context Area                     \n",
       "9  Context Area                     \n",
       "10 Content and Structure Area       \n",
       "11 Content and Structure Area       \n",
       "12 Content and Structure Area       \n",
       "13 Content and Structure Area       \n",
       "14 Conditions of Access and Use Area\n",
       "15 Conditions of Access and Use Area\n",
       "16 Conditions of Access and Use Area\n",
       "17 Conditions of Access and Use Area\n",
       "18 Conditions of Access and Use Area\n",
       "19 Notes Area                       \n",
       "20 Description control area         \n",
       "21 Description control area         \n",
       "22 Description control area         \n",
       "   Element                                             Fonds     SubFonds \n",
       "1  Reference code                                      mandatory mandatory\n",
       "2  Title                                               mandatory mandatory\n",
       "3  Dates                                               mandatory mandatory\n",
       "4  Level of description                                mandatory mandatory\n",
       "5  Extent and medium of the unit of description        mandatory mandatory\n",
       "6  Name of Creator                                     mandatory mandatory\n",
       "7  Administrative/biographical history                 optional  optional \n",
       "8  Archival history                                    optional  optional \n",
       "9  Immediate source of acquisition or transfer         optional  optional \n",
       "10 Scope and content                                   optional  optional \n",
       "11 Appraisal, destruction and scheduling information   optional  optional \n",
       "12 Accruals                                            optional  optional \n",
       "13 System of Arrangement                               optional  optional \n",
       "14 Conditions governing access                         optional  optional \n",
       "15 Conditions governing reproduction                   optional  optional \n",
       "16 Language/scripts of material                        optional  optional \n",
       "17 Physical characteristics and technical requirements optional  optional \n",
       "18 Finding aids                                        optional  optional \n",
       "19 Note                                                optional  optional \n",
       "20 Archivist’s Note                                    optional  optional \n",
       "21 Rules or conventions                                optional  optional \n",
       "22 Date of description                                 optional  optional \n",
       "   Series    File      Item     \n",
       "1  mandatory mandatory mandatory\n",
       "2  mandatory mandatory mandatory\n",
       "3  mandatory mandatory mandatory\n",
       "4  mandatory mandatory mandatory\n",
       "5  mandatory mandatory mandatory\n",
       "6  mandatory mandatory mandatory\n",
       "7  optional  optional  optional \n",
       "8  optional  optional  optional \n",
       "9  optional  optional  optional \n",
       "10 optional  optional  optional \n",
       "11 optional  optional  optional \n",
       "12 optional  optional  optional \n",
       "13 optional  optional  optional \n",
       "14 optional  optional  optional \n",
       "15 optional  optional  optional \n",
       "16 optional  optional  optional \n",
       "17 optional  optional  optional \n",
       "18 optional  optional  optional \n",
       "19 optional  optional  optional \n",
       "20 optional  optional  optional \n",
       "21 optional  optional  optional \n",
       "22 optional  optional  optional "
      ]
     },
     "metadata": {},
     "output_type": "display_data"
    }
   ],
   "source": [
    "ISAD_G"
   ]
  },
  {
   "cell_type": "code",
   "execution_count": 56,
   "metadata": {},
   "outputs": [
    {
     "data": {
      "text/html": [
       "<ol class=list-inline>\n",
       "\t<li>Reference code</li>\n",
       "\t<li>Title</li>\n",
       "\t<li>Dates</li>\n",
       "\t<li>Level of description</li>\n",
       "\t<li>Extent and medium of the unit of description</li>\n",
       "\t<li>Name of Creator</li>\n",
       "\t<li>Administrative/biographical history</li>\n",
       "\t<li>Archival history</li>\n",
       "\t<li>Immediate source of acquisition or transfer</li>\n",
       "\t<li>Scope and content</li>\n",
       "\t<li>Appraisal, destruction and scheduling information</li>\n",
       "\t<li>Accruals</li>\n",
       "\t<li>System of Arrangement</li>\n",
       "\t<li>Conditions governing access</li>\n",
       "\t<li>Conditions governing reproduction</li>\n",
       "\t<li>Language/scripts of material</li>\n",
       "\t<li>Physical characteristics and technical requirements</li>\n",
       "\t<li>Finding aids</li>\n",
       "\t<li>Note</li>\n",
       "\t<li>Archivist’s Note</li>\n",
       "\t<li>Rules or conventions</li>\n",
       "\t<li>Date of description</li>\n",
       "</ol>\n"
      ],
      "text/latex": [
       "\\begin{enumerate*}\n",
       "\\item Reference code\n",
       "\\item Title\n",
       "\\item Dates\n",
       "\\item Level of description\n",
       "\\item Extent and medium of the unit of description\n",
       "\\item Name of Creator\n",
       "\\item Administrative/biographical history\n",
       "\\item Archival history\n",
       "\\item Immediate source of acquisition or transfer\n",
       "\\item Scope and content\n",
       "\\item Appraisal, destruction and scheduling information\n",
       "\\item Accruals\n",
       "\\item System of Arrangement\n",
       "\\item Conditions governing access\n",
       "\\item Conditions governing reproduction\n",
       "\\item Language/scripts of material\n",
       "\\item Physical characteristics and technical requirements\n",
       "\\item Finding aids\n",
       "\\item Note\n",
       "\\item Archivist’s Note\n",
       "\\item Rules or conventions\n",
       "\\item Date of description\n",
       "\\end{enumerate*}\n"
      ],
      "text/markdown": [
       "1. Reference code\n",
       "2. Title\n",
       "3. Dates\n",
       "4. Level of description\n",
       "5. Extent and medium of the unit of description\n",
       "6. Name of Creator\n",
       "7. Administrative/biographical history\n",
       "8. Archival history\n",
       "9. Immediate source of acquisition or transfer\n",
       "10. Scope and content\n",
       "11. Appraisal, destruction and scheduling information\n",
       "12. Accruals\n",
       "13. System of Arrangement\n",
       "14. Conditions governing access\n",
       "15. Conditions governing reproduction\n",
       "16. Language/scripts of material\n",
       "17. Physical characteristics and technical requirements\n",
       "18. Finding aids\n",
       "19. Note\n",
       "20. Archivist’s Note\n",
       "21. Rules or conventions\n",
       "22. Date of description\n",
       "\n",
       "\n"
      ],
      "text/plain": [
       " [1] Reference code                                     \n",
       " [2] Title                                              \n",
       " [3] Dates                                              \n",
       " [4] Level of description                               \n",
       " [5] Extent and medium of the unit of description       \n",
       " [6] Name of Creator                                    \n",
       " [7] Administrative/biographical history                \n",
       " [8] Archival history                                   \n",
       " [9] Immediate source of acquisition or transfer        \n",
       "[10] Scope and content                                  \n",
       "[11] Appraisal, destruction and scheduling information  \n",
       "[12] Accruals                                           \n",
       "[13] System of Arrangement                              \n",
       "[14] Conditions governing access                        \n",
       "[15] Conditions governing reproduction                  \n",
       "[16] Language/scripts of material                       \n",
       "[17] Physical characteristics and technical requirements\n",
       "[18] Finding aids                                       \n",
       "[19] Note                                               \n",
       "[20] Archivist’s Note                                   \n",
       "[21] Rules or conventions                               \n",
       "[22] Date of description                                \n",
       "22 Levels: Accruals ... Title"
      ]
     },
     "metadata": {},
     "output_type": "display_data"
    }
   ],
   "source": [
    "ISAD_G$Element"
   ]
  },
  {
   "cell_type": "code",
   "execution_count": 77,
   "metadata": {},
   "outputs": [],
   "source": [
    "List_of_ISAD_G_Areas <- ISAD_G$ISAD_G_Area\n",
    "\n",
    "No_of_elements_in_ISAD_G_Areas <- aggregate(x = List_of_ISAD_G_Areas,\n",
    "                          by = list(ISAD_G_Areas = ISAD_G$ISAD_G_Area),\n",
    "                          FUN = length)"
   ]
  },
  {
   "cell_type": "code",
   "execution_count": 78,
   "metadata": {},
   "outputs": [
    {
     "data": {
      "text/html": [
       "<table>\n",
       "<thead><tr><th scope=col>ISAD_G_Areas</th><th scope=col>x</th></tr></thead>\n",
       "<tbody>\n",
       "\t<tr><td>Conditions of Access and Use Area</td><td>5                                </td></tr>\n",
       "\t<tr><td>Content and Structure Area       </td><td>4                                </td></tr>\n",
       "\t<tr><td>Context Area                     </td><td>4                                </td></tr>\n",
       "\t<tr><td>Description control area         </td><td>3                                </td></tr>\n",
       "\t<tr><td>Identity Statement Area          </td><td>5                                </td></tr>\n",
       "\t<tr><td>Notes Area                       </td><td>1                                </td></tr>\n",
       "</tbody>\n",
       "</table>\n"
      ],
      "text/latex": [
       "\\begin{tabular}{r|ll}\n",
       " ISAD\\_G\\_Areas & x\\\\\n",
       "\\hline\n",
       "\t Conditions of Access and Use Area & 5                                \\\\\n",
       "\t Content and Structure Area        & 4                                \\\\\n",
       "\t Context Area                      & 4                                \\\\\n",
       "\t Description control area          & 3                                \\\\\n",
       "\t Identity Statement Area           & 5                                \\\\\n",
       "\t Notes Area                        & 1                                \\\\\n",
       "\\end{tabular}\n"
      ],
      "text/markdown": [
       "\n",
       "ISAD_G_Areas | x | \n",
       "|---|---|---|---|---|---|\n",
       "| Conditions of Access and Use Area | 5                                 | \n",
       "| Content and Structure Area        | 4                                 | \n",
       "| Context Area                      | 4                                 | \n",
       "| Description control area          | 3                                 | \n",
       "| Identity Statement Area           | 5                                 | \n",
       "| Notes Area                        | 1                                 | \n",
       "\n",
       "\n"
      ],
      "text/plain": [
       "  ISAD_G_Areas                      x\n",
       "1 Conditions of Access and Use Area 5\n",
       "2 Content and Structure Area        4\n",
       "3 Context Area                      4\n",
       "4 Description control area          3\n",
       "5 Identity Statement Area           5\n",
       "6 Notes Area                        1"
      ]
     },
     "metadata": {},
     "output_type": "display_data"
    }
   ],
   "source": [
    "No_of_elements_in_ISAD_G_Areas"
   ]
  },
  {
   "cell_type": "code",
   "execution_count": 81,
   "metadata": {},
   "outputs": [],
   "source": [
    "ISAD_G_Areas = aggregate(ISAD_G$ISAD_G_Area, by=list(ISAD_G_Areas = ISAD_G$ISAD_G_Area), FUN=length)[1]"
   ]
  },
  {
   "cell_type": "code",
   "execution_count": 82,
   "metadata": {},
   "outputs": [
    {
     "data": {
      "text/html": [
       "<table>\n",
       "<thead><tr><th scope=col>ISAD_G_Areas</th></tr></thead>\n",
       "<tbody>\n",
       "\t<tr><td>Conditions of Access and Use Area</td></tr>\n",
       "\t<tr><td>Content and Structure Area       </td></tr>\n",
       "\t<tr><td>Context Area                     </td></tr>\n",
       "\t<tr><td>Description control area         </td></tr>\n",
       "\t<tr><td>Identity Statement Area          </td></tr>\n",
       "\t<tr><td>Notes Area                       </td></tr>\n",
       "</tbody>\n",
       "</table>\n"
      ],
      "text/latex": [
       "\\begin{tabular}{r|l}\n",
       " ISAD\\_G\\_Areas\\\\\n",
       "\\hline\n",
       "\t Conditions of Access and Use Area\\\\\n",
       "\t Content and Structure Area       \\\\\n",
       "\t Context Area                     \\\\\n",
       "\t Description control area         \\\\\n",
       "\t Identity Statement Area          \\\\\n",
       "\t Notes Area                       \\\\\n",
       "\\end{tabular}\n"
      ],
      "text/markdown": [
       "\n",
       "ISAD_G_Areas | \n",
       "|---|---|---|---|---|---|\n",
       "| Conditions of Access and Use Area | \n",
       "| Content and Structure Area        | \n",
       "| Context Area                      | \n",
       "| Description control area          | \n",
       "| Identity Statement Area           | \n",
       "| Notes Area                        | \n",
       "\n",
       "\n"
      ],
      "text/plain": [
       "  ISAD_G_Areas                     \n",
       "1 Conditions of Access and Use Area\n",
       "2 Content and Structure Area       \n",
       "3 Context Area                     \n",
       "4 Description control area         \n",
       "5 Identity Statement Area          \n",
       "6 Notes Area                       "
      ]
     },
     "metadata": {},
     "output_type": "display_data"
    }
   ],
   "source": [
    "ISAD_G_Areas"
   ]
  },
  {
   "cell_type": "code",
   "execution_count": null,
   "metadata": {},
   "outputs": [],
   "source": []
  }
 ],
 "metadata": {
  "kernelspec": {
   "display_name": "R",
   "language": "R",
   "name": "ir"
  },
  "language_info": {
   "codemirror_mode": "r",
   "file_extension": ".r",
   "mimetype": "text/x-r-source",
   "name": "R",
   "pygments_lexer": "r",
   "version": "3.3.2"
  }
 },
 "nbformat": 4,
 "nbformat_minor": 2
}
