{
 "cells": [
  {
   "cell_type": "markdown",
   "metadata": {},
   "source": [
    "# Supervised Segmentation"
   ]
  },
  {
   "cell_type": "markdown",
   "metadata": {},
   "source": [
    "## entropy"
   ]
  },
  {
   "cell_type": "markdown",
   "metadata": {},
   "source": [
    "[pg 51] \"Fortunately, for classification problems we can address all the issues by creating a for‐\n",
    "mula that evaluates how well each attribute splits a set of examples into segments, with\n",
    "respect to a chosen target variable. Such a formula is based on a purity measure.\n",
    "\n",
    "The most common splitting criterion is called information gain, and it is based on a\n",
    "purity measure called entropy. Both concepts were invented by one of the pioneers of\n",
    "information theory, Claude Shannon, in his seminal work in the field (Shannon, 1948).\n",
    "\n",
    "Entropy is a measure of disorder that can be applied to a set, such as one of our individual\n",
    "segments. Consider that we have a set of properties of members of the set, and each\n",
    "member has one and only one of the properties. In supervised segmentation, the mem‐\n",
    "ber properties will correspond to the values of the target variable. Disorder corresponds\n",
    "to how mixed (impure) the segment is with respect to these properties of interest. So,\n",
    "for example, a mixed up segment with lots of write-offs and lots of non-write-offs would\n",
    "have high entropy.\""
   ]
  },
  {
   "cell_type": "markdown",
   "metadata": {},
   "source": [
    "\"More technically, entropy is defined as:\n",
    "\n",
    "Equation 3-1. Entropy"
   ]
  },
  {
   "cell_type": "code",
   "execution_count": 33,
   "metadata": {},
   "outputs": [
    {
     "data": {
      "text/latex": [
       "Equation 3-1. Entropy\n",
       "\\[ - p_{1} \\log (p_{1} ) - p_{2}  \\log (p_{2})- ...\\]"
      ],
      "text/plain": [
       "<IPython.core.display.Latex object>"
      ]
     },
     "metadata": {},
     "output_type": "display_data"
    }
   ],
   "source": [
    "%%latex\n",
    "Equation 3-1. Entropy\n",
    "\\[ - p_{1} \\log (p_{1} ) - p_{2}  \\log (p_{2})- ...\\]"
   ]
  },
  {
   "cell_type": "markdown",
   "metadata": {},
   "source": [
    "Each"
   ]
  },
  {
   "cell_type": "code",
   "execution_count": 11,
   "metadata": {},
   "outputs": [
    {
     "data": {
      "text/latex": [
       "\\[ p_{1}\\] "
      ],
      "text/plain": [
       "<IPython.core.display.Latex object>"
      ]
     },
     "metadata": {},
     "output_type": "display_data"
    }
   ],
   "source": [
    "%%latex\n",
    "\\[ p_{1}\\] "
   ]
  },
  {
   "cell_type": "markdown",
   "metadata": {},
   "source": [
    "is the probability (the relative percentage) of property i within the set, ranging\n",
    "from "
   ]
  },
  {
   "cell_type": "code",
   "execution_count": 12,
   "metadata": {},
   "outputs": [
    {
     "data": {
      "text/latex": [
       "\\[ p_{1} = 1\\] "
      ],
      "text/plain": [
       "<IPython.core.display.Latex object>"
      ]
     },
     "metadata": {},
     "output_type": "display_data"
    }
   ],
   "source": [
    "%%latex\n",
    "\\[ p_{1} = 1\\] "
   ]
  },
  {
   "cell_type": "markdown",
   "metadata": {},
   "source": [
    "when all members of the set have property i, and "
   ]
  },
  {
   "cell_type": "code",
   "execution_count": 13,
   "metadata": {},
   "outputs": [
    {
     "data": {
      "text/latex": [
       "\\[ p_{1} = 0\\] "
      ],
      "text/plain": [
       "<IPython.core.display.Latex object>"
      ]
     },
     "metadata": {},
     "output_type": "display_data"
    }
   ],
   "source": [
    "%%latex\n",
    "\\[ p_{1} = 0\\] "
   ]
  },
  {
   "cell_type": "markdown",
   "metadata": {},
   "source": [
    "when no members of the set have property i. The ... simply indicates that there may be more than just two\n",
    "properties (and for the technically minded, the logarithm is generally taken as base 2).\""
   ]
  },
  {
   "cell_type": "markdown",
   "metadata": {},
   "source": [
    "## a concrete example"
   ]
  },
  {
   "cell_type": "markdown",
   "metadata": {},
   "source": [
    "[pg 51] \"As a concrete example, consider a set S of 10 people with seven of the non-write-off class\n",
    "and three of the write-off class. So: "
   ]
  },
  {
   "cell_type": "code",
   "execution_count": 30,
   "metadata": {},
   "outputs": [
    {
     "data": {
      "text/latex": [
       "\\begin{align*} \n",
       "p(non-write-off) &=  7 / 10 = 0.7\\\\ \n",
       "p(non-write-off) &=  3 / 10 = 0.3\n",
       "\\end{align*}"
      ],
      "text/plain": [
       "<IPython.core.display.Latex object>"
      ]
     },
     "metadata": {},
     "output_type": "display_data"
    }
   ],
   "source": [
    "%%latex\n",
    "\\begin{align*} \n",
    "p(non-write-off) &=  7 / 10 = 0.7\\\\ \n",
    "p(non-write-off) &=  3 / 10 = 0.3\n",
    "\\end{align*}"
   ]
  },
  {
   "cell_type": "code",
   "execution_count": null,
   "metadata": {},
   "outputs": [],
   "source": [
    "import math\n",
    "non_write_off = 0.7\n",
    "write_off = 0.3\n",
    "(non_write_off * -math.log(non_write_off, 2))+(write_off * -math.log(write_off, 2))"
   ]
  },
  {
   "cell_type": "code",
   "execution_count": 94,
   "metadata": {},
   "outputs": [
    {
     "data": {
      "image/png": "[encoded data removed]",
      "text/plain": [
       "<matplotlib.figure.Figure at 0x7fe017115668>"
      ]
     },
     "metadata": {},
     "output_type": "display_data"
    }
   ],
   "source": [
    "import matplotlib.pyplot as plt\n",
    "import numpy as np\n",
    "\n",
    "x = math.log(1, 2)\n",
    "plt.plot(x, x, label='ccc')\n",
    "plt.xlabel('p(+)')\n",
    "plt.ylabel('entropy')\n",
    "plt.title(\"Figure 3-3. Entropy of a two-class set as a function of p(+).\")\n",
    "plt.legend()\n",
    "plt.show()"
   ]
  },
  {
   "cell_type": "code",
   "execution_count": 76,
   "metadata": {},
   "outputs": [
    {
     "data": {
      "image/png": "[encoded data removed]",
      "text/plain": [
       "<matplotlib.figure.Figure at 0x7fe016d94860>"
      ]
     },
     "metadata": {},
     "output_type": "display_data"
    }
   ],
   "source": [
    "import matplotlib.pyplot as plt\n",
    "import numpy as np\n",
    "\n",
    "x = np.linspace(0.0, 1.0)\n",
    "plt.plot(x, x*0.88, label='linear')\n",
    "plt.plot(x, x**2, label='quadratic')\n",
    "plt.plot(x, x**3, label='cubic')\n",
    "plt.xlabel('p(+)')\n",
    "plt.ylabel('entropy')\n",
    "plt.title(\"Figure 3-3. Entropy of a two-class set as a function of p(+).\")\n",
    "plt.legend()\n",
    "plt.show()"
   ]
  },
  {
   "cell_type": "code",
   "execution_count": 127,
   "metadata": {},
   "outputs": [
    {
     "data": {
      "image/png": "[encoded data removed]",
      "text/plain": [
       "<matplotlib.figure.Figure at 0x7fe0166fca90>"
      ]
     },
     "metadata": {},
     "output_type": "display_data"
    }
   ],
   "source": [
    "import numpy as np\n",
    "import matplotlib.pyplot as plt\n",
    "\n",
    "\n",
    "X = np.array([0.3, 0.7])\n",
    "C = np.log2(X)\n",
    "\n",
    "#X = np.linspace(0.0, 1.0)\n",
    "#C = np.cos(X)\n",
    "plt.plot(C, label='C')\n",
    "plt.plot(X, label='X')\n",
    "#plt.plot(X, C, label='fff')\n",
    "plt.legend()\n",
    "plt.show()"
   ]
  },
  {
   "cell_type": "code",
   "execution_count": 124,
   "metadata": {},
   "outputs": [
    {
     "data": {
      "text/plain": [
       "array([-1.73696559, -0.51457317])"
      ]
     },
     "execution_count": 124,
     "metadata": {},
     "output_type": "execute_result"
    }
   ],
   "source": [
    "import numpy as np\n",
    "x = np.array([0.3, 0.7])\n",
    "np.log2(x)"
   ]
  },
  {
   "cell_type": "code",
   "execution_count": null,
   "metadata": {},
   "outputs": [],
   "source": []
  }
 ],
 "metadata": {
  "kernelspec": {
   "display_name": "Python 3",
   "language": "python",
   "name": "python3"
  },
  "language_info": {
   "codemirror_mode": {
    "name": "ipython",
    "version": 3
   },
   "file_extension": ".py",
   "mimetype": "text/x-python",
   "name": "python",
   "nbconvert_exporter": "python",
   "pygments_lexer": "ipython3",
   "version": "3.6.2"
  }
 },
 "nbformat": 4,
 "nbformat_minor": 2
}
