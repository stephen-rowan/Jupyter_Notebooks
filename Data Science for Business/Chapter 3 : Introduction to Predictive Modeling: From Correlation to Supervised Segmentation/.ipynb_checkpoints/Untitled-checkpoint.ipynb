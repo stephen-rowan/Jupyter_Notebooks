{
 "cells": [
  {
   "cell_type": "markdown",
   "metadata": {},
   "source": [
    "# Information Measurement\n",
    "\n",
    "The objective of this section is to establish a measure for the information content of a discrete system, using Probability Theory. Consider a discrete\n",
    "random experiment, such as the occurrence of a symbol, and its associated sample space omega ... \n",
    "\n",
    "$$\\Omega$$\n",
    "\n",
    "..., in which X is a real random variable (Reza 1961)."
   ]
  },
  {
   "cell_type": "markdown",
   "metadata": {},
   "source": [
    "The random variable X can assume the following values ... \n",
    "\n",
    "$$X = x_{1}, x_{2}, ..., x_{n},$$ \n",
    "\n",
    "in which $$ \\bigcup_{k=1}^{N} x_{1} = \\Omega$$"
   ]
  },
  {
   "cell_type": "markdown",
   "metadata": {},
   "source": [
    "with probabilities in the set P ...\n",
    "\n",
    "$$P = p_{1}, p_{2}, ..., p_{n},$$ \n",
    "\n",
    "in which $$ \\sum_{k=1}^{N} p_{k} = 1$$"
   ]
  },
  {
   "cell_type": "markdown",
   "metadata": {},
   "source": [
    "The information associated to a particular event is given by\n",
    "\n",
    "$$\\begin{equation*}\n",
    "I (x_{i}) = log\n",
    "\\left(\\frac{1}{p_{i}}\\right)\n",
    "\\end{equation*}$$"
   ]
  },
  {
   "cell_type": "markdown",
   "metadata": {},
   "source": [
    "# Entropy\n",
    "\n",
    "It is possible to define the source entropy, H (X ), is the average information, obtained by weighing of all the occurrences ... \n",
    "\n",
    "$$H (X ) = E[I (x i )] = - \\sum_{i=1}^{N} p_{1} \\ log \\ p_{1}$$\n",
    "\n",
    "Observe that Equation 1.0 is the weighing average of the logarithms of the probabilities, in which the weights are the real values of the probabilities of the random variable X , and this indicates that H (X ) can be interpreted as the expected value of the random variable that assumes the value log p i , with probability p i"
   ]
  },
  {
   "cell_type": "code",
   "execution_count": 64,
   "metadata": {},
   "outputs": [
    {
     "data": {
      "text/latex": [
       "$$- \\sum_{i=1}^{N} 0.25 \\ log \\ 0.25 + 0.75 \\ log \\ 0.75$$"
      ],
      "text/plain": [
       "<IPython.core.display.Math object>"
      ]
     },
     "metadata": {},
     "output_type": "display_data"
    },
    {
     "data": {
      "text/plain": [
       "0.8112781244591328"
      ]
     },
     "execution_count": 64,
     "metadata": {},
     "output_type": "execute_result"
    }
   ],
   "source": [
    "from IPython.display import display, Math, Latex\n",
    "display(Math(r'- \\sum_{i=1}^{N} 0.25 \\ log \\ 0.25 + 0.75 \\ log \\ 0.75'))\n",
    "x1 = 0.25\n",
    "x2 = 0.75\n",
    "(x1 * -math.log(x1, 2))+(x2 * -math.log(x2, 2))"
   ]
  },
  {
   "cell_type": "code",
   "execution_count": 3,
   "metadata": {},
   "outputs": [
    {
     "data": {
      "text/plain": [
       "0.8112781244591328"
      ]
     },
     "execution_count": 3,
     "metadata": {},
     "output_type": "execute_result"
    }
   ],
   "source": [
    "import math\n",
    "x1 = 0.25\n",
    "x2 = 0.75\n",
    "(-x1 * math.log(x1, 2))+(-x2 * math.log(x2, 2))"
   ]
  },
  {
   "cell_type": "code",
   "execution_count": 9,
   "metadata": {},
   "outputs": [
    {
     "data": {
      "text/plain": [
       "1.0"
      ]
     },
     "execution_count": 9,
     "metadata": {},
     "output_type": "execute_result"
    }
   ],
   "source": [
    "import math\n",
    "x1 = 0.25\n",
    "x2 = 0.25\n",
    "x3 = 0.25\n",
    "x4 = 0.25\n",
    "xbase = 4\n",
    "(-x1 * math.log(x1, xbase))+(-x2 * math.log(x2, xbase))+(-x3 * math.log(x3, xbase))+(-x4 * math.log(x4, xbase))"
   ]
  },
  {
   "cell_type": "markdown",
   "metadata": {},
   "source": []
  },
  {
   "cell_type": "code",
   "execution_count": 52,
   "metadata": {},
   "outputs": [
    {
     "data": {
      "text/latex": [
       "$$- \\sum_{i=1}^{N} p_{1} \\ log \\ p_{1}$$"
      ],
      "text/plain": [
       "<IPython.core.display.Math object>"
      ]
     },
     "metadata": {},
     "output_type": "display_data"
    }
   ],
   "source": [
    "from IPython.display import display, Math, Latex\n",
    "display(Math(r'- \\sum_{i=1}^{N} p_{1} \\ log \\ p_{1}'))"
   ]
  },
  {
   "cell_type": "code",
   "execution_count": null,
   "metadata": {},
   "outputs": [],
   "source": []
  }
 ],
 "metadata": {
  "kernelspec": {
   "display_name": "Python 3",
   "language": "python",
   "name": "python3"
  },
  "language_info": {
   "codemirror_mode": {
    "name": "ipython",
    "version": 3
   },
   "file_extension": ".py",
   "mimetype": "text/x-python",
   "name": "python",
   "nbconvert_exporter": "python",
   "pygments_lexer": "ipython3",
   "version": "3.6.2"
  }
 },
 "nbformat": 4,
 "nbformat_minor": 2
}
