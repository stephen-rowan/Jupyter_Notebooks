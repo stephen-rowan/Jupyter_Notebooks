{
 "cells": [
  {
   "cell_type": "markdown",
   "metadata": {},
   "source": [
    "## Overvew\n",
    "\n",
    "This workbook uses [cl-Jupyter](https://github.com/fredokun/cl-jupyter/blob/master/about-cl-jupyter.ipynb): an enhanced interactive Shell for Common Lisp.\n",
    "\n",
    "The flavour of Common Lisp is [SBCL Lisp](http://sbcl.org/manual/index.html).\n",
    "\n",
    "Exercises are from [Practical Common Lisp](http://www.gigamonkeys.com/book/)"
   ]
  },
  {
   "cell_type": "markdown",
   "metadata": {},
   "source": [
    " ## List functions\n",
    " \n",
    " You can make a list with the LIST function, which, appropriately enough, returns a list of its arguments."
   ]
  },
  {
   "cell_type": "code",
   "execution_count": 2,
   "metadata": {
    "collapsed": false
   },
   "outputs": [
    {
     "data": {
      "text/plain": [
       "(1 2 3)"
      ]
     },
     "execution_count": 2,
     "metadata": {},
     "output_type": "execute_result"
    }
   ],
   "source": [
    "(list 1 2 3)"
   ]
  },
  {
   "cell_type": "markdown",
   "metadata": {},
   "source": [
    "A list with keyword symbols which is any name that starts with a colon (:),\n",
    "such as the following list of keyword symbols with :a, :b, and :c as property names."
   ]
  },
  {
   "cell_type": "code",
   "execution_count": 3,
   "metadata": {
    "collapsed": false
   },
   "outputs": [
    {
     "data": {
      "text/plain": [
       "(:A 1 :B 2 :C 3)"
      ]
     },
     "execution_count": 3,
     "metadata": {},
     "output_type": "execute_result"
    }
   ],
   "source": [
    "(list :a 1 :b 2 :c 3)"
   ]
  },
  {
   "cell_type": "markdown",
   "metadata": {},
   "source": [
    "## The GETF function \n",
    "\n",
    "The function GETF takes a plist and a symbol and returns the value in the plist following the symbol :"
   ]
  },
  {
   "cell_type": "code",
   "execution_count": 4,
   "metadata": {
    "collapsed": false
   },
   "outputs": [
    {
     "data": {
      "text/plain": [
       "1"
      ]
     },
     "execution_count": 4,
     "metadata": {},
     "output_type": "execute_result"
    }
   ],
   "source": [
    "(getf (list :a 1 :b 2 :c 3) :a)"
   ]
  },
  {
   "cell_type": "code",
   "execution_count": 5,
   "metadata": {
    "collapsed": false
   },
   "outputs": [
    {
     "data": {
      "text/plain": [
       "3"
      ]
     },
     "execution_count": 5,
     "metadata": {},
     "output_type": "execute_result"
    }
   ],
   "source": [
    "(getf (list :a 1 :b 2 :c 3) :c)"
   ]
  },
  {
   "cell_type": "markdown",
   "metadata": {},
   "source": [
    "## The word DEFUN\n",
    "\n",
    "The word DEFUN tells us that this form is defining a new function. The name of the function is make-cd. After the name comes the parameter list. This function has four parameters: title, artist, rating, and ripped.\n",
    "\n",
    "A function make-cd that will take the four fields as arguments and return a plist representing that CD :"
   ]
  },
  {
   "cell_type": "code",
   "execution_count": 6,
   "metadata": {
    "collapsed": false
   },
   "outputs": [
    {
     "data": {
      "text/plain": [
       "MAKE-CD"
      ]
     },
     "execution_count": 6,
     "metadata": {},
     "output_type": "execute_result"
    }
   ],
   "source": [
    "(defun make-cd (title artist rating ripped)\n",
    "  (list :title title :artist artist :rating rating :ripped ripped))"
   ]
  },
  {
   "cell_type": "markdown",
   "metadata": {},
   "source": [
    "make a record for the CD ..."
   ]
  },
  {
   "cell_type": "code",
   "execution_count": 7,
   "metadata": {
    "collapsed": false
   },
   "outputs": [
    {
     "data": {
      "text/plain": [
       "(:TITLE \"Roses\" :ARTIST \"Kathy Mattea\" :RATING 7 :RIPPED T)"
      ]
     },
     "execution_count": 7,
     "metadata": {},
     "output_type": "execute_result"
    }
   ],
   "source": [
    "(make-cd \"Roses\" \"Kathy Mattea\" 7 t)"
   ]
  },
  {
   "cell_type": "markdown",
   "metadata": {},
   "source": [
    "## The DEFVAR macro\n",
    "\n",
    "Define a global variable, *db* with the DEFVAR macro. The asterisks (*) in the name are a Lisp naming convention for global variables."
   ]
  },
  {
   "cell_type": "code",
   "execution_count": 8,
   "metadata": {
    "collapsed": false
   },
   "outputs": [
    {
     "data": {
      "text/plain": [
       "*DB*"
      ]
     },
     "execution_count": 8,
     "metadata": {},
     "output_type": "execute_result"
    }
   ],
   "source": [
    "(defvar *db* nil)"
   ]
  },
  {
   "cell_type": "markdown",
   "metadata": {},
   "source": [
    "## Abstract the PUSH macro\n",
    "\n",
    "Abstract the PUSH macro by defing a function add-record to add items to *db*."
   ]
  },
  {
   "cell_type": "code",
   "execution_count": 9,
   "metadata": {
    "collapsed": false
   },
   "outputs": [
    {
     "data": {
      "text/plain": [
       "ADD-RECORD"
      ]
     },
     "execution_count": 9,
     "metadata": {},
     "output_type": "execute_result"
    }
   ],
   "source": [
    "(defun add-record (cd) (push cd *db*))"
   ]
  },
  {
   "cell_type": "markdown",
   "metadata": {},
   "source": [
    "## Add CDs to the database.\n",
    "\n",
    "Use add-record and make-cd together to add CDs to the database."
   ]
  },
  {
   "cell_type": "code",
   "execution_count": 10,
   "metadata": {
    "collapsed": false
   },
   "outputs": [
    {
     "data": {
      "text/plain": [
       "((:TITLE \"Roses\" :ARTIST \"Kathy Mattea\" :RATING 7 :RIPPED T))"
      ]
     },
     "execution_count": 10,
     "metadata": {},
     "output_type": "execute_result"
    }
   ],
   "source": [
    "(add-record (make-cd \"Roses\" \"Kathy Mattea\" 7 t))"
   ]
  },
  {
   "cell_type": "code",
   "execution_count": 11,
   "metadata": {
    "collapsed": false
   },
   "outputs": [
    {
     "data": {
      "text/plain": [
       "((:TITLE \"Fly\" :ARTIST \"Dixie Chicks\" :RATING 8 :RIPPED T)\n",
       " (:TITLE \"Roses\" :ARTIST \"Kathy Mattea\" :RATING 7 :RIPPED T))"
      ]
     },
     "execution_count": 11,
     "metadata": {},
     "output_type": "execute_result"
    }
   ],
   "source": [
    "(add-record (make-cd \"Fly\" \"Dixie Chicks\" 8 t))"
   ]
  },
  {
   "cell_type": "code",
   "execution_count": 12,
   "metadata": {
    "collapsed": false
   },
   "outputs": [
    {
     "data": {
      "text/plain": [
       "((:TITLE \"Home\" :ARTIST \"Dixie Chicks\" :RATING 9 :RIPPED T)\n",
       " (:TITLE \"Fly\" :ARTIST \"Dixie Chicks\" :RATING 8 :RIPPED T)\n",
       " (:TITLE \"Roses\" :ARTIST \"Kathy Mattea\" :RATING 7 :RIPPED T))"
      ]
     },
     "execution_count": 12,
     "metadata": {},
     "output_type": "execute_result"
    }
   ],
   "source": [
    "(add-record (make-cd \"Home\" \"Dixie Chicks\" 9 t))"
   ]
  },
  {
   "cell_type": "markdown",
   "metadata": {},
   "source": [
    "PUSH returns the new value of the variable it's modifying."
   ]
  },
  {
   "cell_type": "markdown",
   "metadata": {},
   "source": [
    "## Looking at the Database Contents\n",
    "\n",
    "You can also see the current value of *db* whenever you want by typing *db* at the REPL."
   ]
  },
  {
   "cell_type": "code",
   "execution_count": 13,
   "metadata": {
    "collapsed": false
   },
   "outputs": [
    {
     "data": {
      "text/plain": [
       "((:TITLE \"Home\" :ARTIST \"Dixie Chicks\" :RATING 9 :RIPPED T)\n",
       " (:TITLE \"Fly\" :ARTIST \"Dixie Chicks\" :RATING 8 :RIPPED T)\n",
       " (:TITLE \"Roses\" :ARTIST \"Kathy Mattea\" :RATING 7 :RIPPED T))"
      ]
     },
     "execution_count": 13,
     "metadata": {},
     "output_type": "execute_result"
    }
   ],
   "source": [
    "*db*"
   ]
  },
  {
   "cell_type": "markdown",
   "metadata": {},
   "source": [
    "## dump-db function\n",
    "\n",
    "a dump-db function that dumps out the database in a more human-readable format,"
   ]
  },
  {
   "cell_type": "code",
   "execution_count": 14,
   "metadata": {
    "collapsed": false
   },
   "outputs": [
    {
     "data": {
      "text/plain": [
       "DUMP-DB"
      ]
     },
     "execution_count": 14,
     "metadata": {},
     "output_type": "execute_result"
    }
   ],
   "source": [
    "(defun dump-db ()\n",
    "  (dolist (cd *db*)\n",
    "    (format t \"~{~a:~10t~a~%~}~%\" cd)))"
   ]
  },
  {
   "cell_type": "code",
   "execution_count": 17,
   "metadata": {
    "collapsed": false
   },
   "outputs": [
    {
     "name": "stdout",
     "output_type": "stream",
     "text": [
      "TITLE:    Home\n",
      "ARTIST:  Dixie Chicks\n",
      "RATING:  9\n",
      "RIPPED:  T\n",
      "\n",
      "TITLE:   Fly\n",
      "ARTIST:  Dixie Chicks\n",
      "RATING:  8\n",
      "RIPPED:  T\n",
      "\n",
      "TITLE:   Roses\n",
      "ARTIST:  Kathy Mattea\n",
      "RATING:  7\n",
      "RIPPED:  T\n",
      "\n"
     ]
    },
    {
     "data": {
      "text/plain": [
       "NIL"
      ]
     },
     "execution_count": 17,
     "metadata": {},
     "output_type": "execute_result"
    }
   ],
   "source": [
    "(dump-db)"
   ]
  },
  {
   "cell_type": "code",
   "execution_count": null,
   "metadata": {
    "collapsed": true
   },
   "outputs": [],
   "source": []
  }
 ],
 "metadata": {
  "kernelspec": {
   "display_name": "SBCL Lisp",
   "language": "lisp",
   "name": "lisp"
  },
  "language_info": {
   "codemirror_mode": "text/x-common-lisp",
   "mimetype": "text/x-common-lisp",
   "name": "common-lisp",
   "pygments_lexer": "common-lisp",
   "version": "X3J13"
  }
 },
 "nbformat": 4,
 "nbformat_minor": 0
}
