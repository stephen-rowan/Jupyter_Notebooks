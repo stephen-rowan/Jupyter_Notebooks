{
 "cells": [
  {
   "cell_type": "markdown",
   "metadata": {},
   "source": [
    "# 3. Practical: A Simple Database\n",
    "\n",
    "Exercises from [Practical Common Lisp](http://www.gigamonkeys.com/book/).\n",
    "\n",
    "[3. Practical: A Simple Database](http://www.gigamonkeys.com/book/practical-a-simple-database.html)"
   ]
  },
  {
   "cell_type": "markdown",
   "metadata": {},
   "source": [
    "# Table of Contents\n",
    "\n",
    "1. [Overview](#Overview)\n",
    "2. [List functions](#List functions)\n",
    "3. [The GETF function](#The GETF function)\n",
    "4. [The word DEFUN](#The word DEFUN)\n",
    "5. [The DEFVAR macro](#The DEFVAR macro)\n",
    "6. [Abstract the PUSH macro](#Abstract the PUSH macro)\n",
    "7. [Add CDs to the database](#Add CDs to the database)\n",
    "8. [Looking at the Database Contents](#Looking at the Database Contents)\n",
    "9. [dump-db function](#dump-db function)\n",
    "10. [The ~a directive](#The ~a directive)\n",
    "11. [The ~t directive](#The ~t directive)\n",
    "12. [The ~{ directive](#The ~{ directive)\n",
    "13. [Improving the User Interaction](#Improving the User Interaction)\n",
    "\n",
    "\n",
    "\n",
    "<a class=\"anchor\" id=\"x\"></a>\n",
    "\n"
   ]
  },
  {
   "cell_type": "markdown",
   "metadata": {},
   "source": [
    "## Overvew <a class=\"anchor\" id=\"Overvew\"></a>\n",
    "\n",
    "This workbook uses [cl-Jupyter](https://github.com/fredokun/cl-jupyter/blob/master/about-cl-jupyter.ipynb): an enhanced interactive Shell for Common Lisp.\n",
    "\n",
    "The flavour of Common Lisp is [SBCL Lisp](http://sbcl.org/manual/index.html).\n",
    "\n",
    "Exercises are from [Practical Common Lisp](http://www.gigamonkeys.com/book/)"
   ]
  },
  {
   "cell_type": "markdown",
   "metadata": {},
   "source": [
    " ## List functions <a class=\"anchor\" id=\"List functions\"></a>\n",
    " \n",
    " You can make a list with the LIST function, which, appropriately enough, returns a list of its arguments."
   ]
  },
  {
   "cell_type": "code",
   "execution_count": 1,
   "metadata": {
    "collapsed": false
   },
   "outputs": [
    {
     "data": {
      "text/plain": [
       "(1 2 3)"
      ]
     },
     "execution_count": 1,
     "metadata": {},
     "output_type": "execute_result"
    }
   ],
   "source": [
    "(list 1 2 3)"
   ]
  },
  {
   "cell_type": "markdown",
   "metadata": {},
   "source": [
    "A list with keyword symbols which is any name that starts with a colon (:),\n",
    "such as the following list of keyword symbols with :a, :b, and :c as property names."
   ]
  },
  {
   "cell_type": "code",
   "execution_count": 2,
   "metadata": {
    "collapsed": false
   },
   "outputs": [
    {
     "data": {
      "text/plain": [
       "(:A 1 :B 2 :C 3)"
      ]
     },
     "execution_count": 2,
     "metadata": {},
     "output_type": "execute_result"
    }
   ],
   "source": [
    "(list :a 1 :b 2 :c 3)"
   ]
  },
  {
   "cell_type": "markdown",
   "metadata": {},
   "source": [
    "## The GETF function <a class=\"anchor\" id=\"The GETF function\"></a>\n",
    "\n",
    "The function GETF takes a plist and a symbol and returns the value in the plist following the symbol :"
   ]
  },
  {
   "cell_type": "code",
   "execution_count": 3,
   "metadata": {
    "collapsed": false
   },
   "outputs": [
    {
     "data": {
      "text/plain": [
       "1"
      ]
     },
     "execution_count": 3,
     "metadata": {},
     "output_type": "execute_result"
    }
   ],
   "source": [
    "(getf (list :a 1 :b 2 :c 3) :a)"
   ]
  },
  {
   "cell_type": "code",
   "execution_count": 4,
   "metadata": {
    "collapsed": false
   },
   "outputs": [
    {
     "data": {
      "text/plain": [
       "3"
      ]
     },
     "execution_count": 4,
     "metadata": {},
     "output_type": "execute_result"
    }
   ],
   "source": [
    "(getf (list :a 1 :b 2 :c 3) :c)"
   ]
  },
  {
   "cell_type": "markdown",
   "metadata": {},
   "source": [
    "## The word DEFUN <a class=\"anchor\" id=\"The word DEFUN\"></a>\n",
    "\n",
    "The word DEFUN tells us that this form is defining a new function. The name of the function is make-cd. After the name comes the parameter list. This function has four parameters: title, artist, rating, and ripped.\n",
    "\n",
    "A function make-cd that will take the four fields as arguments and return a plist representing that CD :"
   ]
  },
  {
   "cell_type": "code",
   "execution_count": 5,
   "metadata": {
    "collapsed": false
   },
   "outputs": [
    {
     "data": {
      "text/plain": [
       "MAKE-CD"
      ]
     },
     "execution_count": 5,
     "metadata": {},
     "output_type": "execute_result"
    }
   ],
   "source": [
    "(defun make-cd (title artist rating ripped)\n",
    "  (list :title title :artist artist :rating rating :ripped ripped))"
   ]
  },
  {
   "cell_type": "markdown",
   "metadata": {},
   "source": [
    "make a record for the CD ..."
   ]
  },
  {
   "cell_type": "code",
   "execution_count": 6,
   "metadata": {
    "collapsed": false
   },
   "outputs": [
    {
     "data": {
      "text/plain": [
       "(:TITLE \"Roses\" :ARTIST \"Kathy Mattea\" :RATING 7 :RIPPED T)"
      ]
     },
     "execution_count": 6,
     "metadata": {},
     "output_type": "execute_result"
    }
   ],
   "source": [
    "(make-cd \"Roses\" \"Kathy Mattea\" 7 t)"
   ]
  },
  {
   "cell_type": "markdown",
   "metadata": {},
   "source": [
    "## The DEFVAR macro <a class=\"anchor\" id=\"The DEFVAR macro\"></a>\n",
    "\n",
    "Define a global variable, *db* with the DEFVAR macro. The asterisks (*) in the name are a Lisp naming convention for global variables."
   ]
  },
  {
   "cell_type": "code",
   "execution_count": 7,
   "metadata": {
    "collapsed": false
   },
   "outputs": [
    {
     "data": {
      "text/plain": [
       "*DB*"
      ]
     },
     "execution_count": 7,
     "metadata": {},
     "output_type": "execute_result"
    }
   ],
   "source": [
    "(defvar *db* nil)"
   ]
  },
  {
   "cell_type": "markdown",
   "metadata": {},
   "source": [
    "## Abstract the PUSH macro <a class=\"anchor\" id=\"Abstract the PUSH macro\"></a>\n",
    "\n",
    "Abstract the PUSH macro by defing a function add-record to add items to *db*."
   ]
  },
  {
   "cell_type": "code",
   "execution_count": 8,
   "metadata": {
    "collapsed": false
   },
   "outputs": [
    {
     "data": {
      "text/plain": [
       "ADD-RECORD"
      ]
     },
     "execution_count": 8,
     "metadata": {},
     "output_type": "execute_result"
    }
   ],
   "source": [
    "(defun add-record (cd) (push cd *db*))"
   ]
  },
  {
   "cell_type": "markdown",
   "metadata": {},
   "source": [
    "## Add CDs to the database <a class=\"anchor\" id=\"Add CDs to the database\"></a>\n",
    "\n",
    "Use add-record and make-cd together to add CDs to the database."
   ]
  },
  {
   "cell_type": "code",
   "execution_count": 9,
   "metadata": {
    "collapsed": false
   },
   "outputs": [
    {
     "data": {
      "text/plain": [
       "((:TITLE \"Roses\" :ARTIST \"Kathy Mattea\" :RATING 7 :RIPPED T))"
      ]
     },
     "execution_count": 9,
     "metadata": {},
     "output_type": "execute_result"
    }
   ],
   "source": [
    "(add-record (make-cd \"Roses\" \"Kathy Mattea\" 7 t))"
   ]
  },
  {
   "cell_type": "code",
   "execution_count": 10,
   "metadata": {
    "collapsed": false
   },
   "outputs": [
    {
     "data": {
      "text/plain": [
       "((:TITLE \"Fly\" :ARTIST \"Dixie Chicks\" :RATING 8 :RIPPED T)\n",
       " (:TITLE \"Roses\" :ARTIST \"Kathy Mattea\" :RATING 7 :RIPPED T))"
      ]
     },
     "execution_count": 10,
     "metadata": {},
     "output_type": "execute_result"
    }
   ],
   "source": [
    "(add-record (make-cd \"Fly\" \"Dixie Chicks\" 8 t))"
   ]
  },
  {
   "cell_type": "code",
   "execution_count": 11,
   "metadata": {
    "collapsed": false
   },
   "outputs": [
    {
     "data": {
      "text/plain": [
       "((:TITLE \"Home\" :ARTIST \"Dixie Chicks\" :RATING 9 :RIPPED T)\n",
       " (:TITLE \"Fly\" :ARTIST \"Dixie Chicks\" :RATING 8 :RIPPED T)\n",
       " (:TITLE \"Roses\" :ARTIST \"Kathy Mattea\" :RATING 7 :RIPPED T))"
      ]
     },
     "execution_count": 11,
     "metadata": {},
     "output_type": "execute_result"
    }
   ],
   "source": [
    "(add-record (make-cd \"Home\" \"Dixie Chicks\" 9 t))"
   ]
  },
  {
   "cell_type": "markdown",
   "metadata": {},
   "source": [
    "PUSH returns the new value of the variable it's modifying."
   ]
  },
  {
   "cell_type": "markdown",
   "metadata": {},
   "source": [
    "## Looking at the Database Contents <a class=\"anchor\" id=\"Looking at the Database Contents\"></a>\n",
    "\n",
    "You can also see the current value of *db* whenever you want by typing *db* at the REPL."
   ]
  },
  {
   "cell_type": "code",
   "execution_count": 12,
   "metadata": {
    "collapsed": false
   },
   "outputs": [
    {
     "data": {
      "text/plain": [
       "((:TITLE \"Home\" :ARTIST \"Dixie Chicks\" :RATING 9 :RIPPED T)\n",
       " (:TITLE \"Fly\" :ARTIST \"Dixie Chicks\" :RATING 8 :RIPPED T)\n",
       " (:TITLE \"Roses\" :ARTIST \"Kathy Mattea\" :RATING 7 :RIPPED T))"
      ]
     },
     "execution_count": 12,
     "metadata": {},
     "output_type": "execute_result"
    }
   ],
   "source": [
    "*db*"
   ]
  },
  {
   "cell_type": "markdown",
   "metadata": {},
   "source": [
    "## dump-db function <a class=\"anchor\" id=\"dump-db function\"></a>\n",
    "\n",
    "a dump-db function that dumps out the database in a more human-readable format,"
   ]
  },
  {
   "cell_type": "code",
   "execution_count": 13,
   "metadata": {
    "collapsed": false
   },
   "outputs": [
    {
     "data": {
      "text/plain": [
       "DUMP-DB"
      ]
     },
     "execution_count": 13,
     "metadata": {},
     "output_type": "execute_result"
    }
   ],
   "source": [
    "(defun dump-db ()\n",
    "  (dolist (cd *db*)\n",
    "    (format t \"~{~a:~10t~a~%~}~%\" cd)))"
   ]
  },
  {
   "cell_type": "code",
   "execution_count": 14,
   "metadata": {
    "collapsed": false
   },
   "outputs": [
    {
     "name": "stdout",
     "output_type": "stream",
     "text": [
      "TITLE:    Home\n",
      "ARTIST:  Dixie Chicks\n",
      "RATING:  9\n",
      "RIPPED:  T\n",
      "\n",
      "TITLE:   Fly\n",
      "ARTIST:  Dixie Chicks\n",
      "RATING:  8\n",
      "RIPPED:  T\n",
      "\n",
      "TITLE:   Roses\n",
      "ARTIST:  Kathy Mattea\n",
      "RATING:  7\n",
      "RIPPED:  T\n",
      "\n"
     ]
    },
    {
     "data": {
      "text/plain": [
       "NIL"
      ]
     },
     "execution_count": 14,
     "metadata": {},
     "output_type": "execute_result"
    }
   ],
   "source": [
    "(dump-db)"
   ]
  },
  {
   "cell_type": "markdown",
   "metadata": {
    "collapsed": true
   },
   "source": [
    "This function (dump-db) works by looping over all the elements of *db* with the DOLIST macro, binding each element to the variable cd in turn. For each value of cd, you use the FORMAT function to print it.\n",
    "\n",
    "FORMAT takes at least two arguments :\n",
    "\n",
    "* the first being the stream where it sends its output; t is shorthand for the stream *standard-output*.\n",
    "\n",
    "* the second argument to FORMAT is a format string that can contain both literal text and directives telling FORMAT things such as how to interpolate the rest of its arguments.\n",
    "\n",
    "Format directives start with ~ (much the way printf's directives start with %). FORMAT understands dozens of directives, each with their own set of options."
   ]
  },
  {
   "cell_type": "markdown",
   "metadata": {},
   "source": [
    "## The ~a directive <a class=\"anchor\" id=\"The ~a directive\"></a>\n",
    "\n",
    "The ~a directive is the aesthetic directive; it means to consume one argument and output it in a human-readable form. \n",
    "\n",
    "This will render keywords without the leading : and strings without quotation marks. For instance:"
   ]
  },
  {
   "cell_type": "code",
   "execution_count": 15,
   "metadata": {
    "collapsed": false
   },
   "outputs": [
    {
     "name": "stdout",
     "output_type": "stream",
     "text": [
      "Dixie Chicks"
     ]
    },
    {
     "data": {
      "text/plain": [
       "NIL"
      ]
     },
     "execution_count": 15,
     "metadata": {},
     "output_type": "execute_result"
    }
   ],
   "source": [
    "(format t \"~a\" \"Dixie Chicks\")"
   ]
  },
  {
   "cell_type": "code",
   "execution_count": 16,
   "metadata": {
    "collapsed": false
   },
   "outputs": [
    {
     "name": "stdout",
     "output_type": "stream",
     "text": [
      "TITLE"
     ]
    },
    {
     "data": {
      "text/plain": [
       "NIL"
      ]
     },
     "execution_count": 16,
     "metadata": {},
     "output_type": "execute_result"
    }
   ],
   "source": [
    "(format t \"~a\" :title)"
   ]
  },
  {
   "cell_type": "markdown",
   "metadata": {},
   "source": [
    "## The ~t directive <a class=\"anchor\" id=\"The ~t directive\"></a>\n",
    "\n",
    "The ~t directive is for tabulating. The ~10t tells FORMAT to emit enough spaces to move to the tenth column before processing the next ~a. \n",
    "\n",
    "A ~t doesn't consume any arguments."
   ]
  },
  {
   "cell_type": "code",
   "execution_count": 17,
   "metadata": {
    "collapsed": false
   },
   "outputs": [
    {
     "name": "stdout",
     "output_type": "stream",
     "text": [
      "ARTIST:   Dixie Chicks"
     ]
    },
    {
     "data": {
      "text/plain": [
       "NIL"
      ]
     },
     "execution_count": 17,
     "metadata": {},
     "output_type": "execute_result"
    }
   ],
   "source": [
    "(format t \"~a:~10t~a\" :artist \"Dixie Chicks\")"
   ]
  },
  {
   "cell_type": "markdown",
   "metadata": {},
   "source": [
    "## The ~{ directive <a class=\"anchor\" id=\"The ~{ directive\"></a>\n",
    "\n",
    "When FORMAT sees ~{ the next argument to be consumed must be a list. \n",
    "\n",
    "FORMAT loops over that list, processing the directives between the ~{ and ~}, consuming as many elements of the list as needed each time through the list. \n",
    "\n",
    "In dump-db, the FORMAT loop will consume one keyword and one value from the list each time through the loop. \n",
    "\n",
    "The ~% directive doesn't consume any arguments but tells FORMAT to emit a newline. \n",
    "\n",
    "Then after the ~} ends the loop, the last ~% tells FORMAT to emit one more newline to put a blank line between each CD.\n",
    "\n",
    "Technically, you could have also used FORMAT to loop over the database itself, turning our dump-db function into a one-liner.\n",
    "\n",
    "```(defun dump-db ()\n",
    "  (format t \"~{~{~a:~10t~a~%~}~%~}\" *db*))```"
   ]
  },
  {
   "cell_type": "markdown",
   "metadata": {},
   "source": [
    "# Improving the User Interaction <a class=\"anchor\" id=\"Improving the User Interaction\"></a>\n",
    "\n",
    "While our add-record function works fine for adding records, it's a bit Lispy for the casual user. And if they want to add a bunch of records, it's not very convenient. So you may want to write a function to prompt the user for information about a set of CDs. Right away you know you'll need some way to prompt the user for a piece of information and read it. So let's write that."
   ]
  },
  {
   "cell_type": "code",
   "execution_count": 19,
   "metadata": {
    "collapsed": false
   },
   "outputs": [
    {
     "data": {
      "text/plain": [
       "PROMPT-READ"
      ]
     },
     "execution_count": 19,
     "metadata": {},
     "output_type": "execute_result"
    }
   ],
   "source": [
    "(defun prompt-read (prompt)\n",
    "  (format *query-io* \"~a: \" prompt)\n",
    "  (force-output *query-io*)\n",
    "  (read-line *query-io*))"
   ]
  },
  {
   "cell_type": "code",
   "execution_count": null,
   "metadata": {
    "collapsed": true
   },
   "outputs": [],
   "source": []
  }
 ],
 "metadata": {
  "kernelspec": {
   "display_name": "SBCL Lisp",
   "language": "lisp",
   "name": "lisp"
  },
  "language_info": {
   "codemirror_mode": "text/x-common-lisp",
   "mimetype": "text/x-common-lisp",
   "name": "common-lisp",
   "pygments_lexer": "common-lisp",
   "version": "X3J13"
  }
 },
 "nbformat": 4,
 "nbformat_minor": 0
}
