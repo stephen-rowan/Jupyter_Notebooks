{
 "cells": [
  {
   "cell_type": "code",
   "execution_count": 1,
   "metadata": {},
   "outputs": [
    {
     "data": {
      "text/html": [
       "<table>\n",
       "<thead><tr><th></th><th scope=col>NA</th><th scope=col>FALSE</th><th scope=col>TRUE</th></tr></thead>\n",
       "<tbody>\n",
       "\t<tr><th scope=row>NA</th><td>   NA</td><td>FALSE</td><td>   NA</td></tr>\n",
       "\t<tr><th scope=row>FALSE</th><td>FALSE</td><td>FALSE</td><td>FALSE</td></tr>\n",
       "\t<tr><th scope=row>TRUE</th><td>   NA</td><td>FALSE</td><td> TRUE</td></tr>\n",
       "</tbody>\n",
       "</table>\n"
      ],
      "text/latex": [
       "\\begin{tabular}{r|lll}\n",
       "  & NA & FALSE & TRUE\\\\\n",
       "\\hline\n",
       "\tNA &    NA & FALSE &    NA\\\\\n",
       "\tFALSE & FALSE & FALSE & FALSE\\\\\n",
       "\tTRUE &    NA & FALSE &  TRUE\\\\\n",
       "\\end{tabular}\n"
      ],
      "text/markdown": [
       "\n",
       "| <!--/--> | NA | FALSE | TRUE | \n",
       "|---|---|---|\n",
       "| NA |    NA | FALSE |    NA | \n",
       "| FALSE | FALSE | FALSE | FALSE | \n",
       "| TRUE |    NA | FALSE |  TRUE | \n",
       "\n",
       "\n"
      ],
      "text/plain": [
       "      <NA>  FALSE TRUE \n",
       "<NA>     NA FALSE    NA\n",
       "FALSE FALSE FALSE FALSE\n",
       "TRUE     NA FALSE  TRUE"
      ]
     },
     "metadata": {},
     "output_type": "display_data"
    },
    {
     "data": {
      "text/html": [
       "<table>\n",
       "<thead><tr><th></th><th scope=col>NA</th><th scope=col>FALSE</th><th scope=col>TRUE</th></tr></thead>\n",
       "<tbody>\n",
       "\t<tr><th scope=row>NA</th><td>  NA </td><td>   NA</td><td>TRUE </td></tr>\n",
       "\t<tr><th scope=row>FALSE</th><td>  NA </td><td>FALSE</td><td>TRUE </td></tr>\n",
       "\t<tr><th scope=row>TRUE</th><td>TRUE </td><td> TRUE</td><td>TRUE </td></tr>\n",
       "</tbody>\n",
       "</table>\n"
      ],
      "text/latex": [
       "\\begin{tabular}{r|lll}\n",
       "  & NA & FALSE & TRUE\\\\\n",
       "\\hline\n",
       "\tNA &   NA  &    NA & TRUE \\\\\n",
       "\tFALSE &   NA  & FALSE & TRUE \\\\\n",
       "\tTRUE & TRUE  &  TRUE & TRUE \\\\\n",
       "\\end{tabular}\n"
      ],
      "text/markdown": [
       "\n",
       "| <!--/--> | NA | FALSE | TRUE | \n",
       "|---|---|---|\n",
       "| NA |   NA  |    NA | TRUE  | \n",
       "| FALSE |   NA  | FALSE | TRUE  | \n",
       "| TRUE | TRUE  |  TRUE | TRUE  | \n",
       "\n",
       "\n"
      ],
      "text/plain": [
       "      <NA> FALSE TRUE\n",
       "<NA>    NA    NA TRUE\n",
       "FALSE   NA FALSE TRUE\n",
       "TRUE  TRUE  TRUE TRUE"
      ]
     },
     "metadata": {},
     "output_type": "display_data"
    }
   ],
   "source": [
    "x <- c(NA, FALSE, TRUE)\n",
    "names(x) <- as.character(x)\n",
    "outer(x, x, \"&\") ## AND table\n",
    "outer(x, x, \"|\") ## OR  table"
   ]
  },
  {
   "cell_type": "code",
   "execution_count": 2,
   "metadata": {},
   "outputs": [
    {
     "data": {
      "text/html": [
       "FALSE"
      ],
      "text/latex": [
       "FALSE"
      ],
      "text/markdown": [
       "FALSE"
      ],
      "text/plain": [
       "[1] FALSE"
      ]
     },
     "metadata": {},
     "output_type": "display_data"
    },
    {
     "data": {
      "text/html": [
       "TRUE"
      ],
      "text/latex": [
       "TRUE"
      ],
      "text/markdown": [
       "TRUE"
      ],
      "text/plain": [
       "[1] TRUE"
      ]
     },
     "metadata": {},
     "output_type": "display_data"
    },
    {
     "data": {
      "text/html": [
       "FALSE"
      ],
      "text/latex": [
       "FALSE"
      ],
      "text/markdown": [
       "FALSE"
      ],
      "text/plain": [
       "[1] FALSE"
      ]
     },
     "metadata": {},
     "output_type": "display_data"
    }
   ],
   "source": [
    "u = TRUE; v = FALSE \n",
    "u & v          # u AND v \n",
    "u | v          # u OR v \n",
    "!u             # negation of u "
   ]
  },
  {
   "cell_type": "code",
   "execution_count": null,
   "metadata": {},
   "outputs": [],
   "source": []
  }
 ],
 "metadata": {
  "kernelspec": {
   "display_name": "R",
   "language": "R",
   "name": "ir"
  },
  "language_info": {
   "codemirror_mode": "r",
   "file_extension": ".r",
   "mimetype": "text/x-r-source",
   "name": "R",
   "pygments_lexer": "r",
   "version": "3.3.2"
  }
 },
 "nbformat": 4,
 "nbformat_minor": 2
}
