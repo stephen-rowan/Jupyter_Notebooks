{
 "cells": [
  {
   "cell_type": "markdown",
   "metadata": {},
   "source": [
    "# ISAD-G Data and the Leeds-GATE Archives\n",
    "\n",
    "## Table of Contents\n",
    "\n",
    "1. [Packages for importing and presenting data](#Packages for importing and presenting data)\n",
    "\n",
    "2. [Leeds-GATE element set - JSON construction](#Leeds-GATE element set - JSON construction)\n",
    "3. [Leeds-GATE Items imported via LIVE JSON api](#Leeds-GATE Items imported via LIVE JSON api)\n",
    "\n",
    "\n",
    "\n"
   ]
  },
  {
   "cell_type": "markdown",
   "metadata": {},
   "source": [
    "## Packages for importing and presenting data  <a class=\"anchor\" id=\"Packages for importing and presenting data\"></a>"
   ]
  },
  {
   "cell_type": "code",
   "execution_count": 48,
   "metadata": {},
   "outputs": [
    {
     "name": "stderr",
     "output_type": "stream",
     "text": [
      "Updating HTML index of packages in '.Library'\n",
      "Making 'packages.html' ... done\n"
     ]
    }
   ],
   "source": [
    "install.packages(\"rjson\")\n",
    "library(rjson)"
   ]
  },
  {
   "cell_type": "code",
   "execution_count": 58,
   "metadata": {},
   "outputs": [
    {
     "name": "stderr",
     "output_type": "stream",
     "text": [
      "Updating HTML index of packages in '.Library'\n",
      "Making 'packages.html' ... done\n"
     ]
    }
   ],
   "source": [
    "install.packages(\"devtools\")\n",
    "library(devtools)"
   ]
  },
  {
   "cell_type": "code",
   "execution_count": 59,
   "metadata": {},
   "outputs": [
    {
     "name": "stderr",
     "output_type": "stream",
     "text": [
      "Updating HTML index of packages in '.Library'\n",
      "Making 'packages.html' ... done\n"
     ]
    }
   ],
   "source": [
    "install.packages(\"dplyr\")"
   ]
  },
  {
   "cell_type": "code",
   "execution_count": 60,
   "metadata": {},
   "outputs": [
    {
     "name": "stderr",
     "output_type": "stream",
     "text": [
      "Updating HTML index of packages in '.Library'\n",
      "Making 'packages.html' ... done\n"
     ]
    }
   ],
   "source": [
    "install.packages(\"ggplot2\")"
   ]
  },
  {
   "cell_type": "code",
   "execution_count": 61,
   "metadata": {},
   "outputs": [
    {
     "name": "stderr",
     "output_type": "stream",
     "text": [
      "Updating HTML index of packages in '.Library'\n",
      "Making 'packages.html' ... done\n"
     ]
    }
   ],
   "source": [
    "install.packages(\"shiny\")"
   ]
  },
  {
   "cell_type": "code",
   "execution_count": 62,
   "metadata": {},
   "outputs": [
    {
     "name": "stderr",
     "output_type": "stream",
     "text": [
      "Updating HTML index of packages in '.Library'\n",
      "Making 'packages.html' ... done\n"
     ]
    }
   ],
   "source": [
    "install.packages(\"RCurl\")"
   ]
  },
  {
   "cell_type": "code",
   "execution_count": 63,
   "metadata": {},
   "outputs": [],
   "source": [
    "library(plyr)\n",
    "library(dplyr)\n",
    "library(ggplot2)\n",
    "library(shiny)\n",
    "library(RCurl)"
   ]
  },
  {
   "cell_type": "markdown",
   "metadata": {},
   "source": [
    "## Leeds-GATE element set - JSON construction<a class=\"anchor\" id=\"Leeds-GATE element set - JSON construction\"></a>\n",
    "\n",
    "This section constructs a data frame from a json rendering of the Leeds-GATE element set."
   ]
  },
  {
   "cell_type": "code",
   "execution_count": 41,
   "metadata": {
    "scrolled": true
   },
   "outputs": [
    {
     "data": {
      "text/html": [
       "<table>\n",
       "<thead><tr><th scope=col>GATE Title</th><th scope=col>GATE Name of Creator</th><th scope=col>GATE Dates of Creation</th><th scope=col>GATE Level of description</th><th scope=col>GATE Collection</th><th scope=col>GATE Sub-collection</th></tr></thead>\n",
       "<tbody>\n",
       "\t<tr><td>xxx</td><td>xxx</td><td>xxx</td><td>xxx</td><td>xxx</td><td>xxx</td></tr>\n",
       "</tbody>\n",
       "</table>\n"
      ],
      "text/latex": [
       "\\begin{tabular}{r|llllll}\n",
       " GATE Title & GATE Name of Creator & GATE Dates of Creation & GATE Level of description & GATE Collection & GATE Sub-collection\\\\\n",
       "\\hline\n",
       "\t xxx & xxx & xxx & xxx & xxx & xxx\\\\\n",
       "\\end{tabular}\n"
      ],
      "text/markdown": [
       "\n",
       "GATE Title | GATE Name of Creator | GATE Dates of Creation | GATE Level of description | GATE Collection | GATE Sub-collection | \n",
       "|---|\n",
       "| xxx | xxx | xxx | xxx | xxx | xxx | \n",
       "\n",
       "\n"
      ],
      "text/plain": [
       "  GATE Title GATE Name of Creator GATE Dates of Creation\n",
       "1 xxx        xxx                  xxx                   \n",
       "  GATE Level of description GATE Collection GATE Sub-collection\n",
       "1 xxx                       xxx             xxx                "
      ]
     },
     "metadata": {},
     "output_type": "display_data"
    }
   ],
   "source": [
    "json_file <- '[{\"GATE Title\":\"xxx\"\n",
    "                ,\"GATE Name of Creator\":\"xxx\"\n",
    "                ,\"GATE Dates of Creation\":\"xxx\"\n",
    "                ,\"GATE Level of description\":\"xxx\"\n",
    "                ,\"GATE Collection\":\"xxx\"\n",
    "                ,\"GATE Sub-collection\":\"xxx\"}]'\n",
    "\n",
    "library(jsonlite)\n",
    "fromJSON(json_file)\n",
    "\n",
    "#str(fromJSON(json_file))\n",
    "Leeds_GATE_element_set = fromJSON(json_file)"
   ]
  },
  {
   "cell_type": "code",
   "execution_count": 42,
   "metadata": {},
   "outputs": [
    {
     "name": "stdout",
     "output_type": "stream",
     "text": [
      "'data.frame':\t1 obs. of  6 variables:\n",
      " $ GATE Title               : chr \"xxx\"\n",
      " $ GATE Name of Creator     : chr \"xxx\"\n",
      " $ GATE Dates of Creation   : chr \"xxx\"\n",
      " $ GATE Level of description: chr \"xxx\"\n",
      " $ GATE Collection          : chr \"xxx\"\n",
      " $ GATE Sub-collection      : chr \"xxx\"\n"
     ]
    }
   ],
   "source": [
    "str(Leeds_GATE_element_set)"
   ]
  },
  {
   "cell_type": "code",
   "execution_count": 39,
   "metadata": {},
   "outputs": [
    {
     "data": {
      "text/html": [
       "<ol class=list-inline>\n",
       "\t<li>'GATE Title'</li>\n",
       "\t<li>'GATE Name of Creator'</li>\n",
       "\t<li>'GATE Dates of Creation'</li>\n",
       "\t<li>'GATE Level of description'</li>\n",
       "\t<li>'GATE Collection'</li>\n",
       "\t<li>'GATE Sub-collection'</li>\n",
       "</ol>\n"
      ],
      "text/latex": [
       "\\begin{enumerate*}\n",
       "\\item 'GATE Title'\n",
       "\\item 'GATE Name of Creator'\n",
       "\\item 'GATE Dates of Creation'\n",
       "\\item 'GATE Level of description'\n",
       "\\item 'GATE Collection'\n",
       "\\item 'GATE Sub-collection'\n",
       "\\end{enumerate*}\n"
      ],
      "text/markdown": [
       "1. 'GATE Title'\n",
       "2. 'GATE Name of Creator'\n",
       "3. 'GATE Dates of Creation'\n",
       "4. 'GATE Level of description'\n",
       "5. 'GATE Collection'\n",
       "6. 'GATE Sub-collection'\n",
       "\n",
       "\n"
      ],
      "text/plain": [
       "[1] \"GATE Title\"                \"GATE Name of Creator\"     \n",
       "[3] \"GATE Dates of Creation\"    \"GATE Level of description\"\n",
       "[5] \"GATE Collection\"           \"GATE Sub-collection\"      "
      ]
     },
     "metadata": {},
     "output_type": "display_data"
    }
   ],
   "source": [
    "names(Leeds_GATE_element_set)"
   ]
  },
  {
   "cell_type": "code",
   "execution_count": 43,
   "metadata": {},
   "outputs": [
    {
     "data": {
      "text/html": [
       "<ol class=list-inline>\n",
       "\t<li>1</li>\n",
       "\t<li>6</li>\n",
       "</ol>\n"
      ],
      "text/latex": [
       "\\begin{enumerate*}\n",
       "\\item 1\n",
       "\\item 6\n",
       "\\end{enumerate*}\n"
      ],
      "text/markdown": [
       "1. 1\n",
       "2. 6\n",
       "\n",
       "\n"
      ],
      "text/plain": [
       "[1] 1 6"
      ]
     },
     "metadata": {},
     "output_type": "display_data"
    }
   ],
   "source": [
    "dim(Leeds_GATE_element_set)"
   ]
  },
  {
   "cell_type": "markdown",
   "metadata": {},
   "source": [
    "## Leeds-GATE Items imported via LIVE JSON api<a class=\"anchor\" id=\"Leeds-GATE Items imported via LIVE JSON api\"></a>"
   ]
  },
  {
   "cell_type": "code",
   "execution_count": 72,
   "metadata": {},
   "outputs": [],
   "source": [
    "LeedsGATE_Items = rjson::fromJSON(file=\"https://www.leedsgateheritage.com/api/items\")"
   ]
  },
  {
   "cell_type": "code",
   "execution_count": 90,
   "metadata": {
    "scrolled": false
   },
   "outputs": [],
   "source": [
    "# LeedsGATE_Items"
   ]
  },
  {
   "cell_type": "code",
   "execution_count": 83,
   "metadata": {},
   "outputs": [
    {
     "data": {
      "text/html": [
       "24"
      ],
      "text/latex": [
       "24"
      ],
      "text/markdown": [
       "24"
      ],
      "text/plain": [
       "[1] 24"
      ]
     },
     "metadata": {},
     "output_type": "display_data"
    },
    {
     "data": {
      "text/html": [
       "'https://www.leedsgateheritage.com/api/items/24'"
      ],
      "text/latex": [
       "'https://www.leedsgateheritage.com/api/items/24'"
      ],
      "text/markdown": [
       "'https://www.leedsgateheritage.com/api/items/24'"
      ],
      "text/plain": [
       "[1] \"https://www.leedsgateheritage.com/api/items/24\""
      ]
     },
     "metadata": {},
     "output_type": "display_data"
    },
    {
     "data": {
      "text/html": [
       "TRUE"
      ],
      "text/latex": [
       "TRUE"
      ],
      "text/markdown": [
       "TRUE"
      ],
      "text/plain": [
       "[1] TRUE"
      ]
     },
     "metadata": {},
     "output_type": "display_data"
    }
   ],
   "source": [
    "LeedsGATE_Items[[1]]$id\n",
    "\n",
    "LeedsGATE_Items[[1]]$url\n",
    "\n",
    "LeedsGATE_Items[[1]]$featured"
   ]
  },
  {
   "cell_type": "code",
   "execution_count": 145,
   "metadata": {},
   "outputs": [
    {
     "name": "stdout",
     "output_type": "stream",
     "text": [
      " [1] \"id\"                 \"url\"                \"public\"            \n",
      " [4] \"featured\"           \"added\"              \"modified\"          \n",
      " [7] \"item_type\"          \"collection\"         \"owner\"             \n",
      "[10] \"files\"              \"tags\"               \"element_texts\"     \n",
      "[13] \"extended_resources\"\n"
     ]
    }
   ],
   "source": [
    "for (i in 1){\n",
    "     print(names(LeedsGATE_Items[[i]]))\n",
    "    top_level_json = names(LeedsGATE_Items[[i]])\n",
    "    }"
   ]
  },
  {
   "cell_type": "code",
   "execution_count": 146,
   "metadata": {},
   "outputs": [
    {
     "data": {
      "text/html": [
       "<ol class=list-inline>\n",
       "\t<li>'id'</li>\n",
       "\t<li>'url'</li>\n",
       "\t<li>'public'</li>\n",
       "\t<li>'featured'</li>\n",
       "\t<li>'added'</li>\n",
       "\t<li>'modified'</li>\n",
       "\t<li>'item_type'</li>\n",
       "\t<li>'collection'</li>\n",
       "\t<li>'owner'</li>\n",
       "\t<li>'files'</li>\n",
       "\t<li>'tags'</li>\n",
       "\t<li>'element_texts'</li>\n",
       "\t<li>'extended_resources'</li>\n",
       "</ol>\n"
      ],
      "text/latex": [
       "\\begin{enumerate*}\n",
       "\\item 'id'\n",
       "\\item 'url'\n",
       "\\item 'public'\n",
       "\\item 'featured'\n",
       "\\item 'added'\n",
       "\\item 'modified'\n",
       "\\item 'item\\_type'\n",
       "\\item 'collection'\n",
       "\\item 'owner'\n",
       "\\item 'files'\n",
       "\\item 'tags'\n",
       "\\item 'element\\_texts'\n",
       "\\item 'extended\\_resources'\n",
       "\\end{enumerate*}\n"
      ],
      "text/markdown": [
       "1. 'id'\n",
       "2. 'url'\n",
       "3. 'public'\n",
       "4. 'featured'\n",
       "5. 'added'\n",
       "6. 'modified'\n",
       "7. 'item_type'\n",
       "8. 'collection'\n",
       "9. 'owner'\n",
       "10. 'files'\n",
       "11. 'tags'\n",
       "12. 'element_texts'\n",
       "13. 'extended_resources'\n",
       "\n",
       "\n"
      ],
      "text/plain": [
       " [1] \"id\"                 \"url\"                \"public\"            \n",
       " [4] \"featured\"           \"added\"              \"modified\"          \n",
       " [7] \"item_type\"          \"collection\"         \"owner\"             \n",
       "[10] \"files\"              \"tags\"               \"element_texts\"     \n",
       "[13] \"extended_resources\""
      ]
     },
     "metadata": {},
     "output_type": "display_data"
    }
   ],
   "source": [
    "top_level_json"
   ]
  },
  {
   "cell_type": "code",
   "execution_count": 116,
   "metadata": {},
   "outputs": [
    {
     "name": "stdout",
     "output_type": "stream",
     "text": [
      "[1] \"GATE Reference code\"\n",
      "[1] \"GATE Title\"\n",
      "[1] \"GATE Name of Creator\"\n",
      "[1] \"GATE Dates of Creation\"\n",
      "[1] \"GATE Level of description\"\n",
      "[1] \"GATE Extent and medium of the unit of description\"\n",
      "[1] \"GATE Conditions governing access\"\n",
      "[1] \"GATE Conditions governing reproduction\"\n",
      "[1] \"GATE Language of material\"\n",
      "[1] \"GATE Description\"\n",
      "[1] \"GATE Date(s) of description\"\n",
      "[1] \"GATE Geographical area\"\n",
      "[1] \"GATE Immediate source of acquisition or transfer\"\n",
      "[1] \"GATE Current location\"\n",
      "[1] \"GATE Archivists note\"\n"
     ]
    }
   ],
   "source": [
    "#LeedsGATE_Items[[1]]$element_texts[[1]]$element$name\n",
    "#LeedsGATE_Items[[1]]$element_texts[[2]]$element$name\n",
    "\n",
    "for (i in 1:15){\n",
    "    print(LeedsGATE_Items[[1]]$element_texts[[i]]$element$name)\n",
    "       }"
   ]
  },
  {
   "cell_type": "code",
   "execution_count": 216,
   "metadata": {},
   "outputs": [
    {
     "name": "stdout",
     "output_type": "stream",
     "text": [
      "[1] \"GATE Level of description\"\n",
      "[1] \"Item\"\n",
      "[1] \"GATE Level of description\"\n",
      "[1] \"Item\"\n",
      "[1] \"GATE Level of description\"\n",
      "[1] \"Item\"\n",
      "[1] \"GATE Level of description\"\n",
      "[1] \"Item\"\n",
      "[1] \"GATE Level of description\"\n",
      "[1] \"Item\"\n",
      "[1] \"GATE Level of description\"\n",
      "[1] \"Item\"\n",
      "[1] \"GATE Level of description\"\n",
      "[1] \"Item\"\n",
      "[1] \"GATE Level of description\"\n",
      "[1] \"Item\"\n",
      "[1] \"GATE Level of description\"\n",
      "[1] \"Item\"\n",
      "[1] \"GATE Level of description\"\n",
      "[1] \"Item\"\n"
     ]
    }
   ],
   "source": [
    "for (i in 1:10){\n",
    "    print(LeedsGATE_Items[[i]]$element_texts[[5]]$element$name)\n",
    "     print(LeedsGATE_Items[[i]]$element_texts[[5]]$text)\n",
    "           }"
   ]
  },
  {
   "cell_type": "code",
   "execution_count": 219,
   "metadata": {},
   "outputs": [
    {
     "data": {
      "text/html": [
       "<table>\n",
       "<thead><tr><th scope=col>GATE_Reference_code</th><th scope=col>GATE_Title</th><th scope=col>GATE_Name_of_Creator</th><th scope=col>GATE_Dates_of_Creation</th><th scope=col>GATE_Level_of_description</th></tr></thead>\n",
       "<tbody>\n",
       "\t<tr><td>2016.1.5.0001A                                                </td><td>Ramlin Rose: The Boatwoman's Story                            </td><td>Sheila Stewart                                                </td><td>Published 1993                                                </td><td>Item                                                          </td></tr>\n",
       "\t<tr><td>2016.1.5.0001B                                                </td><td>Ramlin Rose: The Boatwoman's Story                            </td><td>Sheila Stewart                                                </td><td>Published 1993                                                </td><td>Item                                                          </td></tr>\n",
       "\t<tr><td>2016.1.5.0002A                                                </td><td>Still Waters                                                  </td><td>Pratima Mitchell                                              </td><td>Published 1994                                                </td><td>Item                                                          </td></tr>\n",
       "\t<tr><td>2016.1.5.0002B                                                </td><td>Still Waters                                                  </td><td>Pratima Mitchell                                              </td><td>Published 1994                                                </td><td>Item                                                          </td></tr>\n",
       "\t<tr><td>2016.1.5.0003                                                 </td><td>Walks from the Leeds-Liverpool Canal                          </td><td>Mary Welsh                                                    </td><td>Published 1996                                                </td><td>Item                                                          </td></tr>\n",
       "\t<tr><td>2016.1.5.0004                                                 </td><td>The Leeds and Liverpool and Lancaster Canals                  </td><td>British Waterways and North West Development                  </td><td>Date unknown; probably post-2000, as it includes web addresses</td><td>Item                                                          </td></tr>\n",
       "\t<tr><td>2016.1.5.0005                                                 </td><td>Canal Arts and Crafts                                         </td><td>Avril Lansdell                                                </td><td>Published 1997                                                </td><td>Item                                                          </td></tr>\n",
       "\t<tr><td>2016.1.5.0006                                                                                         </td><td><span style=white-space:pre-wrap>Canal Barges &amp; Narrow Boats                 </span>              </td><td><span style=white-space:pre-wrap>Peter L. Smith                               </span>                 </td><td><span style=white-space:pre-wrap>Published 1994                                                </span></td><td>Item                                                                                                  </td></tr>\n",
       "\t<tr><td>2016.1.5.0007                                                 </td><td>The Narrowboat Girl                                           </td><td>Annie Murray                                                  </td><td>Published 2001                                                </td><td>Item                                                          </td></tr>\n",
       "\t<tr><td>2016.1.5.0008                                                 </td><td>Water Gypsies                                                 </td><td>Annie Murray                                                  </td><td>Published 2004                                                </td><td>Item                                                          </td></tr>\n",
       "</tbody>\n",
       "</table>\n"
      ],
      "text/latex": [
       "\\begin{tabular}{r|lllll}\n",
       " GATE\\_Reference\\_code & GATE\\_Title & GATE\\_Name\\_of\\_Creator & GATE\\_Dates\\_of\\_Creation & GATE\\_Level\\_of\\_description\\\\\n",
       "\\hline\n",
       "\t 2016.1.5.0001A                                                 & Ramlin Rose: The Boatwoman's Story                             & Sheila Stewart                                                 & Published 1993                                                 & Item                                                          \\\\\n",
       "\t 2016.1.5.0001B                                                 & Ramlin Rose: The Boatwoman's Story                             & Sheila Stewart                                                 & Published 1993                                                 & Item                                                          \\\\\n",
       "\t 2016.1.5.0002A                                                 & Still Waters                                                   & Pratima Mitchell                                               & Published 1994                                                 & Item                                                          \\\\\n",
       "\t 2016.1.5.0002B                                                 & Still Waters                                                   & Pratima Mitchell                                               & Published 1994                                                 & Item                                                          \\\\\n",
       "\t 2016.1.5.0003                                                  & Walks from the Leeds-Liverpool Canal                           & Mary Welsh                                                     & Published 1996                                                 & Item                                                          \\\\\n",
       "\t 2016.1.5.0004                                                  & The Leeds and Liverpool and Lancaster Canals                   & British Waterways and North West Development                   & Date unknown; probably post-2000, as it includes web addresses & Item                                                          \\\\\n",
       "\t 2016.1.5.0005                                                  & Canal Arts and Crafts                                          & Avril Lansdell                                                 & Published 1997                                                 & Item                                                          \\\\\n",
       "\t 2016.1.5.0006                                                  & Canal Barges \\& Narrow Boats                                  & Peter L. Smith                                                 & Published 1994                                                 & Item                                                          \\\\\n",
       "\t 2016.1.5.0007                                                  & The Narrowboat Girl                                            & Annie Murray                                                   & Published 2001                                                 & Item                                                          \\\\\n",
       "\t 2016.1.5.0008                                                  & Water Gypsies                                                  & Annie Murray                                                   & Published 2004                                                 & Item                                                          \\\\\n",
       "\\end{tabular}\n"
      ],
      "text/markdown": [
       "\n",
       "GATE_Reference_code | GATE_Title | GATE_Name_of_Creator | GATE_Dates_of_Creation | GATE_Level_of_description | \n",
       "|---|---|---|---|---|---|---|---|---|---|\n",
       "| 2016.1.5.0001A                                                 | Ramlin Rose: The Boatwoman's Story                             | Sheila Stewart                                                 | Published 1993                                                 | Item                                                           | \n",
       "| 2016.1.5.0001B                                                 | Ramlin Rose: The Boatwoman's Story                             | Sheila Stewart                                                 | Published 1993                                                 | Item                                                           | \n",
       "| 2016.1.5.0002A                                                 | Still Waters                                                   | Pratima Mitchell                                               | Published 1994                                                 | Item                                                           | \n",
       "| 2016.1.5.0002B                                                 | Still Waters                                                   | Pratima Mitchell                                               | Published 1994                                                 | Item                                                           | \n",
       "| 2016.1.5.0003                                                  | Walks from the Leeds-Liverpool Canal                           | Mary Welsh                                                     | Published 1996                                                 | Item                                                           | \n",
       "| 2016.1.5.0004                                                  | The Leeds and Liverpool and Lancaster Canals                   | British Waterways and North West Development                   | Date unknown; probably post-2000, as it includes web addresses | Item                                                           | \n",
       "| 2016.1.5.0005                                                  | Canal Arts and Crafts                                          | Avril Lansdell                                                 | Published 1997                                                 | Item                                                           | \n",
       "| 2016.1.5.0006                                                  | Canal Barges & Narrow Boats                                    | Peter L. Smith                                                 | Published 1994                                                 | Item                                                           | \n",
       "| 2016.1.5.0007                                                  | The Narrowboat Girl                                            | Annie Murray                                                   | Published 2001                                                 | Item                                                           | \n",
       "| 2016.1.5.0008                                                  | Water Gypsies                                                  | Annie Murray                                                   | Published 2004                                                 | Item                                                           | \n",
       "\n",
       "\n"
      ],
      "text/plain": [
       "   GATE_Reference_code GATE_Title                                  \n",
       "1  2016.1.5.0001A      Ramlin Rose: The Boatwoman's Story          \n",
       "2  2016.1.5.0001B      Ramlin Rose: The Boatwoman's Story          \n",
       "3  2016.1.5.0002A      Still Waters                                \n",
       "4  2016.1.5.0002B      Still Waters                                \n",
       "5  2016.1.5.0003       Walks from the Leeds-Liverpool Canal        \n",
       "6  2016.1.5.0004       The Leeds and Liverpool and Lancaster Canals\n",
       "7  2016.1.5.0005       Canal Arts and Crafts                       \n",
       "8  2016.1.5.0006       Canal Barges & Narrow Boats                 \n",
       "9  2016.1.5.0007       The Narrowboat Girl                         \n",
       "10 2016.1.5.0008       Water Gypsies                               \n",
       "   GATE_Name_of_Creator                         \n",
       "1  Sheila Stewart                               \n",
       "2  Sheila Stewart                               \n",
       "3  Pratima Mitchell                             \n",
       "4  Pratima Mitchell                             \n",
       "5  Mary Welsh                                   \n",
       "6  British Waterways and North West Development \n",
       "7  Avril Lansdell                               \n",
       "8  Peter L. Smith                               \n",
       "9  Annie Murray                                 \n",
       "10 Annie Murray                                 \n",
       "   GATE_Dates_of_Creation                                        \n",
       "1  Published 1993                                                \n",
       "2  Published 1993                                                \n",
       "3  Published 1994                                                \n",
       "4  Published 1994                                                \n",
       "5  Published 1996                                                \n",
       "6  Date unknown; probably post-2000, as it includes web addresses\n",
       "7  Published 1997                                                \n",
       "8  Published 1994                                                \n",
       "9  Published 2001                                                \n",
       "10 Published 2004                                                \n",
       "   GATE_Level_of_description\n",
       "1  Item                     \n",
       "2  Item                     \n",
       "3  Item                     \n",
       "4  Item                     \n",
       "5  Item                     \n",
       "6  Item                     \n",
       "7  Item                     \n",
       "8  Item                     \n",
       "9  Item                     \n",
       "10 Item                     "
      ]
     },
     "metadata": {},
     "output_type": "display_data"
    }
   ],
   "source": [
    "item_record <- data.frame( \"GATE_Reference_code\" = character(), \"GATE_Title\" = character(), \"GATE_Name_of_Creator\" = character(), \"GATE_Dates_of_Creation\" = character(),\"GATE_Level_of_description\" = character(),stringsAsFactors=FALSE)\n",
    "\n",
    "for (i in 1:10){\n",
    "    item_record[nrow(item_record) + 1, ] <- c( (LeedsGATE_Items[[i]]$element_texts[[1]]$text), (LeedsGATE_Items[[i]]$element_texts[[2]]$text), (LeedsGATE_Items[[i]]$element_texts[[3]]$text), (LeedsGATE_Items[[i]]$element_texts[[4]]$text), (LeedsGATE_Items[[i]]$element_texts[[5]]$text))\n",
    "}\n",
    "\n",
    "item_record"
   ]
  },
  {
   "cell_type": "code",
   "execution_count": 215,
   "metadata": {},
   "outputs": [
    {
     "data": {
      "text/html": [
       "<ol class=list-inline>\n",
       "\t<li>'GATE_Reference_code'</li>\n",
       "\t<li>'GATE_Title'</li>\n",
       "\t<li>'GATE_Name_of_Creator'</li>\n",
       "\t<li>'GATE_Dates_of_Creation'</li>\n",
       "</ol>\n"
      ],
      "text/latex": [
       "\\begin{enumerate*}\n",
       "\\item 'GATE\\_Reference\\_code'\n",
       "\\item 'GATE\\_Title'\n",
       "\\item 'GATE\\_Name\\_of\\_Creator'\n",
       "\\item 'GATE\\_Dates\\_of\\_Creation'\n",
       "\\end{enumerate*}\n"
      ],
      "text/markdown": [
       "1. 'GATE_Reference_code'\n",
       "2. 'GATE_Title'\n",
       "3. 'GATE_Name_of_Creator'\n",
       "4. 'GATE_Dates_of_Creation'\n",
       "\n",
       "\n"
      ],
      "text/plain": [
       "[1] \"GATE_Reference_code\"    \"GATE_Title\"             \"GATE_Name_of_Creator\"  \n",
       "[4] \"GATE_Dates_of_Creation\""
      ]
     },
     "metadata": {},
     "output_type": "display_data"
    },
    {
     "data": {
      "text/html": [
       "<ol class=list-inline>\n",
       "\t<li>10</li>\n",
       "\t<li>4</li>\n",
       "</ol>\n"
      ],
      "text/latex": [
       "\\begin{enumerate*}\n",
       "\\item 10\n",
       "\\item 4\n",
       "\\end{enumerate*}\n"
      ],
      "text/markdown": [
       "1. 10\n",
       "2. 4\n",
       "\n",
       "\n"
      ],
      "text/plain": [
       "[1] 10  4"
      ]
     },
     "metadata": {},
     "output_type": "display_data"
    },
    {
     "name": "stdout",
     "output_type": "stream",
     "text": [
      "'data.frame':\t10 obs. of  4 variables:\n",
      " $ GATE_Reference_code   : chr  \"2016.1.5.0001A\" \"2016.1.5.0001B\" \"2016.1.5.0002A\" \"2016.1.5.0002B\" ...\n",
      " $ GATE_Title            : chr  \"Ramlin Rose: The Boatwoman's Story\" \"Ramlin Rose: The Boatwoman's Story\" \"Still Waters\" \"Still Waters\" ...\n",
      " $ GATE_Name_of_Creator  : chr  \"Sheila Stewart\" \"Sheila Stewart\" \"Pratima Mitchell\" \"Pratima Mitchell\" ...\n",
      " $ GATE_Dates_of_Creation: chr  \"Published 1993\" \"Published 1993\" \"Published 1994\" \"Published 1994\" ...\n"
     ]
    }
   ],
   "source": [
    "names (item_record)\n",
    "dim (item_record)\n",
    "str (item_record)"
   ]
  },
  {
   "cell_type": "code",
   "execution_count": null,
   "metadata": {},
   "outputs": [],
   "source": []
  }
 ],
 "metadata": {
  "kernelspec": {
   "display_name": "R",
   "language": "R",
   "name": "ir"
  },
  "language_info": {
   "codemirror_mode": "r",
   "file_extension": ".r",
   "mimetype": "text/x-r-source",
   "name": "R",
   "pygments_lexer": "r",
   "version": "3.3.2"
  }
 },
 "nbformat": 4,
 "nbformat_minor": 2
}
