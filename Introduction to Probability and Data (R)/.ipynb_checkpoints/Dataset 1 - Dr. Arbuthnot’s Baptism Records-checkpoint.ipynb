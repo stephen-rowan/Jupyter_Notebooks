{
 "cells": [
  {
   "cell_type": "code",
   "execution_count": null,
   "metadata": {},
   "outputs": [],
   "source": []
  },
  {
   "cell_type": "code",
   "execution_count": 58,
   "metadata": {},
   "outputs": [
    {
     "name": "stderr",
     "output_type": "stream",
     "text": [
      "Updating HTML index of packages in '.Library'\n",
      "Making 'packages.html' ... done\n"
     ]
    }
   ],
   "source": [
    "install.packages(\"devtools\")\n",
    "library(devtools)"
   ]
  },
  {
   "cell_type": "code",
   "execution_count": 59,
   "metadata": {},
   "outputs": [
    {
     "name": "stderr",
     "output_type": "stream",
     "text": [
      "Updating HTML index of packages in '.Library'\n",
      "Making 'packages.html' ... done\n"
     ]
    }
   ],
   "source": [
    "install.packages(\"dplyr\")"
   ]
  },
  {
   "cell_type": "code",
   "execution_count": 60,
   "metadata": {},
   "outputs": [
    {
     "name": "stderr",
     "output_type": "stream",
     "text": [
      "Updating HTML index of packages in '.Library'\n",
      "Making 'packages.html' ... done\n"
     ]
    }
   ],
   "source": [
    "install.packages(\"ggplot2\")"
   ]
  },
  {
   "cell_type": "code",
   "execution_count": 61,
   "metadata": {},
   "outputs": [
    {
     "name": "stderr",
     "output_type": "stream",
     "text": [
      "Updating HTML index of packages in '.Library'\n",
      "Making 'packages.html' ... done\n"
     ]
    }
   ],
   "source": [
    "install.packages(\"shiny\")"
   ]
  },
  {
   "cell_type": "code",
   "execution_count": 62,
   "metadata": {},
   "outputs": [
    {
     "name": "stderr",
     "output_type": "stream",
     "text": [
      "Updating HTML index of packages in '.Library'\n",
      "Making 'packages.html' ... done\n"
     ]
    }
   ],
   "source": [
    "install.packages(\"RCurl\")"
   ]
  },
  {
   "cell_type": "code",
   "execution_count": 63,
   "metadata": {},
   "outputs": [],
   "source": [
    "library(plyr)\n",
    "library(dplyr)\n",
    "library(ggplot2)\n",
    "library(shiny)\n",
    "library(RCurl)"
   ]
  },
  {
   "cell_type": "code",
   "execution_count": 65,
   "metadata": {},
   "outputs": [],
   "source": [
    "arbuthnot <- download.file(\"https://raw.githubusercontent.com/stephen-rowan/Jupyter_Notebooks/master/Introduction%20to%20Probability%20and%20Data/arbuthnot.csv\", \"arbuthnot.csv\", method = \"curl\")"
   ]
  },
  {
   "cell_type": "code",
   "execution_count": 69,
   "metadata": {},
   "outputs": [],
   "source": [
    "arbuthnot <- read.csv(file=\"arbuthnot.csv\", header=TRUE, sep=\",\")"
   ]
  },
  {
   "cell_type": "code",
   "execution_count": 74,
   "metadata": {},
   "outputs": [
    {
     "data": {
      "text/html": [
       "<table>\n",
       "<thead><tr><th scope=col>year</th><th scope=col>boys</th><th scope=col>girls</th></tr></thead>\n",
       "<tbody>\n",
       "\t<tr><td>1629</td><td>5218</td><td>4683</td></tr>\n",
       "\t<tr><td>1630</td><td>4858</td><td>4457</td></tr>\n",
       "\t<tr><td>1631</td><td>4422</td><td>4102</td></tr>\n",
       "\t<tr><td>1632</td><td>4994</td><td>4590</td></tr>\n",
       "\t<tr><td>1633</td><td>5158</td><td>4839</td></tr>\n",
       "\t<tr><td>1634</td><td>5035</td><td>4820</td></tr>\n",
       "</tbody>\n",
       "</table>\n"
      ],
      "text/latex": [
       "\\begin{tabular}{r|lll}\n",
       " year & boys & girls\\\\\n",
       "\\hline\n",
       "\t 1629 & 5218 & 4683\\\\\n",
       "\t 1630 & 4858 & 4457\\\\\n",
       "\t 1631 & 4422 & 4102\\\\\n",
       "\t 1632 & 4994 & 4590\\\\\n",
       "\t 1633 & 5158 & 4839\\\\\n",
       "\t 1634 & 5035 & 4820\\\\\n",
       "\\end{tabular}\n"
      ],
      "text/markdown": [
       "\n",
       "year | boys | girls | \n",
       "|---|---|---|---|---|---|\n",
       "| 1629 | 5218 | 4683 | \n",
       "| 1630 | 4858 | 4457 | \n",
       "| 1631 | 4422 | 4102 | \n",
       "| 1632 | 4994 | 4590 | \n",
       "| 1633 | 5158 | 4839 | \n",
       "| 1634 | 5035 | 4820 | \n",
       "\n",
       "\n"
      ],
      "text/plain": [
       "  year boys girls\n",
       "1 1629 5218 4683 \n",
       "2 1630 4858 4457 \n",
       "3 1631 4422 4102 \n",
       "4 1632 4994 4590 \n",
       "5 1633 5158 4839 \n",
       "6 1634 5035 4820 "
      ]
     },
     "metadata": {},
     "output_type": "display_data"
    }
   ],
   "source": [
    "head(arbuthnot)"
   ]
  },
  {
   "cell_type": "code",
   "execution_count": 73,
   "metadata": {},
   "outputs": [
    {
     "data": {
      "text/html": [
       "<ol class=list-inline>\n",
       "\t<li>82</li>\n",
       "\t<li>3</li>\n",
       "</ol>\n"
      ],
      "text/latex": [
       "\\begin{enumerate*}\n",
       "\\item 82\n",
       "\\item 3\n",
       "\\end{enumerate*}\n"
      ],
      "text/markdown": [
       "1. 82\n",
       "2. 3\n",
       "\n",
       "\n"
      ],
      "text/plain": [
       "[1] 82  3"
      ]
     },
     "metadata": {},
     "output_type": "display_data"
    }
   ],
   "source": [
    "dim(arbuthnot)"
   ]
  },
  {
   "cell_type": "code",
   "execution_count": 75,
   "metadata": {},
   "outputs": [
    {
     "data": {
      "text/html": [
       "<ol class=list-inline>\n",
       "\t<li>'year'</li>\n",
       "\t<li>'boys'</li>\n",
       "\t<li>'girls'</li>\n",
       "</ol>\n"
      ],
      "text/latex": [
       "\\begin{enumerate*}\n",
       "\\item 'year'\n",
       "\\item 'boys'\n",
       "\\item 'girls'\n",
       "\\end{enumerate*}\n"
      ],
      "text/markdown": [
       "1. 'year'\n",
       "2. 'boys'\n",
       "3. 'girls'\n",
       "\n",
       "\n"
      ],
      "text/plain": [
       "[1] \"year\"  \"boys\"  \"girls\""
      ]
     },
     "metadata": {},
     "output_type": "display_data"
    }
   ],
   "source": [
    "names(arbuthnot)"
   ]
  },
  {
   "cell_type": "markdown",
   "metadata": {},
   "source": [
    "## Some Exploration\n",
    "\n",
    "Let’s start to examine the data a little more closely. We can access the data in a single column of a data frame separately using a command like"
   ]
  },
  {
   "cell_type": "code",
   "execution_count": 76,
   "metadata": {},
   "outputs": [
    {
     "data": {
      "text/html": [
       "<ol class=list-inline>\n",
       "\t<li>5218</li>\n",
       "\t<li>4858</li>\n",
       "\t<li>4422</li>\n",
       "\t<li>4994</li>\n",
       "\t<li>5158</li>\n",
       "\t<li>5035</li>\n",
       "\t<li>5106</li>\n",
       "\t<li>4917</li>\n",
       "\t<li>4703</li>\n",
       "\t<li>5359</li>\n",
       "\t<li>5366</li>\n",
       "\t<li>5518</li>\n",
       "\t<li>5470</li>\n",
       "\t<li>5460</li>\n",
       "\t<li>4793</li>\n",
       "\t<li>4107</li>\n",
       "\t<li>4047</li>\n",
       "\t<li>3768</li>\n",
       "\t<li>3796</li>\n",
       "\t<li>3363</li>\n",
       "\t<li>3079</li>\n",
       "\t<li>2890</li>\n",
       "\t<li>3231</li>\n",
       "\t<li>3220</li>\n",
       "\t<li>3196</li>\n",
       "\t<li>3441</li>\n",
       "\t<li>3655</li>\n",
       "\t<li>3668</li>\n",
       "\t<li>3396</li>\n",
       "\t<li>3157</li>\n",
       "\t<li>3209</li>\n",
       "\t<li>3724</li>\n",
       "\t<li>4748</li>\n",
       "\t<li>5216</li>\n",
       "\t<li>5411</li>\n",
       "\t<li>6041</li>\n",
       "\t<li>5114</li>\n",
       "\t<li>4678</li>\n",
       "\t<li>5616</li>\n",
       "\t<li>6073</li>\n",
       "\t<li>6506</li>\n",
       "\t<li>6278</li>\n",
       "\t<li>6449</li>\n",
       "\t<li>6443</li>\n",
       "\t<li>6073</li>\n",
       "\t<li>6113</li>\n",
       "\t<li>6058</li>\n",
       "\t<li>6552</li>\n",
       "\t<li>6423</li>\n",
       "\t<li>6568</li>\n",
       "\t<li>6247</li>\n",
       "\t<li>6548</li>\n",
       "\t<li>6822</li>\n",
       "\t<li>6909</li>\n",
       "\t<li>7577</li>\n",
       "\t<li>7575</li>\n",
       "\t<li>7484</li>\n",
       "\t<li>7575</li>\n",
       "\t<li>7737</li>\n",
       "\t<li>7487</li>\n",
       "\t<li>7604</li>\n",
       "\t<li>7909</li>\n",
       "\t<li>7662</li>\n",
       "\t<li>7602</li>\n",
       "\t<li>7676</li>\n",
       "\t<li>6985</li>\n",
       "\t<li>7263</li>\n",
       "\t<li>7632</li>\n",
       "\t<li>8062</li>\n",
       "\t<li>8426</li>\n",
       "\t<li>7911</li>\n",
       "\t<li>7578</li>\n",
       "\t<li>8102</li>\n",
       "\t<li>8031</li>\n",
       "\t<li>7765</li>\n",
       "\t<li>6113</li>\n",
       "\t<li>8366</li>\n",
       "\t<li>7952</li>\n",
       "\t<li>8379</li>\n",
       "\t<li>8239</li>\n",
       "\t<li>7840</li>\n",
       "\t<li>7640</li>\n",
       "</ol>\n"
      ],
      "text/latex": [
       "\\begin{enumerate*}\n",
       "\\item 5218\n",
       "\\item 4858\n",
       "\\item 4422\n",
       "\\item 4994\n",
       "\\item 5158\n",
       "\\item 5035\n",
       "\\item 5106\n",
       "\\item 4917\n",
       "\\item 4703\n",
       "\\item 5359\n",
       "\\item 5366\n",
       "\\item 5518\n",
       "\\item 5470\n",
       "\\item 5460\n",
       "\\item 4793\n",
       "\\item 4107\n",
       "\\item 4047\n",
       "\\item 3768\n",
       "\\item 3796\n",
       "\\item 3363\n",
       "\\item 3079\n",
       "\\item 2890\n",
       "\\item 3231\n",
       "\\item 3220\n",
       "\\item 3196\n",
       "\\item 3441\n",
       "\\item 3655\n",
       "\\item 3668\n",
       "\\item 3396\n",
       "\\item 3157\n",
       "\\item 3209\n",
       "\\item 3724\n",
       "\\item 4748\n",
       "\\item 5216\n",
       "\\item 5411\n",
       "\\item 6041\n",
       "\\item 5114\n",
       "\\item 4678\n",
       "\\item 5616\n",
       "\\item 6073\n",
       "\\item 6506\n",
       "\\item 6278\n",
       "\\item 6449\n",
       "\\item 6443\n",
       "\\item 6073\n",
       "\\item 6113\n",
       "\\item 6058\n",
       "\\item 6552\n",
       "\\item 6423\n",
       "\\item 6568\n",
       "\\item 6247\n",
       "\\item 6548\n",
       "\\item 6822\n",
       "\\item 6909\n",
       "\\item 7577\n",
       "\\item 7575\n",
       "\\item 7484\n",
       "\\item 7575\n",
       "\\item 7737\n",
       "\\item 7487\n",
       "\\item 7604\n",
       "\\item 7909\n",
       "\\item 7662\n",
       "\\item 7602\n",
       "\\item 7676\n",
       "\\item 6985\n",
       "\\item 7263\n",
       "\\item 7632\n",
       "\\item 8062\n",
       "\\item 8426\n",
       "\\item 7911\n",
       "\\item 7578\n",
       "\\item 8102\n",
       "\\item 8031\n",
       "\\item 7765\n",
       "\\item 6113\n",
       "\\item 8366\n",
       "\\item 7952\n",
       "\\item 8379\n",
       "\\item 8239\n",
       "\\item 7840\n",
       "\\item 7640\n",
       "\\end{enumerate*}\n"
      ],
      "text/markdown": [
       "1. 5218\n",
       "2. 4858\n",
       "3. 4422\n",
       "4. 4994\n",
       "5. 5158\n",
       "6. 5035\n",
       "7. 5106\n",
       "8. 4917\n",
       "9. 4703\n",
       "10. 5359\n",
       "11. 5366\n",
       "12. 5518\n",
       "13. 5470\n",
       "14. 5460\n",
       "15. 4793\n",
       "16. 4107\n",
       "17. 4047\n",
       "18. 3768\n",
       "19. 3796\n",
       "20. 3363\n",
       "21. 3079\n",
       "22. 2890\n",
       "23. 3231\n",
       "24. 3220\n",
       "25. 3196\n",
       "26. 3441\n",
       "27. 3655\n",
       "28. 3668\n",
       "29. 3396\n",
       "30. 3157\n",
       "31. 3209\n",
       "32. 3724\n",
       "33. 4748\n",
       "34. 5216\n",
       "35. 5411\n",
       "36. 6041\n",
       "37. 5114\n",
       "38. 4678\n",
       "39. 5616\n",
       "40. 6073\n",
       "41. 6506\n",
       "42. 6278\n",
       "43. 6449\n",
       "44. 6443\n",
       "45. 6073\n",
       "46. 6113\n",
       "47. 6058\n",
       "48. 6552\n",
       "49. 6423\n",
       "50. 6568\n",
       "51. 6247\n",
       "52. 6548\n",
       "53. 6822\n",
       "54. 6909\n",
       "55. 7577\n",
       "56. 7575\n",
       "57. 7484\n",
       "58. 7575\n",
       "59. 7737\n",
       "60. 7487\n",
       "61. 7604\n",
       "62. 7909\n",
       "63. 7662\n",
       "64. 7602\n",
       "65. 7676\n",
       "66. 6985\n",
       "67. 7263\n",
       "68. 7632\n",
       "69. 8062\n",
       "70. 8426\n",
       "71. 7911\n",
       "72. 7578\n",
       "73. 8102\n",
       "74. 8031\n",
       "75. 7765\n",
       "76. 6113\n",
       "77. 8366\n",
       "78. 7952\n",
       "79. 8379\n",
       "80. 8239\n",
       "81. 7840\n",
       "82. 7640\n",
       "\n",
       "\n"
      ],
      "text/plain": [
       " [1] 5218 4858 4422 4994 5158 5035 5106 4917 4703 5359 5366 5518 5470 5460 4793\n",
       "[16] 4107 4047 3768 3796 3363 3079 2890 3231 3220 3196 3441 3655 3668 3396 3157\n",
       "[31] 3209 3724 4748 5216 5411 6041 5114 4678 5616 6073 6506 6278 6449 6443 6073\n",
       "[46] 6113 6058 6552 6423 6568 6247 6548 6822 6909 7577 7575 7484 7575 7737 7487\n",
       "[61] 7604 7909 7662 7602 7676 6985 7263 7632 8062 8426 7911 7578 8102 8031 7765\n",
       "[76] 6113 8366 7952 8379 8239 7840 7640"
      ]
     },
     "metadata": {},
     "output_type": "display_data"
    }
   ],
   "source": [
    "arbuthnot$boys"
   ]
  },
  {
   "cell_type": "markdown",
   "metadata": {},
   "source": [
    "This command will only show the number of boys baptized each year. The dollar sign basically says “go to the data frame that comes before me, and find the variable that comes after me”."
   ]
  },
  {
   "cell_type": "code",
   "execution_count": 77,
   "metadata": {},
   "outputs": [
    {
     "data": {
      "text/html": [
       "<ol class=list-inline>\n",
       "\t<li>4683</li>\n",
       "\t<li>4457</li>\n",
       "\t<li>4102</li>\n",
       "\t<li>4590</li>\n",
       "\t<li>4839</li>\n",
       "\t<li>4820</li>\n",
       "\t<li>4928</li>\n",
       "\t<li>4605</li>\n",
       "\t<li>4457</li>\n",
       "\t<li>4952</li>\n",
       "\t<li>4784</li>\n",
       "\t<li>5332</li>\n",
       "\t<li>5200</li>\n",
       "\t<li>4910</li>\n",
       "\t<li>4617</li>\n",
       "\t<li>3997</li>\n",
       "\t<li>3919</li>\n",
       "\t<li>3395</li>\n",
       "\t<li>3536</li>\n",
       "\t<li>3181</li>\n",
       "\t<li>2746</li>\n",
       "\t<li>2722</li>\n",
       "\t<li>2840</li>\n",
       "\t<li>2908</li>\n",
       "\t<li>2959</li>\n",
       "\t<li>3179</li>\n",
       "\t<li>3349</li>\n",
       "\t<li>3382</li>\n",
       "\t<li>3289</li>\n",
       "\t<li>3013</li>\n",
       "\t<li>2781</li>\n",
       "\t<li>3247</li>\n",
       "\t<li>4107</li>\n",
       "\t<li>4803</li>\n",
       "\t<li>4881</li>\n",
       "\t<li>5681</li>\n",
       "\t<li>4858</li>\n",
       "\t<li>4319</li>\n",
       "\t<li>5322</li>\n",
       "\t<li>5560</li>\n",
       "\t<li>5829</li>\n",
       "\t<li>5719</li>\n",
       "\t<li>6061</li>\n",
       "\t<li>6120</li>\n",
       "\t<li>5822</li>\n",
       "\t<li>5738</li>\n",
       "\t<li>5717</li>\n",
       "\t<li>5847</li>\n",
       "\t<li>6203</li>\n",
       "\t<li>6033</li>\n",
       "\t<li>6041</li>\n",
       "\t<li>6299</li>\n",
       "\t<li>6533</li>\n",
       "\t<li>6744</li>\n",
       "\t<li>7158</li>\n",
       "\t<li>7127</li>\n",
       "\t<li>7246</li>\n",
       "\t<li>7119</li>\n",
       "\t<li>7214</li>\n",
       "\t<li>7101</li>\n",
       "\t<li>7167</li>\n",
       "\t<li>7302</li>\n",
       "\t<li>7392</li>\n",
       "\t<li>7316</li>\n",
       "\t<li>7483</li>\n",
       "\t<li>6647</li>\n",
       "\t<li>6713</li>\n",
       "\t<li>7229</li>\n",
       "\t<li>7767</li>\n",
       "\t<li>7626</li>\n",
       "\t<li>7452</li>\n",
       "\t<li>7061</li>\n",
       "\t<li>7514</li>\n",
       "\t<li>7656</li>\n",
       "\t<li>7683</li>\n",
       "\t<li>5738</li>\n",
       "\t<li>7779</li>\n",
       "\t<li>7417</li>\n",
       "\t<li>7687</li>\n",
       "\t<li>7623</li>\n",
       "\t<li>7380</li>\n",
       "\t<li>7288</li>\n",
       "</ol>\n"
      ],
      "text/latex": [
       "\\begin{enumerate*}\n",
       "\\item 4683\n",
       "\\item 4457\n",
       "\\item 4102\n",
       "\\item 4590\n",
       "\\item 4839\n",
       "\\item 4820\n",
       "\\item 4928\n",
       "\\item 4605\n",
       "\\item 4457\n",
       "\\item 4952\n",
       "\\item 4784\n",
       "\\item 5332\n",
       "\\item 5200\n",
       "\\item 4910\n",
       "\\item 4617\n",
       "\\item 3997\n",
       "\\item 3919\n",
       "\\item 3395\n",
       "\\item 3536\n",
       "\\item 3181\n",
       "\\item 2746\n",
       "\\item 2722\n",
       "\\item 2840\n",
       "\\item 2908\n",
       "\\item 2959\n",
       "\\item 3179\n",
       "\\item 3349\n",
       "\\item 3382\n",
       "\\item 3289\n",
       "\\item 3013\n",
       "\\item 2781\n",
       "\\item 3247\n",
       "\\item 4107\n",
       "\\item 4803\n",
       "\\item 4881\n",
       "\\item 5681\n",
       "\\item 4858\n",
       "\\item 4319\n",
       "\\item 5322\n",
       "\\item 5560\n",
       "\\item 5829\n",
       "\\item 5719\n",
       "\\item 6061\n",
       "\\item 6120\n",
       "\\item 5822\n",
       "\\item 5738\n",
       "\\item 5717\n",
       "\\item 5847\n",
       "\\item 6203\n",
       "\\item 6033\n",
       "\\item 6041\n",
       "\\item 6299\n",
       "\\item 6533\n",
       "\\item 6744\n",
       "\\item 7158\n",
       "\\item 7127\n",
       "\\item 7246\n",
       "\\item 7119\n",
       "\\item 7214\n",
       "\\item 7101\n",
       "\\item 7167\n",
       "\\item 7302\n",
       "\\item 7392\n",
       "\\item 7316\n",
       "\\item 7483\n",
       "\\item 6647\n",
       "\\item 6713\n",
       "\\item 7229\n",
       "\\item 7767\n",
       "\\item 7626\n",
       "\\item 7452\n",
       "\\item 7061\n",
       "\\item 7514\n",
       "\\item 7656\n",
       "\\item 7683\n",
       "\\item 5738\n",
       "\\item 7779\n",
       "\\item 7417\n",
       "\\item 7687\n",
       "\\item 7623\n",
       "\\item 7380\n",
       "\\item 7288\n",
       "\\end{enumerate*}\n"
      ],
      "text/markdown": [
       "1. 4683\n",
       "2. 4457\n",
       "3. 4102\n",
       "4. 4590\n",
       "5. 4839\n",
       "6. 4820\n",
       "7. 4928\n",
       "8. 4605\n",
       "9. 4457\n",
       "10. 4952\n",
       "11. 4784\n",
       "12. 5332\n",
       "13. 5200\n",
       "14. 4910\n",
       "15. 4617\n",
       "16. 3997\n",
       "17. 3919\n",
       "18. 3395\n",
       "19. 3536\n",
       "20. 3181\n",
       "21. 2746\n",
       "22. 2722\n",
       "23. 2840\n",
       "24. 2908\n",
       "25. 2959\n",
       "26. 3179\n",
       "27. 3349\n",
       "28. 3382\n",
       "29. 3289\n",
       "30. 3013\n",
       "31. 2781\n",
       "32. 3247\n",
       "33. 4107\n",
       "34. 4803\n",
       "35. 4881\n",
       "36. 5681\n",
       "37. 4858\n",
       "38. 4319\n",
       "39. 5322\n",
       "40. 5560\n",
       "41. 5829\n",
       "42. 5719\n",
       "43. 6061\n",
       "44. 6120\n",
       "45. 5822\n",
       "46. 5738\n",
       "47. 5717\n",
       "48. 5847\n",
       "49. 6203\n",
       "50. 6033\n",
       "51. 6041\n",
       "52. 6299\n",
       "53. 6533\n",
       "54. 6744\n",
       "55. 7158\n",
       "56. 7127\n",
       "57. 7246\n",
       "58. 7119\n",
       "59. 7214\n",
       "60. 7101\n",
       "61. 7167\n",
       "62. 7302\n",
       "63. 7392\n",
       "64. 7316\n",
       "65. 7483\n",
       "66. 6647\n",
       "67. 6713\n",
       "68. 7229\n",
       "69. 7767\n",
       "70. 7626\n",
       "71. 7452\n",
       "72. 7061\n",
       "73. 7514\n",
       "74. 7656\n",
       "75. 7683\n",
       "76. 5738\n",
       "77. 7779\n",
       "78. 7417\n",
       "79. 7687\n",
       "80. 7623\n",
       "81. 7380\n",
       "82. 7288\n",
       "\n",
       "\n"
      ],
      "text/plain": [
       " [1] 4683 4457 4102 4590 4839 4820 4928 4605 4457 4952 4784 5332 5200 4910 4617\n",
       "[16] 3997 3919 3395 3536 3181 2746 2722 2840 2908 2959 3179 3349 3382 3289 3013\n",
       "[31] 2781 3247 4107 4803 4881 5681 4858 4319 5322 5560 5829 5719 6061 6120 5822\n",
       "[46] 5738 5717 5847 6203 6033 6041 6299 6533 6744 7158 7127 7246 7119 7214 7101\n",
       "[61] 7167 7302 7392 7316 7483 6647 6713 7229 7767 7626 7452 7061 7514 7656 7683\n",
       "[76] 5738 7779 7417 7687 7623 7380 7288"
      ]
     },
     "metadata": {},
     "output_type": "display_data"
    }
   ],
   "source": [
    "arbuthnot$girls"
   ]
  },
  {
   "cell_type": "markdown",
   "metadata": {},
   "source": [
    "Notice that the way R has printed these data is different. When we looked at the complete data frame, we saw 82 rows, one on each line of the display. These data are no longer structured in a table with other variables, so they are displayed one right after another. Objects that print out in this way are called vectors; they represent a set of numbers. R has added numbers in [brackets] along the left side of the printout to indicate locations within the vector. For example, in the arbuthnot$boys vector, 5218 follows [1], indicating that 5218 is the first entry in the vector. And if [43] starts a line, then that would mean the first number on that line would represent the 43rd entry in the vector.\n",
    "\n",
    "R has some powerful functions for making graphics. We can create a simple plot of the number of girls baptized per year with the command"
   ]
  },
  {
   "cell_type": "code",
   "execution_count": 78,
   "metadata": {},
   "outputs": [
    {
     "data": {},
     "metadata": {},
     "output_type": "display_data"
    },
    {
     "data": {
      "image/png": "[encoded data removed]",
      "text/plain": [
       "plot without title"
      ]
     },
     "metadata": {},
     "output_type": "display_data"
    }
   ],
   "source": [
    "ggplot(data = arbuthnot, aes(x = year, y = girls)) +\n",
    "  geom_point()"
   ]
  },
  {
   "cell_type": "code",
   "execution_count": 79,
   "metadata": {},
   "outputs": [
    {
     "data": {
      "text/html": [
       "<ol class=list-inline>\n",
       "\t<li>9901</li>\n",
       "\t<li>9315</li>\n",
       "\t<li>8524</li>\n",
       "\t<li>9584</li>\n",
       "\t<li>9997</li>\n",
       "\t<li>9855</li>\n",
       "\t<li>10034</li>\n",
       "\t<li>9522</li>\n",
       "\t<li>9160</li>\n",
       "\t<li>10311</li>\n",
       "\t<li>10150</li>\n",
       "\t<li>10850</li>\n",
       "\t<li>10670</li>\n",
       "\t<li>10370</li>\n",
       "\t<li>9410</li>\n",
       "\t<li>8104</li>\n",
       "\t<li>7966</li>\n",
       "\t<li>7163</li>\n",
       "\t<li>7332</li>\n",
       "\t<li>6544</li>\n",
       "\t<li>5825</li>\n",
       "\t<li>5612</li>\n",
       "\t<li>6071</li>\n",
       "\t<li>6128</li>\n",
       "\t<li>6155</li>\n",
       "\t<li>6620</li>\n",
       "\t<li>7004</li>\n",
       "\t<li>7050</li>\n",
       "\t<li>6685</li>\n",
       "\t<li>6170</li>\n",
       "\t<li>5990</li>\n",
       "\t<li>6971</li>\n",
       "\t<li>8855</li>\n",
       "\t<li>10019</li>\n",
       "\t<li>10292</li>\n",
       "\t<li>11722</li>\n",
       "\t<li>9972</li>\n",
       "\t<li>8997</li>\n",
       "\t<li>10938</li>\n",
       "\t<li>11633</li>\n",
       "\t<li>12335</li>\n",
       "\t<li>11997</li>\n",
       "\t<li>12510</li>\n",
       "\t<li>12563</li>\n",
       "\t<li>11895</li>\n",
       "\t<li>11851</li>\n",
       "\t<li>11775</li>\n",
       "\t<li>12399</li>\n",
       "\t<li>12626</li>\n",
       "\t<li>12601</li>\n",
       "\t<li>12288</li>\n",
       "\t<li>12847</li>\n",
       "\t<li>13355</li>\n",
       "\t<li>13653</li>\n",
       "\t<li>14735</li>\n",
       "\t<li>14702</li>\n",
       "\t<li>14730</li>\n",
       "\t<li>14694</li>\n",
       "\t<li>14951</li>\n",
       "\t<li>14588</li>\n",
       "\t<li>14771</li>\n",
       "\t<li>15211</li>\n",
       "\t<li>15054</li>\n",
       "\t<li>14918</li>\n",
       "\t<li>15159</li>\n",
       "\t<li>13632</li>\n",
       "\t<li>13976</li>\n",
       "\t<li>14861</li>\n",
       "\t<li>15829</li>\n",
       "\t<li>16052</li>\n",
       "\t<li>15363</li>\n",
       "\t<li>14639</li>\n",
       "\t<li>15616</li>\n",
       "\t<li>15687</li>\n",
       "\t<li>15448</li>\n",
       "\t<li>11851</li>\n",
       "\t<li>16145</li>\n",
       "\t<li>15369</li>\n",
       "\t<li>16066</li>\n",
       "\t<li>15862</li>\n",
       "\t<li>15220</li>\n",
       "\t<li>14928</li>\n",
       "</ol>\n"
      ],
      "text/latex": [
       "\\begin{enumerate*}\n",
       "\\item 9901\n",
       "\\item 9315\n",
       "\\item 8524\n",
       "\\item 9584\n",
       "\\item 9997\n",
       "\\item 9855\n",
       "\\item 10034\n",
       "\\item 9522\n",
       "\\item 9160\n",
       "\\item 10311\n",
       "\\item 10150\n",
       "\\item 10850\n",
       "\\item 10670\n",
       "\\item 10370\n",
       "\\item 9410\n",
       "\\item 8104\n",
       "\\item 7966\n",
       "\\item 7163\n",
       "\\item 7332\n",
       "\\item 6544\n",
       "\\item 5825\n",
       "\\item 5612\n",
       "\\item 6071\n",
       "\\item 6128\n",
       "\\item 6155\n",
       "\\item 6620\n",
       "\\item 7004\n",
       "\\item 7050\n",
       "\\item 6685\n",
       "\\item 6170\n",
       "\\item 5990\n",
       "\\item 6971\n",
       "\\item 8855\n",
       "\\item 10019\n",
       "\\item 10292\n",
       "\\item 11722\n",
       "\\item 9972\n",
       "\\item 8997\n",
       "\\item 10938\n",
       "\\item 11633\n",
       "\\item 12335\n",
       "\\item 11997\n",
       "\\item 12510\n",
       "\\item 12563\n",
       "\\item 11895\n",
       "\\item 11851\n",
       "\\item 11775\n",
       "\\item 12399\n",
       "\\item 12626\n",
       "\\item 12601\n",
       "\\item 12288\n",
       "\\item 12847\n",
       "\\item 13355\n",
       "\\item 13653\n",
       "\\item 14735\n",
       "\\item 14702\n",
       "\\item 14730\n",
       "\\item 14694\n",
       "\\item 14951\n",
       "\\item 14588\n",
       "\\item 14771\n",
       "\\item 15211\n",
       "\\item 15054\n",
       "\\item 14918\n",
       "\\item 15159\n",
       "\\item 13632\n",
       "\\item 13976\n",
       "\\item 14861\n",
       "\\item 15829\n",
       "\\item 16052\n",
       "\\item 15363\n",
       "\\item 14639\n",
       "\\item 15616\n",
       "\\item 15687\n",
       "\\item 15448\n",
       "\\item 11851\n",
       "\\item 16145\n",
       "\\item 15369\n",
       "\\item 16066\n",
       "\\item 15862\n",
       "\\item 15220\n",
       "\\item 14928\n",
       "\\end{enumerate*}\n"
      ],
      "text/markdown": [
       "1. 9901\n",
       "2. 9315\n",
       "3. 8524\n",
       "4. 9584\n",
       "5. 9997\n",
       "6. 9855\n",
       "7. 10034\n",
       "8. 9522\n",
       "9. 9160\n",
       "10. 10311\n",
       "11. 10150\n",
       "12. 10850\n",
       "13. 10670\n",
       "14. 10370\n",
       "15. 9410\n",
       "16. 8104\n",
       "17. 7966\n",
       "18. 7163\n",
       "19. 7332\n",
       "20. 6544\n",
       "21. 5825\n",
       "22. 5612\n",
       "23. 6071\n",
       "24. 6128\n",
       "25. 6155\n",
       "26. 6620\n",
       "27. 7004\n",
       "28. 7050\n",
       "29. 6685\n",
       "30. 6170\n",
       "31. 5990\n",
       "32. 6971\n",
       "33. 8855\n",
       "34. 10019\n",
       "35. 10292\n",
       "36. 11722\n",
       "37. 9972\n",
       "38. 8997\n",
       "39. 10938\n",
       "40. 11633\n",
       "41. 12335\n",
       "42. 11997\n",
       "43. 12510\n",
       "44. 12563\n",
       "45. 11895\n",
       "46. 11851\n",
       "47. 11775\n",
       "48. 12399\n",
       "49. 12626\n",
       "50. 12601\n",
       "51. 12288\n",
       "52. 12847\n",
       "53. 13355\n",
       "54. 13653\n",
       "55. 14735\n",
       "56. 14702\n",
       "57. 14730\n",
       "58. 14694\n",
       "59. 14951\n",
       "60. 14588\n",
       "61. 14771\n",
       "62. 15211\n",
       "63. 15054\n",
       "64. 14918\n",
       "65. 15159\n",
       "66. 13632\n",
       "67. 13976\n",
       "68. 14861\n",
       "69. 15829\n",
       "70. 16052\n",
       "71. 15363\n",
       "72. 14639\n",
       "73. 15616\n",
       "74. 15687\n",
       "75. 15448\n",
       "76. 11851\n",
       "77. 16145\n",
       "78. 15369\n",
       "79. 16066\n",
       "80. 15862\n",
       "81. 15220\n",
       "82. 14928\n",
       "\n",
       "\n"
      ],
      "text/plain": [
       " [1]  9901  9315  8524  9584  9997  9855 10034  9522  9160 10311 10150 10850\n",
       "[13] 10670 10370  9410  8104  7966  7163  7332  6544  5825  5612  6071  6128\n",
       "[25]  6155  6620  7004  7050  6685  6170  5990  6971  8855 10019 10292 11722\n",
       "[37]  9972  8997 10938 11633 12335 11997 12510 12563 11895 11851 11775 12399\n",
       "[49] 12626 12601 12288 12847 13355 13653 14735 14702 14730 14694 14951 14588\n",
       "[61] 14771 15211 15054 14918 15159 13632 13976 14861 15829 16052 15363 14639\n",
       "[73] 15616 15687 15448 11851 16145 15369 16066 15862 15220 14928"
      ]
     },
     "metadata": {},
     "output_type": "display_data"
    }
   ],
   "source": [
    "arbuthnot$boys + arbuthnot$girls"
   ]
  },
  {
   "cell_type": "markdown",
   "metadata": {},
   "source": [
    "## Adding a new variable to the data frame\n",
    "\n",
    "We’ll be using this new vector to generate some plots, so we’ll want to save it as a permanent column in our data frame."
   ]
  },
  {
   "cell_type": "code",
   "execution_count": 80,
   "metadata": {},
   "outputs": [],
   "source": [
    "arbuthnot <- arbuthnot %>%\n",
    "  mutate(total = boys + girls)"
   ]
  },
  {
   "cell_type": "code",
   "execution_count": 82,
   "metadata": {},
   "outputs": [
    {
     "data": {
      "text/html": [
       "<table>\n",
       "<thead><tr><th scope=col>year</th><th scope=col>boys</th><th scope=col>girls</th><th scope=col>total</th></tr></thead>\n",
       "<tbody>\n",
       "\t<tr><td>1629</td><td>5218</td><td>4683</td><td>9901</td></tr>\n",
       "\t<tr><td>1630</td><td>4858</td><td>4457</td><td>9315</td></tr>\n",
       "\t<tr><td>1631</td><td>4422</td><td>4102</td><td>8524</td></tr>\n",
       "\t<tr><td>1632</td><td>4994</td><td>4590</td><td>9584</td></tr>\n",
       "\t<tr><td>1633</td><td>5158</td><td>4839</td><td>9997</td></tr>\n",
       "\t<tr><td>1634</td><td>5035</td><td>4820</td><td>9855</td></tr>\n",
       "</tbody>\n",
       "</table>\n"
      ],
      "text/latex": [
       "\\begin{tabular}{r|llll}\n",
       " year & boys & girls & total\\\\\n",
       "\\hline\n",
       "\t 1629 & 5218 & 4683 & 9901\\\\\n",
       "\t 1630 & 4858 & 4457 & 9315\\\\\n",
       "\t 1631 & 4422 & 4102 & 8524\\\\\n",
       "\t 1632 & 4994 & 4590 & 9584\\\\\n",
       "\t 1633 & 5158 & 4839 & 9997\\\\\n",
       "\t 1634 & 5035 & 4820 & 9855\\\\\n",
       "\\end{tabular}\n"
      ],
      "text/markdown": [
       "\n",
       "year | boys | girls | total | \n",
       "|---|---|---|---|---|---|\n",
       "| 1629 | 5218 | 4683 | 9901 | \n",
       "| 1630 | 4858 | 4457 | 9315 | \n",
       "| 1631 | 4422 | 4102 | 8524 | \n",
       "| 1632 | 4994 | 4590 | 9584 | \n",
       "| 1633 | 5158 | 4839 | 9997 | \n",
       "| 1634 | 5035 | 4820 | 9855 | \n",
       "\n",
       "\n"
      ],
      "text/plain": [
       "  year boys girls total\n",
       "1 1629 5218 4683  9901 \n",
       "2 1630 4858 4457  9315 \n",
       "3 1631 4422 4102  8524 \n",
       "4 1632 4994 4590  9584 \n",
       "5 1633 5158 4839  9997 \n",
       "6 1634 5035 4820  9855 "
      ]
     },
     "metadata": {},
     "output_type": "display_data"
    }
   ],
   "source": [
    "head(arbuthnot)"
   ]
  },
  {
   "cell_type": "code",
   "execution_count": 83,
   "metadata": {},
   "outputs": [
    {
     "data": {},
     "metadata": {},
     "output_type": "display_data"
    },
    {
     "data": {
      "image/png": "[encoded data removed]",
      "text/plain": [
       "plot without title"
      ]
     },
     "metadata": {},
     "output_type": "display_data"
    }
   ],
   "source": [
    "ggplot(data = arbuthnot, aes(x = year, y = total)) +\n",
    "  geom_line()"
   ]
  },
  {
   "cell_type": "code",
   "execution_count": 84,
   "metadata": {},
   "outputs": [
    {
     "data": {},
     "metadata": {},
     "output_type": "display_data"
    },
    {
     "data": {
      "image/png": "[encoded data removed]",
      "text/plain": [
       "plot without title"
      ]
     },
     "metadata": {},
     "output_type": "display_data"
    }
   ],
   "source": [
    "ggplot(data = arbuthnot, aes(x = year, y = total)) +\n",
    "  geom_line() +\n",
    "  geom_point()"
   ]
  },
  {
   "cell_type": "code",
   "execution_count": 85,
   "metadata": {},
   "outputs": [
    {
     "data": {},
     "metadata": {},
     "output_type": "display_data"
    },
    {
     "data": {
      "image/png": "[encoded data removed]",
      "text/plain": [
       "plot without title"
      ]
     },
     "metadata": {},
     "output_type": "display_data"
    }
   ],
   "source": [
    "ggplot(data = arbuthnot, aes(x = year, y = boys)) +\n",
    "  geom_point()"
   ]
  },
  {
   "cell_type": "code",
   "execution_count": 86,
   "metadata": {},
   "outputs": [],
   "source": [
    "arbuthnot <- arbuthnot %>%\n",
    "  mutate(more_boys = boys > girls)"
   ]
  },
  {
   "cell_type": "code",
   "execution_count": 87,
   "metadata": {},
   "outputs": [
    {
     "data": {
      "text/html": [
       "<table>\n",
       "<thead><tr><th scope=col>year</th><th scope=col>boys</th><th scope=col>girls</th><th scope=col>total</th><th scope=col>more_boys</th></tr></thead>\n",
       "<tbody>\n",
       "\t<tr><td>1629</td><td>5218</td><td>4683</td><td>9901</td><td>TRUE</td></tr>\n",
       "\t<tr><td>1630</td><td>4858</td><td>4457</td><td>9315</td><td>TRUE</td></tr>\n",
       "\t<tr><td>1631</td><td>4422</td><td>4102</td><td>8524</td><td>TRUE</td></tr>\n",
       "\t<tr><td>1632</td><td>4994</td><td>4590</td><td>9584</td><td>TRUE</td></tr>\n",
       "\t<tr><td>1633</td><td>5158</td><td>4839</td><td>9997</td><td>TRUE</td></tr>\n",
       "\t<tr><td>1634</td><td>5035</td><td>4820</td><td>9855</td><td>TRUE</td></tr>\n",
       "</tbody>\n",
       "</table>\n"
      ],
      "text/latex": [
       "\\begin{tabular}{r|lllll}\n",
       " year & boys & girls & total & more\\_boys\\\\\n",
       "\\hline\n",
       "\t 1629 & 5218 & 4683 & 9901 & TRUE\\\\\n",
       "\t 1630 & 4858 & 4457 & 9315 & TRUE\\\\\n",
       "\t 1631 & 4422 & 4102 & 8524 & TRUE\\\\\n",
       "\t 1632 & 4994 & 4590 & 9584 & TRUE\\\\\n",
       "\t 1633 & 5158 & 4839 & 9997 & TRUE\\\\\n",
       "\t 1634 & 5035 & 4820 & 9855 & TRUE\\\\\n",
       "\\end{tabular}\n"
      ],
      "text/markdown": [
       "\n",
       "year | boys | girls | total | more_boys | \n",
       "|---|---|---|---|---|---|\n",
       "| 1629 | 5218 | 4683 | 9901 | TRUE | \n",
       "| 1630 | 4858 | 4457 | 9315 | TRUE | \n",
       "| 1631 | 4422 | 4102 | 8524 | TRUE | \n",
       "| 1632 | 4994 | 4590 | 9584 | TRUE | \n",
       "| 1633 | 5158 | 4839 | 9997 | TRUE | \n",
       "| 1634 | 5035 | 4820 | 9855 | TRUE | \n",
       "\n",
       "\n"
      ],
      "text/plain": [
       "  year boys girls total more_boys\n",
       "1 1629 5218 4683  9901  TRUE     \n",
       "2 1630 4858 4457  9315  TRUE     \n",
       "3 1631 4422 4102  8524  TRUE     \n",
       "4 1632 4994 4590  9584  TRUE     \n",
       "5 1633 5158 4839  9997  TRUE     \n",
       "6 1634 5035 4820  9855  TRUE     "
      ]
     },
     "metadata": {},
     "output_type": "display_data"
    }
   ],
   "source": [
    "head(arbuthnot)"
   ]
  },
  {
   "cell_type": "code",
   "execution_count": null,
   "metadata": {},
   "outputs": [],
   "source": []
  }
 ],
 "metadata": {},
 "nbformat": 4,
 "nbformat_minor": 2
}
