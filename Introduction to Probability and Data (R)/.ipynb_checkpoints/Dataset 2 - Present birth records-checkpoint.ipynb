{
 "cells": [
  {
   "cell_type": "code",
   "execution_count": 7,
   "metadata": {},
   "outputs": [
    {
     "name": "stderr",
     "output_type": "stream",
     "text": [
      "Updating HTML index of packages in '.Library'\n",
      "Making 'packages.html' ... done\n"
     ]
    }
   ],
   "source": [
    "install.packages(\"devtools\")\n",
    "library(devtools)"
   ]
  },
  {
   "cell_type": "code",
   "execution_count": 8,
   "metadata": {},
   "outputs": [
    {
     "name": "stderr",
     "output_type": "stream",
     "text": [
      "also installing the dependencies ‘cli’, ‘crayon’, ‘utf8’, ‘bindr’, ‘pillar’, ‘bindrcpp’, ‘glue’, ‘pkgconfig’, ‘rlang’, ‘tibble’\n",
      "\n",
      "Updating HTML index of packages in '.Library'\n",
      "Making 'packages.html' ... done\n"
     ]
    }
   ],
   "source": [
    "install.packages(\"dplyr\")"
   ]
  },
  {
   "cell_type": "code",
   "execution_count": 9,
   "metadata": {},
   "outputs": [
    {
     "name": "stderr",
     "output_type": "stream",
     "text": [
      "Updating HTML index of packages in '.Library'\n",
      "Making 'packages.html' ... done\n"
     ]
    }
   ],
   "source": [
    "install.packages(\"ggplot2\")"
   ]
  },
  {
   "cell_type": "code",
   "execution_count": 10,
   "metadata": {},
   "outputs": [
    {
     "name": "stderr",
     "output_type": "stream",
     "text": [
      "also installing the dependency ‘httpuv’\n",
      "\n",
      "Updating HTML index of packages in '.Library'\n",
      "Making 'packages.html' ... done\n"
     ]
    }
   ],
   "source": [
    "install.packages(\"shiny\")"
   ]
  },
  {
   "cell_type": "code",
   "execution_count": 11,
   "metadata": {},
   "outputs": [
    {
     "name": "stderr",
     "output_type": "stream",
     "text": [
      "Updating HTML index of packages in '.Library'\n",
      "Making 'packages.html' ... done\n"
     ]
    }
   ],
   "source": [
    "install.packages(\"RCurl\")"
   ]
  },
  {
   "cell_type": "code",
   "execution_count": 13,
   "metadata": {},
   "outputs": [],
   "source": [
    "library(plyr)\n",
    "library(dplyr)\n",
    "library(ggplot2)\n",
    "library(shiny)\n",
    "library(RCurl)"
   ]
  },
  {
   "cell_type": "code",
   "execution_count": 21,
   "metadata": {},
   "outputs": [],
   "source": [
    "present <- download.file(\"https://raw.githubusercontent.com/stephen-rowan/Jupyter_Notebooks/master/Introduction%20to%20Probability%20and%20Data%20(R)/present.csv\", \"present.csv\", method = \"curl\")"
   ]
  },
  {
   "cell_type": "code",
   "execution_count": 22,
   "metadata": {},
   "outputs": [],
   "source": [
    "present <- read.csv(file=\"present.csv\", header=TRUE, sep=\",\")"
   ]
  },
  {
   "cell_type": "code",
   "execution_count": 23,
   "metadata": {},
   "outputs": [
    {
     "data": {
      "text/html": [
       "<table>\n",
       "<thead><tr><th scope=col>year</th><th scope=col>boys</th><th scope=col>girls</th></tr></thead>\n",
       "<tbody>\n",
       "\t<tr><td>1940   </td><td>1211684</td><td>1148715</td></tr>\n",
       "\t<tr><td>1941   </td><td>1289734</td><td>1223693</td></tr>\n",
       "\t<tr><td>1942   </td><td>1444365</td><td>1364631</td></tr>\n",
       "\t<tr><td>1943   </td><td>1508959</td><td>1427901</td></tr>\n",
       "\t<tr><td>1944   </td><td>1435301</td><td>1359499</td></tr>\n",
       "\t<tr><td>1945   </td><td>1404587</td><td>1330869</td></tr>\n",
       "</tbody>\n",
       "</table>\n"
      ],
      "text/latex": [
       "\\begin{tabular}{r|lll}\n",
       " year & boys & girls\\\\\n",
       "\\hline\n",
       "\t 1940    & 1211684 & 1148715\\\\\n",
       "\t 1941    & 1289734 & 1223693\\\\\n",
       "\t 1942    & 1444365 & 1364631\\\\\n",
       "\t 1943    & 1508959 & 1427901\\\\\n",
       "\t 1944    & 1435301 & 1359499\\\\\n",
       "\t 1945    & 1404587 & 1330869\\\\\n",
       "\\end{tabular}\n"
      ],
      "text/markdown": [
       "\n",
       "year | boys | girls | \n",
       "|---|---|---|---|---|---|\n",
       "| 1940    | 1211684 | 1148715 | \n",
       "| 1941    | 1289734 | 1223693 | \n",
       "| 1942    | 1444365 | 1364631 | \n",
       "| 1943    | 1508959 | 1427901 | \n",
       "| 1944    | 1435301 | 1359499 | \n",
       "| 1945    | 1404587 | 1330869 | \n",
       "\n",
       "\n"
      ],
      "text/plain": [
       "  year boys    girls  \n",
       "1 1940 1211684 1148715\n",
       "2 1941 1289734 1223693\n",
       "3 1942 1444365 1364631\n",
       "4 1943 1508959 1427901\n",
       "5 1944 1435301 1359499\n",
       "6 1945 1404587 1330869"
      ]
     },
     "metadata": {},
     "output_type": "display_data"
    }
   ],
   "source": [
    "head(present)"
   ]
  },
  {
   "cell_type": "code",
   "execution_count": 24,
   "metadata": {},
   "outputs": [
    {
     "data": {
      "text/html": [
       "<ol class=list-inline>\n",
       "\t<li>'year'</li>\n",
       "\t<li>'boys'</li>\n",
       "\t<li>'girls'</li>\n",
       "</ol>\n"
      ],
      "text/latex": [
       "\\begin{enumerate*}\n",
       "\\item 'year'\n",
       "\\item 'boys'\n",
       "\\item 'girls'\n",
       "\\end{enumerate*}\n"
      ],
      "text/markdown": [
       "1. 'year'\n",
       "2. 'boys'\n",
       "3. 'girls'\n",
       "\n",
       "\n"
      ],
      "text/plain": [
       "[1] \"year\"  \"boys\"  \"girls\""
      ]
     },
     "metadata": {},
     "output_type": "display_data"
    }
   ],
   "source": [
    "names(present)"
   ]
  },
  {
   "cell_type": "code",
   "execution_count": 25,
   "metadata": {},
   "outputs": [
    {
     "data": {
      "text/html": [
       "<ol class=list-inline>\n",
       "\t<li>1940</li>\n",
       "\t<li>2013</li>\n",
       "</ol>\n"
      ],
      "text/latex": [
       "\\begin{enumerate*}\n",
       "\\item 1940\n",
       "\\item 2013\n",
       "\\end{enumerate*}\n"
      ],
      "text/markdown": [
       "1. 1940\n",
       "2. 2013\n",
       "\n",
       "\n"
      ],
      "text/plain": [
       "[1] 1940 2013"
      ]
     },
     "metadata": {},
     "output_type": "display_data"
    }
   ],
   "source": [
    "range(present$year)"
   ]
  },
  {
   "cell_type": "code",
   "execution_count": 26,
   "metadata": {},
   "outputs": [],
   "source": [
    "present <- present %>%\n",
    "  mutate(total = boys + girls)"
   ]
  },
  {
   "cell_type": "code",
   "execution_count": 27,
   "metadata": {},
   "outputs": [
    {
     "data": {
      "text/html": [
       "<table>\n",
       "<thead><tr><th scope=col>year</th><th scope=col>boys</th><th scope=col>girls</th><th scope=col>total</th></tr></thead>\n",
       "<tbody>\n",
       "\t<tr><td>1940   </td><td>1211684</td><td>1148715</td><td>2360399</td></tr>\n",
       "\t<tr><td>1941   </td><td>1289734</td><td>1223693</td><td>2513427</td></tr>\n",
       "\t<tr><td>1942   </td><td>1444365</td><td>1364631</td><td>2808996</td></tr>\n",
       "\t<tr><td>1943   </td><td>1508959</td><td>1427901</td><td>2936860</td></tr>\n",
       "\t<tr><td>1944   </td><td>1435301</td><td>1359499</td><td>2794800</td></tr>\n",
       "\t<tr><td>1945   </td><td>1404587</td><td>1330869</td><td>2735456</td></tr>\n",
       "</tbody>\n",
       "</table>\n"
      ],
      "text/latex": [
       "\\begin{tabular}{r|llll}\n",
       " year & boys & girls & total\\\\\n",
       "\\hline\n",
       "\t 1940    & 1211684 & 1148715 & 2360399\\\\\n",
       "\t 1941    & 1289734 & 1223693 & 2513427\\\\\n",
       "\t 1942    & 1444365 & 1364631 & 2808996\\\\\n",
       "\t 1943    & 1508959 & 1427901 & 2936860\\\\\n",
       "\t 1944    & 1435301 & 1359499 & 2794800\\\\\n",
       "\t 1945    & 1404587 & 1330869 & 2735456\\\\\n",
       "\\end{tabular}\n"
      ],
      "text/markdown": [
       "\n",
       "year | boys | girls | total | \n",
       "|---|---|---|---|---|---|\n",
       "| 1940    | 1211684 | 1148715 | 2360399 | \n",
       "| 1941    | 1289734 | 1223693 | 2513427 | \n",
       "| 1942    | 1444365 | 1364631 | 2808996 | \n",
       "| 1943    | 1508959 | 1427901 | 2936860 | \n",
       "| 1944    | 1435301 | 1359499 | 2794800 | \n",
       "| 1945    | 1404587 | 1330869 | 2735456 | \n",
       "\n",
       "\n"
      ],
      "text/plain": [
       "  year boys    girls   total  \n",
       "1 1940 1211684 1148715 2360399\n",
       "2 1941 1289734 1223693 2513427\n",
       "3 1942 1444365 1364631 2808996\n",
       "4 1943 1508959 1427901 2936860\n",
       "5 1944 1435301 1359499 2794800\n",
       "6 1945 1404587 1330869 2735456"
      ]
     },
     "metadata": {},
     "output_type": "display_data"
    }
   ],
   "source": [
    "head(present)"
   ]
  },
  {
   "cell_type": "code",
   "execution_count": 28,
   "metadata": {},
   "outputs": [],
   "source": [
    "prop_boys <- present$boys/present$total\n",
    "#prop_boys <- paste(round((present$boys/present$total)*100,digits=1),\"%\",sep=\"\")\n",
    "#prop_boys <- paste(round((present$boys/present$total)*100,digits=1),\"\",sep=\"\")"
   ]
  },
  {
   "cell_type": "code",
   "execution_count": 29,
   "metadata": {},
   "outputs": [
    {
     "data": {
      "text/html": [
       "<ol class=list-inline>\n",
       "\t<li>0.513338634696931</li>\n",
       "\t<li>0.513137640361148</li>\n",
       "\t<li>0.514192615439823</li>\n",
       "\t<li>0.513800113045906</li>\n",
       "\t<li>0.513561256619436</li>\n",
       "\t<li>0.51347453587263</li>\n",
       "\t<li>0.514256210409551</li>\n",
       "\t<li>0.513488326837732</li>\n",
       "\t<li>0.513102435370409</li>\n",
       "\t<li>0.513088108005301</li>\n",
       "\t<li>0.513077814126532</li>\n",
       "\t<li>0.512689123798606</li>\n",
       "\t<li>0.512417253403054</li>\n",
       "\t<li>0.51300267546872</li>\n",
       "\t<li>0.512542310102998</li>\n",
       "\t<li>0.512371596337801</li>\n",
       "\t<li>0.512501050902094</li>\n",
       "\t<li>0.512355033769047</li>\n",
       "\t<li>0.51204620948796</li>\n",
       "\t<li>0.512071251480636</li>\n",
       "\t<li>0.511926911469404</li>\n",
       "\t<li>0.512208767558991</li>\n",
       "\t<li>0.51170644642822</li>\n",
       "\t<li>0.512840835330233</li>\n",
       "\t<li>0.511525044134188</li>\n",
       "\t<li>0.512465568437899</li>\n",
       "\t<li>0.511847408155897</li>\n",
       "\t<li>0.512186594618114</li>\n",
       "\t<li>0.513006759265288</li>\n",
       "\t<li>0.512907316970196</li>\n",
       "\t<li>0.513315427564985</li>\n",
       "\t<li>0.512633683636251</li>\n",
       "\t<li>0.512497349168045</li>\n",
       "\t<li>0.512701289303515</li>\n",
       "\t<li>0.513334037984049</li>\n",
       "\t<li>0.513051340914281</li>\n",
       "\t<li>0.51279820493038</li>\n",
       "\t<li>0.512805744669083</li>\n",
       "\t<li>0.512826559072913</li>\n",
       "\t<li>0.512611042016393</li>\n",
       "\t<li>0.512869235807631</li>\n",
       "\t<li>0.512579224619603</li>\n",
       "\t<li>0.512337194273553</li>\n",
       "\t<li>0.512664838841496</li>\n",
       "\t<li>0.512242511258085</li>\n",
       "\t<li>0.512684942485975</li>\n",
       "\t<li>0.512403545064124</li>\n",
       "\t<li>0.512195115548562</li>\n",
       "\t<li>0.512193088136365</li>\n",
       "\t<li>0.512128559613834</li>\n",
       "\t<li>0.512117948772213</li>\n",
       "\t<li>0.511205434713069</li>\n",
       "\t<li>0.512199219978086</li>\n",
       "\t<li>0.512184518928864</li>\n",
       "\t<li>0.511689406433519</li>\n",
       "\t<li>0.511939848019881</li>\n",
       "\t<li>0.511495071044694</li>\n",
       "\t<li>0.511633659667077</li>\n",
       "\t<li>0.511525533209879</li>\n",
       "\t<li>0.511907182294767</li>\n",
       "\t<li>0.511718201425343</li>\n",
       "\t<li>0.511166479919065</li>\n",
       "\t<li>0.511715367978823</li>\n",
       "\t<li>0.511873005782467</li>\n",
       "\t<li>0.511827428252366</li>\n",
       "\t<li>0.512035596804426</li>\n",
       "\t<li>0.512063963540501</li>\n",
       "\t<li>0.511573633768149</li>\n",
       "\t<li>0.511718829087029</li>\n",
       "\t<li>0.511718815251297</li>\n",
       "\t<li>0.511718798835621</li>\n",
       "\t<li>0.511956980870551</li>\n",
       "\t<li>0.511480223970557</li>\n",
       "\t<li>0.511957104721273</li>\n",
       "</ol>\n"
      ],
      "text/latex": [
       "\\begin{enumerate*}\n",
       "\\item 0.513338634696931\n",
       "\\item 0.513137640361148\n",
       "\\item 0.514192615439823\n",
       "\\item 0.513800113045906\n",
       "\\item 0.513561256619436\n",
       "\\item 0.51347453587263\n",
       "\\item 0.514256210409551\n",
       "\\item 0.513488326837732\n",
       "\\item 0.513102435370409\n",
       "\\item 0.513088108005301\n",
       "\\item 0.513077814126532\n",
       "\\item 0.512689123798606\n",
       "\\item 0.512417253403054\n",
       "\\item 0.51300267546872\n",
       "\\item 0.512542310102998\n",
       "\\item 0.512371596337801\n",
       "\\item 0.512501050902094\n",
       "\\item 0.512355033769047\n",
       "\\item 0.51204620948796\n",
       "\\item 0.512071251480636\n",
       "\\item 0.511926911469404\n",
       "\\item 0.512208767558991\n",
       "\\item 0.51170644642822\n",
       "\\item 0.512840835330233\n",
       "\\item 0.511525044134188\n",
       "\\item 0.512465568437899\n",
       "\\item 0.511847408155897\n",
       "\\item 0.512186594618114\n",
       "\\item 0.513006759265288\n",
       "\\item 0.512907316970196\n",
       "\\item 0.513315427564985\n",
       "\\item 0.512633683636251\n",
       "\\item 0.512497349168045\n",
       "\\item 0.512701289303515\n",
       "\\item 0.513334037984049\n",
       "\\item 0.513051340914281\n",
       "\\item 0.51279820493038\n",
       "\\item 0.512805744669083\n",
       "\\item 0.512826559072913\n",
       "\\item 0.512611042016393\n",
       "\\item 0.512869235807631\n",
       "\\item 0.512579224619603\n",
       "\\item 0.512337194273553\n",
       "\\item 0.512664838841496\n",
       "\\item 0.512242511258085\n",
       "\\item 0.512684942485975\n",
       "\\item 0.512403545064124\n",
       "\\item 0.512195115548562\n",
       "\\item 0.512193088136365\n",
       "\\item 0.512128559613834\n",
       "\\item 0.512117948772213\n",
       "\\item 0.511205434713069\n",
       "\\item 0.512199219978086\n",
       "\\item 0.512184518928864\n",
       "\\item 0.511689406433519\n",
       "\\item 0.511939848019881\n",
       "\\item 0.511495071044694\n",
       "\\item 0.511633659667077\n",
       "\\item 0.511525533209879\n",
       "\\item 0.511907182294767\n",
       "\\item 0.511718201425343\n",
       "\\item 0.511166479919065\n",
       "\\item 0.511715367978823\n",
       "\\item 0.511873005782467\n",
       "\\item 0.511827428252366\n",
       "\\item 0.512035596804426\n",
       "\\item 0.512063963540501\n",
       "\\item 0.511573633768149\n",
       "\\item 0.511718829087029\n",
       "\\item 0.511718815251297\n",
       "\\item 0.511718798835621\n",
       "\\item 0.511956980870551\n",
       "\\item 0.511480223970557\n",
       "\\item 0.511957104721273\n",
       "\\end{enumerate*}\n"
      ],
      "text/markdown": [
       "1. 0.513338634696931\n",
       "2. 0.513137640361148\n",
       "3. 0.514192615439823\n",
       "4. 0.513800113045906\n",
       "5. 0.513561256619436\n",
       "6. 0.51347453587263\n",
       "7. 0.514256210409551\n",
       "8. 0.513488326837732\n",
       "9. 0.513102435370409\n",
       "10. 0.513088108005301\n",
       "11. 0.513077814126532\n",
       "12. 0.512689123798606\n",
       "13. 0.512417253403054\n",
       "14. 0.51300267546872\n",
       "15. 0.512542310102998\n",
       "16. 0.512371596337801\n",
       "17. 0.512501050902094\n",
       "18. 0.512355033769047\n",
       "19. 0.51204620948796\n",
       "20. 0.512071251480636\n",
       "21. 0.511926911469404\n",
       "22. 0.512208767558991\n",
       "23. 0.51170644642822\n",
       "24. 0.512840835330233\n",
       "25. 0.511525044134188\n",
       "26. 0.512465568437899\n",
       "27. 0.511847408155897\n",
       "28. 0.512186594618114\n",
       "29. 0.513006759265288\n",
       "30. 0.512907316970196\n",
       "31. 0.513315427564985\n",
       "32. 0.512633683636251\n",
       "33. 0.512497349168045\n",
       "34. 0.512701289303515\n",
       "35. 0.513334037984049\n",
       "36. 0.513051340914281\n",
       "37. 0.51279820493038\n",
       "38. 0.512805744669083\n",
       "39. 0.512826559072913\n",
       "40. 0.512611042016393\n",
       "41. 0.512869235807631\n",
       "42. 0.512579224619603\n",
       "43. 0.512337194273553\n",
       "44. 0.512664838841496\n",
       "45. 0.512242511258085\n",
       "46. 0.512684942485975\n",
       "47. 0.512403545064124\n",
       "48. 0.512195115548562\n",
       "49. 0.512193088136365\n",
       "50. 0.512128559613834\n",
       "51. 0.512117948772213\n",
       "52. 0.511205434713069\n",
       "53. 0.512199219978086\n",
       "54. 0.512184518928864\n",
       "55. 0.511689406433519\n",
       "56. 0.511939848019881\n",
       "57. 0.511495071044694\n",
       "58. 0.511633659667077\n",
       "59. 0.511525533209879\n",
       "60. 0.511907182294767\n",
       "61. 0.511718201425343\n",
       "62. 0.511166479919065\n",
       "63. 0.511715367978823\n",
       "64. 0.511873005782467\n",
       "65. 0.511827428252366\n",
       "66. 0.512035596804426\n",
       "67. 0.512063963540501\n",
       "68. 0.511573633768149\n",
       "69. 0.511718829087029\n",
       "70. 0.511718815251297\n",
       "71. 0.511718798835621\n",
       "72. 0.511956980870551\n",
       "73. 0.511480223970557\n",
       "74. 0.511957104721273\n",
       "\n",
       "\n"
      ],
      "text/plain": [
       " [1] 0.5133386 0.5131376 0.5141926 0.5138001 0.5135613 0.5134745 0.5142562\n",
       " [8] 0.5134883 0.5131024 0.5130881 0.5130778 0.5126891 0.5124173 0.5130027\n",
       "[15] 0.5125423 0.5123716 0.5125011 0.5123550 0.5120462 0.5120713 0.5119269\n",
       "[22] 0.5122088 0.5117064 0.5128408 0.5115250 0.5124656 0.5118474 0.5121866\n",
       "[29] 0.5130068 0.5129073 0.5133154 0.5126337 0.5124973 0.5127013 0.5133340\n",
       "[36] 0.5130513 0.5127982 0.5128057 0.5128266 0.5126110 0.5128692 0.5125792\n",
       "[43] 0.5123372 0.5126648 0.5122425 0.5126849 0.5124035 0.5121951 0.5121931\n",
       "[50] 0.5121286 0.5121179 0.5112054 0.5121992 0.5121845 0.5116894 0.5119398\n",
       "[57] 0.5114951 0.5116337 0.5115255 0.5119072 0.5117182 0.5111665 0.5117154\n",
       "[64] 0.5118730 0.5118274 0.5120356 0.5120640 0.5115736 0.5117188 0.5117188\n",
       "[71] 0.5117188 0.5119570 0.5114802 0.5119571"
      ]
     },
     "metadata": {},
     "output_type": "display_data"
    }
   ],
   "source": [
    "prop_boys"
   ]
  },
  {
   "cell_type": "markdown",
   "metadata": {},
   "source": [
    "Calculate the total number of births for each year and store these values in a new variable called total in the present dataset. Then, calculate the proportion of boys born each year and store these values in a new variable called prop_boys in the same dataset. Plot these values over time and based on the plot determine if the following statement is true or false: The proportion of boys born in the US has decreased over time.\n",
    "\n",
    "**True**\n",
    "\n",
    "False"
   ]
  },
  {
   "cell_type": "code",
   "execution_count": 35,
   "metadata": {},
   "outputs": [
    {
     "data": {},
     "metadata": {},
     "output_type": "display_data"
    },
    {
     "data": {
      "image/png": "[encoded data removed]",
      "text/plain": [
       "plot without title"
      ]
     },
     "metadata": {},
     "output_type": "display_data"
    }
   ],
   "source": [
    "ggplot(data = present, aes(x = year, y = prop_boys)) +\n",
    "  geom_line() +\n",
    "  geom_point()"
   ]
  },
  {
   "cell_type": "markdown",
   "metadata": {},
   "source": [
    "Create a new variable called more_boys which contains the value of either TRUE if that year had more boys than girls, or FALSE if that year did not. Based on this variable which of the following statements is true?\n",
    "\n",
    "**Every year there are more boys born than girls.**\n"
   ]
  },
  {
   "cell_type": "code",
   "execution_count": 36,
   "metadata": {},
   "outputs": [],
   "source": [
    "present <- present %>%\n",
    "  mutate(more_boys = boys > girls)"
   ]
  },
  {
   "cell_type": "code",
   "execution_count": 40,
   "metadata": {},
   "outputs": [
    {
     "data": {
      "text/html": [
       "<table>\n",
       "<thead><tr><th scope=col>year</th><th scope=col>boys</th><th scope=col>girls</th><th scope=col>total</th><th scope=col>more_boys</th></tr></thead>\n",
       "<tbody>\n",
       "\t<tr><td>1940   </td><td>1211684</td><td>1148715</td><td>2360399</td><td>TRUE   </td></tr>\n",
       "\t<tr><td>1941   </td><td>1289734</td><td>1223693</td><td>2513427</td><td>TRUE   </td></tr>\n",
       "\t<tr><td>1942   </td><td>1444365</td><td>1364631</td><td>2808996</td><td>TRUE   </td></tr>\n",
       "\t<tr><td>1943   </td><td>1508959</td><td>1427901</td><td>2936860</td><td>TRUE   </td></tr>\n",
       "\t<tr><td>1944   </td><td>1435301</td><td>1359499</td><td>2794800</td><td>TRUE   </td></tr>\n",
       "\t<tr><td>1945   </td><td>1404587</td><td>1330869</td><td>2735456</td><td>TRUE   </td></tr>\n",
       "</tbody>\n",
       "</table>\n"
      ],
      "text/latex": [
       "\\begin{tabular}{r|lllll}\n",
       " year & boys & girls & total & more\\_boys\\\\\n",
       "\\hline\n",
       "\t 1940    & 1211684 & 1148715 & 2360399 & TRUE   \\\\\n",
       "\t 1941    & 1289734 & 1223693 & 2513427 & TRUE   \\\\\n",
       "\t 1942    & 1444365 & 1364631 & 2808996 & TRUE   \\\\\n",
       "\t 1943    & 1508959 & 1427901 & 2936860 & TRUE   \\\\\n",
       "\t 1944    & 1435301 & 1359499 & 2794800 & TRUE   \\\\\n",
       "\t 1945    & 1404587 & 1330869 & 2735456 & TRUE   \\\\\n",
       "\\end{tabular}\n"
      ],
      "text/markdown": [
       "\n",
       "year | boys | girls | total | more_boys | \n",
       "|---|---|---|---|---|---|\n",
       "| 1940    | 1211684 | 1148715 | 2360399 | TRUE    | \n",
       "| 1941    | 1289734 | 1223693 | 2513427 | TRUE    | \n",
       "| 1942    | 1444365 | 1364631 | 2808996 | TRUE    | \n",
       "| 1943    | 1508959 | 1427901 | 2936860 | TRUE    | \n",
       "| 1944    | 1435301 | 1359499 | 2794800 | TRUE    | \n",
       "| 1945    | 1404587 | 1330869 | 2735456 | TRUE    | \n",
       "\n",
       "\n"
      ],
      "text/plain": [
       "  year boys    girls   total   more_boys\n",
       "1 1940 1211684 1148715 2360399 TRUE     \n",
       "2 1941 1289734 1223693 2513427 TRUE     \n",
       "3 1942 1444365 1364631 2808996 TRUE     \n",
       "4 1943 1508959 1427901 2936860 TRUE     \n",
       "5 1944 1435301 1359499 2794800 TRUE     \n",
       "6 1945 1404587 1330869 2735456 TRUE     "
      ]
     },
     "metadata": {},
     "output_type": "display_data"
    }
   ],
   "source": [
    "head(present)"
   ]
  },
  {
   "cell_type": "code",
   "execution_count": 45,
   "metadata": {},
   "outputs": [],
   "source": [
    "prop_boy_girl <- present$boys/present$girls"
   ]
  },
  {
   "cell_type": "code",
   "execution_count": 46,
   "metadata": {},
   "outputs": [
    {
     "data": {
      "text/html": [
       "<ol class=list-inline>\n",
       "\t<li>1.05481690410589</li>\n",
       "\t<li>1.05396860160187</li>\n",
       "\t<li>1.0584289819006</li>\n",
       "\t<li>1.05676724086614</li>\n",
       "\t<li>1.05575730471299</li>\n",
       "\t<li>1.05539087618691</li>\n",
       "\t<li>1.05869847732514</li>\n",
       "\t<li>1.05544913958615</li>\n",
       "\t<li>1.0538200899829</li>\n",
       "\t<li>1.05375965639978</li>\n",
       "\t<li>1.05371623847072</li>\n",
       "\t<li>1.05207814731129</li>\n",
       "\t<li>1.05093393271078</li>\n",
       "\t<li>1.05339937126445</li>\n",
       "\t<li>1.05146009741132</li>\n",
       "\t<li>1.05074190200935</li>\n",
       "\t<li>1.05128647323334</li>\n",
       "\t<li>1.05067224979083</li>\n",
       "\t<li>1.04937438635457</li>\n",
       "\t<li>1.04947956650338</li>\n",
       "\t<li>1.04887346485466</li>\n",
       "\t<li>1.05005734727087</li>\n",
       "\t<li>1.04794839637996</li>\n",
       "\t<li>1.05271720727634</li>\n",
       "\t<li>1.04718786089559</li>\n",
       "\t<li>1.05113718183127</li>\n",
       "\t<li>1.0485397736439</li>\n",
       "\t<li>1.04996416450907</li>\n",
       "\t<li>1.05341659052871</li>\n",
       "\t<li>1.05299737573519</li>\n",
       "\t<li>1.05471892194308</li>\n",
       "\t<li>1.05184471397413</li>\n",
       "\t<li>1.0512708972832</li>\n",
       "\t<li>1.05212937783218</li>\n",
       "\t<li>1.05479749571478</li>\n",
       "\t<li>1.05360458713978</li>\n",
       "\t<li>1.05253759349779</li>\n",
       "\t<li>1.05256935823426</li>\n",
       "\t<li>1.052657053917</li>\n",
       "\t<li>1.05174939567185</li>\n",
       "\t<li>1.05283688386615</li>\n",
       "\t<li>1.05161546349675</li>\n",
       "\t<li>1.05059723287764</li>\n",
       "\t<li>1.05197588785258</li>\n",
       "\t<li>1.05019917291137</li>\n",
       "\t<li>1.05206053985151</li>\n",
       "\t<li>1.05087627253465</li>\n",
       "\t<li>1.04999997309283</li>\n",
       "\t<li>1.04999145292871</li>\n",
       "\t<li>1.04972030994163</li>\n",
       "\t<li>1.0496757310162</li>\n",
       "\t<li>1.0458492606459</li>\n",
       "\t<li>1.05001722210259</li>\n",
       "\t<li>1.04995544176708</li>\n",
       "\t<li>1.04787693155761</li>\n",
       "\t<li>1.04892777241264</li>\n",
       "\t<li>1.04706225204023</li>\n",
       "\t<li>1.04764316745968</li>\n",
       "\t<li>1.04718991060317</li>\n",
       "\t<li>1.0487906474459</li>\n",
       "\t<li>1.0479976991137</li>\n",
       "\t<li>1.04568622837982</li>\n",
       "\t<li>1.0479858148733</li>\n",
       "\t<li>1.04864720010619</li>\n",
       "\t<li>1.0484559311066</li>\n",
       "\t<li>1.04932981473898</li>\n",
       "\t<li>1.04944895494105</li>\n",
       "\t<li>1.04739151924757</li>\n",
       "\t<li>1.0480003317151</li>\n",
       "\t<li>1.04800027368381</li>\n",
       "\t<li>1.04800020483146</li>\n",
       "\t<li>1.04899970044394</li>\n",
       "\t<li>1.04700003780344</li>\n",
       "\t<li>1.04900022041892</li>\n",
       "</ol>\n"
      ],
      "text/latex": [
       "\\begin{enumerate*}\n",
       "\\item 1.05481690410589\n",
       "\\item 1.05396860160187\n",
       "\\item 1.0584289819006\n",
       "\\item 1.05676724086614\n",
       "\\item 1.05575730471299\n",
       "\\item 1.05539087618691\n",
       "\\item 1.05869847732514\n",
       "\\item 1.05544913958615\n",
       "\\item 1.0538200899829\n",
       "\\item 1.05375965639978\n",
       "\\item 1.05371623847072\n",
       "\\item 1.05207814731129\n",
       "\\item 1.05093393271078\n",
       "\\item 1.05339937126445\n",
       "\\item 1.05146009741132\n",
       "\\item 1.05074190200935\n",
       "\\item 1.05128647323334\n",
       "\\item 1.05067224979083\n",
       "\\item 1.04937438635457\n",
       "\\item 1.04947956650338\n",
       "\\item 1.04887346485466\n",
       "\\item 1.05005734727087\n",
       "\\item 1.04794839637996\n",
       "\\item 1.05271720727634\n",
       "\\item 1.04718786089559\n",
       "\\item 1.05113718183127\n",
       "\\item 1.0485397736439\n",
       "\\item 1.04996416450907\n",
       "\\item 1.05341659052871\n",
       "\\item 1.05299737573519\n",
       "\\item 1.05471892194308\n",
       "\\item 1.05184471397413\n",
       "\\item 1.0512708972832\n",
       "\\item 1.05212937783218\n",
       "\\item 1.05479749571478\n",
       "\\item 1.05360458713978\n",
       "\\item 1.05253759349779\n",
       "\\item 1.05256935823426\n",
       "\\item 1.052657053917\n",
       "\\item 1.05174939567185\n",
       "\\item 1.05283688386615\n",
       "\\item 1.05161546349675\n",
       "\\item 1.05059723287764\n",
       "\\item 1.05197588785258\n",
       "\\item 1.05019917291137\n",
       "\\item 1.05206053985151\n",
       "\\item 1.05087627253465\n",
       "\\item 1.04999997309283\n",
       "\\item 1.04999145292871\n",
       "\\item 1.04972030994163\n",
       "\\item 1.0496757310162\n",
       "\\item 1.0458492606459\n",
       "\\item 1.05001722210259\n",
       "\\item 1.04995544176708\n",
       "\\item 1.04787693155761\n",
       "\\item 1.04892777241264\n",
       "\\item 1.04706225204023\n",
       "\\item 1.04764316745968\n",
       "\\item 1.04718991060317\n",
       "\\item 1.0487906474459\n",
       "\\item 1.0479976991137\n",
       "\\item 1.04568622837982\n",
       "\\item 1.0479858148733\n",
       "\\item 1.04864720010619\n",
       "\\item 1.0484559311066\n",
       "\\item 1.04932981473898\n",
       "\\item 1.04944895494105\n",
       "\\item 1.04739151924757\n",
       "\\item 1.0480003317151\n",
       "\\item 1.04800027368381\n",
       "\\item 1.04800020483146\n",
       "\\item 1.04899970044394\n",
       "\\item 1.04700003780344\n",
       "\\item 1.04900022041892\n",
       "\\end{enumerate*}\n"
      ],
      "text/markdown": [
       "1. 1.05481690410589\n",
       "2. 1.05396860160187\n",
       "3. 1.0584289819006\n",
       "4. 1.05676724086614\n",
       "5. 1.05575730471299\n",
       "6. 1.05539087618691\n",
       "7. 1.05869847732514\n",
       "8. 1.05544913958615\n",
       "9. 1.0538200899829\n",
       "10. 1.05375965639978\n",
       "11. 1.05371623847072\n",
       "12. 1.05207814731129\n",
       "13. 1.05093393271078\n",
       "14. 1.05339937126445\n",
       "15. 1.05146009741132\n",
       "16. 1.05074190200935\n",
       "17. 1.05128647323334\n",
       "18. 1.05067224979083\n",
       "19. 1.04937438635457\n",
       "20. 1.04947956650338\n",
       "21. 1.04887346485466\n",
       "22. 1.05005734727087\n",
       "23. 1.04794839637996\n",
       "24. 1.05271720727634\n",
       "25. 1.04718786089559\n",
       "26. 1.05113718183127\n",
       "27. 1.0485397736439\n",
       "28. 1.04996416450907\n",
       "29. 1.05341659052871\n",
       "30. 1.05299737573519\n",
       "31. 1.05471892194308\n",
       "32. 1.05184471397413\n",
       "33. 1.0512708972832\n",
       "34. 1.05212937783218\n",
       "35. 1.05479749571478\n",
       "36. 1.05360458713978\n",
       "37. 1.05253759349779\n",
       "38. 1.05256935823426\n",
       "39. 1.052657053917\n",
       "40. 1.05174939567185\n",
       "41. 1.05283688386615\n",
       "42. 1.05161546349675\n",
       "43. 1.05059723287764\n",
       "44. 1.05197588785258\n",
       "45. 1.05019917291137\n",
       "46. 1.05206053985151\n",
       "47. 1.05087627253465\n",
       "48. 1.04999997309283\n",
       "49. 1.04999145292871\n",
       "50. 1.04972030994163\n",
       "51. 1.0496757310162\n",
       "52. 1.0458492606459\n",
       "53. 1.05001722210259\n",
       "54. 1.04995544176708\n",
       "55. 1.04787693155761\n",
       "56. 1.04892777241264\n",
       "57. 1.04706225204023\n",
       "58. 1.04764316745968\n",
       "59. 1.04718991060317\n",
       "60. 1.0487906474459\n",
       "61. 1.0479976991137\n",
       "62. 1.04568622837982\n",
       "63. 1.0479858148733\n",
       "64. 1.04864720010619\n",
       "65. 1.0484559311066\n",
       "66. 1.04932981473898\n",
       "67. 1.04944895494105\n",
       "68. 1.04739151924757\n",
       "69. 1.0480003317151\n",
       "70. 1.04800027368381\n",
       "71. 1.04800020483146\n",
       "72. 1.04899970044394\n",
       "73. 1.04700003780344\n",
       "74. 1.04900022041892\n",
       "\n",
       "\n"
      ],
      "text/plain": [
       " [1] 1.054817 1.053969 1.058429 1.056767 1.055757 1.055391 1.058698 1.055449\n",
       " [9] 1.053820 1.053760 1.053716 1.052078 1.050934 1.053399 1.051460 1.050742\n",
       "[17] 1.051286 1.050672 1.049374 1.049480 1.048873 1.050057 1.047948 1.052717\n",
       "[25] 1.047188 1.051137 1.048540 1.049964 1.053417 1.052997 1.054719 1.051845\n",
       "[33] 1.051271 1.052129 1.054797 1.053605 1.052538 1.052569 1.052657 1.051749\n",
       "[41] 1.052837 1.051615 1.050597 1.051976 1.050199 1.052061 1.050876 1.050000\n",
       "[49] 1.049991 1.049720 1.049676 1.045849 1.050017 1.049955 1.047877 1.048928\n",
       "[57] 1.047062 1.047643 1.047190 1.048791 1.047998 1.045686 1.047986 1.048647\n",
       "[65] 1.048456 1.049330 1.049449 1.047392 1.048000 1.048000 1.048000 1.049000\n",
       "[73] 1.047000 1.049000"
      ]
     },
     "metadata": {},
     "output_type": "display_data"
    }
   ],
   "source": [
    "prop_boy_girl"
   ]
  },
  {
   "cell_type": "code",
   "execution_count": 51,
   "metadata": {},
   "outputs": [
    {
     "data": {},
     "metadata": {},
     "output_type": "display_data"
    },
    {
     "data": {
      "image/png": "[encoded data removed]",
      "text/plain": [
       "plot without title"
      ]
     },
     "metadata": {},
     "output_type": "display_data"
    }
   ],
   "source": [
    "ggplot(data = present, aes(x = year, y = prop_boy_girl)) + geom_line() + geom_point()"
   ]
  },
  {
   "cell_type": "markdown",
   "metadata": {},
   "source": [
    "There is initially a decrease in the boy-to-girl ratio, and then an increase between 1960 and 1970, followed by a decrease."
   ]
  },
  {
   "cell_type": "markdown",
   "metadata": {},
   "source": [
    "In what year did we see the most total number of births in the U.S.? Hint: Sort your dataset in descending order based on the total column. You can do this interactively in the data viewer by clicking on the arrows next to the variable names. Or to arrange the data in a descenting order with new function: descr (for descending order)."
   ]
  },
  {
   "cell_type": "code",
   "execution_count": 56,
   "metadata": {},
   "outputs": [
    {
     "data": {
      "text/html": [
       "<table>\n",
       "<thead><tr><th scope=col>year</th><th scope=col>boys</th><th scope=col>girls</th><th scope=col>total</th><th scope=col>more_boys</th></tr></thead>\n",
       "<tbody>\n",
       "\t<tr><td>2007   </td><td>2208071</td><td>2108162</td><td>4316233</td><td>TRUE   </td></tr>\n",
       "\t<tr><td>1961   </td><td>2186274</td><td>2082052</td><td>4268326</td><td>TRUE   </td></tr>\n",
       "\t<tr><td>2006   </td><td>2184237</td><td>2081318</td><td>4265555</td><td>TRUE   </td></tr>\n",
       "\t<tr><td>1960   </td><td>2179708</td><td>2078142</td><td>4257850</td><td>TRUE   </td></tr>\n",
       "\t<tr><td>1957   </td><td>2179960</td><td>2074824</td><td>4254784</td><td>TRUE   </td></tr>\n",
       "\t<tr><td>2008   </td><td>2173625</td><td>2074069</td><td>4247694</td><td>TRUE   </td></tr>\n",
       "</tbody>\n",
       "</table>\n"
      ],
      "text/latex": [
       "\\begin{tabular}{r|lllll}\n",
       " year & boys & girls & total & more\\_boys\\\\\n",
       "\\hline\n",
       "\t 2007    & 2208071 & 2108162 & 4316233 & TRUE   \\\\\n",
       "\t 1961    & 2186274 & 2082052 & 4268326 & TRUE   \\\\\n",
       "\t 2006    & 2184237 & 2081318 & 4265555 & TRUE   \\\\\n",
       "\t 1960    & 2179708 & 2078142 & 4257850 & TRUE   \\\\\n",
       "\t 1957    & 2179960 & 2074824 & 4254784 & TRUE   \\\\\n",
       "\t 2008    & 2173625 & 2074069 & 4247694 & TRUE   \\\\\n",
       "\\end{tabular}\n"
      ],
      "text/markdown": [
       "\n",
       "year | boys | girls | total | more_boys | \n",
       "|---|---|---|---|---|---|\n",
       "| 2007    | 2208071 | 2108162 | 4316233 | TRUE    | \n",
       "| 1961    | 2186274 | 2082052 | 4268326 | TRUE    | \n",
       "| 2006    | 2184237 | 2081318 | 4265555 | TRUE    | \n",
       "| 1960    | 2179708 | 2078142 | 4257850 | TRUE    | \n",
       "| 1957    | 2179960 | 2074824 | 4254784 | TRUE    | \n",
       "| 2008    | 2173625 | 2074069 | 4247694 | TRUE    | \n",
       "\n",
       "\n"
      ],
      "text/plain": [
       "  year boys    girls   total   more_boys\n",
       "1 2007 2208071 2108162 4316233 TRUE     \n",
       "2 1961 2186274 2082052 4268326 TRUE     \n",
       "3 2006 2184237 2081318 4265555 TRUE     \n",
       "4 1960 2179708 2078142 4257850 TRUE     \n",
       "5 1957 2179960 2074824 4254784 TRUE     \n",
       "6 2008 2173625 2074069 4247694 TRUE     "
      ]
     },
     "metadata": {},
     "output_type": "display_data"
    }
   ],
   "source": [
    "#present <- present %>%\n",
    "#  mutate(total = boys + girls)\n",
    "\n",
    "present_desc <- present %>%\n",
    "mutate(total = boys + girls) %>%\n",
    "arrange(desc(total))\n",
    "head(present_desc)"
   ]
  },
  {
   "cell_type": "markdown",
   "metadata": {},
   "source": [
    "**2007 saw the most total number of births in the U.S.**"
   ]
  },
  {
   "cell_type": "code",
   "execution_count": null,
   "metadata": {},
   "outputs": [],
   "source": []
  }
 ],
 "metadata": {
  "kernelspec": {
   "display_name": "R",
   "language": "R",
   "name": "ir"
  },
  "language_info": {
   "codemirror_mode": "r",
   "file_extension": ".r",
   "mimetype": "text/x-r-source",
   "name": "R",
   "pygments_lexer": "r",
   "version": "3.3.2"
  }
 },
 "nbformat": 4,
 "nbformat_minor": 2
}
