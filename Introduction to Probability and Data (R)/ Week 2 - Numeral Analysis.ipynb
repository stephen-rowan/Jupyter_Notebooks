{
 "cells": [
  {
   "cell_type": "code",
   "execution_count": 1,
   "metadata": {},
   "outputs": [
    {
     "name": "stderr",
     "output_type": "stream",
     "text": [
      "Updating HTML index of packages in '.Library'\n",
      "Making 'packages.html' ... done\n"
     ]
    }
   ],
   "source": [
    "install.packages(\"devtools\")\n",
    "library(devtools)"
   ]
  },
  {
   "cell_type": "code",
   "execution_count": 2,
   "metadata": {},
   "outputs": [
    {
     "name": "stderr",
     "output_type": "stream",
     "text": [
      "also installing the dependencies ‘cli’, ‘crayon’, ‘utf8’, ‘bindr’, ‘pillar’, ‘bindrcpp’, ‘glue’, ‘pkgconfig’, ‘rlang’, ‘tibble’\n",
      "\n",
      "Updating HTML index of packages in '.Library'\n",
      "Making 'packages.html' ... done\n"
     ]
    }
   ],
   "source": [
    "install.packages(\"dplyr\")"
   ]
  },
  {
   "cell_type": "code",
   "execution_count": 3,
   "metadata": {},
   "outputs": [
    {
     "name": "stderr",
     "output_type": "stream",
     "text": [
      "Updating HTML index of packages in '.Library'\n",
      "Making 'packages.html' ... done\n"
     ]
    }
   ],
   "source": [
    "install.packages(\"ggplot2\")"
   ]
  },
  {
   "cell_type": "code",
   "execution_count": 4,
   "metadata": {},
   "outputs": [
    {
     "name": "stderr",
     "output_type": "stream",
     "text": [
      "also installing the dependency ‘httpuv’\n",
      "\n",
      "Updating HTML index of packages in '.Library'\n",
      "Making 'packages.html' ... done\n"
     ]
    }
   ],
   "source": [
    "install.packages(\"shiny\")"
   ]
  },
  {
   "cell_type": "code",
   "execution_count": 5,
   "metadata": {},
   "outputs": [
    {
     "name": "stderr",
     "output_type": "stream",
     "text": [
      "Updating HTML index of packages in '.Library'\n",
      "Making 'packages.html' ... done\n"
     ]
    }
   ],
   "source": [
    "install.packages(\"RCurl\")"
   ]
  },
  {
   "cell_type": "code",
   "execution_count": 16,
   "metadata": {},
   "outputs": [
    {
     "name": "stderr",
     "output_type": "stream",
     "text": [
      "Updating HTML index of packages in '.Library'\n",
      "Making 'packages.html' ... done\n",
      "Updating HTML index of packages in '.Library'\n",
      "Making 'packages.html' ... done\n"
     ]
    }
   ],
   "source": [
    "install.packages(\"plyr\")\n",
    "install.packages(\"dplyr\")"
   ]
  },
  {
   "cell_type": "code",
   "execution_count": 19,
   "metadata": {},
   "outputs": [
    {
     "name": "stderr",
     "output_type": "stream",
     "text": [
      "Warning message:\n",
      "“package ‘statsr’ is not available (for R version 3.3.2)”"
     ]
    }
   ],
   "source": [
    "install.packages(\"statsr\")"
   ]
  },
  {
   "cell_type": "code",
   "execution_count": 15,
   "metadata": {},
   "outputs": [],
   "source": [
    "library(plyr)\n",
    "library(dplyr)\n",
    "library(ggplot2)\n",
    "library(shiny)\n",
    "library(RCurl)"
   ]
  },
  {
   "cell_type": "code",
   "execution_count": 20,
   "metadata": {},
   "outputs": [],
   "source": [
    "library(dplyr)"
   ]
  },
  {
   "cell_type": "code",
   "execution_count": 8,
   "metadata": {},
   "outputs": [],
   "source": [
    "nycflights <- download.file(\"https://raw.githubusercontent.com/stephen-rowan/Jupyter_Notebooks/master/Introduction%20to%20Probability%20and%20Data%20(R)/R%20Studio/Week%202/nycflights.csv\", \"nycflights.csv\", method = \"curl\")"
   ]
  },
  {
   "cell_type": "code",
   "execution_count": 9,
   "metadata": {},
   "outputs": [],
   "source": [
    "nycflights <- read.csv(file=\"nycflights.csv\", header=TRUE, sep=\",\")"
   ]
  },
  {
   "cell_type": "code",
   "execution_count": 11,
   "metadata": {},
   "outputs": [
    {
     "data": {
      "text/html": [
       "<table>\n",
       "<thead><tr><th scope=col>X</th><th scope=col>year</th><th scope=col>month</th><th scope=col>day</th><th scope=col>dep_time</th><th scope=col>dep_delay</th><th scope=col>arr_time</th><th scope=col>arr_delay</th><th scope=col>carrier</th><th scope=col>tailnum</th><th scope=col>flight</th><th scope=col>origin</th><th scope=col>dest</th><th scope=col>air_time</th><th scope=col>distance</th><th scope=col>hour</th><th scope=col>minute</th></tr></thead>\n",
       "<tbody>\n",
       "\t<tr><td>1     </td><td>2013  </td><td> 6    </td><td>30    </td><td> 940  </td><td>15    </td><td>1216  </td><td> -4   </td><td>VX    </td><td>N626VA</td><td> 407  </td><td>JFK   </td><td>LAX   </td><td>313   </td><td>2475  </td><td> 9    </td><td>40    </td></tr>\n",
       "\t<tr><td>2     </td><td>2013  </td><td> 5    </td><td> 7    </td><td>1657  </td><td>-3    </td><td>2104  </td><td> 10   </td><td>DL    </td><td>N3760C</td><td> 329  </td><td>JFK   </td><td>SJU   </td><td>216   </td><td>1598  </td><td>16    </td><td>57    </td></tr>\n",
       "\t<tr><td>3     </td><td>2013  </td><td>12    </td><td> 8    </td><td> 859  </td><td>-1    </td><td>1238  </td><td> 11   </td><td>DL    </td><td>N712TW</td><td> 422  </td><td>JFK   </td><td>LAX   </td><td>376   </td><td>2475  </td><td> 8    </td><td>59    </td></tr>\n",
       "\t<tr><td>4     </td><td>2013  </td><td> 5    </td><td>14    </td><td>1841  </td><td>-4    </td><td>2122  </td><td>-34   </td><td>DL    </td><td>N914DL</td><td>2391  </td><td>JFK   </td><td>TPA   </td><td>135   </td><td>1005  </td><td>18    </td><td>41    </td></tr>\n",
       "\t<tr><td>5     </td><td>2013  </td><td> 7    </td><td>21    </td><td>1102  </td><td>-3    </td><td>1230  </td><td> -8   </td><td>9E    </td><td>N823AY</td><td>3652  </td><td>LGA   </td><td>ORF   </td><td> 50   </td><td> 296  </td><td>11    </td><td> 2    </td></tr>\n",
       "\t<tr><td>6     </td><td>2013  </td><td> 1    </td><td> 1    </td><td>1817  </td><td>-3    </td><td>2008  </td><td>  3   </td><td>AA    </td><td>N3AXAA</td><td> 353  </td><td>LGA   </td><td>ORD   </td><td>138   </td><td> 733  </td><td>18    </td><td>17    </td></tr>\n",
       "</tbody>\n",
       "</table>\n"
      ],
      "text/latex": [
       "\\begin{tabular}{r|lllllllllllllllll}\n",
       " X & year & month & day & dep\\_time & dep\\_delay & arr\\_time & arr\\_delay & carrier & tailnum & flight & origin & dest & air\\_time & distance & hour & minute\\\\\n",
       "\\hline\n",
       "\t 1      & 2013   &  6     & 30     &  940   & 15     & 1216   &  -4    & VX     & N626VA &  407   & JFK    & LAX    & 313    & 2475   &  9     & 40    \\\\\n",
       "\t 2      & 2013   &  5     &  7     & 1657   & -3     & 2104   &  10    & DL     & N3760C &  329   & JFK    & SJU    & 216    & 1598   & 16     & 57    \\\\\n",
       "\t 3      & 2013   & 12     &  8     &  859   & -1     & 1238   &  11    & DL     & N712TW &  422   & JFK    & LAX    & 376    & 2475   &  8     & 59    \\\\\n",
       "\t 4      & 2013   &  5     & 14     & 1841   & -4     & 2122   & -34    & DL     & N914DL & 2391   & JFK    & TPA    & 135    & 1005   & 18     & 41    \\\\\n",
       "\t 5      & 2013   &  7     & 21     & 1102   & -3     & 1230   &  -8    & 9E     & N823AY & 3652   & LGA    & ORF    &  50    &  296   & 11     &  2    \\\\\n",
       "\t 6      & 2013   &  1     &  1     & 1817   & -3     & 2008   &   3    & AA     & N3AXAA &  353   & LGA    & ORD    & 138    &  733   & 18     & 17    \\\\\n",
       "\\end{tabular}\n"
      ],
      "text/markdown": [
       "\n",
       "X | year | month | day | dep_time | dep_delay | arr_time | arr_delay | carrier | tailnum | flight | origin | dest | air_time | distance | hour | minute | \n",
       "|---|---|---|---|---|---|\n",
       "| 1      | 2013   |  6     | 30     |  940   | 15     | 1216   |  -4    | VX     | N626VA |  407   | JFK    | LAX    | 313    | 2475   |  9     | 40     | \n",
       "| 2      | 2013   |  5     |  7     | 1657   | -3     | 2104   |  10    | DL     | N3760C |  329   | JFK    | SJU    | 216    | 1598   | 16     | 57     | \n",
       "| 3      | 2013   | 12     |  8     |  859   | -1     | 1238   |  11    | DL     | N712TW |  422   | JFK    | LAX    | 376    | 2475   |  8     | 59     | \n",
       "| 4      | 2013   |  5     | 14     | 1841   | -4     | 2122   | -34    | DL     | N914DL | 2391   | JFK    | TPA    | 135    | 1005   | 18     | 41     | \n",
       "| 5      | 2013   |  7     | 21     | 1102   | -3     | 1230   |  -8    | 9E     | N823AY | 3652   | LGA    | ORF    |  50    |  296   | 11     |  2     | \n",
       "| 6      | 2013   |  1     |  1     | 1817   | -3     | 2008   |   3    | AA     | N3AXAA |  353   | LGA    | ORD    | 138    |  733   | 18     | 17     | \n",
       "\n",
       "\n"
      ],
      "text/plain": [
       "  X year month day dep_time dep_delay arr_time arr_delay carrier tailnum flight\n",
       "1 1 2013  6    30   940     15        1216      -4       VX      N626VA   407  \n",
       "2 2 2013  5     7  1657     -3        2104      10       DL      N3760C   329  \n",
       "3 3 2013 12     8   859     -1        1238      11       DL      N712TW   422  \n",
       "4 4 2013  5    14  1841     -4        2122     -34       DL      N914DL  2391  \n",
       "5 5 2013  7    21  1102     -3        1230      -8       9E      N823AY  3652  \n",
       "6 6 2013  1     1  1817     -3        2008       3       AA      N3AXAA   353  \n",
       "  origin dest air_time distance hour minute\n",
       "1 JFK    LAX  313      2475      9   40    \n",
       "2 JFK    SJU  216      1598     16   57    \n",
       "3 JFK    LAX  376      2475      8   59    \n",
       "4 JFK    TPA  135      1005     18   41    \n",
       "5 LGA    ORF   50       296     11    2    \n",
       "6 LGA    ORD  138       733     18   17    "
      ]
     },
     "metadata": {},
     "output_type": "display_data"
    }
   ],
   "source": [
    "head (nycflights)"
   ]
  },
  {
   "cell_type": "code",
   "execution_count": 12,
   "metadata": {},
   "outputs": [
    {
     "data": {
      "text/html": [
       "<ol class=list-inline>\n",
       "\t<li>'X'</li>\n",
       "\t<li>'year'</li>\n",
       "\t<li>'month'</li>\n",
       "\t<li>'day'</li>\n",
       "\t<li>'dep_time'</li>\n",
       "\t<li>'dep_delay'</li>\n",
       "\t<li>'arr_time'</li>\n",
       "\t<li>'arr_delay'</li>\n",
       "\t<li>'carrier'</li>\n",
       "\t<li>'tailnum'</li>\n",
       "\t<li>'flight'</li>\n",
       "\t<li>'origin'</li>\n",
       "\t<li>'dest'</li>\n",
       "\t<li>'air_time'</li>\n",
       "\t<li>'distance'</li>\n",
       "\t<li>'hour'</li>\n",
       "\t<li>'minute'</li>\n",
       "</ol>\n"
      ],
      "text/latex": [
       "\\begin{enumerate*}\n",
       "\\item 'X'\n",
       "\\item 'year'\n",
       "\\item 'month'\n",
       "\\item 'day'\n",
       "\\item 'dep\\_time'\n",
       "\\item 'dep\\_delay'\n",
       "\\item 'arr\\_time'\n",
       "\\item 'arr\\_delay'\n",
       "\\item 'carrier'\n",
       "\\item 'tailnum'\n",
       "\\item 'flight'\n",
       "\\item 'origin'\n",
       "\\item 'dest'\n",
       "\\item 'air\\_time'\n",
       "\\item 'distance'\n",
       "\\item 'hour'\n",
       "\\item 'minute'\n",
       "\\end{enumerate*}\n"
      ],
      "text/markdown": [
       "1. 'X'\n",
       "2. 'year'\n",
       "3. 'month'\n",
       "4. 'day'\n",
       "5. 'dep_time'\n",
       "6. 'dep_delay'\n",
       "7. 'arr_time'\n",
       "8. 'arr_delay'\n",
       "9. 'carrier'\n",
       "10. 'tailnum'\n",
       "11. 'flight'\n",
       "12. 'origin'\n",
       "13. 'dest'\n",
       "14. 'air_time'\n",
       "15. 'distance'\n",
       "16. 'hour'\n",
       "17. 'minute'\n",
       "\n",
       "\n"
      ],
      "text/plain": [
       " [1] \"X\"         \"year\"      \"month\"     \"day\"       \"dep_time\"  \"dep_delay\"\n",
       " [7] \"arr_time\"  \"arr_delay\" \"carrier\"   \"tailnum\"   \"flight\"    \"origin\"   \n",
       "[13] \"dest\"      \"air_time\"  \"distance\"  \"hour\"      \"minute\"   "
      ]
     },
     "metadata": {},
     "output_type": "display_data"
    }
   ],
   "source": [
    "names(nycflights)"
   ]
  },
  {
   "cell_type": "code",
   "execution_count": 13,
   "metadata": {},
   "outputs": [
    {
     "name": "stdout",
     "output_type": "stream",
     "text": [
      "'data.frame':\t32735 obs. of  17 variables:\n",
      " $ X        : int  1 2 3 4 5 6 7 8 9 10 ...\n",
      " $ year     : int  2013 2013 2013 2013 2013 2013 2013 2013 2013 2013 ...\n",
      " $ month    : int  6 5 12 5 7 1 12 8 9 4 ...\n",
      " $ day      : int  30 7 8 14 21 1 9 13 26 30 ...\n",
      " $ dep_time : int  940 1657 859 1841 1102 1817 1259 1920 725 1323 ...\n",
      " $ dep_delay: int  15 -3 -1 -4 -3 -3 14 85 -10 62 ...\n",
      " $ arr_time : int  1216 2104 1238 2122 1230 2008 1617 2032 1027 1549 ...\n",
      " $ arr_delay: int  -4 10 11 -34 -8 3 22 71 -8 60 ...\n",
      " $ carrier  : Factor w/ 16 levels \"9E\",\"AA\",\"AS\",..: 14 5 5 5 1 2 15 4 2 6 ...\n",
      " $ tailnum  : Factor w/ 3490 levels \"N0EGMQ\",\"N10156\",..: 2177 956 2491 3188 2848 1082 450 587 1185 65 ...\n",
      " $ flight   : int  407 329 422 2391 3652 353 1428 1407 2279 4162 ...\n",
      " $ origin   : Factor w/ 3 levels \"EWR\",\"JFK\",\"LGA\": 2 2 2 2 3 3 1 2 3 1 ...\n",
      " $ dest     : Factor w/ 102 levels \"ABQ\",\"ACK\",\"ALB\",..: 50 90 50 98 69 68 42 43 57 48 ...\n",
      " $ air_time : int  313 216 376 135 50 138 240 48 148 110 ...\n",
      " $ distance : int  2475 1598 2475 1005 296 733 1411 228 1096 820 ...\n",
      " $ hour     : int  9 16 8 18 11 18 12 19 7 13 ...\n",
      " $ minute   : int  40 57 59 41 2 17 59 20 25 23 ...\n"
     ]
    }
   ],
   "source": [
    "str(nycflights)"
   ]
  },
  {
   "cell_type": "markdown",
   "metadata": {},
   "source": [
    "# Analysis\n",
    "\n",
    "## Departure delays in flights to Raleigh-Durham (RDU)\n",
    "\n",
    "We can examine the distribution of departure delays of all flights with a histogram."
   ]
  },
  {
   "cell_type": "code",
   "execution_count": 21,
   "metadata": {},
   "outputs": [
    {
     "name": "stderr",
     "output_type": "stream",
     "text": [
      "`stat_bin()` using `bins = 30`. Pick better value with `binwidth`.\n"
     ]
    },
    {
     "data": {},
     "metadata": {},
     "output_type": "display_data"
    },
    {
     "data": {
      "image/png": "[encoded data removed]",
      "text/plain": [
       "plot without title"
      ]
     },
     "metadata": {},
     "output_type": "display_data"
    }
   ],
   "source": [
    "ggplot(data = nycflights, aes(x = dep_delay)) +\n",
    "  geom_histogram()"
   ]
  },
  {
   "cell_type": "markdown",
   "metadata": {},
   "source": [
    "This function says to plot the dep_delay variable from the nycflights data frame on the x-axis. It also defines a geom (short for geometric object), which describes the type of plot you will produce.\n",
    "\n",
    "Histograms are generally a very good way to see the shape of a single distribution, but that shape can change depending on how the data is split between the different bins. You can easily define the binwidth you want to use:"
   ]
  },
  {
   "cell_type": "code",
   "execution_count": 22,
   "metadata": {},
   "outputs": [
    {
     "data": {},
     "metadata": {},
     "output_type": "display_data"
    },
    {
     "data": {
      "image/png": "[encoded data removed]",
      "text/plain": [
       "plot without title"
      ]
     },
     "metadata": {},
     "output_type": "display_data"
    }
   ],
   "source": [
    "ggplot(data = nycflights, aes(x = dep_delay)) +\n",
    "  geom_histogram(binwidth = 15)"
   ]
  },
  {
   "cell_type": "code",
   "execution_count": 23,
   "metadata": {},
   "outputs": [
    {
     "data": {},
     "metadata": {},
     "output_type": "display_data"
    },
    {
     "data": {
      "image/png": "[encoded data removed]",
      "text/plain": [
       "plot without title"
      ]
     },
     "metadata": {},
     "output_type": "display_data"
    }
   ],
   "source": [
    "ggplot(data = nycflights, aes(x = dep_delay)) +\n",
    "  geom_histogram(binwidth = 150)"
   ]
  },
  {
   "cell_type": "code",
   "execution_count": 26,
   "metadata": {},
   "outputs": [
    {
     "name": "stderr",
     "output_type": "stream",
     "text": [
      "`stat_bin()` using `bins = 30`. Pick better value with `binwidth`.\n"
     ]
    },
    {
     "data": {},
     "metadata": {},
     "output_type": "display_data"
    },
    {
     "data": {
      "image/png": "[encoded data removed]",
      "text/plain": [
       "plot without title"
      ]
     },
     "metadata": {},
     "output_type": "display_data"
    }
   ],
   "source": [
    "rdu_flights <- nycflights %>%\n",
    "  filter(dest == \"RDU\")\n",
    "ggplot(data = rdu_flights, aes(x = dep_delay)) +\n",
    "  geom_histogram()"
   ]
  },
  {
   "cell_type": "markdown",
   "metadata": {},
   "source": [
    "```R\n",
    "rdu_flights <- nycflights %>%\n",
    "  filter(dest == \"RDU\")\n",
    "ggplot(data = rdu_flights, aes(x = dep_delay)) +\n",
    "  geom_histogram()\n",
    "```\n",
    "\n",
    "\n",
    "Let’s decipher these three lines of code:\n",
    "\n",
    "**Line 1:** Take the nycflights data frame, filter for flights headed to RDU, and save the result as a new data frame called rdu_flights. == means “if it’s equal to”. RDU is in quotation marks since it is a character string.\n",
    "\n",
    "**Line 2:** Basically the same ggplot call from earlier for making a histogram, except that it uses the data frame for flights headed to RDU instead of all flights.\n",
    "\n",
    "**Logical operators:** Filtering for certain observations (e.g. flights from a particular airport) is often of interest in data frames where we might want to examine observations with certain characteristics separately from the rest of the data. To do so we use the filter function and a series of logical operators. The most commonly used logical operators for data analysis are as follows:\n",
    "\n",
    "```\n",
    "== means “equal to”\n",
    "\n",
    "```\n",
    "\n",
    "```\n",
    "!= means “not equal to”\n",
    "```\n",
    "\n",
    "```\n",
    "> or < means “greater than” or “less than”\n",
    "```\n",
    "\n",
    "```\n",
    ">= or <= means “greater than or equal to” or “less than or equal to”\n",
    "```\n",
    "\n",
    "We can also obtain numerical summaries for these flights:\n",
    "\n"
   ]
  },
  {
   "cell_type": "code",
   "execution_count": 27,
   "metadata": {},
   "outputs": [
    {
     "data": {
      "text/html": [
       "<table>\n",
       "<thead><tr><th scope=col>mean_dd</th><th scope=col>sd_dd</th><th scope=col>n</th></tr></thead>\n",
       "<tbody>\n",
       "\t<tr><td>11.69913</td><td>35.55567</td><td>801     </td></tr>\n",
       "</tbody>\n",
       "</table>\n"
      ],
      "text/latex": [
       "\\begin{tabular}{r|lll}\n",
       " mean\\_dd & sd\\_dd & n\\\\\n",
       "\\hline\n",
       "\t 11.69913 & 35.55567 & 801     \\\\\n",
       "\\end{tabular}\n"
      ],
      "text/markdown": [
       "\n",
       "mean_dd | sd_dd | n | \n",
       "|---|\n",
       "| 11.69913 | 35.55567 | 801      | \n",
       "\n",
       "\n"
      ],
      "text/plain": [
       "  mean_dd  sd_dd    n  \n",
       "1 11.69913 35.55567 801"
      ]
     },
     "metadata": {},
     "output_type": "display_data"
    }
   ],
   "source": [
    "rdu_flights %>%\n",
    "  summarise(mean_dd = mean(dep_delay), sd_dd = sd(dep_delay), n = n())"
   ]
  },
  {
   "cell_type": "markdown",
   "metadata": {},
   "source": [
    "Note that in the summarise function we created a list of two elements. The names of these elements are user defined, like mean_dd, sd_dd, n, and you could customize these names as you like (just don’t use spaces in your names). Calculating these summary statistics also require that you know the function calls. Note that n() reports the sample size.\n",
    "\n",
    "**Summary statistics:** Some useful function calls for summary statistics for a single numerical variable are as follows:\n",
    "\n",
    "> mean\n",
    "\n",
    "> median\n",
    "\n",
    "> sd\n",
    "\n",
    "> var\n",
    "\n",
    "> IQR\n",
    "\n",
    "> range\n",
    "\n",
    "> min\n",
    "\n",
    "> max\n",
    "\n",
    "We can also filter based on multiple criteria. Suppose we are interested in flights headed to San Francisco (SFO) in February:"
   ]
  },
  {
   "cell_type": "code",
   "execution_count": 28,
   "metadata": {},
   "outputs": [],
   "source": [
    "sfo_feb_flights <- nycflights %>%\n",
    "  filter(dest == \"SFO\", month == 2)"
   ]
  },
  {
   "cell_type": "markdown",
   "metadata": {},
   "source": [
    "Note that we can separate the conditions using commas if we want flights that are both headed to SFO **and** in February. \n",
    "\n",
    "If we are interested in either flights headed to SFO or in February we can use the ``` | ``` instead of the comma."
   ]
  },
  {
   "cell_type": "markdown",
   "metadata": {},
   "source": [
    "> Create a new data frame that includes flights headed to SFO in February, and save this data frame as sfo_feb_flights. How many flights meet these criteria?\n",
    "\n",
    "> 68\n",
    "\n",
    "> 1345\n",
    "\n",
    "> 2286\n",
    "\n",
    "> 3563\n",
    "\n",
    "> 32735"
   ]
  },
  {
   "cell_type": "code",
   "execution_count": 31,
   "metadata": {},
   "outputs": [
    {
     "data": {
      "text/html": [
       "<table>\n",
       "<thead><tr><th scope=col>n</th></tr></thead>\n",
       "<tbody>\n",
       "\t<tr><td>68</td></tr>\n",
       "</tbody>\n",
       "</table>\n"
      ],
      "text/latex": [
       "\\begin{tabular}{r|l}\n",
       " n\\\\\n",
       "\\hline\n",
       "\t 68\\\\\n",
       "\\end{tabular}\n"
      ],
      "text/markdown": [
       "\n",
       "n | \n",
       "|---|\n",
       "| 68 | \n",
       "\n",
       "\n"
      ],
      "text/plain": [
       "  n \n",
       "1 68"
      ]
     },
     "metadata": {},
     "output_type": "display_data"
    }
   ],
   "source": [
    "sfo_feb_flights %>%\n",
    "  summarise(n = n())"
   ]
  },
  {
   "cell_type": "markdown",
   "metadata": {},
   "source": [
    "> Make a histogram and calculate appropriate summary statistics for arrival delays of sfo_feb_flights. Which of the following is false?\n",
    "\n",
    "> The distribution is unimodal. - true\n",
    "\n",
    "> The distribution is right skewed. - true\n",
    "\n",
    "> No flight is delayed more than 2 hours. **false**\n",
    "\n",
    "> The distribution has several extreme values on the right side. - true\n",
    "\n",
    "> More than 50% of flights arrive on time or earlier than scheduled. true 65 percent arrive on time or earlier"
   ]
  },
  {
   "cell_type": "code",
   "execution_count": 32,
   "metadata": {},
   "outputs": [
    {
     "name": "stderr",
     "output_type": "stream",
     "text": [
      "`stat_bin()` using `bins = 30`. Pick better value with `binwidth`.\n"
     ]
    },
    {
     "data": {},
     "metadata": {},
     "output_type": "display_data"
    },
    {
     "data": {
      "image/png": "[encoded data removed]",
      "text/plain": [
       "plot without title"
      ]
     },
     "metadata": {},
     "output_type": "display_data"
    }
   ],
   "source": [
    "ggplot(data = sfo_feb_flights, aes(x = dep_delay)) +\n",
    "  geom_histogram()"
   ]
  },
  {
   "cell_type": "code",
   "execution_count": 33,
   "metadata": {},
   "outputs": [
    {
     "data": {
      "text/html": [
       "<table>\n",
       "<thead><tr><th scope=col>mean_dd</th><th scope=col>sd_dd</th><th scope=col>n</th></tr></thead>\n",
       "<tbody>\n",
       "\t<tr><td>10.5    </td><td>33.27968</td><td>68      </td></tr>\n",
       "</tbody>\n",
       "</table>\n"
      ],
      "text/latex": [
       "\\begin{tabular}{r|lll}\n",
       " mean\\_dd & sd\\_dd & n\\\\\n",
       "\\hline\n",
       "\t 10.5     & 33.27968 & 68      \\\\\n",
       "\\end{tabular}\n"
      ],
      "text/markdown": [
       "\n",
       "mean_dd | sd_dd | n | \n",
       "|---|\n",
       "| 10.5     | 33.27968 | 68       | \n",
       "\n",
       "\n"
      ],
      "text/plain": [
       "  mean_dd sd_dd    n \n",
       "1 10.5    33.27968 68"
      ]
     },
     "metadata": {},
     "output_type": "display_data"
    }
   ],
   "source": [
    "sfo_feb_flights %>%\n",
    "  summarise(mean_dd = mean(dep_delay), sd_dd = sd(dep_delay), n = n())"
   ]
  },
  {
   "cell_type": "code",
   "execution_count": 37,
   "metadata": {},
   "outputs": [
    {
     "data": {
      "text/html": [
       "<table>\n",
       "<thead><tr><th scope=col>X</th><th scope=col>year</th><th scope=col>month</th><th scope=col>day</th><th scope=col>dep_time</th><th scope=col>dep_delay</th><th scope=col>arr_time</th><th scope=col>arr_delay</th><th scope=col>carrier</th><th scope=col>tailnum</th><th scope=col>flight</th><th scope=col>origin</th><th scope=col>dest</th><th scope=col>air_time</th><th scope=col>distance</th><th scope=col>hour</th><th scope=col>minute</th></tr></thead>\n",
       "<tbody>\n",
       "\t<tr><td>22729 </td><td>2013  </td><td>2     </td><td>12    </td><td>2159  </td><td>209   </td><td>118   </td><td>196   </td><td>UA    </td><td>N508UA</td><td>272   </td><td>JFK   </td><td>SFO   </td><td>344   </td><td>2586  </td><td>21    </td><td>59    </td></tr>\n",
       "</tbody>\n",
       "</table>\n"
      ],
      "text/latex": [
       "\\begin{tabular}{r|lllllllllllllllll}\n",
       " X & year & month & day & dep\\_time & dep\\_delay & arr\\_time & arr\\_delay & carrier & tailnum & flight & origin & dest & air\\_time & distance & hour & minute\\\\\n",
       "\\hline\n",
       "\t 22729  & 2013   & 2      & 12     & 2159   & 209    & 118    & 196    & UA     & N508UA & 272    & JFK    & SFO    & 344    & 2586   & 21     & 59    \\\\\n",
       "\\end{tabular}\n"
      ],
      "text/markdown": [
       "\n",
       "X | year | month | day | dep_time | dep_delay | arr_time | arr_delay | carrier | tailnum | flight | origin | dest | air_time | distance | hour | minute | \n",
       "|---|\n",
       "| 22729  | 2013   | 2      | 12     | 2159   | 209    | 118    | 196    | UA     | N508UA | 272    | JFK    | SFO    | 344    | 2586   | 21     | 59     | \n",
       "\n",
       "\n"
      ],
      "text/plain": [
       "  X     year month day dep_time dep_delay arr_time arr_delay carrier tailnum\n",
       "1 22729 2013 2     12  2159     209       118      196       UA      N508UA \n",
       "  flight origin dest air_time distance hour minute\n",
       "1 272    JFK    SFO  344      2586     21   59    "
      ]
     },
     "metadata": {},
     "output_type": "display_data"
    }
   ],
   "source": [
    "sfo_feb_delayed_more_than_2_hours <- sfo_feb_flights %>%\n",
    "  filter(dep_delay > 120)\n",
    "sfo_feb_delayed_more_than_2_hours"
   ]
  },
  {
   "cell_type": "code",
   "execution_count": 46,
   "metadata": {},
   "outputs": [
    {
     "data": {
      "text/html": [
       "<table>\n",
       "<thead><tr><th scope=col>X</th><th scope=col>year</th><th scope=col>month</th><th scope=col>day</th><th scope=col>dep_time</th><th scope=col>dep_delay</th><th scope=col>arr_time</th><th scope=col>arr_delay</th><th scope=col>carrier</th><th scope=col>tailnum</th><th scope=col>flight</th><th scope=col>origin</th><th scope=col>dest</th><th scope=col>air_time</th><th scope=col>distance</th><th scope=col>hour</th><th scope=col>minute</th></tr></thead>\n",
       "<tbody>\n",
       "\t<tr><td>1260  </td><td>2013  </td><td>2     </td><td>15    </td><td> 955  </td><td> -5   </td><td>1313  </td><td>-28   </td><td>DL    </td><td>N717TW</td><td>1765  </td><td>JFK   </td><td>SFO   </td><td>338   </td><td>2586  </td><td> 9    </td><td>55    </td></tr>\n",
       "\t<tr><td>3973  </td><td>2013  </td><td>2     </td><td>25    </td><td>1415  </td><td>-10   </td><td>1737  </td><td>-13   </td><td>UA    </td><td>N532UA</td><td> 394  </td><td>JFK   </td><td>SFO   </td><td>355   </td><td>2586  </td><td>14    </td><td>15    </td></tr>\n",
       "\t<tr><td>5934  </td><td>2013  </td><td>2     </td><td>13    </td><td>1056  </td><td> -4   </td><td>1412  </td><td>-13   </td><td>UA    </td><td>N532UA</td><td> 642  </td><td>JFK   </td><td>SFO   </td><td>347   </td><td>2586  </td><td>10    </td><td>56    </td></tr>\n",
       "\t<tr><td>6792  </td><td>2013  </td><td>2     </td><td> 8    </td><td> 656  </td><td> -4   </td><td>1039  </td><td> -6   </td><td>DL    </td><td>N710TW</td><td>1865  </td><td>JFK   </td><td>SFO   </td><td>361   </td><td>2586  </td><td> 6    </td><td>56    </td></tr>\n",
       "\t<tr><td>7722  </td><td>2013  </td><td>2     </td><td>13    </td><td> 833  </td><td> -2   </td><td>1210  </td><td> -5   </td><td>UA    </td><td>N73259</td><td>1739  </td><td>EWR   </td><td>SFO   </td><td>351   </td><td>2565  </td><td> 8    </td><td>33    </td></tr>\n",
       "\t<tr><td>7773  </td><td>2013  </td><td>2     </td><td>25    </td><td>1048  </td><td> -1   </td><td>1401  </td><td>-30   </td><td>UA    </td><td>N37293</td><td>1436  </td><td>EWR   </td><td>SFO   </td><td>355   </td><td>2565  </td><td>10    </td><td>48    </td></tr>\n",
       "</tbody>\n",
       "</table>\n"
      ],
      "text/latex": [
       "\\begin{tabular}{r|lllllllllllllllll}\n",
       " X & year & month & day & dep\\_time & dep\\_delay & arr\\_time & arr\\_delay & carrier & tailnum & flight & origin & dest & air\\_time & distance & hour & minute\\\\\n",
       "\\hline\n",
       "\t 1260   & 2013   & 2      & 15     &  955   &  -5    & 1313   & -28    & DL     & N717TW & 1765   & JFK    & SFO    & 338    & 2586   &  9     & 55    \\\\\n",
       "\t 3973   & 2013   & 2      & 25     & 1415   & -10    & 1737   & -13    & UA     & N532UA &  394   & JFK    & SFO    & 355    & 2586   & 14     & 15    \\\\\n",
       "\t 5934   & 2013   & 2      & 13     & 1056   &  -4    & 1412   & -13    & UA     & N532UA &  642   & JFK    & SFO    & 347    & 2586   & 10     & 56    \\\\\n",
       "\t 6792   & 2013   & 2      &  8     &  656   &  -4    & 1039   &  -6    & DL     & N710TW & 1865   & JFK    & SFO    & 361    & 2586   &  6     & 56    \\\\\n",
       "\t 7722   & 2013   & 2      & 13     &  833   &  -2    & 1210   &  -5    & UA     & N73259 & 1739   & EWR    & SFO    & 351    & 2565   &  8     & 33    \\\\\n",
       "\t 7773   & 2013   & 2      & 25     & 1048   &  -1    & 1401   & -30    & UA     & N37293 & 1436   & EWR    & SFO    & 355    & 2565   & 10     & 48    \\\\\n",
       "\\end{tabular}\n"
      ],
      "text/markdown": [
       "\n",
       "X | year | month | day | dep_time | dep_delay | arr_time | arr_delay | carrier | tailnum | flight | origin | dest | air_time | distance | hour | minute | \n",
       "|---|---|---|---|---|---|\n",
       "| 1260   | 2013   | 2      | 15     |  955   |  -5    | 1313   | -28    | DL     | N717TW | 1765   | JFK    | SFO    | 338    | 2586   |  9     | 55     | \n",
       "| 3973   | 2013   | 2      | 25     | 1415   | -10    | 1737   | -13    | UA     | N532UA |  394   | JFK    | SFO    | 355    | 2586   | 14     | 15     | \n",
       "| 5934   | 2013   | 2      | 13     | 1056   |  -4    | 1412   | -13    | UA     | N532UA |  642   | JFK    | SFO    | 347    | 2586   | 10     | 56     | \n",
       "| 6792   | 2013   | 2      |  8     |  656   |  -4    | 1039   |  -6    | DL     | N710TW | 1865   | JFK    | SFO    | 361    | 2586   |  6     | 56     | \n",
       "| 7722   | 2013   | 2      | 13     |  833   |  -2    | 1210   |  -5    | UA     | N73259 | 1739   | EWR    | SFO    | 351    | 2565   |  8     | 33     | \n",
       "| 7773   | 2013   | 2      | 25     | 1048   |  -1    | 1401   | -30    | UA     | N37293 | 1436   | EWR    | SFO    | 355    | 2565   | 10     | 48     | \n",
       "\n",
       "\n"
      ],
      "text/plain": [
       "  X    year month day dep_time dep_delay arr_time arr_delay carrier tailnum\n",
       "1 1260 2013 2     15   955      -5       1313     -28       DL      N717TW \n",
       "2 3973 2013 2     25  1415     -10       1737     -13       UA      N532UA \n",
       "3 5934 2013 2     13  1056      -4       1412     -13       UA      N532UA \n",
       "4 6792 2013 2      8   656      -4       1039      -6       DL      N710TW \n",
       "5 7722 2013 2     13   833      -2       1210      -5       UA      N73259 \n",
       "6 7773 2013 2     25  1048      -1       1401     -30       UA      N37293 \n",
       "  flight origin dest air_time distance hour minute\n",
       "1 1765   JFK    SFO  338      2586      9   55    \n",
       "2  394   JFK    SFO  355      2586     14   15    \n",
       "3  642   JFK    SFO  347      2586     10   56    \n",
       "4 1865   JFK    SFO  361      2586      6   56    \n",
       "5 1739   EWR    SFO  351      2565      8   33    \n",
       "6 1436   EWR    SFO  355      2565     10   48    "
      ]
     },
     "metadata": {},
     "output_type": "display_data"
    },
    {
     "data": {
      "text/html": [
       "<table>\n",
       "<thead><tr><th scope=col>n</th></tr></thead>\n",
       "<tbody>\n",
       "\t<tr><td>0.6470588</td></tr>\n",
       "</tbody>\n",
       "</table>\n"
      ],
      "text/latex": [
       "\\begin{tabular}{r|l}\n",
       " n\\\\\n",
       "\\hline\n",
       "\t 0.6470588\\\\\n",
       "\\end{tabular}\n"
      ],
      "text/markdown": [
       "\n",
       "n | \n",
       "|---|\n",
       "| 0.6470588 | \n",
       "\n",
       "\n"
      ],
      "text/plain": [
       "  n        \n",
       "1 0.6470588"
      ]
     },
     "metadata": {},
     "output_type": "display_data"
    }
   ],
   "source": [
    "#More than 50% of flights arrive on time or earlier than scheduled\n",
    "\n",
    "sfo_feb_arrive_on_time_or_earlier <- sfo_feb_flights %>%\n",
    "  filter(dep_delay <= 0)\n",
    "head (sfo_feb_arrive_on_time_or_earlier)\n",
    "\n",
    "count_sfo_feb_arrive_on_time_or_earlier <- sfo_feb_arrive_on_time_or_earlier %>%\n",
    "  summarise(n = n())\n",
    "\n",
    "count_sfo_feb_flights <- sfo_feb_flights %>%\n",
    "  summarise(n = n())\n",
    "\n",
    "count_sfo_feb_arrive_on_time_or_earlier / count_sfo_feb_flights\n"
   ]
  },
  {
   "cell_type": "markdown",
   "metadata": {},
   "source": [
    "Another useful functionality is being able to quickly calculate summary statistics for various groups in your data frame. \n",
    "\n",
    "For example, we can modify the above command using the ```group_by``` function to get the same summary stats for each origin airport:"
   ]
  },
  {
   "cell_type": "code",
   "execution_count": 47,
   "metadata": {},
   "outputs": [
    {
     "data": {
      "text/html": [
       "<table>\n",
       "<thead><tr><th scope=col>origin</th><th scope=col>mean_dd</th><th scope=col>sd_dd</th><th scope=col>n</th></tr></thead>\n",
       "<tbody>\n",
       "\t<tr><td>EWR      </td><td>13.365517</td><td>32.08492 </td><td>145      </td></tr>\n",
       "\t<tr><td>JFK      </td><td>15.396667</td><td>40.30535 </td><td>300      </td></tr>\n",
       "\t<tr><td>LGA      </td><td> 7.904494</td><td>32.18620 </td><td>356      </td></tr>\n",
       "</tbody>\n",
       "</table>\n"
      ],
      "text/latex": [
       "\\begin{tabular}{r|llll}\n",
       " origin & mean\\_dd & sd\\_dd & n\\\\\n",
       "\\hline\n",
       "\t EWR       & 13.365517 & 32.08492  & 145      \\\\\n",
       "\t JFK       & 15.396667 & 40.30535  & 300      \\\\\n",
       "\t LGA       &  7.904494 & 32.18620  & 356      \\\\\n",
       "\\end{tabular}\n"
      ],
      "text/markdown": [
       "\n",
       "origin | mean_dd | sd_dd | n | \n",
       "|---|---|---|\n",
       "| EWR       | 13.365517 | 32.08492  | 145       | \n",
       "| JFK       | 15.396667 | 40.30535  | 300       | \n",
       "| LGA       |  7.904494 | 32.18620  | 356       | \n",
       "\n",
       "\n"
      ],
      "text/plain": [
       "  origin mean_dd   sd_dd    n  \n",
       "1 EWR    13.365517 32.08492 145\n",
       "2 JFK    15.396667 40.30535 300\n",
       "3 LGA     7.904494 32.18620 356"
      ]
     },
     "metadata": {},
     "output_type": "display_data"
    }
   ],
   "source": [
    "rdu_flights %>%\n",
    "  group_by(origin) %>%\n",
    "  summarise(mean_dd = mean(dep_delay), sd_dd = sd(dep_delay), n = n())"
   ]
  },
  {
   "cell_type": "markdown",
   "metadata": {},
   "source": [
    "Here, we first grouped the data by origin, and then calculated the summary statistics."
   ]
  },
  {
   "cell_type": "markdown",
   "metadata": {},
   "source": [
    "> Calculate the median and interquartile range for arr_delays of flights in the sfo_feb_flights data frame, grouped by carrier. Which carrier has the highist IQR of arrival delays?\n",
    "\n",
    "> **American Airlines** has an IQR of arrival delays of 32.75\n",
    "\n",
    "> JetBlue Airways\n",
    "\n",
    "> Virgin America\n",
    "\n",
    "> Delta and United Airlines\n",
    "\n",
    "> Frontier Airlines"
   ]
  },
  {
   "cell_type": "code",
   "execution_count": 51,
   "metadata": {},
   "outputs": [
    {
     "data": {
      "text/html": [
       "<table>\n",
       "<thead><tr><th scope=col>carrier</th><th scope=col>mean_dd</th><th scope=col>IQR_dd</th><th scope=col>n</th></tr></thead>\n",
       "<tbody>\n",
       "\t<tr><td>AA        </td><td>21.4000000</td><td>32.75     </td><td>10        </td></tr>\n",
       "\t<tr><td>B6        </td><td>-0.3333333</td><td> 3.50     </td><td> 6        </td></tr>\n",
       "\t<tr><td>DL        </td><td> 3.1052632</td><td> 6.50     </td><td>19        </td></tr>\n",
       "\t<tr><td>UA        </td><td>13.5238095</td><td>13.00     </td><td>21        </td></tr>\n",
       "\t<tr><td>VX        </td><td>13.2500000</td><td>16.75     </td><td>12        </td></tr>\n",
       "</tbody>\n",
       "</table>\n"
      ],
      "text/latex": [
       "\\begin{tabular}{r|llll}\n",
       " carrier & mean\\_dd & IQR\\_dd & n\\\\\n",
       "\\hline\n",
       "\t AA         & 21.4000000 & 32.75      & 10        \\\\\n",
       "\t B6         & -0.3333333 &  3.50      &  6        \\\\\n",
       "\t DL         &  3.1052632 &  6.50      & 19        \\\\\n",
       "\t UA         & 13.5238095 & 13.00      & 21        \\\\\n",
       "\t VX         & 13.2500000 & 16.75      & 12        \\\\\n",
       "\\end{tabular}\n"
      ],
      "text/markdown": [
       "\n",
       "carrier | mean_dd | IQR_dd | n | \n",
       "|---|---|---|---|---|\n",
       "| AA         | 21.4000000 | 32.75      | 10         | \n",
       "| B6         | -0.3333333 |  3.50      |  6         | \n",
       "| DL         |  3.1052632 |  6.50      | 19         | \n",
       "| UA         | 13.5238095 | 13.00      | 21         | \n",
       "| VX         | 13.2500000 | 16.75      | 12         | \n",
       "\n",
       "\n"
      ],
      "text/plain": [
       "  carrier mean_dd    IQR_dd n \n",
       "1 AA      21.4000000 32.75  10\n",
       "2 B6      -0.3333333  3.50   6\n",
       "3 DL       3.1052632  6.50  19\n",
       "4 UA      13.5238095 13.00  21\n",
       "5 VX      13.2500000 16.75  12"
      ]
     },
     "metadata": {},
     "output_type": "display_data"
    }
   ],
   "source": [
    "sfo_feb_flights %>%\n",
    "  group_by(carrier) %>%\n",
    "  summarise(mean_dd = mean(dep_delay), IQR_dd = IQR(dep_delay), n = n())"
   ]
  },
  {
   "cell_type": "markdown",
   "metadata": {},
   "source": [
    "## Departure delays over months\n",
    "\n",
    "Which month would you expect to have the highest average delay departing from an NYC airport?\n",
    "\n",
    "Let’s think about how we would answer this question:\n",
    "\n",
    "- First, calculate monthly averages for departure delays. With the new language we are learning, we need to\n",
    "\n",
    "    + `group_by` months, then\n",
    "    + `summarise` mean departure delays.\n",
    "- Then, we need to `arrange` these average delays in `desc`ending order"
   ]
  },
  {
   "cell_type": "code",
   "execution_count": null,
   "metadata": {},
   "outputs": [],
   "source": []
  }
 ],
 "metadata": {
  "kernelspec": {
   "display_name": "R",
   "language": "R",
   "name": "ir"
  },
  "language_info": {
   "codemirror_mode": "r",
   "file_extension": ".r",
   "mimetype": "text/x-r-source",
   "name": "R",
   "pygments_lexer": "r",
   "version": "3.3.2"
  }
 },
 "nbformat": 4,
 "nbformat_minor": 2
}
