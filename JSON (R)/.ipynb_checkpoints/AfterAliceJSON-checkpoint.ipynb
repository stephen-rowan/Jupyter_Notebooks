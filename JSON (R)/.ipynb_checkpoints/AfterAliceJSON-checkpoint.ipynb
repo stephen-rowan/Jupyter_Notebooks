{
 "cells": [
  {
   "cell_type": "code",
   "execution_count": 1,
   "metadata": {},
   "outputs": [
    {
     "name": "stderr",
     "output_type": "stream",
     "text": [
      "Updating HTML index of packages in '.Library'\n",
      "Making 'packages.html' ... done\n"
     ]
    }
   ],
   "source": [
    "install.packages(\"rjson\")\n",
    "library(rjson)"
   ]
  },
  {
   "cell_type": "code",
   "execution_count": 2,
   "metadata": {},
   "outputs": [],
   "source": [
    "AfterAliceCollections = rjson::fromJSON(file=\"http://theafteraliceproject.org/api/collections\")"
   ]
  },
  {
   "cell_type": "code",
   "execution_count": 3,
   "metadata": {},
   "outputs": [
    {
     "name": "stdout",
     "output_type": "stream",
     "text": [
      " [1] \"id\"                 \"url\"                \"public\"            \n",
      " [4] \"featured\"           \"added\"              \"modified\"          \n",
      " [7] \"owner\"              \"items\"              \"element_texts\"     \n",
      "[10] \"extended_resources\"\n"
     ]
    }
   ],
   "source": [
    "for (i in 1){\n",
    "     print(names(AfterAliceCollections[[i]]))\n",
    "    top_level_json = names(AfterAliceCollections[[i]])\n",
    "    }"
   ]
  },
  {
   "cell_type": "code",
   "execution_count": 4,
   "metadata": {},
   "outputs": [
    {
     "data": {
      "text/html": [
       "<ol class=list-inline>\n",
       "\t<li>'id'</li>\n",
       "\t<li>'url'</li>\n",
       "\t<li>'public'</li>\n",
       "\t<li>'featured'</li>\n",
       "\t<li>'added'</li>\n",
       "\t<li>'modified'</li>\n",
       "\t<li>'owner'</li>\n",
       "\t<li>'items'</li>\n",
       "\t<li>'element_texts'</li>\n",
       "\t<li>'extended_resources'</li>\n",
       "</ol>\n"
      ],
      "text/latex": [
       "\\begin{enumerate*}\n",
       "\\item 'id'\n",
       "\\item 'url'\n",
       "\\item 'public'\n",
       "\\item 'featured'\n",
       "\\item 'added'\n",
       "\\item 'modified'\n",
       "\\item 'owner'\n",
       "\\item 'items'\n",
       "\\item 'element\\_texts'\n",
       "\\item 'extended\\_resources'\n",
       "\\end{enumerate*}\n"
      ],
      "text/markdown": [
       "1. 'id'\n",
       "2. 'url'\n",
       "3. 'public'\n",
       "4. 'featured'\n",
       "5. 'added'\n",
       "6. 'modified'\n",
       "7. 'owner'\n",
       "8. 'items'\n",
       "9. 'element_texts'\n",
       "10. 'extended_resources'\n",
       "\n",
       "\n"
      ],
      "text/plain": [
       " [1] \"id\"                 \"url\"                \"public\"            \n",
       " [4] \"featured\"           \"added\"              \"modified\"          \n",
       " [7] \"owner\"              \"items\"              \"element_texts\"     \n",
       "[10] \"extended_resources\""
      ]
     },
     "metadata": {},
     "output_type": "display_data"
    }
   ],
   "source": [
    "top_level_json"
   ]
  },
  {
   "cell_type": "code",
   "execution_count": 5,
   "metadata": {},
   "outputs": [
    {
     "name": "stdout",
     "output_type": "stream",
     "text": [
      "[1] \"Title\"\n",
      "[1] \"Description\"\n",
      "[1] \"Subject\"\n"
     ]
    }
   ],
   "source": [
    "for (i in 1:3){\n",
    "    print(AfterAliceCollections[[1]]$element_texts[[i]]$element$name)\n",
    "       }"
   ]
  },
  {
   "cell_type": "code",
   "execution_count": 6,
   "metadata": {},
   "outputs": [
    {
     "ename": "ERROR",
     "evalue": "Error: object 'collections_raw' not found\n",
     "output_type": "error",
     "traceback": [
      "Error: object 'collections_raw' not found\nTraceback:\n"
     ]
    }
   ],
   "source": [
    "collection_title <-0\n",
    "\n",
    "for (i in 1:90){\n",
    "    collection_title[i] <-collections_raw[[i]][[\"element_texts\"]][[1]][[\"text\"]]\n",
    "       }\n",
    "collection_title\n",
    "\n",
    "\n"
   ]
  },
  {
   "cell_type": "code",
   "execution_count": null,
   "metadata": {},
   "outputs": [],
   "source": [
    "for (i in 1:3){\n",
    "    print(AfterAliceCollections[[1]]$element_texts[[i]]$text)\n",
    "       }\n"
   ]
  },
  {
   "cell_type": "code",
   "execution_count": null,
   "metadata": {},
   "outputs": [],
   "source": [
    "for (i in 1:100){   \n",
    "    print(AfterAliceCollections[[i]]$element_texts[[1]]$text)\n",
    "       }"
   ]
  },
  {
   "cell_type": "code",
   "execution_count": null,
   "metadata": {},
   "outputs": [],
   "source": [
    "Towns<-lapply(AfterAliceCollections, function(x) x[[9]][[1]]$text)\n",
    "Towns"
   ]
  },
  {
   "cell_type": "code",
   "execution_count": null,
   "metadata": {},
   "outputs": [],
   "source": [
    "print(AfterAliceCollections[[3]]$element_texts[[1]]$text)"
   ]
  },
  {
   "cell_type": "code",
   "execution_count": null,
   "metadata": {},
   "outputs": [],
   "source": [
    "Towns<-lapply(AfterAliceCollections, function(x) x[[9]][[1]]$text)\n",
    "Towns\n",
    "\n",
    "urls<-lapply(AfterAliceCollections, function(x) x[[2]][[1]])\n",
    "urls              \n",
    "\n",
    "\n",
    "\n",
    "s<-lapply(AfterAliceCollections, function(x) x[[9]][[1]])\n",
    "s"
   ]
  },
  {
   "cell_type": "code",
   "execution_count": null,
   "metadata": {},
   "outputs": [],
   "source": [
    "print(AfterAliceCollections[[3]])"
   ]
  },
  {
   "cell_type": "code",
   "execution_count": null,
   "metadata": {},
   "outputs": [],
   "source": [
    "print(AfterAliceCollections[[3]]$element_texts[[3]]$text)"
   ]
  },
  {
   "cell_type": "code",
   "execution_count": null,
   "metadata": {},
   "outputs": [],
   "source": [
    "Todmorden_url = (AfterAliceCollections[[3]]$items$url)\n",
    "Todmorden_url"
   ]
  },
  {
   "cell_type": "code",
   "execution_count": null,
   "metadata": {},
   "outputs": [],
   "source": [
    "Todmorden_Items = rjson::fromJSON(file=Todmorden_url)"
   ]
  },
  {
   "cell_type": "code",
   "execution_count": null,
   "metadata": {},
   "outputs": [],
   "source": [
    "Todmorden_Items"
   ]
  },
  {
   "cell_type": "code",
   "execution_count": null,
   "metadata": {},
   "outputs": [],
   "source": [
    "Todmorden_Items[[3]]"
   ]
  },
  {
   "cell_type": "code",
   "execution_count": null,
   "metadata": {},
   "outputs": [],
   "source": [
    "Todmorden_Items[[3]]$element_texts[[1]]$element$name\n",
    "Todmorden_Items[[3]]$element_texts[[1]]$text\n",
    "\n",
    "Todmorden_Items[[3]]$element_texts[[2]]$element$name\n",
    "Todmorden_Items[[3]]$element_texts[[2]]$text\n",
    "\n",
    "Todmorden_Items[[3]]$element_texts[[3]]$element$name\n",
    "Todmorden_Items[[3]]$element_texts[[3]]$text\n",
    "\n",
    "Todmorden_Items[[3]]$element_texts[[4]]$element$name\n",
    "Todmorden_Items[[3]]$element_texts[[4]]$text\n",
    "\n",
    "Todmorden_Items[[3]]$element_texts[[5]]$text\n",
    "Todmorden_Items[[3]]$element_texts[[6]]$text\n",
    "Todmorden_Items[[3]]$element_texts[[7]]$text\n",
    "Todmorden_Items[[3]]$element_texts[[8]]$text"
   ]
  },
  {
   "cell_type": "code",
   "execution_count": null,
   "metadata": {},
   "outputs": [],
   "source": []
  }
 ],
 "metadata": {
  "kernelspec": {
   "display_name": "R",
   "language": "R",
   "name": "ir"
  },
  "language_info": {
   "codemirror_mode": "r",
   "file_extension": ".r",
   "mimetype": "text/x-r-source",
   "name": "R",
   "pygments_lexer": "r",
   "version": "3.3.2"
  }
 },
 "nbformat": 4,
 "nbformat_minor": 2
}
