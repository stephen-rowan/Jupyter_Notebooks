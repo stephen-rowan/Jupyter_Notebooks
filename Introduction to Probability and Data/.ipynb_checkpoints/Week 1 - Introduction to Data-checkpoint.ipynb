{
 "cells": [
  {
   "cell_type": "markdown",
   "metadata": {},
   "source": [
    "# Introduction to Probability and Data\n",
    "\n",
    "https://www.coursera.org/learn/probability-intro/home/week/1\n",
    "\n",
    "## Week 1 - Introduction to Data\n",
    "\n",
    "Suggested readings and practice problems from OpenIntro Statistics, 3rd edition (a free online introductory statistics textbook co-authored by Dr. Cetinkaya-Rundel) for this week:\n",
    "\n",
    "Suggested reading: Chapter 1, Sections 1.1 - 1.5\n",
    "\n",
    "Practice exercises: End of chapter exercises in Chapter 1: 1.1, 1.3, 1.11, 1.13, 1.17, 1.19, 1.25, 1.27, 1.31\n",
    "\n",
    "(Reminder: the solutions to the end of chapter exercises are at the end of the OpenIntro Statistics book)"
   ]
  },
  {
   "cell_type": "markdown",
   "metadata": {},
   "source": [
    "# Table of Contents\n",
    "\n",
    "1. [using stents to prevent strokes](#using stents to prevent strokes)\n",
    "2. [Guided Practice 1.1](#Guided Practice 1.1)\n",
    "3. [1.3.1 Populations and samples](#1.3.1 Populations and samples)\n",
    "4. [1.1 Migraine and acupuncture](#1.1 Migraine and acupuncture)\n",
    "\n"
   ]
  },
  {
   "cell_type": "markdown",
   "metadata": {},
   "source": [
    "## Introduction to data\n",
    "\n",
    "It is helpful to put statistics in the context of a general process of investigation:\n",
    "\n",
    "1. Identify a question or problem.\n",
    "2. Collect relevant data on the topic.\n",
    "3. Analyze the data.\n",
    "4. Form a conclusion.\n",
    "\n",
    "Statistics as a subject focuses on making stages 2-4 objective, rigorous, and efficient.\n",
    "That is, statistics has three primary components: How best can we collect data? How\n",
    "should it be analyzed? And what can we infer from the analysis?"
   ]
  },
  {
   "cell_type": "markdown",
   "metadata": {},
   "source": [
    "## 1.1 Case study: using stents to prevent strokes  <a class=\"anchor\" id=\"using stents to prevent strokes\"></a>\n",
    "\n",
    "Section 1.1 introduces a classic challenge in statistics: evaluating the efficacy of a medical treatment. Terms in this section, and indeed much of this chapter, will all be revisited later in the text. The plan for now is simply to get a sense of the role statistics can play in practice.\n",
    "\n",
    "> Chimowitz MI, Lynn MJ, Derdeyn CP, et al. 2011. Stenting versus Aggressive Medical Therapy for Intracranial Arterial Stenosis. New England Journal of Medicine 365:993-1003. www.nejm.org/doi/full/10.1056/NEJMoa1105335. NY Times article reporting on the study: www.nytimes.com/2011/09/08/health/research/08stent.html.\n",
    "\n",
    "In this section we will consider an experiment that studies effectiveness of stents in treating patients at risk of stroke. 1 Stents are devices put inside blood vessels that assist in patient recovery after cardiac events and reduce the risk of an additional heart attack or death. Many doctors have hoped that there would be similar benefits for patients at risk of stroke. \n",
    "\n",
    "We start by writing the principal question the researchers hope to answer:\n",
    "\n",
    "Does the use of stents reduce the risk of stroke?\n",
    "\n",
    "The researchers who asked this question collected data on 451 at-risk patients. Each volunteer patient was randomly assigned to one of two groups:\n",
    "\n",
    "**Treatment group.** Patients in the treatment group received a stent and medical management. The medical management included medications, management of risk factors, and help in lifestyle modification.\n",
    "\n",
    "**Control group.** Patients in the control group received the same medical management as the treatment group, but they did not receive stents."
   ]
  },
  {
   "cell_type": "markdown",
   "metadata": {},
   "source": [
    "Researchers randomly assigned 224 patients to the treatment group and 227 to the control group. In this study, the control group provides a reference point against which we can\n",
    "measure the medical impact of stents in the treatment group.\n",
    "\n",
    "Researchers studied the effect of stents at two time points: 30 days after enrollment and 365 days after enrollment. The results of 5 patients are summarized in Table 1.1. Patient outcomes are recorded as “stroke” or “no event”, representing whether or not the patient had a stroke at the end of a time period."
   ]
  },
  {
   "cell_type": "markdown",
   "metadata": {},
   "source": [
    "| Patient        | group           | 0-30 days  | 0-365 days |\n",
    "| -------------  |-------------    | -----      | -----      |\n",
    "| 1              | treatment       | no event   | no event   |   \n",
    "| 2              | treatment       | stroke     | stroke     |  \n",
    "| 3              | treatment       | no event   | no event   |  \n",
    "| ...            | ...             | ...        | ...        |  \n",
    "| 450            | control         | no event   | no event   |  \n",
    "| 451            | control         | no event   | no event   |  \n",
    "Table 1.1: Results for five patients from the stent study."
   ]
  },
  {
   "cell_type": "markdown",
   "metadata": {},
   "source": [
    "Considering data from each patient individually would be a long, cumbersome path towards answering the original research question. Instead, performing a statistical data analysis allows us to consider all of the data at once. \n",
    "\n",
    "Table 1.2 summarizes the raw data in a more helpful way. In this table, we can quickly see what happened over the entire study.\n",
    "\n",
    "For instance, to identify the number of patients in the treatment group who had a stroke within 30 days, we look on the left-side of the table at the intersection of the treatment and stroke: 33.\n",
    "\n",
    "|           | 0-30   days      | |0-365     days   | |\n",
    "| ----------|--------|-----------|--------|----------|\n",
    "|           | stroke | no event  | stroke | no event |\n",
    "| --------- |--------| ----------| -------| ---------|\n",
    "| Treatment | 33     | 191       | 45     | 179      |\n",
    "| control   | 13     | 214       | 28     | 199      |\n",
    "| ----------| -------| ----------|--------|----------|  \n",
    "| Total     | 46     | 405       | 73     | 378      | \n",
    "Table 1.2: Descriptive statistics for the stent study."
   ]
  },
  {
   "cell_type": "code",
   "execution_count": 9,
   "metadata": {},
   "outputs": [],
   "source": [
    "# Descriptive statistics for the stent study.\n",
    "Treatment <- c(33, 191,45,179)\n",
    "Control <- c(13, 214,28,199)"
   ]
  },
  {
   "cell_type": "code",
   "execution_count": 10,
   "metadata": {},
   "outputs": [],
   "source": [
    "# Construct matrix for Descriptive statistics for the stent study :\n",
    "stent_study <- matrix(c(Treatment, Control), nrow = 2, byrow = TRUE)"
   ]
  },
  {
   "cell_type": "code",
   "execution_count": 21,
   "metadata": {},
   "outputs": [],
   "source": [
    "# Vectors region and titles, used for naming\n",
    "samples <- c(\"Treatment\", \"Control\")\n",
    "outcomes <- c(\"0-30 days - stroke\", \"0-30 days -no event\",\"0-365 days -stroke\", \"0-365 days -no event\")"
   ]
  },
  {
   "cell_type": "code",
   "execution_count": 19,
   "metadata": {},
   "outputs": [],
   "source": [
    "# Name the columns with outcomes\n",
    "colnames(stent_study) <- outcomes"
   ]
  },
  {
   "cell_type": "code",
   "execution_count": 20,
   "metadata": {},
   "outputs": [],
   "source": [
    "# Name the rows with titles\n",
    "rownames(stent_study) <- samples"
   ]
  },
  {
   "cell_type": "code",
   "execution_count": 29,
   "metadata": {},
   "outputs": [
    {
     "data": {
      "text/html": [
       "<table>\n",
       "<thead><tr><th></th><th scope=col>0-30 days - stroke</th><th scope=col>0-30 days -no event</th><th scope=col>0-365 days -stroke</th><th scope=col>0-365 days -no event</th></tr></thead>\n",
       "<tbody>\n",
       "\t<tr><th scope=row>Treatment</th><td>33 </td><td>191</td><td>45 </td><td>179</td></tr>\n",
       "\t<tr><th scope=row>Control</th><td>13 </td><td>214</td><td>28 </td><td>199</td></tr>\n",
       "\t<tr><th scope=row>Totals</th><td>46 </td><td>405</td><td>73 </td><td>378</td></tr>\n",
       "</tbody>\n",
       "</table>\n"
      ],
      "text/latex": [
       "\\begin{tabular}{r|llll}\n",
       "  & 0-30 days - stroke & 0-30 days -no event & 0-365 days -stroke & 0-365 days -no event\\\\\n",
       "\\hline\n",
       "\tTreatment & 33  & 191 & 45  & 179\\\\\n",
       "\tControl & 13  & 214 & 28  & 199\\\\\n",
       "\tTotals & 46  & 405 & 73  & 378\\\\\n",
       "\\end{tabular}\n"
      ],
      "text/markdown": [
       "\n",
       "| <!--/--> | 0-30 days - stroke | 0-30 days -no event | 0-365 days -stroke | 0-365 days -no event | \n",
       "|---|---|---|\n",
       "| Treatment | 33  | 191 | 45  | 179 | \n",
       "| Control | 13  | 214 | 28  | 199 | \n",
       "| Totals | 46  | 405 | 73  | 378 | \n",
       "\n",
       "\n"
      ],
      "text/plain": [
       "          0-30 days - stroke 0-30 days -no event 0-365 days -stroke\n",
       "Treatment 33                 191                 45                \n",
       "Control   13                 214                 28                \n",
       "Totals    46                 405                 73                \n",
       "          0-365 days -no event\n",
       "Treatment 179                 \n",
       "Control   199                 \n",
       "Totals    378                 "
      ]
     },
     "metadata": {},
     "output_type": "display_data"
    }
   ],
   "source": [
    "# Bind the totals column to the matrix :\n",
    "Totals <- colSums(stent_study)\n",
    "\n",
    "stent_study_totals <- rbind(stent_study, Totals)\n",
    "\n",
    "stent_study_totals"
   ]
  },
  {
   "cell_type": "markdown",
   "metadata": {},
   "source": [
    "## Guided Practice 1.1 <a class=\"anchor\" id=\"Guided Practice 1.1\"></a>\n",
    "\n",
    "Of the 224 patients in the treatment group, 45 had a stroke by the end of the first year. Using these two numbers, compute the proportion of patients in the treatment group who had a stroke by the end of their first year."
   ]
  },
  {
   "cell_type": "markdown",
   "metadata": {},
   "source": [
    "## Patients in the treatment group who had a stroke by the end of their first year."
   ]
  },
  {
   "cell_type": "code",
   "execution_count": 36,
   "metadata": {},
   "outputs": [
    {
     "data": {
      "text/html": [
       "45"
      ],
      "text/latex": [
       "45"
      ],
      "text/markdown": [
       "45"
      ],
      "text/plain": [
       "[1] 45"
      ]
     },
     "metadata": {},
     "output_type": "display_data"
    }
   ],
   "source": [
    "treatment_patients_in_first_year_stroke <- stent_study_totals[1,3]\n",
    "treatment_patients_in_first_year_stroke"
   ]
  },
  {
   "cell_type": "code",
   "execution_count": 37,
   "metadata": {},
   "outputs": [
    {
     "data": {
      "text/html": [
       "179"
      ],
      "text/latex": [
       "179"
      ],
      "text/markdown": [
       "179"
      ],
      "text/plain": [
       "[1] 179"
      ]
     },
     "metadata": {},
     "output_type": "display_data"
    }
   ],
   "source": [
    "# patients in the treatment group who did not have a stroke by the end of their first year.\n",
    "treatment_patients_in_first_year_no_event <- stent_study_totals[1,4]\n",
    "treatment_patients_in_first_year_no_event"
   ]
  },
  {
   "cell_type": "code",
   "execution_count": 40,
   "metadata": {},
   "outputs": [
    {
     "data": {
      "text/html": [
       "224"
      ],
      "text/latex": [
       "224"
      ],
      "text/markdown": [
       "224"
      ],
      "text/plain": [
       "[1] 224"
      ]
     },
     "metadata": {},
     "output_type": "display_data"
    }
   ],
   "source": [
    "# treatment_patients_in_first_year\n",
    "treatment_patients_in_first_year <- treatment_patients_in_first_year_no_event + treatment_patients_in_first_year_stroke\n",
    "treatment_patients_in_first_year"
   ]
  },
  {
   "cell_type": "code",
   "execution_count": 51,
   "metadata": {},
   "outputs": [
    {
     "data": {
      "text/html": [
       "0.200892857142857"
      ],
      "text/latex": [
       "0.200892857142857"
      ],
      "text/markdown": [
       "0.200892857142857"
      ],
      "text/plain": [
       "[1] 0.2008929"
      ]
     },
     "metadata": {},
     "output_type": "display_data"
    }
   ],
   "source": [
    "# Proportion who had a stroke in the treatment (stent) group: 45/224 = 0.20 = 20%.\n",
    "Proportion_treatment_who_had_a_stroke <- treatment_patients_in_first_year_stroke / treatment_patients_in_first_year\n",
    "Proportion_treatment_who_had_a_stroke"
   ]
  },
  {
   "cell_type": "code",
   "execution_count": 52,
   "metadata": {},
   "outputs": [
    {
     "data": {
      "text/html": [
       "'20.1%'"
      ],
      "text/latex": [
       "'20.1\\%'"
      ],
      "text/markdown": [
       "'20.1%'"
      ],
      "text/plain": [
       "[1] \"20.1%\""
      ]
     },
     "metadata": {},
     "output_type": "display_data"
    }
   ],
   "source": [
    "# Create number and format as percent rounded to one decimal place\n",
    "Percentage_treatment_who_had_a_stroke <- paste(round((Proportion_treatment_who_had_a_stroke)*100,digits=1),\"%\",sep=\"\")\n",
    "Percentage_treatment_who_had_a_stroke"
   ]
  },
  {
   "cell_type": "markdown",
   "metadata": {},
   "source": [
    "We can compute summary statistics from the table. A summary statistic is a single number summarizing a large amount of data. 3 For instance, the primary results of the study after 1 year could be described by two summary statistics: the proportion of people who had a stroke in the treatment and control groups."
   ]
  },
  {
   "cell_type": "markdown",
   "metadata": {},
   "source": [
    "## Patients in the control group who had a stroke by the end of their first year."
   ]
  },
  {
   "cell_type": "code",
   "execution_count": 56,
   "metadata": {},
   "outputs": [
    {
     "data": {
      "text/html": [
       "'12.3%'"
      ],
      "text/latex": [
       "'12.3\\%'"
      ],
      "text/markdown": [
       "'12.3%'"
      ],
      "text/plain": [
       "[1] \"12.3%\""
      ]
     },
     "metadata": {},
     "output_type": "display_data"
    }
   ],
   "source": [
    "# Proportion who had a stroke in the control group: 28/227 = 0.12 = 12%.\n",
    "\n",
    "control_patients_in_first_year_stroke <- stent_study_totals[2,3]\n",
    "control_patients_in_first_year_no_event <- stent_study_totals[2,4]\n",
    "control_patients_in_first_year <- control_patients_in_first_year_no_event + control_patients_in_first_year_stroke\n",
    "Proportion_control_who_had_a_stroke <- control_patients_in_first_year_stroke / control_patients_in_first_year\n",
    "Percentage_control_who_had_a_stroke <- paste(round((Proportion_control_who_had_a_stroke)*100,digits=1),\"%\",sep=\"\")\n",
    "Percentage_control_who_had_a_stroke\n"
   ]
  },
  {
   "cell_type": "markdown",
   "metadata": {},
   "source": [
    "These two summary statistics are useful in looking for differences in the groups, and we are in for a surprise: an additional 8% of patients in the treatment group had a stroke! This is\n",
    "important for two reasons. First, it is contrary to what doctors expected, which was that stents would reduce the rate of strokes. Second, it leads to a statistical question: do the\n",
    "data show a “real” di↵erence between the groups?"
   ]
  },
  {
   "cell_type": "markdown",
   "metadata": {},
   "source": [
    "## 1.3.1 Populations and samples <a class=\"anchor\" id=\"1.3.1 Populations and samples\"></a>\n",
    "\n",
    "Consider the following three research questions:\n",
    "\n",
    "Guided Practice 1.7 For the second and third questions above, identify the target population and what represents an individual case\n",
    "\n",
    "### 1. What is the average mercury content in swordfish in the Atlantic Ocean?\n",
    "\n",
    "**target population** = all swordfish in the Atlantic ocean\n",
    "\n",
    "**individual case** = a swordfish in the Atlantic ocean\n",
    "\n",
    "### 2. Over the last 5 years, what is the average time to complete a degree for Duke undergraduate students?\n",
    "\n",
    "**target population** = last 5 years of Duke undergraduate students who graduated (last 5 years of graduate students).\n",
    "\n",
    "**individual case** = a Duke undergraduate students of the last 5 years\n",
    "\n",
    "### 3. Does a new drug reduce the number of deaths in patients with severe heart disease?\n",
    "\n",
    "**target population** = patients with severe heart disease\n",
    "\n",
    "**individual case** = a patient with severe heart disease\n",
    "\n"
   ]
  },
  {
   "cell_type": "markdown",
   "metadata": {},
   "source": [
    "## Exercises\n",
    "\n",
    "### 1.1 Migraine and acupuncture. <a class=\"anchor\" id=\"1.1 Migraine and acupuncture\"></a>\n",
    "\n",
    "A migraine is a particularly painful type of headache, which patients sometimes wish to treat with acupuncture. To determine whether acupuncture relieves migraine pain, researchers conducted a randomized controlled study where 89 females diagnosed with migraine headaches were randomly assigned to one of two groups: treatment or control. \n",
    "\n",
    "43 patients in the treatment group received acupuncture that is specifically designed to treat migraines. 46 patients in the control group received placebo acupuncture (needle insertion at non-acupoint locations). 24 hours after patients received acupuncture, they were asked if they were asked if they were pain free. Results are summarized in the contingency table below."
   ]
  },
  {
   "cell_type": "code",
   "execution_count": 10,
   "metadata": {},
   "outputs": [
    {
     "data": {
      "text/html": [
       "<table>\n",
       "<thead><tr><th></th><th scope=col>Pain-free</th><th scope=col>Not Pain-free</th><th scope=col>Group_Totals</th></tr></thead>\n",
       "<tbody>\n",
       "\t<tr><th scope=row>Treatment</th><td>10</td><td>33</td><td>43</td></tr>\n",
       "\t<tr><th scope=row>Control</th><td> 2</td><td>44</td><td>46</td></tr>\n",
       "</tbody>\n",
       "</table>\n"
      ],
      "text/latex": [
       "\\begin{tabular}{r|lll}\n",
       "  & Pain-free & Not Pain-free & Group\\_Totals\\\\\n",
       "\\hline\n",
       "\tTreatment & 10 & 33 & 43\\\\\n",
       "\tControl &  2 & 44 & 46\\\\\n",
       "\\end{tabular}\n"
      ],
      "text/markdown": [
       "\n",
       "| <!--/--> | Pain-free | Not Pain-free | Group_Totals | \n",
       "|---|---|\n",
       "| Treatment | 10 | 33 | 43 | \n",
       "| Control |  2 | 44 | 46 | \n",
       "\n",
       "\n"
      ],
      "text/plain": [
       "          Pain-free Not Pain-free Group_Totals\n",
       "Treatment 10        33            43          \n",
       "Control    2        44            46          "
      ]
     },
     "metadata": {},
     "output_type": "display_data"
    },
    {
     "data": {
      "text/html": [
       "<table>\n",
       "<thead><tr><th></th><th scope=col>Pain-free</th><th scope=col>Not Pain-free</th></tr></thead>\n",
       "<tbody>\n",
       "\t<tr><th scope=row>Treatment</th><td>10</td><td>33</td></tr>\n",
       "\t<tr><th scope=row>Control</th><td> 2</td><td>44</td></tr>\n",
       "\t<tr><th scope=row>Pain_Totals</th><td>12</td><td>77</td></tr>\n",
       "</tbody>\n",
       "</table>\n"
      ],
      "text/latex": [
       "\\begin{tabular}{r|ll}\n",
       "  & Pain-free & Not Pain-free\\\\\n",
       "\\hline\n",
       "\tTreatment & 10 & 33\\\\\n",
       "\tControl &  2 & 44\\\\\n",
       "\tPain\\_Totals & 12 & 77\\\\\n",
       "\\end{tabular}\n"
      ],
      "text/markdown": [
       "\n",
       "| <!--/--> | Pain-free | Not Pain-free | \n",
       "|---|---|---|\n",
       "| Treatment | 10 | 33 | \n",
       "| Control |  2 | 44 | \n",
       "| Pain_Totals | 12 | 77 | \n",
       "\n",
       "\n"
      ],
      "text/plain": [
       "            Pain-free Not Pain-free\n",
       "Treatment   10        33           \n",
       "Control      2        44           \n",
       "Pain_Totals 12        77           "
      ]
     },
     "metadata": {},
     "output_type": "display_data"
    }
   ],
   "source": [
    "Treatment <- c(10, 33)\n",
    "Control <- c(2, 44)\n",
    "migraine_study <- matrix(c(Treatment, Control), nrow = 2, byrow = TRUE)\n",
    "# Vectors used for naming\n",
    "samples <- c(\"Treatment\", \"Control\")\n",
    "outcomes <- c(\"Pain-free\", \"Not Pain-free\")\n",
    "# Name the columns with outcomes\n",
    "colnames(migraine_study) <- outcomes\n",
    "# Name the rows with titles\n",
    "rownames(migraine_study) <- samples\n",
    "# Bind the totals column to the matrix :\n",
    "Pain_Totals <- colSums(migraine_study)\n",
    "Group_Totals <-rowSums(migraine_study)\n",
    "migraine_study_totals1 <- cbind(migraine_study,Group_Totals)\n",
    "migraine_study_totals2 <- rbind(migraine_study, Pain_Totals)\n",
    "\n",
    "#migraine_study_totals <- rbind(migraine_study_totals1, migraine_study_totals2)\n",
    "migraine_study_totals1\n",
    "\n",
    "migraine_study_totals2"
   ]
  },
  {
   "cell_type": "code",
   "execution_count": 12,
   "metadata": {},
   "outputs": [
    {
     "data": {
      "text/html": [
       "<table>\n",
       "<thead><tr><th></th><th scope=col>Pain-free</th><th scope=col>Not Pain-free</th><th scope=col>Total</th></tr></thead>\n",
       "<tbody>\n",
       "\t<tr><th scope=row>Treatment</th><td>10</td><td>33</td><td>43</td></tr>\n",
       "\t<tr><th scope=row>Control</th><td> 2</td><td>44</td><td>46</td></tr>\n",
       "\t<tr><th scope=row>Total</th><td>12</td><td>77</td><td>89</td></tr>\n",
       "</tbody>\n",
       "</table>\n"
      ],
      "text/latex": [
       "\\begin{tabular}{r|lll}\n",
       "  & Pain-free & Not Pain-free & Total\\\\\n",
       "\\hline\n",
       "\tTreatment & 10 & 33 & 43\\\\\n",
       "\tControl &  2 & 44 & 46\\\\\n",
       "\tTotal & 12 & 77 & 89\\\\\n",
       "\\end{tabular}\n"
      ],
      "text/markdown": [
       "\n",
       "| <!--/--> | Pain-free | Not Pain-free | Total | \n",
       "|---|---|---|\n",
       "| Treatment | 10 | 33 | 43 | \n",
       "| Control |  2 | 44 | 46 | \n",
       "| Total | 12 | 77 | 89 | \n",
       "\n",
       "\n"
      ],
      "text/plain": [
       "          Pain-free Not Pain-free Total\n",
       "Treatment 10        33            43   \n",
       "Control    2        44            46   \n",
       "Total     12        77            89   "
      ]
     },
     "metadata": {},
     "output_type": "display_data"
    }
   ],
   "source": [
    "combined_migraine_study_totals <- addmargins(migraine_study, FUN = list(Total = sum), quiet = TRUE)\n",
    "combined_migraine_study_totals"
   ]
  },
  {
   "cell_type": "markdown",
   "metadata": {},
   "source": [
    "(a) (1) What percent of patients in the treatment group were pain free after recieving acupuncture ?"
   ]
  },
  {
   "cell_type": "code",
   "execution_count": 18,
   "metadata": {},
   "outputs": [
    {
     "data": {
      "text/html": [
       "'23.3%'"
      ],
      "text/latex": [
       "'23.3\\%'"
      ],
      "text/markdown": [
       "'23.3%'"
      ],
      "text/plain": [
       "[1] \"23.3%\""
      ]
     },
     "metadata": {},
     "output_type": "display_data"
    }
   ],
   "source": [
    "patients_in_the_treatment_group_pain_free_after_acupuncture <- combined_migraine_study_totals[1,1]\n",
    "patients_in_the_treatment_group_total <- combined_migraine_study_totals[1,3]\n",
    "Proportion_treatment_pain_free <- patients_in_the_treatment_group_pain_free_after_acupuncture / patients_in_the_treatment_group_total\n",
    "Percentage_treatment_pain_free <- paste(round((Proportion_treatment_pain_free)*100,digits=1),\"%\",sep=\"\")\n",
    "Percentage_treatment_pain_free"
   ]
  },
  {
   "cell_type": "markdown",
   "metadata": {},
   "source": [
    "(a) (1) What percent of patients in the control group were pain free after recieving acupuncture ?"
   ]
  },
  {
   "cell_type": "code",
   "execution_count": 19,
   "metadata": {},
   "outputs": [
    {
     "data": {
      "text/html": [
       "'4.3%'"
      ],
      "text/latex": [
       "'4.3\\%'"
      ],
      "text/markdown": [
       "'4.3%'"
      ],
      "text/plain": [
       "[1] \"4.3%\""
      ]
     },
     "metadata": {},
     "output_type": "display_data"
    }
   ],
   "source": [
    "patients_in_the_control_group_pain_free_after_acupuncture <- combined_migraine_study_totals[2,1]\n",
    "patients_in_the_control_group_total <- combined_migraine_study_totals[2,3]\n",
    "Proportion_control_pain_free <- patients_in_the_control_group_pain_free_after_acupuncture / patients_in_the_control_group_total\n",
    "Percentage_control_pain_free <- paste(round((Proportion_control_pain_free)*100,digits=1),\"%\",sep=\"\")\n",
    "Percentage_control_pain_free"
   ]
  },
  {
   "cell_type": "markdown",
   "metadata": {},
   "source": [
    "(b) At first glance does acupuncture appear to be an effective treatment for migraine ? Explain your reasoning.\n",
    "\n",
    "Acupunture is not an effective treatment for migraine as only 23.3 % of the treatment group were pain free which left the majority with pain (76.7%). Although Acupunture appears to be more effective at removing pain than placebo acupunture."
   ]
  },
  {
   "cell_type": "markdown",
   "metadata": {},
   "source": [
    "(c) Does the data provide convincing evidence that there is a real pain reduction for those patients in the treatment group ? Or do you think the observed difference might be due to chance ?"
   ]
  },
  {
   "cell_type": "markdown",
   "metadata": {},
   "source": [
    "The data provides some evidence that there is a real pain reduction for those patients in the treatment group but it is not convincing.\n",
    "\n",
    "The observed difference is unlikely to be due solely to chance as the percentage of pain-free in the treatment group (almost 1 in 4) is significantly larger than the control group."
   ]
  },
  {
   "cell_type": "code",
   "execution_count": null,
   "metadata": {},
   "outputs": [],
   "source": []
  }
 ],
 "metadata": {
  "kernelspec": {
   "display_name": "R",
   "language": "R",
   "name": "ir"
  },
  "language_info": {
   "codemirror_mode": "r",
   "file_extension": ".r",
   "mimetype": "text/x-r-source",
   "name": "R",
   "pygments_lexer": "r",
   "version": "3.3.2"
  }
 },
 "nbformat": 4,
 "nbformat_minor": 2
}
